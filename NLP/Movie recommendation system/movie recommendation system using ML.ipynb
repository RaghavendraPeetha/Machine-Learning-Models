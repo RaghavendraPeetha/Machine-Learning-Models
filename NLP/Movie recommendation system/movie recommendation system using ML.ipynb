{
 "cells": [
  {
   "cell_type": "code",
   "execution_count": 1,
   "id": "323bfbd9",
   "metadata": {},
   "outputs": [
    {
     "name": "stderr",
     "output_type": "stream",
     "text": [
      "C:\\Users\\HP\\AppData\\Roaming\\Python\\Python311\\site-packages\\pandas\\core\\arrays\\masked.py:60: UserWarning: Pandas requires version '1.3.6' or newer of 'bottleneck' (version '1.3.5' currently installed).\n",
      "  from pandas.core import (\n"
     ]
    }
   ],
   "source": [
    "import numpy as np\n",
    "import pandas as pd"
   ]
  },
  {
   "cell_type": "code",
   "execution_count": 2,
   "id": "09fbe71e",
   "metadata": {},
   "outputs": [],
   "source": [
    "credits_df=pd.read_csv('datasets/credits.csv')\n",
    "movies_df=pd.read_csv('datasets/movies.csv')"
   ]
  },
  {
   "cell_type": "code",
   "execution_count": 3,
   "id": "3d04f541",
   "metadata": {},
   "outputs": [],
   "source": [
    "pd.set_option('display.max_columns',None)\n",
    "pd.set_option('display.max_rows',None)"
   ]
  },
  {
   "cell_type": "code",
   "execution_count": 4,
   "id": "5c20f86b",
   "metadata": {},
   "outputs": [
    {
     "data": {
      "text/html": [
       "<div>\n",
       "<style scoped>\n",
       "    .dataframe tbody tr th:only-of-type {\n",
       "        vertical-align: middle;\n",
       "    }\n",
       "\n",
       "    .dataframe tbody tr th {\n",
       "        vertical-align: top;\n",
       "    }\n",
       "\n",
       "    .dataframe thead th {\n",
       "        text-align: right;\n",
       "    }\n",
       "</style>\n",
       "<table border=\"1\" class=\"dataframe\">\n",
       "  <thead>\n",
       "    <tr style=\"text-align: right;\">\n",
       "      <th></th>\n",
       "      <th>movie_id</th>\n",
       "      <th>title</th>\n",
       "      <th>cast</th>\n",
       "      <th>crew</th>\n",
       "    </tr>\n",
       "  </thead>\n",
       "  <tbody>\n",
       "    <tr>\n",
       "      <th>0</th>\n",
       "      <td>19995</td>\n",
       "      <td>Avatar</td>\n",
       "      <td>[{\"cast_id\": 242, \"character\": \"Jake Sully\", \"...</td>\n",
       "      <td>[{\"credit_id\": \"52fe48009251416c750aca23\", \"de...</td>\n",
       "    </tr>\n",
       "    <tr>\n",
       "      <th>1</th>\n",
       "      <td>285</td>\n",
       "      <td>Pirates of the Caribbean: At World's End</td>\n",
       "      <td>[{\"cast_id\": 4, \"character\": \"Captain Jack Spa...</td>\n",
       "      <td>[{\"credit_id\": \"52fe4232c3a36847f800b579\", \"de...</td>\n",
       "    </tr>\n",
       "    <tr>\n",
       "      <th>2</th>\n",
       "      <td>206647</td>\n",
       "      <td>Spectre</td>\n",
       "      <td>[{\"cast_id\": 1, \"character\": \"James Bond\", \"cr...</td>\n",
       "      <td>[{\"credit_id\": \"54805967c3a36829b5002c41\", \"de...</td>\n",
       "    </tr>\n",
       "    <tr>\n",
       "      <th>3</th>\n",
       "      <td>49026</td>\n",
       "      <td>The Dark Knight Rises</td>\n",
       "      <td>[{\"cast_id\": 2, \"character\": \"Bruce Wayne / Ba...</td>\n",
       "      <td>[{\"credit_id\": \"52fe4781c3a36847f81398c3\", \"de...</td>\n",
       "    </tr>\n",
       "    <tr>\n",
       "      <th>4</th>\n",
       "      <td>49529</td>\n",
       "      <td>John Carter</td>\n",
       "      <td>[{\"cast_id\": 5, \"character\": \"John Carter\", \"c...</td>\n",
       "      <td>[{\"credit_id\": \"52fe479ac3a36847f813eaa3\", \"de...</td>\n",
       "    </tr>\n",
       "  </tbody>\n",
       "</table>\n",
       "</div>"
      ],
      "text/plain": [
       "   movie_id                                     title  \\\n",
       "0     19995                                    Avatar   \n",
       "1       285  Pirates of the Caribbean: At World's End   \n",
       "2    206647                                   Spectre   \n",
       "3     49026                     The Dark Knight Rises   \n",
       "4     49529                               John Carter   \n",
       "\n",
       "                                                cast  \\\n",
       "0  [{\"cast_id\": 242, \"character\": \"Jake Sully\", \"...   \n",
       "1  [{\"cast_id\": 4, \"character\": \"Captain Jack Spa...   \n",
       "2  [{\"cast_id\": 1, \"character\": \"James Bond\", \"cr...   \n",
       "3  [{\"cast_id\": 2, \"character\": \"Bruce Wayne / Ba...   \n",
       "4  [{\"cast_id\": 5, \"character\": \"John Carter\", \"c...   \n",
       "\n",
       "                                                crew  \n",
       "0  [{\"credit_id\": \"52fe48009251416c750aca23\", \"de...  \n",
       "1  [{\"credit_id\": \"52fe4232c3a36847f800b579\", \"de...  \n",
       "2  [{\"credit_id\": \"54805967c3a36829b5002c41\", \"de...  \n",
       "3  [{\"credit_id\": \"52fe4781c3a36847f81398c3\", \"de...  \n",
       "4  [{\"credit_id\": \"52fe479ac3a36847f813eaa3\", \"de...  "
      ]
     },
     "execution_count": 4,
     "metadata": {},
     "output_type": "execute_result"
    }
   ],
   "source": [
    "credits_df.head()"
   ]
  },
  {
   "cell_type": "code",
   "execution_count": 5,
   "id": "bc591433",
   "metadata": {},
   "outputs": [
    {
     "data": {
      "text/plain": [
       "'[{\"cast_id\": 242, \"character\": \"Jake Sully\", \"credit_id\": \"5602a8a7c3a3685532001c9a\", \"gender\": 2, \"id\": 65731, \"name\": \"Sam Worthington\", \"order\": 0}, {\"cast_id\": 3, \"character\": \"Neytiri\", \"credit_id\": \"52fe48009251416c750ac9cb\", \"gender\": 1, \"id\": 8691, \"name\": \"Zoe Saldana\", \"order\": 1}, {\"cast_id\": 25, \"character\": \"Dr. Grace Augustine\", \"credit_id\": \"52fe48009251416c750aca39\", \"gender\": 1, \"id\": 10205, \"name\": \"Sigourney Weaver\", \"order\": 2}, {\"cast_id\": 4, \"character\": \"Col. Quaritch\", \"credit_id\": \"52fe48009251416c750ac9cf\", \"gender\": 2, \"id\": 32747, \"name\": \"Stephen Lang\", \"order\": 3}, {\"cast_id\": 5, \"character\": \"Trudy Chacon\", \"credit_id\": \"52fe48009251416c750ac9d3\", \"gender\": 1, \"id\": 17647, \"name\": \"Michelle Rodriguez\", \"order\": 4}, {\"cast_id\": 8, \"character\": \"Selfridge\", \"credit_id\": \"52fe48009251416c750ac9e1\", \"gender\": 2, \"id\": 1771, \"name\": \"Giovanni Ribisi\", \"order\": 5}, {\"cast_id\": 7, \"character\": \"Norm Spellman\", \"credit_id\": \"52fe48009251416c750ac9dd\", \"gender\": 2, \"id\": 59231, \"name\": \"Joel David Moore\", \"order\": 6}, {\"cast_id\": 9, \"character\": \"Moat\", \"credit_id\": \"52fe48009251416c750ac9e5\", \"gender\": 1, \"id\": 30485, \"name\": \"CCH Pounder\", \"order\": 7}, {\"cast_id\": 11, \"character\": \"Eytukan\", \"credit_id\": \"52fe48009251416c750ac9ed\", \"gender\": 2, \"id\": 15853, \"name\": \"Wes Studi\", \"order\": 8}, {\"cast_id\": 10, \"character\": \"Tsu\\'Tey\", \"credit_id\": \"52fe48009251416c750ac9e9\", \"gender\": 2, \"id\": 10964, \"name\": \"Laz Alonso\", \"order\": 9}, {\"cast_id\": 12, \"character\": \"Dr. Max Patel\", \"credit_id\": \"52fe48009251416c750ac9f1\", \"gender\": 2, \"id\": 95697, \"name\": \"Dileep Rao\", \"order\": 10}, {\"cast_id\": 13, \"character\": \"Lyle Wainfleet\", \"credit_id\": \"52fe48009251416c750ac9f5\", \"gender\": 2, \"id\": 98215, \"name\": \"Matt Gerald\", \"order\": 11}, {\"cast_id\": 32, \"character\": \"Private Fike\", \"credit_id\": \"52fe48009251416c750aca5b\", \"gender\": 2, \"id\": 154153, \"name\": \"Sean Anthony Moran\", \"order\": 12}, {\"cast_id\": 33, \"character\": \"Cryo Vault Med Tech\", \"credit_id\": \"52fe48009251416c750aca5f\", \"gender\": 2, \"id\": 397312, \"name\": \"Jason Whyte\", \"order\": 13}, {\"cast_id\": 34, \"character\": \"Venture Star Crew Chief\", \"credit_id\": \"52fe48009251416c750aca63\", \"gender\": 2, \"id\": 42317, \"name\": \"Scott Lawrence\", \"order\": 14}, {\"cast_id\": 35, \"character\": \"Lock Up Trooper\", \"credit_id\": \"52fe48009251416c750aca67\", \"gender\": 2, \"id\": 986734, \"name\": \"Kelly Kilgour\", \"order\": 15}, {\"cast_id\": 36, \"character\": \"Shuttle Pilot\", \"credit_id\": \"52fe48009251416c750aca6b\", \"gender\": 0, \"id\": 1207227, \"name\": \"James Patrick Pitt\", \"order\": 16}, {\"cast_id\": 37, \"character\": \"Shuttle Co-Pilot\", \"credit_id\": \"52fe48009251416c750aca6f\", \"gender\": 0, \"id\": 1180936, \"name\": \"Sean Patrick Murphy\", \"order\": 17}, {\"cast_id\": 38, \"character\": \"Shuttle Crew Chief\", \"credit_id\": \"52fe48009251416c750aca73\", \"gender\": 2, \"id\": 1019578, \"name\": \"Peter Dillon\", \"order\": 18}, {\"cast_id\": 39, \"character\": \"Tractor Operator / Troupe\", \"credit_id\": \"52fe48009251416c750aca77\", \"gender\": 0, \"id\": 91443, \"name\": \"Kevin Dorman\", \"order\": 19}, {\"cast_id\": 40, \"character\": \"Dragon Gunship Pilot\", \"credit_id\": \"52fe48009251416c750aca7b\", \"gender\": 2, \"id\": 173391, \"name\": \"Kelson Henderson\", \"order\": 20}, {\"cast_id\": 41, \"character\": \"Dragon Gunship Gunner\", \"credit_id\": \"52fe48009251416c750aca7f\", \"gender\": 0, \"id\": 1207236, \"name\": \"David Van Horn\", \"order\": 21}, {\"cast_id\": 42, \"character\": \"Dragon Gunship Navigator\", \"credit_id\": \"52fe48009251416c750aca83\", \"gender\": 0, \"id\": 215913, \"name\": \"Jacob Tomuri\", \"order\": 22}, {\"cast_id\": 43, \"character\": \"Suit #1\", \"credit_id\": \"52fe48009251416c750aca87\", \"gender\": 0, \"id\": 143206, \"name\": \"Michael Blain-Rozgay\", \"order\": 23}, {\"cast_id\": 44, \"character\": \"Suit #2\", \"credit_id\": \"52fe48009251416c750aca8b\", \"gender\": 2, \"id\": 169676, \"name\": \"Jon Curry\", \"order\": 24}, {\"cast_id\": 46, \"character\": \"Ambient Room Tech\", \"credit_id\": \"52fe48009251416c750aca8f\", \"gender\": 0, \"id\": 1048610, \"name\": \"Luke Hawker\", \"order\": 25}, {\"cast_id\": 47, \"character\": \"Ambient Room Tech / Troupe\", \"credit_id\": \"52fe48009251416c750aca93\", \"gender\": 0, \"id\": 42288, \"name\": \"Woody Schultz\", \"order\": 26}, {\"cast_id\": 48, \"character\": \"Horse Clan Leader\", \"credit_id\": \"52fe48009251416c750aca97\", \"gender\": 2, \"id\": 68278, \"name\": \"Peter Mensah\", \"order\": 27}, {\"cast_id\": 49, \"character\": \"Link Room Tech\", \"credit_id\": \"52fe48009251416c750aca9b\", \"gender\": 0, \"id\": 1207247, \"name\": \"Sonia Yee\", \"order\": 28}, {\"cast_id\": 50, \"character\": \"Basketball Avatar / Troupe\", \"credit_id\": \"52fe48009251416c750aca9f\", \"gender\": 1, \"id\": 1207248, \"name\": \"Jahnel Curfman\", \"order\": 29}, {\"cast_id\": 51, \"character\": \"Basketball Avatar\", \"credit_id\": \"52fe48009251416c750acaa3\", \"gender\": 0, \"id\": 89714, \"name\": \"Ilram Choi\", \"order\": 30}, {\"cast_id\": 52, \"character\": \"Na\\'vi Child\", \"credit_id\": \"52fe48009251416c750acaa7\", \"gender\": 0, \"id\": 1207249, \"name\": \"Kyla Warren\", \"order\": 31}, {\"cast_id\": 53, \"character\": \"Troupe\", \"credit_id\": \"52fe48009251416c750acaab\", \"gender\": 0, \"id\": 1207250, \"name\": \"Lisa Roumain\", \"order\": 32}, {\"cast_id\": 54, \"character\": \"Troupe\", \"credit_id\": \"52fe48009251416c750acaaf\", \"gender\": 1, \"id\": 83105, \"name\": \"Debra Wilson\", \"order\": 33}, {\"cast_id\": 57, \"character\": \"Troupe\", \"credit_id\": \"52fe48009251416c750acabb\", \"gender\": 0, \"id\": 1207253, \"name\": \"Chris Mala\", \"order\": 34}, {\"cast_id\": 55, \"character\": \"Troupe\", \"credit_id\": \"52fe48009251416c750acab3\", \"gender\": 0, \"id\": 1207251, \"name\": \"Taylor Kibby\", \"order\": 35}, {\"cast_id\": 56, \"character\": \"Troupe\", \"credit_id\": \"52fe48009251416c750acab7\", \"gender\": 0, \"id\": 1207252, \"name\": \"Jodie Landau\", \"order\": 36}, {\"cast_id\": 58, \"character\": \"Troupe\", \"credit_id\": \"52fe48009251416c750acabf\", \"gender\": 0, \"id\": 1207254, \"name\": \"Julie Lamm\", \"order\": 37}, {\"cast_id\": 59, \"character\": \"Troupe\", \"credit_id\": \"52fe48009251416c750acac3\", \"gender\": 0, \"id\": 1207257, \"name\": \"Cullen B. Madden\", \"order\": 38}, {\"cast_id\": 60, \"character\": \"Troupe\", \"credit_id\": \"52fe48009251416c750acac7\", \"gender\": 0, \"id\": 1207259, \"name\": \"Joseph Brady Madden\", \"order\": 39}, {\"cast_id\": 61, \"character\": \"Troupe\", \"credit_id\": \"52fe48009251416c750acacb\", \"gender\": 0, \"id\": 1207262, \"name\": \"Frankie Torres\", \"order\": 40}, {\"cast_id\": 62, \"character\": \"Troupe\", \"credit_id\": \"52fe48009251416c750acacf\", \"gender\": 1, \"id\": 1158600, \"name\": \"Austin Wilson\", \"order\": 41}, {\"cast_id\": 63, \"character\": \"Troupe\", \"credit_id\": \"52fe48019251416c750acad3\", \"gender\": 1, \"id\": 983705, \"name\": \"Sara Wilson\", \"order\": 42}, {\"cast_id\": 64, \"character\": \"Troupe\", \"credit_id\": \"52fe48019251416c750acad7\", \"gender\": 0, \"id\": 1207263, \"name\": \"Tamica Washington-Miller\", \"order\": 43}, {\"cast_id\": 65, \"character\": \"Op Center Staff\", \"credit_id\": \"52fe48019251416c750acadb\", \"gender\": 1, \"id\": 1145098, \"name\": \"Lucy Briant\", \"order\": 44}, {\"cast_id\": 66, \"character\": \"Op Center Staff\", \"credit_id\": \"52fe48019251416c750acadf\", \"gender\": 2, \"id\": 33305, \"name\": \"Nathan Meister\", \"order\": 45}, {\"cast_id\": 67, \"character\": \"Op Center Staff\", \"credit_id\": \"52fe48019251416c750acae3\", \"gender\": 0, \"id\": 1207264, \"name\": \"Gerry Blair\", \"order\": 46}, {\"cast_id\": 68, \"character\": \"Op Center Staff\", \"credit_id\": \"52fe48019251416c750acae7\", \"gender\": 2, \"id\": 33311, \"name\": \"Matthew Chamberlain\", \"order\": 47}, {\"cast_id\": 69, \"character\": \"Op Center Staff\", \"credit_id\": \"52fe48019251416c750acaeb\", \"gender\": 0, \"id\": 1207265, \"name\": \"Paul Yates\", \"order\": 48}, {\"cast_id\": 70, \"character\": \"Op Center Duty Officer\", \"credit_id\": \"52fe48019251416c750acaef\", \"gender\": 0, \"id\": 1207266, \"name\": \"Wray Wilson\", \"order\": 49}, {\"cast_id\": 71, \"character\": \"Op Center Staff\", \"credit_id\": \"52fe48019251416c750acaf3\", \"gender\": 2, \"id\": 54492, \"name\": \"James Gaylyn\", \"order\": 50}, {\"cast_id\": 72, \"character\": \"Dancer\", \"credit_id\": \"52fe48019251416c750acaf7\", \"gender\": 0, \"id\": 1207267, \"name\": \"Melvin Leno Clark III\", \"order\": 51}, {\"cast_id\": 73, \"character\": \"Dancer\", \"credit_id\": \"52fe48019251416c750acafb\", \"gender\": 0, \"id\": 1207268, \"name\": \"Carvon Futrell\", \"order\": 52}, {\"cast_id\": 74, \"character\": \"Dancer\", \"credit_id\": \"52fe48019251416c750acaff\", \"gender\": 0, \"id\": 1207269, \"name\": \"Brandon Jelkes\", \"order\": 53}, {\"cast_id\": 75, \"character\": \"Dancer\", \"credit_id\": \"52fe48019251416c750acb03\", \"gender\": 0, \"id\": 1207270, \"name\": \"Micah Moch\", \"order\": 54}, {\"cast_id\": 76, \"character\": \"Dancer\", \"credit_id\": \"52fe48019251416c750acb07\", \"gender\": 0, \"id\": 1207271, \"name\": \"Hanniyah Muhammad\", \"order\": 55}, {\"cast_id\": 77, \"character\": \"Dancer\", \"credit_id\": \"52fe48019251416c750acb0b\", \"gender\": 0, \"id\": 1207272, \"name\": \"Christopher Nolen\", \"order\": 56}, {\"cast_id\": 78, \"character\": \"Dancer\", \"credit_id\": \"52fe48019251416c750acb0f\", \"gender\": 0, \"id\": 1207273, \"name\": \"Christa Oliver\", \"order\": 57}, {\"cast_id\": 79, \"character\": \"Dancer\", \"credit_id\": \"52fe48019251416c750acb13\", \"gender\": 0, \"id\": 1207274, \"name\": \"April Marie Thomas\", \"order\": 58}, {\"cast_id\": 80, \"character\": \"Dancer\", \"credit_id\": \"52fe48019251416c750acb17\", \"gender\": 0, \"id\": 1207275, \"name\": \"Bravita A. Threatt\", \"order\": 59}, {\"cast_id\": 81, \"character\": \"Mining Chief (uncredited)\", \"credit_id\": \"52fe48019251416c750acb1b\", \"gender\": 0, \"id\": 1207276, \"name\": \"Colin Bleasdale\", \"order\": 60}, {\"cast_id\": 82, \"character\": \"Veteran Miner (uncredited)\", \"credit_id\": \"52fe48019251416c750acb1f\", \"gender\": 0, \"id\": 107969, \"name\": \"Mike Bodnar\", \"order\": 61}, {\"cast_id\": 83, \"character\": \"Richard (uncredited)\", \"credit_id\": \"52fe48019251416c750acb23\", \"gender\": 0, \"id\": 1207278, \"name\": \"Matt Clayton\", \"order\": 62}, {\"cast_id\": 84, \"character\": \"Nav\\'i (uncredited)\", \"credit_id\": \"52fe48019251416c750acb27\", \"gender\": 1, \"id\": 147898, \"name\": \"Nicole Dionne\", \"order\": 63}, {\"cast_id\": 85, \"character\": \"Trooper (uncredited)\", \"credit_id\": \"52fe48019251416c750acb2b\", \"gender\": 0, \"id\": 1207280, \"name\": \"Jamie Harrison\", \"order\": 64}, {\"cast_id\": 86, \"character\": \"Trooper (uncredited)\", \"credit_id\": \"52fe48019251416c750acb2f\", \"gender\": 0, \"id\": 1207281, \"name\": \"Allan Henry\", \"order\": 65}, {\"cast_id\": 87, \"character\": \"Ground Technician (uncredited)\", \"credit_id\": \"52fe48019251416c750acb33\", \"gender\": 2, \"id\": 1207282, \"name\": \"Anthony Ingruber\", \"order\": 66}, {\"cast_id\": 88, \"character\": \"Flight Crew Mechanic (uncredited)\", \"credit_id\": \"52fe48019251416c750acb37\", \"gender\": 0, \"id\": 1207283, \"name\": \"Ashley Jeffery\", \"order\": 67}, {\"cast_id\": 14, \"character\": \"Samson Pilot\", \"credit_id\": \"52fe48009251416c750ac9f9\", \"gender\": 0, \"id\": 98216, \"name\": \"Dean Knowsley\", \"order\": 68}, {\"cast_id\": 89, \"character\": \"Trooper (uncredited)\", \"credit_id\": \"52fe48019251416c750acb3b\", \"gender\": 0, \"id\": 1201399, \"name\": \"Joseph Mika-Hunt\", \"order\": 69}, {\"cast_id\": 90, \"character\": \"Banshee (uncredited)\", \"credit_id\": \"52fe48019251416c750acb3f\", \"gender\": 0, \"id\": 236696, \"name\": \"Terry Notary\", \"order\": 70}, {\"cast_id\": 91, \"character\": \"Soldier (uncredited)\", \"credit_id\": \"52fe48019251416c750acb43\", \"gender\": 0, \"id\": 1207287, \"name\": \"Kai Pantano\", \"order\": 71}, {\"cast_id\": 92, \"character\": \"Blast Technician (uncredited)\", \"credit_id\": \"52fe48019251416c750acb47\", \"gender\": 0, \"id\": 1207288, \"name\": \"Logan Pithyou\", \"order\": 72}, {\"cast_id\": 93, \"character\": \"Vindum Raah (uncredited)\", \"credit_id\": \"52fe48019251416c750acb4b\", \"gender\": 0, \"id\": 1207289, \"name\": \"Stuart Pollock\", \"order\": 73}, {\"cast_id\": 94, \"character\": \"Hero (uncredited)\", \"credit_id\": \"52fe48019251416c750acb4f\", \"gender\": 0, \"id\": 584868, \"name\": \"Raja\", \"order\": 74}, {\"cast_id\": 95, \"character\": \"Ops Centreworker (uncredited)\", \"credit_id\": \"52fe48019251416c750acb53\", \"gender\": 0, \"id\": 1207290, \"name\": \"Gareth Ruck\", \"order\": 75}, {\"cast_id\": 96, \"character\": \"Engineer (uncredited)\", \"credit_id\": \"52fe48019251416c750acb57\", \"gender\": 0, \"id\": 1062463, \"name\": \"Rhian Sheehan\", \"order\": 76}, {\"cast_id\": 97, \"character\": \"Col. Quaritch\\'s Mech Suit (uncredited)\", \"credit_id\": \"52fe48019251416c750acb5b\", \"gender\": 0, \"id\": 60656, \"name\": \"T. J. Storm\", \"order\": 77}, {\"cast_id\": 98, \"character\": \"Female Marine (uncredited)\", \"credit_id\": \"52fe48019251416c750acb5f\", \"gender\": 0, \"id\": 1207291, \"name\": \"Jodie Taylor\", \"order\": 78}, {\"cast_id\": 99, \"character\": \"Ikran Clan Leader (uncredited)\", \"credit_id\": \"52fe48019251416c750acb63\", \"gender\": 1, \"id\": 1186027, \"name\": \"Alicia Vela-Bailey\", \"order\": 79}, {\"cast_id\": 100, \"character\": \"Geologist (uncredited)\", \"credit_id\": \"52fe48019251416c750acb67\", \"gender\": 0, \"id\": 1207292, \"name\": \"Richard Whiteside\", \"order\": 80}, {\"cast_id\": 101, \"character\": \"Na\\'vi (uncredited)\", \"credit_id\": \"52fe48019251416c750acb6b\", \"gender\": 0, \"id\": 103259, \"name\": \"Nikie Zambo\", \"order\": 81}, {\"cast_id\": 102, \"character\": \"Ambient Room Tech / Troupe\", \"credit_id\": \"52fe48019251416c750acb6f\", \"gender\": 1, \"id\": 42286, \"name\": \"Julene Renee\", \"order\": 82}]'"
      ]
     },
     "execution_count": 5,
     "metadata": {},
     "output_type": "execute_result"
    }
   ],
   "source": [
    "credits_df.iloc[0].cast"
   ]
  },
  {
   "cell_type": "code",
   "execution_count": 6,
   "id": "cb241482",
   "metadata": {},
   "outputs": [
    {
     "data": {
      "text/html": [
       "<div>\n",
       "<style scoped>\n",
       "    .dataframe tbody tr th:only-of-type {\n",
       "        vertical-align: middle;\n",
       "    }\n",
       "\n",
       "    .dataframe tbody tr th {\n",
       "        vertical-align: top;\n",
       "    }\n",
       "\n",
       "    .dataframe thead th {\n",
       "        text-align: right;\n",
       "    }\n",
       "</style>\n",
       "<table border=\"1\" class=\"dataframe\">\n",
       "  <thead>\n",
       "    <tr style=\"text-align: right;\">\n",
       "      <th></th>\n",
       "      <th>budget</th>\n",
       "      <th>genres</th>\n",
       "      <th>homepage</th>\n",
       "      <th>id</th>\n",
       "      <th>keywords</th>\n",
       "      <th>original_language</th>\n",
       "      <th>original_title</th>\n",
       "      <th>overview</th>\n",
       "      <th>popularity</th>\n",
       "      <th>production_companies</th>\n",
       "      <th>production_countries</th>\n",
       "      <th>release_date</th>\n",
       "      <th>revenue</th>\n",
       "      <th>runtime</th>\n",
       "      <th>spoken_languages</th>\n",
       "      <th>status</th>\n",
       "      <th>tagline</th>\n",
       "      <th>title</th>\n",
       "      <th>vote_average</th>\n",
       "      <th>vote_count</th>\n",
       "    </tr>\n",
       "  </thead>\n",
       "  <tbody>\n",
       "    <tr>\n",
       "      <th>0</th>\n",
       "      <td>237000000</td>\n",
       "      <td>[{\"id\": 28, \"name\": \"Action\"}, {\"id\": 12, \"nam...</td>\n",
       "      <td>http://www.avatarmovie.com/</td>\n",
       "      <td>19995</td>\n",
       "      <td>[{\"id\": 1463, \"name\": \"culture clash\"}, {\"id\":...</td>\n",
       "      <td>en</td>\n",
       "      <td>Avatar</td>\n",
       "      <td>In the 22nd century, a paraplegic Marine is di...</td>\n",
       "      <td>150.437577</td>\n",
       "      <td>[{\"name\": \"Ingenious Film Partners\", \"id\": 289...</td>\n",
       "      <td>[{\"iso_3166_1\": \"US\", \"name\": \"United States o...</td>\n",
       "      <td>10-12-2009</td>\n",
       "      <td>2787965087</td>\n",
       "      <td>162.0</td>\n",
       "      <td>[{\"iso_639_1\": \"en\", \"name\": \"English\"}, {\"iso...</td>\n",
       "      <td>Released</td>\n",
       "      <td>Enter the World of Pandora.</td>\n",
       "      <td>Avatar</td>\n",
       "      <td>7.2</td>\n",
       "      <td>11800</td>\n",
       "    </tr>\n",
       "    <tr>\n",
       "      <th>1</th>\n",
       "      <td>300000000</td>\n",
       "      <td>[{\"id\": 12, \"name\": \"Adventure\"}, {\"id\": 14, \"...</td>\n",
       "      <td>http://disney.go.com/disneypictures/pirates/</td>\n",
       "      <td>285</td>\n",
       "      <td>[{\"id\": 270, \"name\": \"ocean\"}, {\"id\": 726, \"na...</td>\n",
       "      <td>en</td>\n",
       "      <td>Pirates of the Caribbean: At World's End</td>\n",
       "      <td>Captain Barbossa, long believed to be dead, ha...</td>\n",
       "      <td>139.082615</td>\n",
       "      <td>[{\"name\": \"Walt Disney Pictures\", \"id\": 2}, {\"...</td>\n",
       "      <td>[{\"iso_3166_1\": \"US\", \"name\": \"United States o...</td>\n",
       "      <td>19-05-2007</td>\n",
       "      <td>961000000</td>\n",
       "      <td>169.0</td>\n",
       "      <td>[{\"iso_639_1\": \"en\", \"name\": \"English\"}]</td>\n",
       "      <td>Released</td>\n",
       "      <td>At the end of the world, the adventure begins.</td>\n",
       "      <td>Pirates of the Caribbean: At World's End</td>\n",
       "      <td>6.9</td>\n",
       "      <td>4500</td>\n",
       "    </tr>\n",
       "    <tr>\n",
       "      <th>2</th>\n",
       "      <td>245000000</td>\n",
       "      <td>[{\"id\": 28, \"name\": \"Action\"}, {\"id\": 12, \"nam...</td>\n",
       "      <td>http://www.sonypictures.com/movies/spectre/</td>\n",
       "      <td>206647</td>\n",
       "      <td>[{\"id\": 470, \"name\": \"spy\"}, {\"id\": 818, \"name...</td>\n",
       "      <td>en</td>\n",
       "      <td>Spectre</td>\n",
       "      <td>A cryptic message from Bond’s past sends him o...</td>\n",
       "      <td>107.376788</td>\n",
       "      <td>[{\"name\": \"Columbia Pictures\", \"id\": 5}, {\"nam...</td>\n",
       "      <td>[{\"iso_3166_1\": \"GB\", \"name\": \"United Kingdom\"...</td>\n",
       "      <td>26-10-2015</td>\n",
       "      <td>880674609</td>\n",
       "      <td>148.0</td>\n",
       "      <td>[{\"iso_639_1\": \"fr\", \"name\": \"Fran\\u00e7ais\"},...</td>\n",
       "      <td>Released</td>\n",
       "      <td>A Plan No One Escapes</td>\n",
       "      <td>Spectre</td>\n",
       "      <td>6.3</td>\n",
       "      <td>4466</td>\n",
       "    </tr>\n",
       "    <tr>\n",
       "      <th>3</th>\n",
       "      <td>250000000</td>\n",
       "      <td>[{\"id\": 28, \"name\": \"Action\"}, {\"id\": 80, \"nam...</td>\n",
       "      <td>http://www.thedarkknightrises.com/</td>\n",
       "      <td>49026</td>\n",
       "      <td>[{\"id\": 849, \"name\": \"dc comics\"}, {\"id\": 853,...</td>\n",
       "      <td>en</td>\n",
       "      <td>The Dark Knight Rises</td>\n",
       "      <td>Following the death of District Attorney Harve...</td>\n",
       "      <td>112.312950</td>\n",
       "      <td>[{\"name\": \"Legendary Pictures\", \"id\": 923}, {\"...</td>\n",
       "      <td>[{\"iso_3166_1\": \"US\", \"name\": \"United States o...</td>\n",
       "      <td>16-07-2012</td>\n",
       "      <td>1084939099</td>\n",
       "      <td>165.0</td>\n",
       "      <td>[{\"iso_639_1\": \"en\", \"name\": \"English\"}]</td>\n",
       "      <td>Released</td>\n",
       "      <td>The Legend Ends</td>\n",
       "      <td>The Dark Knight Rises</td>\n",
       "      <td>7.6</td>\n",
       "      <td>9106</td>\n",
       "    </tr>\n",
       "    <tr>\n",
       "      <th>4</th>\n",
       "      <td>260000000</td>\n",
       "      <td>[{\"id\": 28, \"name\": \"Action\"}, {\"id\": 12, \"nam...</td>\n",
       "      <td>http://movies.disney.com/john-carter</td>\n",
       "      <td>49529</td>\n",
       "      <td>[{\"id\": 818, \"name\": \"based on novel\"}, {\"id\":...</td>\n",
       "      <td>en</td>\n",
       "      <td>John Carter</td>\n",
       "      <td>John Carter is a war-weary, former military ca...</td>\n",
       "      <td>43.926995</td>\n",
       "      <td>[{\"name\": \"Walt Disney Pictures\", \"id\": 2}]</td>\n",
       "      <td>[{\"iso_3166_1\": \"US\", \"name\": \"United States o...</td>\n",
       "      <td>07-03-2012</td>\n",
       "      <td>284139100</td>\n",
       "      <td>132.0</td>\n",
       "      <td>[{\"iso_639_1\": \"en\", \"name\": \"English\"}]</td>\n",
       "      <td>Released</td>\n",
       "      <td>Lost in our world, found in another.</td>\n",
       "      <td>John Carter</td>\n",
       "      <td>6.1</td>\n",
       "      <td>2124</td>\n",
       "    </tr>\n",
       "  </tbody>\n",
       "</table>\n",
       "</div>"
      ],
      "text/plain": [
       "      budget                                             genres  \\\n",
       "0  237000000  [{\"id\": 28, \"name\": \"Action\"}, {\"id\": 12, \"nam...   \n",
       "1  300000000  [{\"id\": 12, \"name\": \"Adventure\"}, {\"id\": 14, \"...   \n",
       "2  245000000  [{\"id\": 28, \"name\": \"Action\"}, {\"id\": 12, \"nam...   \n",
       "3  250000000  [{\"id\": 28, \"name\": \"Action\"}, {\"id\": 80, \"nam...   \n",
       "4  260000000  [{\"id\": 28, \"name\": \"Action\"}, {\"id\": 12, \"nam...   \n",
       "\n",
       "                                       homepage      id  \\\n",
       "0                   http://www.avatarmovie.com/   19995   \n",
       "1  http://disney.go.com/disneypictures/pirates/     285   \n",
       "2   http://www.sonypictures.com/movies/spectre/  206647   \n",
       "3            http://www.thedarkknightrises.com/   49026   \n",
       "4          http://movies.disney.com/john-carter   49529   \n",
       "\n",
       "                                            keywords original_language  \\\n",
       "0  [{\"id\": 1463, \"name\": \"culture clash\"}, {\"id\":...                en   \n",
       "1  [{\"id\": 270, \"name\": \"ocean\"}, {\"id\": 726, \"na...                en   \n",
       "2  [{\"id\": 470, \"name\": \"spy\"}, {\"id\": 818, \"name...                en   \n",
       "3  [{\"id\": 849, \"name\": \"dc comics\"}, {\"id\": 853,...                en   \n",
       "4  [{\"id\": 818, \"name\": \"based on novel\"}, {\"id\":...                en   \n",
       "\n",
       "                             original_title  \\\n",
       "0                                    Avatar   \n",
       "1  Pirates of the Caribbean: At World's End   \n",
       "2                                   Spectre   \n",
       "3                     The Dark Knight Rises   \n",
       "4                               John Carter   \n",
       "\n",
       "                                            overview  popularity  \\\n",
       "0  In the 22nd century, a paraplegic Marine is di...  150.437577   \n",
       "1  Captain Barbossa, long believed to be dead, ha...  139.082615   \n",
       "2  A cryptic message from Bond’s past sends him o...  107.376788   \n",
       "3  Following the death of District Attorney Harve...  112.312950   \n",
       "4  John Carter is a war-weary, former military ca...   43.926995   \n",
       "\n",
       "                                production_companies  \\\n",
       "0  [{\"name\": \"Ingenious Film Partners\", \"id\": 289...   \n",
       "1  [{\"name\": \"Walt Disney Pictures\", \"id\": 2}, {\"...   \n",
       "2  [{\"name\": \"Columbia Pictures\", \"id\": 5}, {\"nam...   \n",
       "3  [{\"name\": \"Legendary Pictures\", \"id\": 923}, {\"...   \n",
       "4        [{\"name\": \"Walt Disney Pictures\", \"id\": 2}]   \n",
       "\n",
       "                                production_countries release_date     revenue  \\\n",
       "0  [{\"iso_3166_1\": \"US\", \"name\": \"United States o...   10-12-2009  2787965087   \n",
       "1  [{\"iso_3166_1\": \"US\", \"name\": \"United States o...   19-05-2007   961000000   \n",
       "2  [{\"iso_3166_1\": \"GB\", \"name\": \"United Kingdom\"...   26-10-2015   880674609   \n",
       "3  [{\"iso_3166_1\": \"US\", \"name\": \"United States o...   16-07-2012  1084939099   \n",
       "4  [{\"iso_3166_1\": \"US\", \"name\": \"United States o...   07-03-2012   284139100   \n",
       "\n",
       "   runtime                                   spoken_languages    status  \\\n",
       "0    162.0  [{\"iso_639_1\": \"en\", \"name\": \"English\"}, {\"iso...  Released   \n",
       "1    169.0           [{\"iso_639_1\": \"en\", \"name\": \"English\"}]  Released   \n",
       "2    148.0  [{\"iso_639_1\": \"fr\", \"name\": \"Fran\\u00e7ais\"},...  Released   \n",
       "3    165.0           [{\"iso_639_1\": \"en\", \"name\": \"English\"}]  Released   \n",
       "4    132.0           [{\"iso_639_1\": \"en\", \"name\": \"English\"}]  Released   \n",
       "\n",
       "                                          tagline  \\\n",
       "0                     Enter the World of Pandora.   \n",
       "1  At the end of the world, the adventure begins.   \n",
       "2                           A Plan No One Escapes   \n",
       "3                                 The Legend Ends   \n",
       "4            Lost in our world, found in another.   \n",
       "\n",
       "                                      title  vote_average  vote_count  \n",
       "0                                    Avatar           7.2       11800  \n",
       "1  Pirates of the Caribbean: At World's End           6.9        4500  \n",
       "2                                   Spectre           6.3        4466  \n",
       "3                     The Dark Knight Rises           7.6        9106  \n",
       "4                               John Carter           6.1        2124  "
      ]
     },
     "execution_count": 6,
     "metadata": {},
     "output_type": "execute_result"
    }
   ],
   "source": [
    "movies_df.head()"
   ]
  },
  {
   "cell_type": "code",
   "execution_count": 7,
   "id": "96d689a4",
   "metadata": {},
   "outputs": [],
   "source": [
    "movies_df=movies_df.merge(credits_df,on='title')"
   ]
  },
  {
   "cell_type": "code",
   "execution_count": 8,
   "id": "09e9a298",
   "metadata": {},
   "outputs": [
    {
     "data": {
      "text/plain": [
       "(4808, 23)"
      ]
     },
     "execution_count": 8,
     "metadata": {},
     "output_type": "execute_result"
    }
   ],
   "source": [
    "movies_df.shape"
   ]
  },
  {
   "cell_type": "code",
   "execution_count": 9,
   "id": "8db80f04",
   "metadata": {},
   "outputs": [
    {
     "data": {
      "text/html": [
       "<div>\n",
       "<style scoped>\n",
       "    .dataframe tbody tr th:only-of-type {\n",
       "        vertical-align: middle;\n",
       "    }\n",
       "\n",
       "    .dataframe tbody tr th {\n",
       "        vertical-align: top;\n",
       "    }\n",
       "\n",
       "    .dataframe thead th {\n",
       "        text-align: right;\n",
       "    }\n",
       "</style>\n",
       "<table border=\"1\" class=\"dataframe\">\n",
       "  <thead>\n",
       "    <tr style=\"text-align: right;\">\n",
       "      <th></th>\n",
       "      <th>budget</th>\n",
       "      <th>genres</th>\n",
       "      <th>homepage</th>\n",
       "      <th>id</th>\n",
       "      <th>keywords</th>\n",
       "      <th>original_language</th>\n",
       "      <th>original_title</th>\n",
       "      <th>overview</th>\n",
       "      <th>popularity</th>\n",
       "      <th>production_companies</th>\n",
       "      <th>production_countries</th>\n",
       "      <th>release_date</th>\n",
       "      <th>revenue</th>\n",
       "      <th>runtime</th>\n",
       "      <th>spoken_languages</th>\n",
       "      <th>status</th>\n",
       "      <th>tagline</th>\n",
       "      <th>title</th>\n",
       "      <th>vote_average</th>\n",
       "      <th>vote_count</th>\n",
       "      <th>movie_id</th>\n",
       "      <th>cast</th>\n",
       "      <th>crew</th>\n",
       "    </tr>\n",
       "  </thead>\n",
       "  <tbody>\n",
       "    <tr>\n",
       "      <th>0</th>\n",
       "      <td>237000000</td>\n",
       "      <td>[{\"id\": 28, \"name\": \"Action\"}, {\"id\": 12, \"nam...</td>\n",
       "      <td>http://www.avatarmovie.com/</td>\n",
       "      <td>19995</td>\n",
       "      <td>[{\"id\": 1463, \"name\": \"culture clash\"}, {\"id\":...</td>\n",
       "      <td>en</td>\n",
       "      <td>Avatar</td>\n",
       "      <td>In the 22nd century, a paraplegic Marine is di...</td>\n",
       "      <td>150.437577</td>\n",
       "      <td>[{\"name\": \"Ingenious Film Partners\", \"id\": 289...</td>\n",
       "      <td>[{\"iso_3166_1\": \"US\", \"name\": \"United States o...</td>\n",
       "      <td>10-12-2009</td>\n",
       "      <td>2787965087</td>\n",
       "      <td>162.0</td>\n",
       "      <td>[{\"iso_639_1\": \"en\", \"name\": \"English\"}, {\"iso...</td>\n",
       "      <td>Released</td>\n",
       "      <td>Enter the World of Pandora.</td>\n",
       "      <td>Avatar</td>\n",
       "      <td>7.2</td>\n",
       "      <td>11800</td>\n",
       "      <td>19995</td>\n",
       "      <td>[{\"cast_id\": 242, \"character\": \"Jake Sully\", \"...</td>\n",
       "      <td>[{\"credit_id\": \"52fe48009251416c750aca23\", \"de...</td>\n",
       "    </tr>\n",
       "    <tr>\n",
       "      <th>1</th>\n",
       "      <td>300000000</td>\n",
       "      <td>[{\"id\": 12, \"name\": \"Adventure\"}, {\"id\": 14, \"...</td>\n",
       "      <td>http://disney.go.com/disneypictures/pirates/</td>\n",
       "      <td>285</td>\n",
       "      <td>[{\"id\": 270, \"name\": \"ocean\"}, {\"id\": 726, \"na...</td>\n",
       "      <td>en</td>\n",
       "      <td>Pirates of the Caribbean: At World's End</td>\n",
       "      <td>Captain Barbossa, long believed to be dead, ha...</td>\n",
       "      <td>139.082615</td>\n",
       "      <td>[{\"name\": \"Walt Disney Pictures\", \"id\": 2}, {\"...</td>\n",
       "      <td>[{\"iso_3166_1\": \"US\", \"name\": \"United States o...</td>\n",
       "      <td>19-05-2007</td>\n",
       "      <td>961000000</td>\n",
       "      <td>169.0</td>\n",
       "      <td>[{\"iso_639_1\": \"en\", \"name\": \"English\"}]</td>\n",
       "      <td>Released</td>\n",
       "      <td>At the end of the world, the adventure begins.</td>\n",
       "      <td>Pirates of the Caribbean: At World's End</td>\n",
       "      <td>6.9</td>\n",
       "      <td>4500</td>\n",
       "      <td>285</td>\n",
       "      <td>[{\"cast_id\": 4, \"character\": \"Captain Jack Spa...</td>\n",
       "      <td>[{\"credit_id\": \"52fe4232c3a36847f800b579\", \"de...</td>\n",
       "    </tr>\n",
       "    <tr>\n",
       "      <th>2</th>\n",
       "      <td>245000000</td>\n",
       "      <td>[{\"id\": 28, \"name\": \"Action\"}, {\"id\": 12, \"nam...</td>\n",
       "      <td>http://www.sonypictures.com/movies/spectre/</td>\n",
       "      <td>206647</td>\n",
       "      <td>[{\"id\": 470, \"name\": \"spy\"}, {\"id\": 818, \"name...</td>\n",
       "      <td>en</td>\n",
       "      <td>Spectre</td>\n",
       "      <td>A cryptic message from Bond’s past sends him o...</td>\n",
       "      <td>107.376788</td>\n",
       "      <td>[{\"name\": \"Columbia Pictures\", \"id\": 5}, {\"nam...</td>\n",
       "      <td>[{\"iso_3166_1\": \"GB\", \"name\": \"United Kingdom\"...</td>\n",
       "      <td>26-10-2015</td>\n",
       "      <td>880674609</td>\n",
       "      <td>148.0</td>\n",
       "      <td>[{\"iso_639_1\": \"fr\", \"name\": \"Fran\\u00e7ais\"},...</td>\n",
       "      <td>Released</td>\n",
       "      <td>A Plan No One Escapes</td>\n",
       "      <td>Spectre</td>\n",
       "      <td>6.3</td>\n",
       "      <td>4466</td>\n",
       "      <td>206647</td>\n",
       "      <td>[{\"cast_id\": 1, \"character\": \"James Bond\", \"cr...</td>\n",
       "      <td>[{\"credit_id\": \"54805967c3a36829b5002c41\", \"de...</td>\n",
       "    </tr>\n",
       "    <tr>\n",
       "      <th>3</th>\n",
       "      <td>250000000</td>\n",
       "      <td>[{\"id\": 28, \"name\": \"Action\"}, {\"id\": 80, \"nam...</td>\n",
       "      <td>http://www.thedarkknightrises.com/</td>\n",
       "      <td>49026</td>\n",
       "      <td>[{\"id\": 849, \"name\": \"dc comics\"}, {\"id\": 853,...</td>\n",
       "      <td>en</td>\n",
       "      <td>The Dark Knight Rises</td>\n",
       "      <td>Following the death of District Attorney Harve...</td>\n",
       "      <td>112.312950</td>\n",
       "      <td>[{\"name\": \"Legendary Pictures\", \"id\": 923}, {\"...</td>\n",
       "      <td>[{\"iso_3166_1\": \"US\", \"name\": \"United States o...</td>\n",
       "      <td>16-07-2012</td>\n",
       "      <td>1084939099</td>\n",
       "      <td>165.0</td>\n",
       "      <td>[{\"iso_639_1\": \"en\", \"name\": \"English\"}]</td>\n",
       "      <td>Released</td>\n",
       "      <td>The Legend Ends</td>\n",
       "      <td>The Dark Knight Rises</td>\n",
       "      <td>7.6</td>\n",
       "      <td>9106</td>\n",
       "      <td>49026</td>\n",
       "      <td>[{\"cast_id\": 2, \"character\": \"Bruce Wayne / Ba...</td>\n",
       "      <td>[{\"credit_id\": \"52fe4781c3a36847f81398c3\", \"de...</td>\n",
       "    </tr>\n",
       "    <tr>\n",
       "      <th>4</th>\n",
       "      <td>260000000</td>\n",
       "      <td>[{\"id\": 28, \"name\": \"Action\"}, {\"id\": 12, \"nam...</td>\n",
       "      <td>http://movies.disney.com/john-carter</td>\n",
       "      <td>49529</td>\n",
       "      <td>[{\"id\": 818, \"name\": \"based on novel\"}, {\"id\":...</td>\n",
       "      <td>en</td>\n",
       "      <td>John Carter</td>\n",
       "      <td>John Carter is a war-weary, former military ca...</td>\n",
       "      <td>43.926995</td>\n",
       "      <td>[{\"name\": \"Walt Disney Pictures\", \"id\": 2}]</td>\n",
       "      <td>[{\"iso_3166_1\": \"US\", \"name\": \"United States o...</td>\n",
       "      <td>07-03-2012</td>\n",
       "      <td>284139100</td>\n",
       "      <td>132.0</td>\n",
       "      <td>[{\"iso_639_1\": \"en\", \"name\": \"English\"}]</td>\n",
       "      <td>Released</td>\n",
       "      <td>Lost in our world, found in another.</td>\n",
       "      <td>John Carter</td>\n",
       "      <td>6.1</td>\n",
       "      <td>2124</td>\n",
       "      <td>49529</td>\n",
       "      <td>[{\"cast_id\": 5, \"character\": \"John Carter\", \"c...</td>\n",
       "      <td>[{\"credit_id\": \"52fe479ac3a36847f813eaa3\", \"de...</td>\n",
       "    </tr>\n",
       "  </tbody>\n",
       "</table>\n",
       "</div>"
      ],
      "text/plain": [
       "      budget                                             genres  \\\n",
       "0  237000000  [{\"id\": 28, \"name\": \"Action\"}, {\"id\": 12, \"nam...   \n",
       "1  300000000  [{\"id\": 12, \"name\": \"Adventure\"}, {\"id\": 14, \"...   \n",
       "2  245000000  [{\"id\": 28, \"name\": \"Action\"}, {\"id\": 12, \"nam...   \n",
       "3  250000000  [{\"id\": 28, \"name\": \"Action\"}, {\"id\": 80, \"nam...   \n",
       "4  260000000  [{\"id\": 28, \"name\": \"Action\"}, {\"id\": 12, \"nam...   \n",
       "\n",
       "                                       homepage      id  \\\n",
       "0                   http://www.avatarmovie.com/   19995   \n",
       "1  http://disney.go.com/disneypictures/pirates/     285   \n",
       "2   http://www.sonypictures.com/movies/spectre/  206647   \n",
       "3            http://www.thedarkknightrises.com/   49026   \n",
       "4          http://movies.disney.com/john-carter   49529   \n",
       "\n",
       "                                            keywords original_language  \\\n",
       "0  [{\"id\": 1463, \"name\": \"culture clash\"}, {\"id\":...                en   \n",
       "1  [{\"id\": 270, \"name\": \"ocean\"}, {\"id\": 726, \"na...                en   \n",
       "2  [{\"id\": 470, \"name\": \"spy\"}, {\"id\": 818, \"name...                en   \n",
       "3  [{\"id\": 849, \"name\": \"dc comics\"}, {\"id\": 853,...                en   \n",
       "4  [{\"id\": 818, \"name\": \"based on novel\"}, {\"id\":...                en   \n",
       "\n",
       "                             original_title  \\\n",
       "0                                    Avatar   \n",
       "1  Pirates of the Caribbean: At World's End   \n",
       "2                                   Spectre   \n",
       "3                     The Dark Knight Rises   \n",
       "4                               John Carter   \n",
       "\n",
       "                                            overview  popularity  \\\n",
       "0  In the 22nd century, a paraplegic Marine is di...  150.437577   \n",
       "1  Captain Barbossa, long believed to be dead, ha...  139.082615   \n",
       "2  A cryptic message from Bond’s past sends him o...  107.376788   \n",
       "3  Following the death of District Attorney Harve...  112.312950   \n",
       "4  John Carter is a war-weary, former military ca...   43.926995   \n",
       "\n",
       "                                production_companies  \\\n",
       "0  [{\"name\": \"Ingenious Film Partners\", \"id\": 289...   \n",
       "1  [{\"name\": \"Walt Disney Pictures\", \"id\": 2}, {\"...   \n",
       "2  [{\"name\": \"Columbia Pictures\", \"id\": 5}, {\"nam...   \n",
       "3  [{\"name\": \"Legendary Pictures\", \"id\": 923}, {\"...   \n",
       "4        [{\"name\": \"Walt Disney Pictures\", \"id\": 2}]   \n",
       "\n",
       "                                production_countries release_date     revenue  \\\n",
       "0  [{\"iso_3166_1\": \"US\", \"name\": \"United States o...   10-12-2009  2787965087   \n",
       "1  [{\"iso_3166_1\": \"US\", \"name\": \"United States o...   19-05-2007   961000000   \n",
       "2  [{\"iso_3166_1\": \"GB\", \"name\": \"United Kingdom\"...   26-10-2015   880674609   \n",
       "3  [{\"iso_3166_1\": \"US\", \"name\": \"United States o...   16-07-2012  1084939099   \n",
       "4  [{\"iso_3166_1\": \"US\", \"name\": \"United States o...   07-03-2012   284139100   \n",
       "\n",
       "   runtime                                   spoken_languages    status  \\\n",
       "0    162.0  [{\"iso_639_1\": \"en\", \"name\": \"English\"}, {\"iso...  Released   \n",
       "1    169.0           [{\"iso_639_1\": \"en\", \"name\": \"English\"}]  Released   \n",
       "2    148.0  [{\"iso_639_1\": \"fr\", \"name\": \"Fran\\u00e7ais\"},...  Released   \n",
       "3    165.0           [{\"iso_639_1\": \"en\", \"name\": \"English\"}]  Released   \n",
       "4    132.0           [{\"iso_639_1\": \"en\", \"name\": \"English\"}]  Released   \n",
       "\n",
       "                                          tagline  \\\n",
       "0                     Enter the World of Pandora.   \n",
       "1  At the end of the world, the adventure begins.   \n",
       "2                           A Plan No One Escapes   \n",
       "3                                 The Legend Ends   \n",
       "4            Lost in our world, found in another.   \n",
       "\n",
       "                                      title  vote_average  vote_count  \\\n",
       "0                                    Avatar           7.2       11800   \n",
       "1  Pirates of the Caribbean: At World's End           6.9        4500   \n",
       "2                                   Spectre           6.3        4466   \n",
       "3                     The Dark Knight Rises           7.6        9106   \n",
       "4                               John Carter           6.1        2124   \n",
       "\n",
       "   movie_id                                               cast  \\\n",
       "0     19995  [{\"cast_id\": 242, \"character\": \"Jake Sully\", \"...   \n",
       "1       285  [{\"cast_id\": 4, \"character\": \"Captain Jack Spa...   \n",
       "2    206647  [{\"cast_id\": 1, \"character\": \"James Bond\", \"cr...   \n",
       "3     49026  [{\"cast_id\": 2, \"character\": \"Bruce Wayne / Ba...   \n",
       "4     49529  [{\"cast_id\": 5, \"character\": \"John Carter\", \"c...   \n",
       "\n",
       "                                                crew  \n",
       "0  [{\"credit_id\": \"52fe48009251416c750aca23\", \"de...  \n",
       "1  [{\"credit_id\": \"52fe4232c3a36847f800b579\", \"de...  \n",
       "2  [{\"credit_id\": \"54805967c3a36829b5002c41\", \"de...  \n",
       "3  [{\"credit_id\": \"52fe4781c3a36847f81398c3\", \"de...  \n",
       "4  [{\"credit_id\": \"52fe479ac3a36847f813eaa3\", \"de...  "
      ]
     },
     "execution_count": 9,
     "metadata": {},
     "output_type": "execute_result"
    }
   ],
   "source": [
    "movies_df.head()"
   ]
  },
  {
   "cell_type": "code",
   "execution_count": 10,
   "id": "50ad6062",
   "metadata": {},
   "outputs": [
    {
     "name": "stdout",
     "output_type": "stream",
     "text": [
      "<class 'pandas.core.frame.DataFrame'>\n",
      "RangeIndex: 4808 entries, 0 to 4807\n",
      "Data columns (total 23 columns):\n",
      " #   Column                Non-Null Count  Dtype  \n",
      "---  ------                --------------  -----  \n",
      " 0   budget                4808 non-null   int64  \n",
      " 1   genres                4808 non-null   object \n",
      " 2   homepage              1713 non-null   object \n",
      " 3   id                    4808 non-null   int64  \n",
      " 4   keywords              4808 non-null   object \n",
      " 5   original_language     4808 non-null   object \n",
      " 6   original_title        4808 non-null   object \n",
      " 7   overview              4805 non-null   object \n",
      " 8   popularity            4808 non-null   float64\n",
      " 9   production_companies  4808 non-null   object \n",
      " 10  production_countries  4808 non-null   object \n",
      " 11  release_date          4807 non-null   object \n",
      " 12  revenue               4808 non-null   int64  \n",
      " 13  runtime               4806 non-null   float64\n",
      " 14  spoken_languages      4808 non-null   object \n",
      " 15  status                4808 non-null   object \n",
      " 16  tagline               3964 non-null   object \n",
      " 17  title                 4808 non-null   object \n",
      " 18  vote_average          4808 non-null   float64\n",
      " 19  vote_count            4808 non-null   int64  \n",
      " 20  movie_id              4808 non-null   int64  \n",
      " 21  cast                  4808 non-null   object \n",
      " 22  crew                  4808 non-null   object \n",
      "dtypes: float64(3), int64(5), object(15)\n",
      "memory usage: 864.1+ KB\n"
     ]
    }
   ],
   "source": [
    "movies_df.info()"
   ]
  },
  {
   "cell_type": "code",
   "execution_count": 11,
   "id": "4d70b4a1",
   "metadata": {},
   "outputs": [],
   "source": [
    "movies=movies_df[['movie_id','title','overview','tagline','genres','keywords','cast','crew']]"
   ]
  },
  {
   "cell_type": "code",
   "execution_count": 12,
   "id": "265808c3",
   "metadata": {},
   "outputs": [
    {
     "data": {
      "text/html": [
       "<div>\n",
       "<style scoped>\n",
       "    .dataframe tbody tr th:only-of-type {\n",
       "        vertical-align: middle;\n",
       "    }\n",
       "\n",
       "    .dataframe tbody tr th {\n",
       "        vertical-align: top;\n",
       "    }\n",
       "\n",
       "    .dataframe thead th {\n",
       "        text-align: right;\n",
       "    }\n",
       "</style>\n",
       "<table border=\"1\" class=\"dataframe\">\n",
       "  <thead>\n",
       "    <tr style=\"text-align: right;\">\n",
       "      <th></th>\n",
       "      <th>movie_id</th>\n",
       "      <th>title</th>\n",
       "      <th>overview</th>\n",
       "      <th>tagline</th>\n",
       "      <th>genres</th>\n",
       "      <th>keywords</th>\n",
       "      <th>cast</th>\n",
       "      <th>crew</th>\n",
       "    </tr>\n",
       "  </thead>\n",
       "  <tbody>\n",
       "    <tr>\n",
       "      <th>0</th>\n",
       "      <td>19995</td>\n",
       "      <td>Avatar</td>\n",
       "      <td>In the 22nd century, a paraplegic Marine is di...</td>\n",
       "      <td>Enter the World of Pandora.</td>\n",
       "      <td>[{\"id\": 28, \"name\": \"Action\"}, {\"id\": 12, \"nam...</td>\n",
       "      <td>[{\"id\": 1463, \"name\": \"culture clash\"}, {\"id\":...</td>\n",
       "      <td>[{\"cast_id\": 242, \"character\": \"Jake Sully\", \"...</td>\n",
       "      <td>[{\"credit_id\": \"52fe48009251416c750aca23\", \"de...</td>\n",
       "    </tr>\n",
       "    <tr>\n",
       "      <th>1</th>\n",
       "      <td>285</td>\n",
       "      <td>Pirates of the Caribbean: At World's End</td>\n",
       "      <td>Captain Barbossa, long believed to be dead, ha...</td>\n",
       "      <td>At the end of the world, the adventure begins.</td>\n",
       "      <td>[{\"id\": 12, \"name\": \"Adventure\"}, {\"id\": 14, \"...</td>\n",
       "      <td>[{\"id\": 270, \"name\": \"ocean\"}, {\"id\": 726, \"na...</td>\n",
       "      <td>[{\"cast_id\": 4, \"character\": \"Captain Jack Spa...</td>\n",
       "      <td>[{\"credit_id\": \"52fe4232c3a36847f800b579\", \"de...</td>\n",
       "    </tr>\n",
       "    <tr>\n",
       "      <th>2</th>\n",
       "      <td>206647</td>\n",
       "      <td>Spectre</td>\n",
       "      <td>A cryptic message from Bond’s past sends him o...</td>\n",
       "      <td>A Plan No One Escapes</td>\n",
       "      <td>[{\"id\": 28, \"name\": \"Action\"}, {\"id\": 12, \"nam...</td>\n",
       "      <td>[{\"id\": 470, \"name\": \"spy\"}, {\"id\": 818, \"name...</td>\n",
       "      <td>[{\"cast_id\": 1, \"character\": \"James Bond\", \"cr...</td>\n",
       "      <td>[{\"credit_id\": \"54805967c3a36829b5002c41\", \"de...</td>\n",
       "    </tr>\n",
       "    <tr>\n",
       "      <th>3</th>\n",
       "      <td>49026</td>\n",
       "      <td>The Dark Knight Rises</td>\n",
       "      <td>Following the death of District Attorney Harve...</td>\n",
       "      <td>The Legend Ends</td>\n",
       "      <td>[{\"id\": 28, \"name\": \"Action\"}, {\"id\": 80, \"nam...</td>\n",
       "      <td>[{\"id\": 849, \"name\": \"dc comics\"}, {\"id\": 853,...</td>\n",
       "      <td>[{\"cast_id\": 2, \"character\": \"Bruce Wayne / Ba...</td>\n",
       "      <td>[{\"credit_id\": \"52fe4781c3a36847f81398c3\", \"de...</td>\n",
       "    </tr>\n",
       "    <tr>\n",
       "      <th>4</th>\n",
       "      <td>49529</td>\n",
       "      <td>John Carter</td>\n",
       "      <td>John Carter is a war-weary, former military ca...</td>\n",
       "      <td>Lost in our world, found in another.</td>\n",
       "      <td>[{\"id\": 28, \"name\": \"Action\"}, {\"id\": 12, \"nam...</td>\n",
       "      <td>[{\"id\": 818, \"name\": \"based on novel\"}, {\"id\":...</td>\n",
       "      <td>[{\"cast_id\": 5, \"character\": \"John Carter\", \"c...</td>\n",
       "      <td>[{\"credit_id\": \"52fe479ac3a36847f813eaa3\", \"de...</td>\n",
       "    </tr>\n",
       "  </tbody>\n",
       "</table>\n",
       "</div>"
      ],
      "text/plain": [
       "   movie_id                                     title  \\\n",
       "0     19995                                    Avatar   \n",
       "1       285  Pirates of the Caribbean: At World's End   \n",
       "2    206647                                   Spectre   \n",
       "3     49026                     The Dark Knight Rises   \n",
       "4     49529                               John Carter   \n",
       "\n",
       "                                            overview  \\\n",
       "0  In the 22nd century, a paraplegic Marine is di...   \n",
       "1  Captain Barbossa, long believed to be dead, ha...   \n",
       "2  A cryptic message from Bond’s past sends him o...   \n",
       "3  Following the death of District Attorney Harve...   \n",
       "4  John Carter is a war-weary, former military ca...   \n",
       "\n",
       "                                          tagline  \\\n",
       "0                     Enter the World of Pandora.   \n",
       "1  At the end of the world, the adventure begins.   \n",
       "2                           A Plan No One Escapes   \n",
       "3                                 The Legend Ends   \n",
       "4            Lost in our world, found in another.   \n",
       "\n",
       "                                              genres  \\\n",
       "0  [{\"id\": 28, \"name\": \"Action\"}, {\"id\": 12, \"nam...   \n",
       "1  [{\"id\": 12, \"name\": \"Adventure\"}, {\"id\": 14, \"...   \n",
       "2  [{\"id\": 28, \"name\": \"Action\"}, {\"id\": 12, \"nam...   \n",
       "3  [{\"id\": 28, \"name\": \"Action\"}, {\"id\": 80, \"nam...   \n",
       "4  [{\"id\": 28, \"name\": \"Action\"}, {\"id\": 12, \"nam...   \n",
       "\n",
       "                                            keywords  \\\n",
       "0  [{\"id\": 1463, \"name\": \"culture clash\"}, {\"id\":...   \n",
       "1  [{\"id\": 270, \"name\": \"ocean\"}, {\"id\": 726, \"na...   \n",
       "2  [{\"id\": 470, \"name\": \"spy\"}, {\"id\": 818, \"name...   \n",
       "3  [{\"id\": 849, \"name\": \"dc comics\"}, {\"id\": 853,...   \n",
       "4  [{\"id\": 818, \"name\": \"based on novel\"}, {\"id\":...   \n",
       "\n",
       "                                                cast  \\\n",
       "0  [{\"cast_id\": 242, \"character\": \"Jake Sully\", \"...   \n",
       "1  [{\"cast_id\": 4, \"character\": \"Captain Jack Spa...   \n",
       "2  [{\"cast_id\": 1, \"character\": \"James Bond\", \"cr...   \n",
       "3  [{\"cast_id\": 2, \"character\": \"Bruce Wayne / Ba...   \n",
       "4  [{\"cast_id\": 5, \"character\": \"John Carter\", \"c...   \n",
       "\n",
       "                                                crew  \n",
       "0  [{\"credit_id\": \"52fe48009251416c750aca23\", \"de...  \n",
       "1  [{\"credit_id\": \"52fe4232c3a36847f800b579\", \"de...  \n",
       "2  [{\"credit_id\": \"54805967c3a36829b5002c41\", \"de...  \n",
       "3  [{\"credit_id\": \"52fe4781c3a36847f81398c3\", \"de...  \n",
       "4  [{\"credit_id\": \"52fe479ac3a36847f813eaa3\", \"de...  "
      ]
     },
     "execution_count": 12,
     "metadata": {},
     "output_type": "execute_result"
    }
   ],
   "source": [
    "movies.head()"
   ]
  },
  {
   "cell_type": "code",
   "execution_count": 13,
   "id": "f5c2feaf",
   "metadata": {},
   "outputs": [
    {
     "data": {
      "text/plain": [
       "(4808, 8)"
      ]
     },
     "execution_count": 13,
     "metadata": {},
     "output_type": "execute_result"
    }
   ],
   "source": [
    "movies.shape"
   ]
  },
  {
   "cell_type": "code",
   "execution_count": 14,
   "id": "5db37eb9",
   "metadata": {},
   "outputs": [
    {
     "name": "stdout",
     "output_type": "stream",
     "text": [
      "<class 'pandas.core.frame.DataFrame'>\n",
      "RangeIndex: 4808 entries, 0 to 4807\n",
      "Data columns (total 8 columns):\n",
      " #   Column    Non-Null Count  Dtype \n",
      "---  ------    --------------  ----- \n",
      " 0   movie_id  4808 non-null   int64 \n",
      " 1   title     4808 non-null   object\n",
      " 2   overview  4805 non-null   object\n",
      " 3   tagline   3964 non-null   object\n",
      " 4   genres    4808 non-null   object\n",
      " 5   keywords  4808 non-null   object\n",
      " 6   cast      4808 non-null   object\n",
      " 7   crew      4808 non-null   object\n",
      "dtypes: int64(1), object(7)\n",
      "memory usage: 300.6+ KB\n"
     ]
    }
   ],
   "source": [
    "movies.info()"
   ]
  },
  {
   "cell_type": "code",
   "execution_count": 15,
   "id": "34b18ce0",
   "metadata": {},
   "outputs": [
    {
     "data": {
      "text/plain": [
       "movie_id      0\n",
       "title         0\n",
       "overview      3\n",
       "tagline     844\n",
       "genres        0\n",
       "keywords      0\n",
       "cast          0\n",
       "crew          0\n",
       "dtype: int64"
      ]
     },
     "execution_count": 15,
     "metadata": {},
     "output_type": "execute_result"
    }
   ],
   "source": [
    "movies.isnull().sum()"
   ]
  },
  {
   "cell_type": "code",
   "execution_count": 16,
   "id": "764214af",
   "metadata": {},
   "outputs": [
    {
     "name": "stderr",
     "output_type": "stream",
     "text": [
      "C:\\Users\\HP\\AppData\\Local\\Temp\\ipykernel_9604\\1318148200.py:2: SettingWithCopyWarning: \n",
      "A value is trying to be set on a copy of a slice from a DataFrame.\n",
      "Try using .loc[row_indexer,col_indexer] = value instead\n",
      "\n",
      "See the caveats in the documentation: https://pandas.pydata.org/pandas-docs/stable/user_guide/indexing.html#returning-a-view-versus-a-copy\n",
      "  movies[col]=movies[col].fillna(' ')\n"
     ]
    }
   ],
   "source": [
    "for col in movies.columns:\n",
    "    movies[col]=movies[col].fillna(' ')"
   ]
  },
  {
   "cell_type": "code",
   "execution_count": 17,
   "id": "302a778a",
   "metadata": {},
   "outputs": [
    {
     "name": "stdout",
     "output_type": "stream",
     "text": [
      "<class 'pandas.core.frame.DataFrame'>\n",
      "RangeIndex: 4808 entries, 0 to 4807\n",
      "Data columns (total 8 columns):\n",
      " #   Column    Non-Null Count  Dtype \n",
      "---  ------    --------------  ----- \n",
      " 0   movie_id  4808 non-null   int64 \n",
      " 1   title     4808 non-null   object\n",
      " 2   overview  4808 non-null   object\n",
      " 3   tagline   4808 non-null   object\n",
      " 4   genres    4808 non-null   object\n",
      " 5   keywords  4808 non-null   object\n",
      " 6   cast      4808 non-null   object\n",
      " 7   crew      4808 non-null   object\n",
      "dtypes: int64(1), object(7)\n",
      "memory usage: 300.6+ KB\n"
     ]
    }
   ],
   "source": [
    "movies.info()"
   ]
  },
  {
   "cell_type": "code",
   "execution_count": 18,
   "id": "bbbcf1c4",
   "metadata": {},
   "outputs": [
    {
     "data": {
      "text/plain": [
       "movie_id    0\n",
       "title       0\n",
       "overview    0\n",
       "tagline     0\n",
       "genres      0\n",
       "keywords    0\n",
       "cast        0\n",
       "crew        0\n",
       "dtype: int64"
      ]
     },
     "execution_count": 18,
     "metadata": {},
     "output_type": "execute_result"
    }
   ],
   "source": [
    "movies.isnull().sum()"
   ]
  },
  {
   "cell_type": "code",
   "execution_count": 19,
   "id": "92c004d4",
   "metadata": {},
   "outputs": [
    {
     "data": {
      "text/html": [
       "<div>\n",
       "<style scoped>\n",
       "    .dataframe tbody tr th:only-of-type {\n",
       "        vertical-align: middle;\n",
       "    }\n",
       "\n",
       "    .dataframe tbody tr th {\n",
       "        vertical-align: top;\n",
       "    }\n",
       "\n",
       "    .dataframe thead th {\n",
       "        text-align: right;\n",
       "    }\n",
       "</style>\n",
       "<table border=\"1\" class=\"dataframe\">\n",
       "  <thead>\n",
       "    <tr style=\"text-align: right;\">\n",
       "      <th></th>\n",
       "      <th>movie_id</th>\n",
       "      <th>title</th>\n",
       "      <th>overview</th>\n",
       "      <th>tagline</th>\n",
       "      <th>genres</th>\n",
       "      <th>keywords</th>\n",
       "      <th>cast</th>\n",
       "      <th>crew</th>\n",
       "    </tr>\n",
       "  </thead>\n",
       "  <tbody>\n",
       "    <tr>\n",
       "      <th>0</th>\n",
       "      <td>19995</td>\n",
       "      <td>Avatar</td>\n",
       "      <td>In the 22nd century, a paraplegic Marine is di...</td>\n",
       "      <td>Enter the World of Pandora.</td>\n",
       "      <td>[{\"id\": 28, \"name\": \"Action\"}, {\"id\": 12, \"nam...</td>\n",
       "      <td>[{\"id\": 1463, \"name\": \"culture clash\"}, {\"id\":...</td>\n",
       "      <td>[{\"cast_id\": 242, \"character\": \"Jake Sully\", \"...</td>\n",
       "      <td>[{\"credit_id\": \"52fe48009251416c750aca23\", \"de...</td>\n",
       "    </tr>\n",
       "    <tr>\n",
       "      <th>1</th>\n",
       "      <td>285</td>\n",
       "      <td>Pirates of the Caribbean: At World's End</td>\n",
       "      <td>Captain Barbossa, long believed to be dead, ha...</td>\n",
       "      <td>At the end of the world, the adventure begins.</td>\n",
       "      <td>[{\"id\": 12, \"name\": \"Adventure\"}, {\"id\": 14, \"...</td>\n",
       "      <td>[{\"id\": 270, \"name\": \"ocean\"}, {\"id\": 726, \"na...</td>\n",
       "      <td>[{\"cast_id\": 4, \"character\": \"Captain Jack Spa...</td>\n",
       "      <td>[{\"credit_id\": \"52fe4232c3a36847f800b579\", \"de...</td>\n",
       "    </tr>\n",
       "    <tr>\n",
       "      <th>2</th>\n",
       "      <td>206647</td>\n",
       "      <td>Spectre</td>\n",
       "      <td>A cryptic message from Bond’s past sends him o...</td>\n",
       "      <td>A Plan No One Escapes</td>\n",
       "      <td>[{\"id\": 28, \"name\": \"Action\"}, {\"id\": 12, \"nam...</td>\n",
       "      <td>[{\"id\": 470, \"name\": \"spy\"}, {\"id\": 818, \"name...</td>\n",
       "      <td>[{\"cast_id\": 1, \"character\": \"James Bond\", \"cr...</td>\n",
       "      <td>[{\"credit_id\": \"54805967c3a36829b5002c41\", \"de...</td>\n",
       "    </tr>\n",
       "    <tr>\n",
       "      <th>3</th>\n",
       "      <td>49026</td>\n",
       "      <td>The Dark Knight Rises</td>\n",
       "      <td>Following the death of District Attorney Harve...</td>\n",
       "      <td>The Legend Ends</td>\n",
       "      <td>[{\"id\": 28, \"name\": \"Action\"}, {\"id\": 80, \"nam...</td>\n",
       "      <td>[{\"id\": 849, \"name\": \"dc comics\"}, {\"id\": 853,...</td>\n",
       "      <td>[{\"cast_id\": 2, \"character\": \"Bruce Wayne / Ba...</td>\n",
       "      <td>[{\"credit_id\": \"52fe4781c3a36847f81398c3\", \"de...</td>\n",
       "    </tr>\n",
       "    <tr>\n",
       "      <th>4</th>\n",
       "      <td>49529</td>\n",
       "      <td>John Carter</td>\n",
       "      <td>John Carter is a war-weary, former military ca...</td>\n",
       "      <td>Lost in our world, found in another.</td>\n",
       "      <td>[{\"id\": 28, \"name\": \"Action\"}, {\"id\": 12, \"nam...</td>\n",
       "      <td>[{\"id\": 818, \"name\": \"based on novel\"}, {\"id\":...</td>\n",
       "      <td>[{\"cast_id\": 5, \"character\": \"John Carter\", \"c...</td>\n",
       "      <td>[{\"credit_id\": \"52fe479ac3a36847f813eaa3\", \"de...</td>\n",
       "    </tr>\n",
       "  </tbody>\n",
       "</table>\n",
       "</div>"
      ],
      "text/plain": [
       "   movie_id                                     title  \\\n",
       "0     19995                                    Avatar   \n",
       "1       285  Pirates of the Caribbean: At World's End   \n",
       "2    206647                                   Spectre   \n",
       "3     49026                     The Dark Knight Rises   \n",
       "4     49529                               John Carter   \n",
       "\n",
       "                                            overview  \\\n",
       "0  In the 22nd century, a paraplegic Marine is di...   \n",
       "1  Captain Barbossa, long believed to be dead, ha...   \n",
       "2  A cryptic message from Bond’s past sends him o...   \n",
       "3  Following the death of District Attorney Harve...   \n",
       "4  John Carter is a war-weary, former military ca...   \n",
       "\n",
       "                                          tagline  \\\n",
       "0                     Enter the World of Pandora.   \n",
       "1  At the end of the world, the adventure begins.   \n",
       "2                           A Plan No One Escapes   \n",
       "3                                 The Legend Ends   \n",
       "4            Lost in our world, found in another.   \n",
       "\n",
       "                                              genres  \\\n",
       "0  [{\"id\": 28, \"name\": \"Action\"}, {\"id\": 12, \"nam...   \n",
       "1  [{\"id\": 12, \"name\": \"Adventure\"}, {\"id\": 14, \"...   \n",
       "2  [{\"id\": 28, \"name\": \"Action\"}, {\"id\": 12, \"nam...   \n",
       "3  [{\"id\": 28, \"name\": \"Action\"}, {\"id\": 80, \"nam...   \n",
       "4  [{\"id\": 28, \"name\": \"Action\"}, {\"id\": 12, \"nam...   \n",
       "\n",
       "                                            keywords  \\\n",
       "0  [{\"id\": 1463, \"name\": \"culture clash\"}, {\"id\":...   \n",
       "1  [{\"id\": 270, \"name\": \"ocean\"}, {\"id\": 726, \"na...   \n",
       "2  [{\"id\": 470, \"name\": \"spy\"}, {\"id\": 818, \"name...   \n",
       "3  [{\"id\": 849, \"name\": \"dc comics\"}, {\"id\": 853,...   \n",
       "4  [{\"id\": 818, \"name\": \"based on novel\"}, {\"id\":...   \n",
       "\n",
       "                                                cast  \\\n",
       "0  [{\"cast_id\": 242, \"character\": \"Jake Sully\", \"...   \n",
       "1  [{\"cast_id\": 4, \"character\": \"Captain Jack Spa...   \n",
       "2  [{\"cast_id\": 1, \"character\": \"James Bond\", \"cr...   \n",
       "3  [{\"cast_id\": 2, \"character\": \"Bruce Wayne / Ba...   \n",
       "4  [{\"cast_id\": 5, \"character\": \"John Carter\", \"c...   \n",
       "\n",
       "                                                crew  \n",
       "0  [{\"credit_id\": \"52fe48009251416c750aca23\", \"de...  \n",
       "1  [{\"credit_id\": \"52fe4232c3a36847f800b579\", \"de...  \n",
       "2  [{\"credit_id\": \"54805967c3a36829b5002c41\", \"de...  \n",
       "3  [{\"credit_id\": \"52fe4781c3a36847f81398c3\", \"de...  \n",
       "4  [{\"credit_id\": \"52fe479ac3a36847f813eaa3\", \"de...  "
      ]
     },
     "execution_count": 19,
     "metadata": {},
     "output_type": "execute_result"
    }
   ],
   "source": [
    "movies.head()"
   ]
  },
  {
   "cell_type": "code",
   "execution_count": 20,
   "id": "1dfdfd91",
   "metadata": {},
   "outputs": [
    {
     "data": {
      "text/plain": [
       "0"
      ]
     },
     "execution_count": 20,
     "metadata": {},
     "output_type": "execute_result"
    }
   ],
   "source": [
    "movies.duplicated().sum()"
   ]
  },
  {
   "cell_type": "code",
   "execution_count": 21,
   "id": "bbbe9796",
   "metadata": {},
   "outputs": [
    {
     "data": {
      "text/plain": [
       "'[{\"id\": 28, \"name\": \"Action\"}, {\"id\": 12, \"name\": \"Adventure\"}, {\"id\": 14, \"name\": \"Fantasy\"}, {\"id\": 878, \"name\": \"Science Fiction\"}]'"
      ]
     },
     "execution_count": 21,
     "metadata": {},
     "output_type": "execute_result"
    }
   ],
   "source": [
    "movies.iloc[0].genres"
   ]
  },
  {
   "cell_type": "code",
   "execution_count": 22,
   "id": "7e4ca10a",
   "metadata": {},
   "outputs": [
    {
     "data": {
      "text/plain": [
       "'[{\"id\": 1463, \"name\": \"culture clash\"}, {\"id\": 2964, \"name\": \"future\"}, {\"id\": 3386, \"name\": \"space war\"}, {\"id\": 3388, \"name\": \"space colony\"}, {\"id\": 3679, \"name\": \"society\"}, {\"id\": 3801, \"name\": \"space travel\"}, {\"id\": 9685, \"name\": \"futuristic\"}, {\"id\": 9840, \"name\": \"romance\"}, {\"id\": 9882, \"name\": \"space\"}, {\"id\": 9951, \"name\": \"alien\"}, {\"id\": 10148, \"name\": \"tribe\"}, {\"id\": 10158, \"name\": \"alien planet\"}, {\"id\": 10987, \"name\": \"cgi\"}, {\"id\": 11399, \"name\": \"marine\"}, {\"id\": 13065, \"name\": \"soldier\"}, {\"id\": 14643, \"name\": \"battle\"}, {\"id\": 14720, \"name\": \"love affair\"}, {\"id\": 165431, \"name\": \"anti war\"}, {\"id\": 193554, \"name\": \"power relations\"}, {\"id\": 206690, \"name\": \"mind and soul\"}, {\"id\": 209714, \"name\": \"3d\"}]'"
      ]
     },
     "execution_count": 22,
     "metadata": {},
     "output_type": "execute_result"
    }
   ],
   "source": [
    "movies.iloc[0].keywords"
   ]
  },
  {
   "cell_type": "code",
   "execution_count": 23,
   "id": "40777014",
   "metadata": {},
   "outputs": [],
   "source": [
    "import ast"
   ]
  },
  {
   "cell_type": "code",
   "execution_count": 24,
   "id": "2f7ff7dc",
   "metadata": {},
   "outputs": [],
   "source": [
    "def convert(obj):\n",
    "    l=[]\n",
    "    for i in ast.literal_eval(obj):\n",
    "        l.append(i['name'])\n",
    "    return l"
   ]
  },
  {
   "cell_type": "code",
   "execution_count": 25,
   "id": "9207f4b8",
   "metadata": {},
   "outputs": [
    {
     "name": "stderr",
     "output_type": "stream",
     "text": [
      "C:\\Users\\HP\\AppData\\Local\\Temp\\ipykernel_9604\\4201180745.py:1: SettingWithCopyWarning: \n",
      "A value is trying to be set on a copy of a slice from a DataFrame.\n",
      "Try using .loc[row_indexer,col_indexer] = value instead\n",
      "\n",
      "See the caveats in the documentation: https://pandas.pydata.org/pandas-docs/stable/user_guide/indexing.html#returning-a-view-versus-a-copy\n",
      "  movies['genres']=movies['genres'].apply(convert)\n",
      "C:\\Users\\HP\\AppData\\Local\\Temp\\ipykernel_9604\\4201180745.py:2: SettingWithCopyWarning: \n",
      "A value is trying to be set on a copy of a slice from a DataFrame.\n",
      "Try using .loc[row_indexer,col_indexer] = value instead\n",
      "\n",
      "See the caveats in the documentation: https://pandas.pydata.org/pandas-docs/stable/user_guide/indexing.html#returning-a-view-versus-a-copy\n",
      "  movies['keywords']=movies['keywords'].apply(convert)\n"
     ]
    }
   ],
   "source": [
    "movies['genres']=movies['genres'].apply(convert)\n",
    "movies['keywords']=movies['keywords'].apply(convert)"
   ]
  },
  {
   "cell_type": "code",
   "execution_count": 26,
   "id": "b4423a81",
   "metadata": {},
   "outputs": [
    {
     "data": {
      "text/html": [
       "<div>\n",
       "<style scoped>\n",
       "    .dataframe tbody tr th:only-of-type {\n",
       "        vertical-align: middle;\n",
       "    }\n",
       "\n",
       "    .dataframe tbody tr th {\n",
       "        vertical-align: top;\n",
       "    }\n",
       "\n",
       "    .dataframe thead th {\n",
       "        text-align: right;\n",
       "    }\n",
       "</style>\n",
       "<table border=\"1\" class=\"dataframe\">\n",
       "  <thead>\n",
       "    <tr style=\"text-align: right;\">\n",
       "      <th></th>\n",
       "      <th>movie_id</th>\n",
       "      <th>title</th>\n",
       "      <th>overview</th>\n",
       "      <th>tagline</th>\n",
       "      <th>genres</th>\n",
       "      <th>keywords</th>\n",
       "      <th>cast</th>\n",
       "      <th>crew</th>\n",
       "    </tr>\n",
       "  </thead>\n",
       "  <tbody>\n",
       "    <tr>\n",
       "      <th>0</th>\n",
       "      <td>19995</td>\n",
       "      <td>Avatar</td>\n",
       "      <td>In the 22nd century, a paraplegic Marine is di...</td>\n",
       "      <td>Enter the World of Pandora.</td>\n",
       "      <td>[Action, Adventure, Fantasy, Science Fiction]</td>\n",
       "      <td>[culture clash, future, space war, space colon...</td>\n",
       "      <td>[{\"cast_id\": 242, \"character\": \"Jake Sully\", \"...</td>\n",
       "      <td>[{\"credit_id\": \"52fe48009251416c750aca23\", \"de...</td>\n",
       "    </tr>\n",
       "    <tr>\n",
       "      <th>1</th>\n",
       "      <td>285</td>\n",
       "      <td>Pirates of the Caribbean: At World's End</td>\n",
       "      <td>Captain Barbossa, long believed to be dead, ha...</td>\n",
       "      <td>At the end of the world, the adventure begins.</td>\n",
       "      <td>[Adventure, Fantasy, Action]</td>\n",
       "      <td>[ocean, drug abuse, exotic island, east india ...</td>\n",
       "      <td>[{\"cast_id\": 4, \"character\": \"Captain Jack Spa...</td>\n",
       "      <td>[{\"credit_id\": \"52fe4232c3a36847f800b579\", \"de...</td>\n",
       "    </tr>\n",
       "    <tr>\n",
       "      <th>2</th>\n",
       "      <td>206647</td>\n",
       "      <td>Spectre</td>\n",
       "      <td>A cryptic message from Bond’s past sends him o...</td>\n",
       "      <td>A Plan No One Escapes</td>\n",
       "      <td>[Action, Adventure, Crime]</td>\n",
       "      <td>[spy, based on novel, secret agent, sequel, mi...</td>\n",
       "      <td>[{\"cast_id\": 1, \"character\": \"James Bond\", \"cr...</td>\n",
       "      <td>[{\"credit_id\": \"54805967c3a36829b5002c41\", \"de...</td>\n",
       "    </tr>\n",
       "    <tr>\n",
       "      <th>3</th>\n",
       "      <td>49026</td>\n",
       "      <td>The Dark Knight Rises</td>\n",
       "      <td>Following the death of District Attorney Harve...</td>\n",
       "      <td>The Legend Ends</td>\n",
       "      <td>[Action, Crime, Drama, Thriller]</td>\n",
       "      <td>[dc comics, crime fighter, terrorist, secret i...</td>\n",
       "      <td>[{\"cast_id\": 2, \"character\": \"Bruce Wayne / Ba...</td>\n",
       "      <td>[{\"credit_id\": \"52fe4781c3a36847f81398c3\", \"de...</td>\n",
       "    </tr>\n",
       "    <tr>\n",
       "      <th>4</th>\n",
       "      <td>49529</td>\n",
       "      <td>John Carter</td>\n",
       "      <td>John Carter is a war-weary, former military ca...</td>\n",
       "      <td>Lost in our world, found in another.</td>\n",
       "      <td>[Action, Adventure, Science Fiction]</td>\n",
       "      <td>[based on novel, mars, medallion, space travel...</td>\n",
       "      <td>[{\"cast_id\": 5, \"character\": \"John Carter\", \"c...</td>\n",
       "      <td>[{\"credit_id\": \"52fe479ac3a36847f813eaa3\", \"de...</td>\n",
       "    </tr>\n",
       "  </tbody>\n",
       "</table>\n",
       "</div>"
      ],
      "text/plain": [
       "   movie_id                                     title  \\\n",
       "0     19995                                    Avatar   \n",
       "1       285  Pirates of the Caribbean: At World's End   \n",
       "2    206647                                   Spectre   \n",
       "3     49026                     The Dark Knight Rises   \n",
       "4     49529                               John Carter   \n",
       "\n",
       "                                            overview  \\\n",
       "0  In the 22nd century, a paraplegic Marine is di...   \n",
       "1  Captain Barbossa, long believed to be dead, ha...   \n",
       "2  A cryptic message from Bond’s past sends him o...   \n",
       "3  Following the death of District Attorney Harve...   \n",
       "4  John Carter is a war-weary, former military ca...   \n",
       "\n",
       "                                          tagline  \\\n",
       "0                     Enter the World of Pandora.   \n",
       "1  At the end of the world, the adventure begins.   \n",
       "2                           A Plan No One Escapes   \n",
       "3                                 The Legend Ends   \n",
       "4            Lost in our world, found in another.   \n",
       "\n",
       "                                          genres  \\\n",
       "0  [Action, Adventure, Fantasy, Science Fiction]   \n",
       "1                   [Adventure, Fantasy, Action]   \n",
       "2                     [Action, Adventure, Crime]   \n",
       "3               [Action, Crime, Drama, Thriller]   \n",
       "4           [Action, Adventure, Science Fiction]   \n",
       "\n",
       "                                            keywords  \\\n",
       "0  [culture clash, future, space war, space colon...   \n",
       "1  [ocean, drug abuse, exotic island, east india ...   \n",
       "2  [spy, based on novel, secret agent, sequel, mi...   \n",
       "3  [dc comics, crime fighter, terrorist, secret i...   \n",
       "4  [based on novel, mars, medallion, space travel...   \n",
       "\n",
       "                                                cast  \\\n",
       "0  [{\"cast_id\": 242, \"character\": \"Jake Sully\", \"...   \n",
       "1  [{\"cast_id\": 4, \"character\": \"Captain Jack Spa...   \n",
       "2  [{\"cast_id\": 1, \"character\": \"James Bond\", \"cr...   \n",
       "3  [{\"cast_id\": 2, \"character\": \"Bruce Wayne / Ba...   \n",
       "4  [{\"cast_id\": 5, \"character\": \"John Carter\", \"c...   \n",
       "\n",
       "                                                crew  \n",
       "0  [{\"credit_id\": \"52fe48009251416c750aca23\", \"de...  \n",
       "1  [{\"credit_id\": \"52fe4232c3a36847f800b579\", \"de...  \n",
       "2  [{\"credit_id\": \"54805967c3a36829b5002c41\", \"de...  \n",
       "3  [{\"credit_id\": \"52fe4781c3a36847f81398c3\", \"de...  \n",
       "4  [{\"credit_id\": \"52fe479ac3a36847f813eaa3\", \"de...  "
      ]
     },
     "execution_count": 26,
     "metadata": {},
     "output_type": "execute_result"
    }
   ],
   "source": [
    "movies.head()"
   ]
  },
  {
   "cell_type": "code",
   "execution_count": 27,
   "id": "b2e2bb8d",
   "metadata": {},
   "outputs": [
    {
     "data": {
      "text/plain": [
       "['culture clash',\n",
       " 'future',\n",
       " 'space war',\n",
       " 'space colony',\n",
       " 'society',\n",
       " 'space travel',\n",
       " 'futuristic',\n",
       " 'romance',\n",
       " 'space',\n",
       " 'alien',\n",
       " 'tribe',\n",
       " 'alien planet',\n",
       " 'cgi',\n",
       " 'marine',\n",
       " 'soldier',\n",
       " 'battle',\n",
       " 'love affair',\n",
       " 'anti war',\n",
       " 'power relations',\n",
       " 'mind and soul',\n",
       " '3d']"
      ]
     },
     "execution_count": 27,
     "metadata": {},
     "output_type": "execute_result"
    }
   ],
   "source": [
    "movies.iloc[0].keywords"
   ]
  },
  {
   "cell_type": "code",
   "execution_count": 28,
   "id": "adcdf161",
   "metadata": {},
   "outputs": [
    {
     "data": {
      "text/plain": [
       "['Action', 'Adventure', 'Fantasy', 'Science Fiction']"
      ]
     },
     "execution_count": 28,
     "metadata": {},
     "output_type": "execute_result"
    }
   ],
   "source": [
    "movies.iloc[0].genres"
   ]
  },
  {
   "cell_type": "code",
   "execution_count": 29,
   "id": "9c7f3d81",
   "metadata": {},
   "outputs": [
    {
     "data": {
      "text/plain": [
       "'[{\"cast_id\": 242, \"character\": \"Jake Sully\", \"credit_id\": \"5602a8a7c3a3685532001c9a\", \"gender\": 2, \"id\": 65731, \"name\": \"Sam Worthington\", \"order\": 0}, {\"cast_id\": 3, \"character\": \"Neytiri\", \"credit_id\": \"52fe48009251416c750ac9cb\", \"gender\": 1, \"id\": 8691, \"name\": \"Zoe Saldana\", \"order\": 1}, {\"cast_id\": 25, \"character\": \"Dr. Grace Augustine\", \"credit_id\": \"52fe48009251416c750aca39\", \"gender\": 1, \"id\": 10205, \"name\": \"Sigourney Weaver\", \"order\": 2}, {\"cast_id\": 4, \"character\": \"Col. Quaritch\", \"credit_id\": \"52fe48009251416c750ac9cf\", \"gender\": 2, \"id\": 32747, \"name\": \"Stephen Lang\", \"order\": 3}, {\"cast_id\": 5, \"character\": \"Trudy Chacon\", \"credit_id\": \"52fe48009251416c750ac9d3\", \"gender\": 1, \"id\": 17647, \"name\": \"Michelle Rodriguez\", \"order\": 4}, {\"cast_id\": 8, \"character\": \"Selfridge\", \"credit_id\": \"52fe48009251416c750ac9e1\", \"gender\": 2, \"id\": 1771, \"name\": \"Giovanni Ribisi\", \"order\": 5}, {\"cast_id\": 7, \"character\": \"Norm Spellman\", \"credit_id\": \"52fe48009251416c750ac9dd\", \"gender\": 2, \"id\": 59231, \"name\": \"Joel David Moore\", \"order\": 6}, {\"cast_id\": 9, \"character\": \"Moat\", \"credit_id\": \"52fe48009251416c750ac9e5\", \"gender\": 1, \"id\": 30485, \"name\": \"CCH Pounder\", \"order\": 7}, {\"cast_id\": 11, \"character\": \"Eytukan\", \"credit_id\": \"52fe48009251416c750ac9ed\", \"gender\": 2, \"id\": 15853, \"name\": \"Wes Studi\", \"order\": 8}, {\"cast_id\": 10, \"character\": \"Tsu\\'Tey\", \"credit_id\": \"52fe48009251416c750ac9e9\", \"gender\": 2, \"id\": 10964, \"name\": \"Laz Alonso\", \"order\": 9}, {\"cast_id\": 12, \"character\": \"Dr. Max Patel\", \"credit_id\": \"52fe48009251416c750ac9f1\", \"gender\": 2, \"id\": 95697, \"name\": \"Dileep Rao\", \"order\": 10}, {\"cast_id\": 13, \"character\": \"Lyle Wainfleet\", \"credit_id\": \"52fe48009251416c750ac9f5\", \"gender\": 2, \"id\": 98215, \"name\": \"Matt Gerald\", \"order\": 11}, {\"cast_id\": 32, \"character\": \"Private Fike\", \"credit_id\": \"52fe48009251416c750aca5b\", \"gender\": 2, \"id\": 154153, \"name\": \"Sean Anthony Moran\", \"order\": 12}, {\"cast_id\": 33, \"character\": \"Cryo Vault Med Tech\", \"credit_id\": \"52fe48009251416c750aca5f\", \"gender\": 2, \"id\": 397312, \"name\": \"Jason Whyte\", \"order\": 13}, {\"cast_id\": 34, \"character\": \"Venture Star Crew Chief\", \"credit_id\": \"52fe48009251416c750aca63\", \"gender\": 2, \"id\": 42317, \"name\": \"Scott Lawrence\", \"order\": 14}, {\"cast_id\": 35, \"character\": \"Lock Up Trooper\", \"credit_id\": \"52fe48009251416c750aca67\", \"gender\": 2, \"id\": 986734, \"name\": \"Kelly Kilgour\", \"order\": 15}, {\"cast_id\": 36, \"character\": \"Shuttle Pilot\", \"credit_id\": \"52fe48009251416c750aca6b\", \"gender\": 0, \"id\": 1207227, \"name\": \"James Patrick Pitt\", \"order\": 16}, {\"cast_id\": 37, \"character\": \"Shuttle Co-Pilot\", \"credit_id\": \"52fe48009251416c750aca6f\", \"gender\": 0, \"id\": 1180936, \"name\": \"Sean Patrick Murphy\", \"order\": 17}, {\"cast_id\": 38, \"character\": \"Shuttle Crew Chief\", \"credit_id\": \"52fe48009251416c750aca73\", \"gender\": 2, \"id\": 1019578, \"name\": \"Peter Dillon\", \"order\": 18}, {\"cast_id\": 39, \"character\": \"Tractor Operator / Troupe\", \"credit_id\": \"52fe48009251416c750aca77\", \"gender\": 0, \"id\": 91443, \"name\": \"Kevin Dorman\", \"order\": 19}, {\"cast_id\": 40, \"character\": \"Dragon Gunship Pilot\", \"credit_id\": \"52fe48009251416c750aca7b\", \"gender\": 2, \"id\": 173391, \"name\": \"Kelson Henderson\", \"order\": 20}, {\"cast_id\": 41, \"character\": \"Dragon Gunship Gunner\", \"credit_id\": \"52fe48009251416c750aca7f\", \"gender\": 0, \"id\": 1207236, \"name\": \"David Van Horn\", \"order\": 21}, {\"cast_id\": 42, \"character\": \"Dragon Gunship Navigator\", \"credit_id\": \"52fe48009251416c750aca83\", \"gender\": 0, \"id\": 215913, \"name\": \"Jacob Tomuri\", \"order\": 22}, {\"cast_id\": 43, \"character\": \"Suit #1\", \"credit_id\": \"52fe48009251416c750aca87\", \"gender\": 0, \"id\": 143206, \"name\": \"Michael Blain-Rozgay\", \"order\": 23}, {\"cast_id\": 44, \"character\": \"Suit #2\", \"credit_id\": \"52fe48009251416c750aca8b\", \"gender\": 2, \"id\": 169676, \"name\": \"Jon Curry\", \"order\": 24}, {\"cast_id\": 46, \"character\": \"Ambient Room Tech\", \"credit_id\": \"52fe48009251416c750aca8f\", \"gender\": 0, \"id\": 1048610, \"name\": \"Luke Hawker\", \"order\": 25}, {\"cast_id\": 47, \"character\": \"Ambient Room Tech / Troupe\", \"credit_id\": \"52fe48009251416c750aca93\", \"gender\": 0, \"id\": 42288, \"name\": \"Woody Schultz\", \"order\": 26}, {\"cast_id\": 48, \"character\": \"Horse Clan Leader\", \"credit_id\": \"52fe48009251416c750aca97\", \"gender\": 2, \"id\": 68278, \"name\": \"Peter Mensah\", \"order\": 27}, {\"cast_id\": 49, \"character\": \"Link Room Tech\", \"credit_id\": \"52fe48009251416c750aca9b\", \"gender\": 0, \"id\": 1207247, \"name\": \"Sonia Yee\", \"order\": 28}, {\"cast_id\": 50, \"character\": \"Basketball Avatar / Troupe\", \"credit_id\": \"52fe48009251416c750aca9f\", \"gender\": 1, \"id\": 1207248, \"name\": \"Jahnel Curfman\", \"order\": 29}, {\"cast_id\": 51, \"character\": \"Basketball Avatar\", \"credit_id\": \"52fe48009251416c750acaa3\", \"gender\": 0, \"id\": 89714, \"name\": \"Ilram Choi\", \"order\": 30}, {\"cast_id\": 52, \"character\": \"Na\\'vi Child\", \"credit_id\": \"52fe48009251416c750acaa7\", \"gender\": 0, \"id\": 1207249, \"name\": \"Kyla Warren\", \"order\": 31}, {\"cast_id\": 53, \"character\": \"Troupe\", \"credit_id\": \"52fe48009251416c750acaab\", \"gender\": 0, \"id\": 1207250, \"name\": \"Lisa Roumain\", \"order\": 32}, {\"cast_id\": 54, \"character\": \"Troupe\", \"credit_id\": \"52fe48009251416c750acaaf\", \"gender\": 1, \"id\": 83105, \"name\": \"Debra Wilson\", \"order\": 33}, {\"cast_id\": 57, \"character\": \"Troupe\", \"credit_id\": \"52fe48009251416c750acabb\", \"gender\": 0, \"id\": 1207253, \"name\": \"Chris Mala\", \"order\": 34}, {\"cast_id\": 55, \"character\": \"Troupe\", \"credit_id\": \"52fe48009251416c750acab3\", \"gender\": 0, \"id\": 1207251, \"name\": \"Taylor Kibby\", \"order\": 35}, {\"cast_id\": 56, \"character\": \"Troupe\", \"credit_id\": \"52fe48009251416c750acab7\", \"gender\": 0, \"id\": 1207252, \"name\": \"Jodie Landau\", \"order\": 36}, {\"cast_id\": 58, \"character\": \"Troupe\", \"credit_id\": \"52fe48009251416c750acabf\", \"gender\": 0, \"id\": 1207254, \"name\": \"Julie Lamm\", \"order\": 37}, {\"cast_id\": 59, \"character\": \"Troupe\", \"credit_id\": \"52fe48009251416c750acac3\", \"gender\": 0, \"id\": 1207257, \"name\": \"Cullen B. Madden\", \"order\": 38}, {\"cast_id\": 60, \"character\": \"Troupe\", \"credit_id\": \"52fe48009251416c750acac7\", \"gender\": 0, \"id\": 1207259, \"name\": \"Joseph Brady Madden\", \"order\": 39}, {\"cast_id\": 61, \"character\": \"Troupe\", \"credit_id\": \"52fe48009251416c750acacb\", \"gender\": 0, \"id\": 1207262, \"name\": \"Frankie Torres\", \"order\": 40}, {\"cast_id\": 62, \"character\": \"Troupe\", \"credit_id\": \"52fe48009251416c750acacf\", \"gender\": 1, \"id\": 1158600, \"name\": \"Austin Wilson\", \"order\": 41}, {\"cast_id\": 63, \"character\": \"Troupe\", \"credit_id\": \"52fe48019251416c750acad3\", \"gender\": 1, \"id\": 983705, \"name\": \"Sara Wilson\", \"order\": 42}, {\"cast_id\": 64, \"character\": \"Troupe\", \"credit_id\": \"52fe48019251416c750acad7\", \"gender\": 0, \"id\": 1207263, \"name\": \"Tamica Washington-Miller\", \"order\": 43}, {\"cast_id\": 65, \"character\": \"Op Center Staff\", \"credit_id\": \"52fe48019251416c750acadb\", \"gender\": 1, \"id\": 1145098, \"name\": \"Lucy Briant\", \"order\": 44}, {\"cast_id\": 66, \"character\": \"Op Center Staff\", \"credit_id\": \"52fe48019251416c750acadf\", \"gender\": 2, \"id\": 33305, \"name\": \"Nathan Meister\", \"order\": 45}, {\"cast_id\": 67, \"character\": \"Op Center Staff\", \"credit_id\": \"52fe48019251416c750acae3\", \"gender\": 0, \"id\": 1207264, \"name\": \"Gerry Blair\", \"order\": 46}, {\"cast_id\": 68, \"character\": \"Op Center Staff\", \"credit_id\": \"52fe48019251416c750acae7\", \"gender\": 2, \"id\": 33311, \"name\": \"Matthew Chamberlain\", \"order\": 47}, {\"cast_id\": 69, \"character\": \"Op Center Staff\", \"credit_id\": \"52fe48019251416c750acaeb\", \"gender\": 0, \"id\": 1207265, \"name\": \"Paul Yates\", \"order\": 48}, {\"cast_id\": 70, \"character\": \"Op Center Duty Officer\", \"credit_id\": \"52fe48019251416c750acaef\", \"gender\": 0, \"id\": 1207266, \"name\": \"Wray Wilson\", \"order\": 49}, {\"cast_id\": 71, \"character\": \"Op Center Staff\", \"credit_id\": \"52fe48019251416c750acaf3\", \"gender\": 2, \"id\": 54492, \"name\": \"James Gaylyn\", \"order\": 50}, {\"cast_id\": 72, \"character\": \"Dancer\", \"credit_id\": \"52fe48019251416c750acaf7\", \"gender\": 0, \"id\": 1207267, \"name\": \"Melvin Leno Clark III\", \"order\": 51}, {\"cast_id\": 73, \"character\": \"Dancer\", \"credit_id\": \"52fe48019251416c750acafb\", \"gender\": 0, \"id\": 1207268, \"name\": \"Carvon Futrell\", \"order\": 52}, {\"cast_id\": 74, \"character\": \"Dancer\", \"credit_id\": \"52fe48019251416c750acaff\", \"gender\": 0, \"id\": 1207269, \"name\": \"Brandon Jelkes\", \"order\": 53}, {\"cast_id\": 75, \"character\": \"Dancer\", \"credit_id\": \"52fe48019251416c750acb03\", \"gender\": 0, \"id\": 1207270, \"name\": \"Micah Moch\", \"order\": 54}, {\"cast_id\": 76, \"character\": \"Dancer\", \"credit_id\": \"52fe48019251416c750acb07\", \"gender\": 0, \"id\": 1207271, \"name\": \"Hanniyah Muhammad\", \"order\": 55}, {\"cast_id\": 77, \"character\": \"Dancer\", \"credit_id\": \"52fe48019251416c750acb0b\", \"gender\": 0, \"id\": 1207272, \"name\": \"Christopher Nolen\", \"order\": 56}, {\"cast_id\": 78, \"character\": \"Dancer\", \"credit_id\": \"52fe48019251416c750acb0f\", \"gender\": 0, \"id\": 1207273, \"name\": \"Christa Oliver\", \"order\": 57}, {\"cast_id\": 79, \"character\": \"Dancer\", \"credit_id\": \"52fe48019251416c750acb13\", \"gender\": 0, \"id\": 1207274, \"name\": \"April Marie Thomas\", \"order\": 58}, {\"cast_id\": 80, \"character\": \"Dancer\", \"credit_id\": \"52fe48019251416c750acb17\", \"gender\": 0, \"id\": 1207275, \"name\": \"Bravita A. Threatt\", \"order\": 59}, {\"cast_id\": 81, \"character\": \"Mining Chief (uncredited)\", \"credit_id\": \"52fe48019251416c750acb1b\", \"gender\": 0, \"id\": 1207276, \"name\": \"Colin Bleasdale\", \"order\": 60}, {\"cast_id\": 82, \"character\": \"Veteran Miner (uncredited)\", \"credit_id\": \"52fe48019251416c750acb1f\", \"gender\": 0, \"id\": 107969, \"name\": \"Mike Bodnar\", \"order\": 61}, {\"cast_id\": 83, \"character\": \"Richard (uncredited)\", \"credit_id\": \"52fe48019251416c750acb23\", \"gender\": 0, \"id\": 1207278, \"name\": \"Matt Clayton\", \"order\": 62}, {\"cast_id\": 84, \"character\": \"Nav\\'i (uncredited)\", \"credit_id\": \"52fe48019251416c750acb27\", \"gender\": 1, \"id\": 147898, \"name\": \"Nicole Dionne\", \"order\": 63}, {\"cast_id\": 85, \"character\": \"Trooper (uncredited)\", \"credit_id\": \"52fe48019251416c750acb2b\", \"gender\": 0, \"id\": 1207280, \"name\": \"Jamie Harrison\", \"order\": 64}, {\"cast_id\": 86, \"character\": \"Trooper (uncredited)\", \"credit_id\": \"52fe48019251416c750acb2f\", \"gender\": 0, \"id\": 1207281, \"name\": \"Allan Henry\", \"order\": 65}, {\"cast_id\": 87, \"character\": \"Ground Technician (uncredited)\", \"credit_id\": \"52fe48019251416c750acb33\", \"gender\": 2, \"id\": 1207282, \"name\": \"Anthony Ingruber\", \"order\": 66}, {\"cast_id\": 88, \"character\": \"Flight Crew Mechanic (uncredited)\", \"credit_id\": \"52fe48019251416c750acb37\", \"gender\": 0, \"id\": 1207283, \"name\": \"Ashley Jeffery\", \"order\": 67}, {\"cast_id\": 14, \"character\": \"Samson Pilot\", \"credit_id\": \"52fe48009251416c750ac9f9\", \"gender\": 0, \"id\": 98216, \"name\": \"Dean Knowsley\", \"order\": 68}, {\"cast_id\": 89, \"character\": \"Trooper (uncredited)\", \"credit_id\": \"52fe48019251416c750acb3b\", \"gender\": 0, \"id\": 1201399, \"name\": \"Joseph Mika-Hunt\", \"order\": 69}, {\"cast_id\": 90, \"character\": \"Banshee (uncredited)\", \"credit_id\": \"52fe48019251416c750acb3f\", \"gender\": 0, \"id\": 236696, \"name\": \"Terry Notary\", \"order\": 70}, {\"cast_id\": 91, \"character\": \"Soldier (uncredited)\", \"credit_id\": \"52fe48019251416c750acb43\", \"gender\": 0, \"id\": 1207287, \"name\": \"Kai Pantano\", \"order\": 71}, {\"cast_id\": 92, \"character\": \"Blast Technician (uncredited)\", \"credit_id\": \"52fe48019251416c750acb47\", \"gender\": 0, \"id\": 1207288, \"name\": \"Logan Pithyou\", \"order\": 72}, {\"cast_id\": 93, \"character\": \"Vindum Raah (uncredited)\", \"credit_id\": \"52fe48019251416c750acb4b\", \"gender\": 0, \"id\": 1207289, \"name\": \"Stuart Pollock\", \"order\": 73}, {\"cast_id\": 94, \"character\": \"Hero (uncredited)\", \"credit_id\": \"52fe48019251416c750acb4f\", \"gender\": 0, \"id\": 584868, \"name\": \"Raja\", \"order\": 74}, {\"cast_id\": 95, \"character\": \"Ops Centreworker (uncredited)\", \"credit_id\": \"52fe48019251416c750acb53\", \"gender\": 0, \"id\": 1207290, \"name\": \"Gareth Ruck\", \"order\": 75}, {\"cast_id\": 96, \"character\": \"Engineer (uncredited)\", \"credit_id\": \"52fe48019251416c750acb57\", \"gender\": 0, \"id\": 1062463, \"name\": \"Rhian Sheehan\", \"order\": 76}, {\"cast_id\": 97, \"character\": \"Col. Quaritch\\'s Mech Suit (uncredited)\", \"credit_id\": \"52fe48019251416c750acb5b\", \"gender\": 0, \"id\": 60656, \"name\": \"T. J. Storm\", \"order\": 77}, {\"cast_id\": 98, \"character\": \"Female Marine (uncredited)\", \"credit_id\": \"52fe48019251416c750acb5f\", \"gender\": 0, \"id\": 1207291, \"name\": \"Jodie Taylor\", \"order\": 78}, {\"cast_id\": 99, \"character\": \"Ikran Clan Leader (uncredited)\", \"credit_id\": \"52fe48019251416c750acb63\", \"gender\": 1, \"id\": 1186027, \"name\": \"Alicia Vela-Bailey\", \"order\": 79}, {\"cast_id\": 100, \"character\": \"Geologist (uncredited)\", \"credit_id\": \"52fe48019251416c750acb67\", \"gender\": 0, \"id\": 1207292, \"name\": \"Richard Whiteside\", \"order\": 80}, {\"cast_id\": 101, \"character\": \"Na\\'vi (uncredited)\", \"credit_id\": \"52fe48019251416c750acb6b\", \"gender\": 0, \"id\": 103259, \"name\": \"Nikie Zambo\", \"order\": 81}, {\"cast_id\": 102, \"character\": \"Ambient Room Tech / Troupe\", \"credit_id\": \"52fe48019251416c750acb6f\", \"gender\": 1, \"id\": 42286, \"name\": \"Julene Renee\", \"order\": 82}]'"
      ]
     },
     "execution_count": 29,
     "metadata": {},
     "output_type": "execute_result"
    }
   ],
   "source": [
    "movies.iloc[0].cast"
   ]
  },
  {
   "cell_type": "code",
   "execution_count": 30,
   "id": "94fbc75c",
   "metadata": {},
   "outputs": [],
   "source": [
    "def convert1(obj):\n",
    "    l=[]\n",
    "    c=0\n",
    "    for i in ast.literal_eval(obj):\n",
    "        if c<3:\n",
    "            l.append(i['name'])\n",
    "            c+=1\n",
    "    return l"
   ]
  },
  {
   "cell_type": "code",
   "execution_count": 31,
   "id": "97fa8640",
   "metadata": {},
   "outputs": [
    {
     "name": "stderr",
     "output_type": "stream",
     "text": [
      "C:\\Users\\HP\\AppData\\Local\\Temp\\ipykernel_9604\\3009813742.py:1: SettingWithCopyWarning: \n",
      "A value is trying to be set on a copy of a slice from a DataFrame.\n",
      "Try using .loc[row_indexer,col_indexer] = value instead\n",
      "\n",
      "See the caveats in the documentation: https://pandas.pydata.org/pandas-docs/stable/user_guide/indexing.html#returning-a-view-versus-a-copy\n",
      "  movies['cast']=movies['cast'].apply(convert1)\n"
     ]
    }
   ],
   "source": [
    "movies['cast']=movies['cast'].apply(convert1)"
   ]
  },
  {
   "cell_type": "code",
   "execution_count": 32,
   "id": "5e375fbf",
   "metadata": {},
   "outputs": [
    {
     "data": {
      "text/html": [
       "<div>\n",
       "<style scoped>\n",
       "    .dataframe tbody tr th:only-of-type {\n",
       "        vertical-align: middle;\n",
       "    }\n",
       "\n",
       "    .dataframe tbody tr th {\n",
       "        vertical-align: top;\n",
       "    }\n",
       "\n",
       "    .dataframe thead th {\n",
       "        text-align: right;\n",
       "    }\n",
       "</style>\n",
       "<table border=\"1\" class=\"dataframe\">\n",
       "  <thead>\n",
       "    <tr style=\"text-align: right;\">\n",
       "      <th></th>\n",
       "      <th>movie_id</th>\n",
       "      <th>title</th>\n",
       "      <th>overview</th>\n",
       "      <th>tagline</th>\n",
       "      <th>genres</th>\n",
       "      <th>keywords</th>\n",
       "      <th>cast</th>\n",
       "      <th>crew</th>\n",
       "    </tr>\n",
       "  </thead>\n",
       "  <tbody>\n",
       "    <tr>\n",
       "      <th>0</th>\n",
       "      <td>19995</td>\n",
       "      <td>Avatar</td>\n",
       "      <td>In the 22nd century, a paraplegic Marine is di...</td>\n",
       "      <td>Enter the World of Pandora.</td>\n",
       "      <td>[Action, Adventure, Fantasy, Science Fiction]</td>\n",
       "      <td>[culture clash, future, space war, space colon...</td>\n",
       "      <td>[Sam Worthington, Zoe Saldana, Sigourney Weaver]</td>\n",
       "      <td>[{\"credit_id\": \"52fe48009251416c750aca23\", \"de...</td>\n",
       "    </tr>\n",
       "    <tr>\n",
       "      <th>1</th>\n",
       "      <td>285</td>\n",
       "      <td>Pirates of the Caribbean: At World's End</td>\n",
       "      <td>Captain Barbossa, long believed to be dead, ha...</td>\n",
       "      <td>At the end of the world, the adventure begins.</td>\n",
       "      <td>[Adventure, Fantasy, Action]</td>\n",
       "      <td>[ocean, drug abuse, exotic island, east india ...</td>\n",
       "      <td>[Johnny Depp, Orlando Bloom, Keira Knightley]</td>\n",
       "      <td>[{\"credit_id\": \"52fe4232c3a36847f800b579\", \"de...</td>\n",
       "    </tr>\n",
       "    <tr>\n",
       "      <th>2</th>\n",
       "      <td>206647</td>\n",
       "      <td>Spectre</td>\n",
       "      <td>A cryptic message from Bond’s past sends him o...</td>\n",
       "      <td>A Plan No One Escapes</td>\n",
       "      <td>[Action, Adventure, Crime]</td>\n",
       "      <td>[spy, based on novel, secret agent, sequel, mi...</td>\n",
       "      <td>[Daniel Craig, Christoph Waltz, Léa Seydoux]</td>\n",
       "      <td>[{\"credit_id\": \"54805967c3a36829b5002c41\", \"de...</td>\n",
       "    </tr>\n",
       "    <tr>\n",
       "      <th>3</th>\n",
       "      <td>49026</td>\n",
       "      <td>The Dark Knight Rises</td>\n",
       "      <td>Following the death of District Attorney Harve...</td>\n",
       "      <td>The Legend Ends</td>\n",
       "      <td>[Action, Crime, Drama, Thriller]</td>\n",
       "      <td>[dc comics, crime fighter, terrorist, secret i...</td>\n",
       "      <td>[Christian Bale, Michael Caine, Gary Oldman]</td>\n",
       "      <td>[{\"credit_id\": \"52fe4781c3a36847f81398c3\", \"de...</td>\n",
       "    </tr>\n",
       "    <tr>\n",
       "      <th>4</th>\n",
       "      <td>49529</td>\n",
       "      <td>John Carter</td>\n",
       "      <td>John Carter is a war-weary, former military ca...</td>\n",
       "      <td>Lost in our world, found in another.</td>\n",
       "      <td>[Action, Adventure, Science Fiction]</td>\n",
       "      <td>[based on novel, mars, medallion, space travel...</td>\n",
       "      <td>[Taylor Kitsch, Lynn Collins, Samantha Morton]</td>\n",
       "      <td>[{\"credit_id\": \"52fe479ac3a36847f813eaa3\", \"de...</td>\n",
       "    </tr>\n",
       "  </tbody>\n",
       "</table>\n",
       "</div>"
      ],
      "text/plain": [
       "   movie_id                                     title  \\\n",
       "0     19995                                    Avatar   \n",
       "1       285  Pirates of the Caribbean: At World's End   \n",
       "2    206647                                   Spectre   \n",
       "3     49026                     The Dark Knight Rises   \n",
       "4     49529                               John Carter   \n",
       "\n",
       "                                            overview  \\\n",
       "0  In the 22nd century, a paraplegic Marine is di...   \n",
       "1  Captain Barbossa, long believed to be dead, ha...   \n",
       "2  A cryptic message from Bond’s past sends him o...   \n",
       "3  Following the death of District Attorney Harve...   \n",
       "4  John Carter is a war-weary, former military ca...   \n",
       "\n",
       "                                          tagline  \\\n",
       "0                     Enter the World of Pandora.   \n",
       "1  At the end of the world, the adventure begins.   \n",
       "2                           A Plan No One Escapes   \n",
       "3                                 The Legend Ends   \n",
       "4            Lost in our world, found in another.   \n",
       "\n",
       "                                          genres  \\\n",
       "0  [Action, Adventure, Fantasy, Science Fiction]   \n",
       "1                   [Adventure, Fantasy, Action]   \n",
       "2                     [Action, Adventure, Crime]   \n",
       "3               [Action, Crime, Drama, Thriller]   \n",
       "4           [Action, Adventure, Science Fiction]   \n",
       "\n",
       "                                            keywords  \\\n",
       "0  [culture clash, future, space war, space colon...   \n",
       "1  [ocean, drug abuse, exotic island, east india ...   \n",
       "2  [spy, based on novel, secret agent, sequel, mi...   \n",
       "3  [dc comics, crime fighter, terrorist, secret i...   \n",
       "4  [based on novel, mars, medallion, space travel...   \n",
       "\n",
       "                                               cast  \\\n",
       "0  [Sam Worthington, Zoe Saldana, Sigourney Weaver]   \n",
       "1     [Johnny Depp, Orlando Bloom, Keira Knightley]   \n",
       "2      [Daniel Craig, Christoph Waltz, Léa Seydoux]   \n",
       "3      [Christian Bale, Michael Caine, Gary Oldman]   \n",
       "4    [Taylor Kitsch, Lynn Collins, Samantha Morton]   \n",
       "\n",
       "                                                crew  \n",
       "0  [{\"credit_id\": \"52fe48009251416c750aca23\", \"de...  \n",
       "1  [{\"credit_id\": \"52fe4232c3a36847f800b579\", \"de...  \n",
       "2  [{\"credit_id\": \"54805967c3a36829b5002c41\", \"de...  \n",
       "3  [{\"credit_id\": \"52fe4781c3a36847f81398c3\", \"de...  \n",
       "4  [{\"credit_id\": \"52fe479ac3a36847f813eaa3\", \"de...  "
      ]
     },
     "execution_count": 32,
     "metadata": {},
     "output_type": "execute_result"
    }
   ],
   "source": [
    "movies.head()"
   ]
  },
  {
   "cell_type": "code",
   "execution_count": 33,
   "id": "c2348b98",
   "metadata": {},
   "outputs": [
    {
     "data": {
      "text/plain": [
       "['Sam Worthington', 'Zoe Saldana', 'Sigourney Weaver']"
      ]
     },
     "execution_count": 33,
     "metadata": {},
     "output_type": "execute_result"
    }
   ],
   "source": [
    "movies['cast'][0]"
   ]
  },
  {
   "cell_type": "code",
   "execution_count": 34,
   "id": "7fafc259",
   "metadata": {},
   "outputs": [
    {
     "data": {
      "text/plain": [
       "'[{\"credit_id\": \"52fe48009251416c750aca23\", \"department\": \"Editing\", \"gender\": 0, \"id\": 1721, \"job\": \"Editor\", \"name\": \"Stephen E. Rivkin\"}, {\"credit_id\": \"539c47ecc3a36810e3001f87\", \"department\": \"Art\", \"gender\": 2, \"id\": 496, \"job\": \"Production Design\", \"name\": \"Rick Carter\"}, {\"credit_id\": \"54491c89c3a3680fb4001cf7\", \"department\": \"Sound\", \"gender\": 0, \"id\": 900, \"job\": \"Sound Designer\", \"name\": \"Christopher Boyes\"}, {\"credit_id\": \"54491cb70e0a267480001bd0\", \"department\": \"Sound\", \"gender\": 0, \"id\": 900, \"job\": \"Supervising Sound Editor\", \"name\": \"Christopher Boyes\"}, {\"credit_id\": \"539c4a4cc3a36810c9002101\", \"department\": \"Production\", \"gender\": 1, \"id\": 1262, \"job\": \"Casting\", \"name\": \"Mali Finn\"}, {\"credit_id\": \"5544ee3b925141499f0008fc\", \"department\": \"Sound\", \"gender\": 2, \"id\": 1729, \"job\": \"Original Music Composer\", \"name\": \"James Horner\"}, {\"credit_id\": \"52fe48009251416c750ac9c3\", \"department\": \"Directing\", \"gender\": 2, \"id\": 2710, \"job\": \"Director\", \"name\": \"James Cameron\"}, {\"credit_id\": \"52fe48009251416c750ac9d9\", \"department\": \"Writing\", \"gender\": 2, \"id\": 2710, \"job\": \"Writer\", \"name\": \"James Cameron\"}, {\"credit_id\": \"52fe48009251416c750aca17\", \"department\": \"Editing\", \"gender\": 2, \"id\": 2710, \"job\": \"Editor\", \"name\": \"James Cameron\"}, {\"credit_id\": \"52fe48009251416c750aca29\", \"department\": \"Production\", \"gender\": 2, \"id\": 2710, \"job\": \"Producer\", \"name\": \"James Cameron\"}, {\"credit_id\": \"52fe48009251416c750aca3f\", \"department\": \"Writing\", \"gender\": 2, \"id\": 2710, \"job\": \"Screenplay\", \"name\": \"James Cameron\"}, {\"credit_id\": \"539c4987c3a36810ba0021a4\", \"department\": \"Art\", \"gender\": 2, \"id\": 7236, \"job\": \"Art Direction\", \"name\": \"Andrew Menzies\"}, {\"credit_id\": \"549598c3c3a3686ae9004383\", \"department\": \"Visual Effects\", \"gender\": 0, \"id\": 6690, \"job\": \"Visual Effects Producer\", \"name\": \"Jill Brooks\"}, {\"credit_id\": \"52fe48009251416c750aca4b\", \"department\": \"Production\", \"gender\": 1, \"id\": 6347, \"job\": \"Casting\", \"name\": \"Margery Simkin\"}, {\"credit_id\": \"570b6f419251417da70032fe\", \"department\": \"Art\", \"gender\": 2, \"id\": 6878, \"job\": \"Supervising Art Director\", \"name\": \"Kevin Ishioka\"}, {\"credit_id\": \"5495a0fac3a3686ae9004468\", \"department\": \"Sound\", \"gender\": 0, \"id\": 6883, \"job\": \"Music Editor\", \"name\": \"Dick Bernstein\"}, {\"credit_id\": \"54959706c3a3686af3003e81\", \"department\": \"Sound\", \"gender\": 0, \"id\": 8159, \"job\": \"Sound Effects Editor\", \"name\": \"Shannon Mills\"}, {\"credit_id\": \"54491d58c3a3680fb1001ccb\", \"department\": \"Sound\", \"gender\": 0, \"id\": 8160, \"job\": \"Foley\", \"name\": \"Dennie Thorpe\"}, {\"credit_id\": \"54491d6cc3a3680fa5001b2c\", \"department\": \"Sound\", \"gender\": 0, \"id\": 8163, \"job\": \"Foley\", \"name\": \"Jana Vance\"}, {\"credit_id\": \"52fe48009251416c750aca57\", \"department\": \"Costume & Make-Up\", \"gender\": 1, \"id\": 8527, \"job\": \"Costume Design\", \"name\": \"Deborah Lynn Scott\"}, {\"credit_id\": \"52fe48009251416c750aca2f\", \"department\": \"Production\", \"gender\": 2, \"id\": 8529, \"job\": \"Producer\", \"name\": \"Jon Landau\"}, {\"credit_id\": \"539c4937c3a36810ba002194\", \"department\": \"Art\", \"gender\": 0, \"id\": 9618, \"job\": \"Art Direction\", \"name\": \"Sean Haworth\"}, {\"credit_id\": \"539c49b6c3a36810c10020e6\", \"department\": \"Art\", \"gender\": 1, \"id\": 12653, \"job\": \"Set Decoration\", \"name\": \"Kim Sinclair\"}, {\"credit_id\": \"570b6f2f9251413a0e00020d\", \"department\": \"Art\", \"gender\": 1, \"id\": 12653, \"job\": \"Supervising Art Director\", \"name\": \"Kim Sinclair\"}, {\"credit_id\": \"54491a6c0e0a26748c001b19\", \"department\": \"Art\", \"gender\": 2, \"id\": 14350, \"job\": \"Set Designer\", \"name\": \"Richard F. Mays\"}, {\"credit_id\": \"56928cf4c3a3684cff0025c4\", \"department\": \"Production\", \"gender\": 1, \"id\": 20294, \"job\": \"Executive Producer\", \"name\": \"Laeta Kalogridis\"}, {\"credit_id\": \"52fe48009251416c750aca51\", \"department\": \"Costume & Make-Up\", \"gender\": 0, \"id\": 17675, \"job\": \"Costume Design\", \"name\": \"Mayes C. Rubeo\"}, {\"credit_id\": \"52fe48009251416c750aca11\", \"department\": \"Camera\", \"gender\": 2, \"id\": 18265, \"job\": \"Director of Photography\", \"name\": \"Mauro Fiore\"}, {\"credit_id\": \"5449194d0e0a26748f001b39\", \"department\": \"Art\", \"gender\": 0, \"id\": 42281, \"job\": \"Set Designer\", \"name\": \"Scott Herbertson\"}, {\"credit_id\": \"52fe48009251416c750aca05\", \"department\": \"Crew\", \"gender\": 0, \"id\": 42288, \"job\": \"Stunts\", \"name\": \"Woody Schultz\"}, {\"credit_id\": \"5592aefb92514152de0010f5\", \"department\": \"Costume & Make-Up\", \"gender\": 0, \"id\": 29067, \"job\": \"Makeup Artist\", \"name\": \"Linda DeVetta\"}, {\"credit_id\": \"5592afa492514152de00112c\", \"department\": \"Costume & Make-Up\", \"gender\": 0, \"id\": 29067, \"job\": \"Hairstylist\", \"name\": \"Linda DeVetta\"}, {\"credit_id\": \"54959ed592514130fc002e5d\", \"department\": \"Camera\", \"gender\": 2, \"id\": 33302, \"job\": \"Camera Operator\", \"name\": \"Richard Bluck\"}, {\"credit_id\": \"539c4891c3a36810ba002147\", \"department\": \"Art\", \"gender\": 2, \"id\": 33303, \"job\": \"Art Direction\", \"name\": \"Simon Bright\"}, {\"credit_id\": \"54959c069251417a81001f3a\", \"department\": \"Visual Effects\", \"gender\": 0, \"id\": 113145, \"job\": \"Visual Effects Supervisor\", \"name\": \"Richard Martin\"}, {\"credit_id\": \"54959a0dc3a3680ff5002c8d\", \"department\": \"Crew\", \"gender\": 2, \"id\": 58188, \"job\": \"Visual Effects Editor\", \"name\": \"Steve R. Moore\"}, {\"credit_id\": \"52fe48009251416c750aca1d\", \"department\": \"Editing\", \"gender\": 2, \"id\": 58871, \"job\": \"Editor\", \"name\": \"John Refoua\"}, {\"credit_id\": \"54491a4dc3a3680fc30018ca\", \"department\": \"Art\", \"gender\": 0, \"id\": 92359, \"job\": \"Set Designer\", \"name\": \"Karl J. Martin\"}, {\"credit_id\": \"52fe48009251416c750aca35\", \"department\": \"Camera\", \"gender\": 1, \"id\": 72201, \"job\": \"Director of Photography\", \"name\": \"Chiling Lin\"}, {\"credit_id\": \"52fe48009251416c750ac9ff\", \"department\": \"Crew\", \"gender\": 0, \"id\": 89714, \"job\": \"Stunts\", \"name\": \"Ilram Choi\"}, {\"credit_id\": \"54959c529251416e2b004394\", \"department\": \"Visual Effects\", \"gender\": 2, \"id\": 93214, \"job\": \"Visual Effects Supervisor\", \"name\": \"Steven Quale\"}, {\"credit_id\": \"54491edf0e0a267489001c37\", \"department\": \"Crew\", \"gender\": 1, \"id\": 122607, \"job\": \"Dialect Coach\", \"name\": \"Carla Meyer\"}, {\"credit_id\": \"539c485bc3a368653d001a3a\", \"department\": \"Art\", \"gender\": 2, \"id\": 132585, \"job\": \"Art Direction\", \"name\": \"Nick Bassett\"}, {\"credit_id\": \"539c4903c3a368653d001a74\", \"department\": \"Art\", \"gender\": 0, \"id\": 132596, \"job\": \"Art Direction\", \"name\": \"Jill Cormack\"}, {\"credit_id\": \"539c4967c3a368653d001a94\", \"department\": \"Art\", \"gender\": 0, \"id\": 132604, \"job\": \"Art Direction\", \"name\": \"Andy McLaren\"}, {\"credit_id\": \"52fe48009251416c750aca45\", \"department\": \"Crew\", \"gender\": 0, \"id\": 236696, \"job\": \"Motion Capture Artist\", \"name\": \"Terry Notary\"}, {\"credit_id\": \"54959e02c3a3680fc60027d2\", \"department\": \"Crew\", \"gender\": 2, \"id\": 956198, \"job\": \"Stunt Coordinator\", \"name\": \"Garrett Warren\"}, {\"credit_id\": \"54959ca3c3a3686ae300438c\", \"department\": \"Visual Effects\", \"gender\": 2, \"id\": 957874, \"job\": \"Visual Effects Supervisor\", \"name\": \"Jonathan Rothbart\"}, {\"credit_id\": \"570b6f519251412c74001b2f\", \"department\": \"Art\", \"gender\": 0, \"id\": 957889, \"job\": \"Supervising Art Director\", \"name\": \"Stefan Dechant\"}, {\"credit_id\": \"570b6f62c3a3680b77007460\", \"department\": \"Art\", \"gender\": 2, \"id\": 959555, \"job\": \"Supervising Art Director\", \"name\": \"Todd Cherniawsky\"}, {\"credit_id\": \"539c4a3ac3a36810da0021cc\", \"department\": \"Production\", \"gender\": 0, \"id\": 1016177, \"job\": \"Casting\", \"name\": \"Miranda Rivers\"}, {\"credit_id\": \"539c482cc3a36810c1002062\", \"department\": \"Art\", \"gender\": 0, \"id\": 1032536, \"job\": \"Production Design\", \"name\": \"Robert Stromberg\"}, {\"credit_id\": \"539c4b65c3a36810c9002125\", \"department\": \"Costume & Make-Up\", \"gender\": 2, \"id\": 1071680, \"job\": \"Costume Design\", \"name\": \"John Harding\"}, {\"credit_id\": \"54959e6692514130fc002e4e\", \"department\": \"Camera\", \"gender\": 0, \"id\": 1177364, \"job\": \"Steadicam Operator\", \"name\": \"Roberto De Angelis\"}, {\"credit_id\": \"539c49f1c3a368653d001aac\", \"department\": \"Costume & Make-Up\", \"gender\": 2, \"id\": 1202850, \"job\": \"Makeup Department Head\", \"name\": \"Mike Smithson\"}, {\"credit_id\": \"5495999ec3a3686ae100460c\", \"department\": \"Visual Effects\", \"gender\": 0, \"id\": 1204668, \"job\": \"Visual Effects Producer\", \"name\": \"Alain Lalanne\"}, {\"credit_id\": \"54959cdfc3a3681153002729\", \"department\": \"Visual Effects\", \"gender\": 0, \"id\": 1206410, \"job\": \"Visual Effects Supervisor\", \"name\": \"Lucas Salton\"}, {\"credit_id\": \"549596239251417a81001eae\", \"department\": \"Crew\", \"gender\": 0, \"id\": 1234266, \"job\": \"Post Production Supervisor\", \"name\": \"Janace Tashjian\"}, {\"credit_id\": \"54959c859251416e1e003efe\", \"department\": \"Visual Effects\", \"gender\": 0, \"id\": 1271932, \"job\": \"Visual Effects Supervisor\", \"name\": \"Stephen Rosenbaum\"}, {\"credit_id\": \"5592af28c3a368775a00105f\", \"department\": \"Costume & Make-Up\", \"gender\": 0, \"id\": 1310064, \"job\": \"Makeup Artist\", \"name\": \"Frankie Karena\"}, {\"credit_id\": \"539c4adfc3a36810e300203b\", \"department\": \"Costume & Make-Up\", \"gender\": 1, \"id\": 1319844, \"job\": \"Costume Supervisor\", \"name\": \"Lisa Lovaas\"}, {\"credit_id\": \"54959b579251416e2b004371\", \"department\": \"Visual Effects\", \"gender\": 0, \"id\": 1327028, \"job\": \"Visual Effects Supervisor\", \"name\": \"Jonathan Fawkner\"}, {\"credit_id\": \"539c48a7c3a36810b5001fa7\", \"department\": \"Art\", \"gender\": 0, \"id\": 1330561, \"job\": \"Art Direction\", \"name\": \"Robert Bavin\"}, {\"credit_id\": \"539c4a71c3a36810da0021e0\", \"department\": \"Costume & Make-Up\", \"gender\": 0, \"id\": 1330567, \"job\": \"Costume Supervisor\", \"name\": \"Anthony Almaraz\"}, {\"credit_id\": \"539c4a8ac3a36810ba0021e4\", \"department\": \"Costume & Make-Up\", \"gender\": 0, \"id\": 1330570, \"job\": \"Costume Supervisor\", \"name\": \"Carolyn M. Fenton\"}, {\"credit_id\": \"539c4ab6c3a36810da0021f0\", \"department\": \"Costume & Make-Up\", \"gender\": 0, \"id\": 1330574, \"job\": \"Costume Supervisor\", \"name\": \"Beth Koenigsberg\"}, {\"credit_id\": \"54491ab70e0a267480001ba2\", \"department\": \"Art\", \"gender\": 0, \"id\": 1336191, \"job\": \"Set Designer\", \"name\": \"Sam Page\"}, {\"credit_id\": \"544919d9c3a3680fc30018bd\", \"department\": \"Art\", \"gender\": 0, \"id\": 1339441, \"job\": \"Set Designer\", \"name\": \"Tex Kadonaga\"}, {\"credit_id\": \"54491cf50e0a267483001b0c\", \"department\": \"Editing\", \"gender\": 0, \"id\": 1352422, \"job\": \"Dialogue Editor\", \"name\": \"Kim Foscato\"}, {\"credit_id\": \"544919f40e0a26748c001b09\", \"department\": \"Art\", \"gender\": 0, \"id\": 1352962, \"job\": \"Set Designer\", \"name\": \"Tammy S. Lee\"}, {\"credit_id\": \"5495a115c3a3680ff5002d71\", \"department\": \"Crew\", \"gender\": 0, \"id\": 1357070, \"job\": \"Transportation Coordinator\", \"name\": \"Denny Caira\"}, {\"credit_id\": \"5495a12f92514130fc002e94\", \"department\": \"Crew\", \"gender\": 0, \"id\": 1357071, \"job\": \"Transportation Coordinator\", \"name\": \"James Waitkus\"}, {\"credit_id\": \"5495976fc3a36811530026b0\", \"department\": \"Sound\", \"gender\": 0, \"id\": 1360103, \"job\": \"Supervising Sound Editor\", \"name\": \"Addison Teague\"}, {\"credit_id\": \"54491837c3a3680fb1001c5a\", \"department\": \"Art\", \"gender\": 2, \"id\": 1376887, \"job\": \"Set Designer\", \"name\": \"C. Scott Baker\"}, {\"credit_id\": \"54491878c3a3680fb4001c9d\", \"department\": \"Art\", \"gender\": 0, \"id\": 1376888, \"job\": \"Set Designer\", \"name\": \"Luke Caska\"}, {\"credit_id\": \"544918dac3a3680fa5001ae0\", \"department\": \"Art\", \"gender\": 0, \"id\": 1376889, \"job\": \"Set Designer\", \"name\": \"David Chow\"}, {\"credit_id\": \"544919110e0a267486001b68\", \"department\": \"Art\", \"gender\": 0, \"id\": 1376890, \"job\": \"Set Designer\", \"name\": \"Jonathan Dyer\"}, {\"credit_id\": \"54491967c3a3680faa001b5e\", \"department\": \"Art\", \"gender\": 0, \"id\": 1376891, \"job\": \"Set Designer\", \"name\": \"Joseph Hiura\"}, {\"credit_id\": \"54491997c3a3680fb1001c8a\", \"department\": \"Art\", \"gender\": 0, \"id\": 1376892, \"job\": \"Art Department Coordinator\", \"name\": \"Rebecca Jellie\"}, {\"credit_id\": \"544919ba0e0a26748f001b42\", \"department\": \"Art\", \"gender\": 0, \"id\": 1376893, \"job\": \"Set Designer\", \"name\": \"Robert Andrew Johnson\"}, {\"credit_id\": \"54491b1dc3a3680faa001b8c\", \"department\": \"Art\", \"gender\": 0, \"id\": 1376895, \"job\": \"Assistant Art Director\", \"name\": \"Mike Stassi\"}, {\"credit_id\": \"54491b79c3a3680fbb001826\", \"department\": \"Art\", \"gender\": 0, \"id\": 1376897, \"job\": \"Construction Coordinator\", \"name\": \"John Villarino\"}, {\"credit_id\": \"54491baec3a3680fb4001ce6\", \"department\": \"Art\", \"gender\": 2, \"id\": 1376898, \"job\": \"Assistant Art Director\", \"name\": \"Jeffrey Wisniewski\"}, {\"credit_id\": \"54491d2fc3a3680fb4001d07\", \"department\": \"Editing\", \"gender\": 0, \"id\": 1376899, \"job\": \"Dialogue Editor\", \"name\": \"Cheryl Nardi\"}, {\"credit_id\": \"54491d86c3a3680fa5001b2f\", \"department\": \"Editing\", \"gender\": 0, \"id\": 1376901, \"job\": \"Dialogue Editor\", \"name\": \"Marshall Winn\"}, {\"credit_id\": \"54491d9dc3a3680faa001bb0\", \"department\": \"Sound\", \"gender\": 0, \"id\": 1376902, \"job\": \"Supervising Sound Editor\", \"name\": \"Gwendolyn Yates Whittle\"}, {\"credit_id\": \"54491dc10e0a267486001bce\", \"department\": \"Sound\", \"gender\": 0, \"id\": 1376903, \"job\": \"Sound Re-Recording Mixer\", \"name\": \"William Stein\"}, {\"credit_id\": \"54491f500e0a26747c001c07\", \"department\": \"Crew\", \"gender\": 0, \"id\": 1376909, \"job\": \"Choreographer\", \"name\": \"Lula Washington\"}, {\"credit_id\": \"549599239251412c4e002a2e\", \"department\": \"Visual Effects\", \"gender\": 0, \"id\": 1391692, \"job\": \"Visual Effects Producer\", \"name\": \"Chris Del Conte\"}, {\"credit_id\": \"54959d54c3a36831b8001d9a\", \"department\": \"Visual Effects\", \"gender\": 2, \"id\": 1391695, \"job\": \"Visual Effects Supervisor\", \"name\": \"R. Christopher White\"}, {\"credit_id\": \"54959bdf9251412c4e002a66\", \"department\": \"Visual Effects\", \"gender\": 0, \"id\": 1394070, \"job\": \"Visual Effects Supervisor\", \"name\": \"Dan Lemmon\"}, {\"credit_id\": \"5495971d92514132ed002922\", \"department\": \"Sound\", \"gender\": 0, \"id\": 1394129, \"job\": \"Sound Effects Editor\", \"name\": \"Tim Nielsen\"}, {\"credit_id\": \"5592b25792514152cc0011aa\", \"department\": \"Crew\", \"gender\": 0, \"id\": 1394286, \"job\": \"CG Supervisor\", \"name\": \"Michael Mulholland\"}, {\"credit_id\": \"54959a329251416e2b004355\", \"department\": \"Crew\", \"gender\": 0, \"id\": 1394750, \"job\": \"Visual Effects Editor\", \"name\": \"Thomas Nittmann\"}, {\"credit_id\": \"54959d6dc3a3686ae9004401\", \"department\": \"Visual Effects\", \"gender\": 0, \"id\": 1394755, \"job\": \"Visual Effects Supervisor\", \"name\": \"Edson Williams\"}, {\"credit_id\": \"5495a08fc3a3686ae300441c\", \"department\": \"Editing\", \"gender\": 0, \"id\": 1394953, \"job\": \"Digital Intermediate\", \"name\": \"Christine Carr\"}, {\"credit_id\": \"55402d659251413d6d000249\", \"department\": \"Visual Effects\", \"gender\": 0, \"id\": 1395269, \"job\": \"Visual Effects Supervisor\", \"name\": \"John Bruno\"}, {\"credit_id\": \"54959e7b9251416e1e003f3e\", \"department\": \"Camera\", \"gender\": 0, \"id\": 1398970, \"job\": \"Steadicam Operator\", \"name\": \"David Emmerichs\"}, {\"credit_id\": \"54959734c3a3686ae10045e0\", \"department\": \"Sound\", \"gender\": 0, \"id\": 1400906, \"job\": \"Sound Effects Editor\", \"name\": \"Christopher Scarabosio\"}, {\"credit_id\": \"549595dd92514130fc002d79\", \"department\": \"Production\", \"gender\": 0, \"id\": 1401784, \"job\": \"Production Supervisor\", \"name\": \"Jennifer Teves\"}, {\"credit_id\": \"549596009251413af70028cc\", \"department\": \"Production\", \"gender\": 0, \"id\": 1401785, \"job\": \"Production Manager\", \"name\": \"Brigitte Yorke\"}, {\"credit_id\": \"549596e892514130fc002d99\", \"department\": \"Sound\", \"gender\": 0, \"id\": 1401786, \"job\": \"Sound Effects Editor\", \"name\": \"Ken Fischer\"}, {\"credit_id\": \"549598229251412c4e002a1c\", \"department\": \"Crew\", \"gender\": 0, \"id\": 1401787, \"job\": \"Special Effects Coordinator\", \"name\": \"Iain Hutton\"}, {\"credit_id\": \"549598349251416e2b00432b\", \"department\": \"Crew\", \"gender\": 0, \"id\": 1401788, \"job\": \"Special Effects Coordinator\", \"name\": \"Steve Ingram\"}, {\"credit_id\": \"54959905c3a3686ae3004324\", \"department\": \"Visual Effects\", \"gender\": 0, \"id\": 1401789, \"job\": \"Visual Effects Producer\", \"name\": \"Joyce Cox\"}, {\"credit_id\": \"5495994b92514132ed002951\", \"department\": \"Visual Effects\", \"gender\": 0, \"id\": 1401790, \"job\": \"Visual Effects Producer\", \"name\": \"Jenny Foster\"}, {\"credit_id\": \"549599cbc3a3686ae1004613\", \"department\": \"Crew\", \"gender\": 0, \"id\": 1401791, \"job\": \"Visual Effects Editor\", \"name\": \"Christopher Marino\"}, {\"credit_id\": \"549599f2c3a3686ae100461e\", \"department\": \"Crew\", \"gender\": 0, \"id\": 1401792, \"job\": \"Visual Effects Editor\", \"name\": \"Jim Milton\"}, {\"credit_id\": \"54959a51c3a3686af3003eb5\", \"department\": \"Visual Effects\", \"gender\": 0, \"id\": 1401793, \"job\": \"Visual Effects Producer\", \"name\": \"Cyndi Ochs\"}, {\"credit_id\": \"54959a7cc3a36811530026f4\", \"department\": \"Crew\", \"gender\": 0, \"id\": 1401794, \"job\": \"Visual Effects Editor\", \"name\": \"Lucas Putnam\"}, {\"credit_id\": \"54959b91c3a3680ff5002cb4\", \"department\": \"Visual Effects\", \"gender\": 0, \"id\": 1401795, \"job\": \"Visual Effects Supervisor\", \"name\": \"Anthony \\'Max\\' Ivins\"}, {\"credit_id\": \"54959bb69251412c4e002a5f\", \"department\": \"Visual Effects\", \"gender\": 0, \"id\": 1401796, \"job\": \"Visual Effects Supervisor\", \"name\": \"John Knoll\"}, {\"credit_id\": \"54959cbbc3a3686ae3004391\", \"department\": \"Visual Effects\", \"gender\": 2, \"id\": 1401799, \"job\": \"Visual Effects Supervisor\", \"name\": \"Eric Saindon\"}, {\"credit_id\": \"54959d06c3a3686ae90043f6\", \"department\": \"Visual Effects\", \"gender\": 0, \"id\": 1401800, \"job\": \"Visual Effects Supervisor\", \"name\": \"Wayne Stables\"}, {\"credit_id\": \"54959d259251416e1e003f11\", \"department\": \"Visual Effects\", \"gender\": 0, \"id\": 1401801, \"job\": \"Visual Effects Supervisor\", \"name\": \"David Stinnett\"}, {\"credit_id\": \"54959db49251413af7002975\", \"department\": \"Visual Effects\", \"gender\": 0, \"id\": 1401803, \"job\": \"Visual Effects Supervisor\", \"name\": \"Guy Williams\"}, {\"credit_id\": \"54959de4c3a3681153002750\", \"department\": \"Crew\", \"gender\": 0, \"id\": 1401804, \"job\": \"Stunt Coordinator\", \"name\": \"Stuart Thorp\"}, {\"credit_id\": \"54959ef2c3a3680fc60027f2\", \"department\": \"Lighting\", \"gender\": 0, \"id\": 1401805, \"job\": \"Best Boy Electric\", \"name\": \"Giles Coburn\"}, {\"credit_id\": \"54959f07c3a3680fc60027f9\", \"department\": \"Camera\", \"gender\": 2, \"id\": 1401806, \"job\": \"Still Photographer\", \"name\": \"Mark Fellman\"}, {\"credit_id\": \"54959f47c3a3681153002774\", \"department\": \"Lighting\", \"gender\": 0, \"id\": 1401807, \"job\": \"Lighting Technician\", \"name\": \"Scott Sprague\"}, {\"credit_id\": \"54959f8cc3a36831b8001df2\", \"department\": \"Visual Effects\", \"gender\": 0, \"id\": 1401808, \"job\": \"Animation Director\", \"name\": \"Jeremy Hollobon\"}, {\"credit_id\": \"54959fa0c3a36831b8001dfb\", \"department\": \"Visual Effects\", \"gender\": 0, \"id\": 1401809, \"job\": \"Animation Director\", \"name\": \"Orlando Meunier\"}, {\"credit_id\": \"54959fb6c3a3686af3003f54\", \"department\": \"Visual Effects\", \"gender\": 0, \"id\": 1401810, \"job\": \"Animation Director\", \"name\": \"Taisuke Tanimura\"}, {\"credit_id\": \"54959fd2c3a36831b8001e02\", \"department\": \"Costume & Make-Up\", \"gender\": 0, \"id\": 1401812, \"job\": \"Set Costumer\", \"name\": \"Lilia Mishel Acevedo\"}, {\"credit_id\": \"54959ff9c3a3686ae300440c\", \"department\": \"Costume & Make-Up\", \"gender\": 0, \"id\": 1401814, \"job\": \"Set Costumer\", \"name\": \"Alejandro M. Hernandez\"}, {\"credit_id\": \"5495a0ddc3a3686ae10046fe\", \"department\": \"Editing\", \"gender\": 0, \"id\": 1401815, \"job\": \"Digital Intermediate\", \"name\": \"Marvin Hall\"}, {\"credit_id\": \"5495a1f7c3a3686ae3004443\", \"department\": \"Production\", \"gender\": 0, \"id\": 1401816, \"job\": \"Publicist\", \"name\": \"Judy Alley\"}, {\"credit_id\": \"5592b29fc3a36869d100002f\", \"department\": \"Crew\", \"gender\": 0, \"id\": 1418381, \"job\": \"CG Supervisor\", \"name\": \"Mike Perry\"}, {\"credit_id\": \"5592b23a9251415df8001081\", \"department\": \"Crew\", \"gender\": 0, \"id\": 1426854, \"job\": \"CG Supervisor\", \"name\": \"Andrew Morley\"}, {\"credit_id\": \"55491e1192514104c40002d8\", \"department\": \"Art\", \"gender\": 0, \"id\": 1438901, \"job\": \"Conceptual Design\", \"name\": \"Seth Engstrom\"}, {\"credit_id\": \"5525d5809251417276002b06\", \"department\": \"Crew\", \"gender\": 0, \"id\": 1447362, \"job\": \"Visual Effects Art Director\", \"name\": \"Eric Oliver\"}, {\"credit_id\": \"554427ca925141586500312a\", \"department\": \"Visual Effects\", \"gender\": 0, \"id\": 1447503, \"job\": \"Modeling\", \"name\": \"Matsune Suzuki\"}, {\"credit_id\": \"551906889251415aab001c88\", \"department\": \"Art\", \"gender\": 0, \"id\": 1447524, \"job\": \"Art Department Manager\", \"name\": \"Paul Tobin\"}, {\"credit_id\": \"5592af8492514152cc0010de\", \"department\": \"Costume & Make-Up\", \"gender\": 0, \"id\": 1452643, \"job\": \"Hairstylist\", \"name\": \"Roxane Griffin\"}, {\"credit_id\": \"553d3c109251415852001318\", \"department\": \"Lighting\", \"gender\": 0, \"id\": 1453938, \"job\": \"Lighting Artist\", \"name\": \"Arun Ram-Mohan\"}, {\"credit_id\": \"5592af4692514152d5001355\", \"department\": \"Costume & Make-Up\", \"gender\": 0, \"id\": 1457305, \"job\": \"Makeup Artist\", \"name\": \"Georgia Lockhart-Adams\"}, {\"credit_id\": \"5592b2eac3a36877470012a5\", \"department\": \"Crew\", \"gender\": 0, \"id\": 1466035, \"job\": \"CG Supervisor\", \"name\": \"Thrain Shadbolt\"}, {\"credit_id\": \"5592b032c3a36877450015f1\", \"department\": \"Crew\", \"gender\": 0, \"id\": 1483220, \"job\": \"CG Supervisor\", \"name\": \"Brad Alexander\"}, {\"credit_id\": \"5592b05592514152d80012f6\", \"department\": \"Crew\", \"gender\": 0, \"id\": 1483221, \"job\": \"CG Supervisor\", \"name\": \"Shadi Almassizadeh\"}, {\"credit_id\": \"5592b090c3a36877570010b5\", \"department\": \"Crew\", \"gender\": 0, \"id\": 1483222, \"job\": \"CG Supervisor\", \"name\": \"Simon Clutterbuck\"}, {\"credit_id\": \"5592b0dbc3a368774b00112c\", \"department\": \"Crew\", \"gender\": 0, \"id\": 1483223, \"job\": \"CG Supervisor\", \"name\": \"Graeme Demmocks\"}, {\"credit_id\": \"5592b0fe92514152db0010c1\", \"department\": \"Crew\", \"gender\": 0, \"id\": 1483224, \"job\": \"CG Supervisor\", \"name\": \"Adrian Fernandes\"}, {\"credit_id\": \"5592b11f9251415df8001059\", \"department\": \"Crew\", \"gender\": 0, \"id\": 1483225, \"job\": \"CG Supervisor\", \"name\": \"Mitch Gates\"}, {\"credit_id\": \"5592b15dc3a3687745001645\", \"department\": \"Crew\", \"gender\": 0, \"id\": 1483226, \"job\": \"CG Supervisor\", \"name\": \"Jerry Kung\"}, {\"credit_id\": \"5592b18e925141645a0004ae\", \"department\": \"Crew\", \"gender\": 0, \"id\": 1483227, \"job\": \"CG Supervisor\", \"name\": \"Andy Lomas\"}, {\"credit_id\": \"5592b1bfc3a368775d0010e7\", \"department\": \"Crew\", \"gender\": 0, \"id\": 1483228, \"job\": \"CG Supervisor\", \"name\": \"Sebastian Marino\"}, {\"credit_id\": \"5592b2049251415df8001078\", \"department\": \"Crew\", \"gender\": 0, \"id\": 1483229, \"job\": \"CG Supervisor\", \"name\": \"Matthias Menz\"}, {\"credit_id\": \"5592b27b92514152d800136a\", \"department\": \"Crew\", \"gender\": 0, \"id\": 1483230, \"job\": \"CG Supervisor\", \"name\": \"Sergei Nevshupov\"}, {\"credit_id\": \"5592b2c3c3a36869e800003c\", \"department\": \"Crew\", \"gender\": 0, \"id\": 1483231, \"job\": \"CG Supervisor\", \"name\": \"Philippe Rebours\"}, {\"credit_id\": \"5592b317c3a36877470012af\", \"department\": \"Crew\", \"gender\": 0, \"id\": 1483232, \"job\": \"CG Supervisor\", \"name\": \"Michael Takarangi\"}, {\"credit_id\": \"5592b345c3a36877470012bb\", \"department\": \"Crew\", \"gender\": 0, \"id\": 1483233, \"job\": \"CG Supervisor\", \"name\": \"David Weitzberg\"}, {\"credit_id\": \"5592b37cc3a368775100113b\", \"department\": \"Crew\", \"gender\": 0, \"id\": 1483234, \"job\": \"CG Supervisor\", \"name\": \"Ben White\"}, {\"credit_id\": \"573c8e2f9251413f5d000094\", \"department\": \"Crew\", \"gender\": 1, \"id\": 1621932, \"job\": \"Stunts\", \"name\": \"Min Windle\"}]'"
      ]
     },
     "execution_count": 34,
     "metadata": {},
     "output_type": "execute_result"
    }
   ],
   "source": [
    "movies['crew'][0]"
   ]
  },
  {
   "cell_type": "code",
   "execution_count": 35,
   "id": "cf644e96",
   "metadata": {},
   "outputs": [],
   "source": [
    "def convert2(obj):\n",
    "    l=[]\n",
    "    for i in ast.literal_eval(obj):\n",
    "        if i['job']=='Director':\n",
    "            l.append(i['name'])\n",
    "    return l"
   ]
  },
  {
   "cell_type": "code",
   "execution_count": 36,
   "id": "abd04d8c",
   "metadata": {},
   "outputs": [
    {
     "name": "stderr",
     "output_type": "stream",
     "text": [
      "C:\\Users\\HP\\AppData\\Local\\Temp\\ipykernel_9604\\4112818675.py:1: SettingWithCopyWarning: \n",
      "A value is trying to be set on a copy of a slice from a DataFrame.\n",
      "Try using .loc[row_indexer,col_indexer] = value instead\n",
      "\n",
      "See the caveats in the documentation: https://pandas.pydata.org/pandas-docs/stable/user_guide/indexing.html#returning-a-view-versus-a-copy\n",
      "  movies['crew']=movies['crew'].apply(convert2)\n"
     ]
    }
   ],
   "source": [
    "movies['crew']=movies['crew'].apply(convert2)"
   ]
  },
  {
   "cell_type": "code",
   "execution_count": 37,
   "id": "83fda038",
   "metadata": {},
   "outputs": [
    {
     "data": {
      "text/html": [
       "<div>\n",
       "<style scoped>\n",
       "    .dataframe tbody tr th:only-of-type {\n",
       "        vertical-align: middle;\n",
       "    }\n",
       "\n",
       "    .dataframe tbody tr th {\n",
       "        vertical-align: top;\n",
       "    }\n",
       "\n",
       "    .dataframe thead th {\n",
       "        text-align: right;\n",
       "    }\n",
       "</style>\n",
       "<table border=\"1\" class=\"dataframe\">\n",
       "  <thead>\n",
       "    <tr style=\"text-align: right;\">\n",
       "      <th></th>\n",
       "      <th>movie_id</th>\n",
       "      <th>title</th>\n",
       "      <th>overview</th>\n",
       "      <th>tagline</th>\n",
       "      <th>genres</th>\n",
       "      <th>keywords</th>\n",
       "      <th>cast</th>\n",
       "      <th>crew</th>\n",
       "    </tr>\n",
       "  </thead>\n",
       "  <tbody>\n",
       "    <tr>\n",
       "      <th>0</th>\n",
       "      <td>19995</td>\n",
       "      <td>Avatar</td>\n",
       "      <td>In the 22nd century, a paraplegic Marine is di...</td>\n",
       "      <td>Enter the World of Pandora.</td>\n",
       "      <td>[Action, Adventure, Fantasy, Science Fiction]</td>\n",
       "      <td>[culture clash, future, space war, space colon...</td>\n",
       "      <td>[Sam Worthington, Zoe Saldana, Sigourney Weaver]</td>\n",
       "      <td>[James Cameron]</td>\n",
       "    </tr>\n",
       "    <tr>\n",
       "      <th>1</th>\n",
       "      <td>285</td>\n",
       "      <td>Pirates of the Caribbean: At World's End</td>\n",
       "      <td>Captain Barbossa, long believed to be dead, ha...</td>\n",
       "      <td>At the end of the world, the adventure begins.</td>\n",
       "      <td>[Adventure, Fantasy, Action]</td>\n",
       "      <td>[ocean, drug abuse, exotic island, east india ...</td>\n",
       "      <td>[Johnny Depp, Orlando Bloom, Keira Knightley]</td>\n",
       "      <td>[Gore Verbinski]</td>\n",
       "    </tr>\n",
       "    <tr>\n",
       "      <th>2</th>\n",
       "      <td>206647</td>\n",
       "      <td>Spectre</td>\n",
       "      <td>A cryptic message from Bond’s past sends him o...</td>\n",
       "      <td>A Plan No One Escapes</td>\n",
       "      <td>[Action, Adventure, Crime]</td>\n",
       "      <td>[spy, based on novel, secret agent, sequel, mi...</td>\n",
       "      <td>[Daniel Craig, Christoph Waltz, Léa Seydoux]</td>\n",
       "      <td>[Sam Mendes]</td>\n",
       "    </tr>\n",
       "    <tr>\n",
       "      <th>3</th>\n",
       "      <td>49026</td>\n",
       "      <td>The Dark Knight Rises</td>\n",
       "      <td>Following the death of District Attorney Harve...</td>\n",
       "      <td>The Legend Ends</td>\n",
       "      <td>[Action, Crime, Drama, Thriller]</td>\n",
       "      <td>[dc comics, crime fighter, terrorist, secret i...</td>\n",
       "      <td>[Christian Bale, Michael Caine, Gary Oldman]</td>\n",
       "      <td>[Christopher Nolan]</td>\n",
       "    </tr>\n",
       "    <tr>\n",
       "      <th>4</th>\n",
       "      <td>49529</td>\n",
       "      <td>John Carter</td>\n",
       "      <td>John Carter is a war-weary, former military ca...</td>\n",
       "      <td>Lost in our world, found in another.</td>\n",
       "      <td>[Action, Adventure, Science Fiction]</td>\n",
       "      <td>[based on novel, mars, medallion, space travel...</td>\n",
       "      <td>[Taylor Kitsch, Lynn Collins, Samantha Morton]</td>\n",
       "      <td>[Andrew Stanton]</td>\n",
       "    </tr>\n",
       "  </tbody>\n",
       "</table>\n",
       "</div>"
      ],
      "text/plain": [
       "   movie_id                                     title  \\\n",
       "0     19995                                    Avatar   \n",
       "1       285  Pirates of the Caribbean: At World's End   \n",
       "2    206647                                   Spectre   \n",
       "3     49026                     The Dark Knight Rises   \n",
       "4     49529                               John Carter   \n",
       "\n",
       "                                            overview  \\\n",
       "0  In the 22nd century, a paraplegic Marine is di...   \n",
       "1  Captain Barbossa, long believed to be dead, ha...   \n",
       "2  A cryptic message from Bond’s past sends him o...   \n",
       "3  Following the death of District Attorney Harve...   \n",
       "4  John Carter is a war-weary, former military ca...   \n",
       "\n",
       "                                          tagline  \\\n",
       "0                     Enter the World of Pandora.   \n",
       "1  At the end of the world, the adventure begins.   \n",
       "2                           A Plan No One Escapes   \n",
       "3                                 The Legend Ends   \n",
       "4            Lost in our world, found in another.   \n",
       "\n",
       "                                          genres  \\\n",
       "0  [Action, Adventure, Fantasy, Science Fiction]   \n",
       "1                   [Adventure, Fantasy, Action]   \n",
       "2                     [Action, Adventure, Crime]   \n",
       "3               [Action, Crime, Drama, Thriller]   \n",
       "4           [Action, Adventure, Science Fiction]   \n",
       "\n",
       "                                            keywords  \\\n",
       "0  [culture clash, future, space war, space colon...   \n",
       "1  [ocean, drug abuse, exotic island, east india ...   \n",
       "2  [spy, based on novel, secret agent, sequel, mi...   \n",
       "3  [dc comics, crime fighter, terrorist, secret i...   \n",
       "4  [based on novel, mars, medallion, space travel...   \n",
       "\n",
       "                                               cast                 crew  \n",
       "0  [Sam Worthington, Zoe Saldana, Sigourney Weaver]      [James Cameron]  \n",
       "1     [Johnny Depp, Orlando Bloom, Keira Knightley]     [Gore Verbinski]  \n",
       "2      [Daniel Craig, Christoph Waltz, Léa Seydoux]         [Sam Mendes]  \n",
       "3      [Christian Bale, Michael Caine, Gary Oldman]  [Christopher Nolan]  \n",
       "4    [Taylor Kitsch, Lynn Collins, Samantha Morton]     [Andrew Stanton]  "
      ]
     },
     "execution_count": 37,
     "metadata": {},
     "output_type": "execute_result"
    }
   ],
   "source": [
    "movies.head()"
   ]
  },
  {
   "cell_type": "code",
   "execution_count": 38,
   "id": "fd1e5510",
   "metadata": {},
   "outputs": [
    {
     "name": "stderr",
     "output_type": "stream",
     "text": [
      "C:\\Users\\HP\\AppData\\Local\\Temp\\ipykernel_9604\\3191760553.py:1: SettingWithCopyWarning: \n",
      "A value is trying to be set on a copy of a slice from a DataFrame.\n",
      "Try using .loc[row_indexer,col_indexer] = value instead\n",
      "\n",
      "See the caveats in the documentation: https://pandas.pydata.org/pandas-docs/stable/user_guide/indexing.html#returning-a-view-versus-a-copy\n",
      "  movies['overview']=movies['overview'].apply(lambda x:x.split())\n",
      "C:\\Users\\HP\\AppData\\Local\\Temp\\ipykernel_9604\\3191760553.py:2: SettingWithCopyWarning: \n",
      "A value is trying to be set on a copy of a slice from a DataFrame.\n",
      "Try using .loc[row_indexer,col_indexer] = value instead\n",
      "\n",
      "See the caveats in the documentation: https://pandas.pydata.org/pandas-docs/stable/user_guide/indexing.html#returning-a-view-versus-a-copy\n",
      "  movies['tagline']=movies['tagline'].apply(lambda x:x.split())\n"
     ]
    }
   ],
   "source": [
    "movies['overview']=movies['overview'].apply(lambda x:x.split())\n",
    "movies['tagline']=movies['tagline'].apply(lambda x:x.split())"
   ]
  },
  {
   "cell_type": "code",
   "execution_count": 39,
   "id": "b784435e",
   "metadata": {},
   "outputs": [
    {
     "name": "stderr",
     "output_type": "stream",
     "text": [
      "C:\\Users\\HP\\AppData\\Local\\Temp\\ipykernel_9604\\2591114878.py:1: SettingWithCopyWarning: \n",
      "A value is trying to be set on a copy of a slice from a DataFrame.\n",
      "Try using .loc[row_indexer,col_indexer] = value instead\n",
      "\n",
      "See the caveats in the documentation: https://pandas.pydata.org/pandas-docs/stable/user_guide/indexing.html#returning-a-view-versus-a-copy\n",
      "  movies['tags']=movies['overview']+movies['tagline']+movies['genres']+movies['keywords']+movies['cast']+movies['crew']\n"
     ]
    }
   ],
   "source": [
    "movies['tags']=movies['overview']+movies['tagline']+movies['genres']+movies['keywords']+movies['cast']+movies['crew']"
   ]
  },
  {
   "cell_type": "code",
   "execution_count": 40,
   "id": "2f458da1",
   "metadata": {},
   "outputs": [
    {
     "data": {
      "text/html": [
       "<div>\n",
       "<style scoped>\n",
       "    .dataframe tbody tr th:only-of-type {\n",
       "        vertical-align: middle;\n",
       "    }\n",
       "\n",
       "    .dataframe tbody tr th {\n",
       "        vertical-align: top;\n",
       "    }\n",
       "\n",
       "    .dataframe thead th {\n",
       "        text-align: right;\n",
       "    }\n",
       "</style>\n",
       "<table border=\"1\" class=\"dataframe\">\n",
       "  <thead>\n",
       "    <tr style=\"text-align: right;\">\n",
       "      <th></th>\n",
       "      <th>movie_id</th>\n",
       "      <th>title</th>\n",
       "      <th>overview</th>\n",
       "      <th>tagline</th>\n",
       "      <th>genres</th>\n",
       "      <th>keywords</th>\n",
       "      <th>cast</th>\n",
       "      <th>crew</th>\n",
       "      <th>tags</th>\n",
       "    </tr>\n",
       "  </thead>\n",
       "  <tbody>\n",
       "    <tr>\n",
       "      <th>0</th>\n",
       "      <td>19995</td>\n",
       "      <td>Avatar</td>\n",
       "      <td>[In, the, 22nd, century,, a, paraplegic, Marin...</td>\n",
       "      <td>[Enter, the, World, of, Pandora.]</td>\n",
       "      <td>[Action, Adventure, Fantasy, Science Fiction]</td>\n",
       "      <td>[culture clash, future, space war, space colon...</td>\n",
       "      <td>[Sam Worthington, Zoe Saldana, Sigourney Weaver]</td>\n",
       "      <td>[James Cameron]</td>\n",
       "      <td>[In, the, 22nd, century,, a, paraplegic, Marin...</td>\n",
       "    </tr>\n",
       "    <tr>\n",
       "      <th>1</th>\n",
       "      <td>285</td>\n",
       "      <td>Pirates of the Caribbean: At World's End</td>\n",
       "      <td>[Captain, Barbossa,, long, believed, to, be, d...</td>\n",
       "      <td>[At, the, end, of, the, world,, the, adventure...</td>\n",
       "      <td>[Adventure, Fantasy, Action]</td>\n",
       "      <td>[ocean, drug abuse, exotic island, east india ...</td>\n",
       "      <td>[Johnny Depp, Orlando Bloom, Keira Knightley]</td>\n",
       "      <td>[Gore Verbinski]</td>\n",
       "      <td>[Captain, Barbossa,, long, believed, to, be, d...</td>\n",
       "    </tr>\n",
       "    <tr>\n",
       "      <th>2</th>\n",
       "      <td>206647</td>\n",
       "      <td>Spectre</td>\n",
       "      <td>[A, cryptic, message, from, Bond’s, past, send...</td>\n",
       "      <td>[A, Plan, No, One, Escapes]</td>\n",
       "      <td>[Action, Adventure, Crime]</td>\n",
       "      <td>[spy, based on novel, secret agent, sequel, mi...</td>\n",
       "      <td>[Daniel Craig, Christoph Waltz, Léa Seydoux]</td>\n",
       "      <td>[Sam Mendes]</td>\n",
       "      <td>[A, cryptic, message, from, Bond’s, past, send...</td>\n",
       "    </tr>\n",
       "    <tr>\n",
       "      <th>3</th>\n",
       "      <td>49026</td>\n",
       "      <td>The Dark Knight Rises</td>\n",
       "      <td>[Following, the, death, of, District, Attorney...</td>\n",
       "      <td>[The, Legend, Ends]</td>\n",
       "      <td>[Action, Crime, Drama, Thriller]</td>\n",
       "      <td>[dc comics, crime fighter, terrorist, secret i...</td>\n",
       "      <td>[Christian Bale, Michael Caine, Gary Oldman]</td>\n",
       "      <td>[Christopher Nolan]</td>\n",
       "      <td>[Following, the, death, of, District, Attorney...</td>\n",
       "    </tr>\n",
       "    <tr>\n",
       "      <th>4</th>\n",
       "      <td>49529</td>\n",
       "      <td>John Carter</td>\n",
       "      <td>[John, Carter, is, a, war-weary,, former, mili...</td>\n",
       "      <td>[Lost, in, our, world,, found, in, another.]</td>\n",
       "      <td>[Action, Adventure, Science Fiction]</td>\n",
       "      <td>[based on novel, mars, medallion, space travel...</td>\n",
       "      <td>[Taylor Kitsch, Lynn Collins, Samantha Morton]</td>\n",
       "      <td>[Andrew Stanton]</td>\n",
       "      <td>[John, Carter, is, a, war-weary,, former, mili...</td>\n",
       "    </tr>\n",
       "  </tbody>\n",
       "</table>\n",
       "</div>"
      ],
      "text/plain": [
       "   movie_id                                     title  \\\n",
       "0     19995                                    Avatar   \n",
       "1       285  Pirates of the Caribbean: At World's End   \n",
       "2    206647                                   Spectre   \n",
       "3     49026                     The Dark Knight Rises   \n",
       "4     49529                               John Carter   \n",
       "\n",
       "                                            overview  \\\n",
       "0  [In, the, 22nd, century,, a, paraplegic, Marin...   \n",
       "1  [Captain, Barbossa,, long, believed, to, be, d...   \n",
       "2  [A, cryptic, message, from, Bond’s, past, send...   \n",
       "3  [Following, the, death, of, District, Attorney...   \n",
       "4  [John, Carter, is, a, war-weary,, former, mili...   \n",
       "\n",
       "                                             tagline  \\\n",
       "0                  [Enter, the, World, of, Pandora.]   \n",
       "1  [At, the, end, of, the, world,, the, adventure...   \n",
       "2                        [A, Plan, No, One, Escapes]   \n",
       "3                                [The, Legend, Ends]   \n",
       "4       [Lost, in, our, world,, found, in, another.]   \n",
       "\n",
       "                                          genres  \\\n",
       "0  [Action, Adventure, Fantasy, Science Fiction]   \n",
       "1                   [Adventure, Fantasy, Action]   \n",
       "2                     [Action, Adventure, Crime]   \n",
       "3               [Action, Crime, Drama, Thriller]   \n",
       "4           [Action, Adventure, Science Fiction]   \n",
       "\n",
       "                                            keywords  \\\n",
       "0  [culture clash, future, space war, space colon...   \n",
       "1  [ocean, drug abuse, exotic island, east india ...   \n",
       "2  [spy, based on novel, secret agent, sequel, mi...   \n",
       "3  [dc comics, crime fighter, terrorist, secret i...   \n",
       "4  [based on novel, mars, medallion, space travel...   \n",
       "\n",
       "                                               cast                 crew  \\\n",
       "0  [Sam Worthington, Zoe Saldana, Sigourney Weaver]      [James Cameron]   \n",
       "1     [Johnny Depp, Orlando Bloom, Keira Knightley]     [Gore Verbinski]   \n",
       "2      [Daniel Craig, Christoph Waltz, Léa Seydoux]         [Sam Mendes]   \n",
       "3      [Christian Bale, Michael Caine, Gary Oldman]  [Christopher Nolan]   \n",
       "4    [Taylor Kitsch, Lynn Collins, Samantha Morton]     [Andrew Stanton]   \n",
       "\n",
       "                                                tags  \n",
       "0  [In, the, 22nd, century,, a, paraplegic, Marin...  \n",
       "1  [Captain, Barbossa,, long, believed, to, be, d...  \n",
       "2  [A, cryptic, message, from, Bond’s, past, send...  \n",
       "3  [Following, the, death, of, District, Attorney...  \n",
       "4  [John, Carter, is, a, war-weary,, former, mili...  "
      ]
     },
     "execution_count": 40,
     "metadata": {},
     "output_type": "execute_result"
    }
   ],
   "source": [
    "movies.head()"
   ]
  },
  {
   "cell_type": "code",
   "execution_count": 41,
   "id": "b2f7b2d1",
   "metadata": {},
   "outputs": [
    {
     "data": {
      "text/plain": [
       "['In',\n",
       " 'the',\n",
       " '22nd',\n",
       " 'century,',\n",
       " 'a',\n",
       " 'paraplegic',\n",
       " 'Marine',\n",
       " 'is',\n",
       " 'dispatched',\n",
       " 'to',\n",
       " 'the',\n",
       " 'moon',\n",
       " 'Pandora',\n",
       " 'on',\n",
       " 'a',\n",
       " 'unique',\n",
       " 'mission,',\n",
       " 'but',\n",
       " 'becomes',\n",
       " 'torn',\n",
       " 'between',\n",
       " 'following',\n",
       " 'orders',\n",
       " 'and',\n",
       " 'protecting',\n",
       " 'an',\n",
       " 'alien',\n",
       " 'civilization.',\n",
       " 'Enter',\n",
       " 'the',\n",
       " 'World',\n",
       " 'of',\n",
       " 'Pandora.',\n",
       " 'Action',\n",
       " 'Adventure',\n",
       " 'Fantasy',\n",
       " 'Science Fiction',\n",
       " 'culture clash',\n",
       " 'future',\n",
       " 'space war',\n",
       " 'space colony',\n",
       " 'society',\n",
       " 'space travel',\n",
       " 'futuristic',\n",
       " 'romance',\n",
       " 'space',\n",
       " 'alien',\n",
       " 'tribe',\n",
       " 'alien planet',\n",
       " 'cgi',\n",
       " 'marine',\n",
       " 'soldier',\n",
       " 'battle',\n",
       " 'love affair',\n",
       " 'anti war',\n",
       " 'power relations',\n",
       " 'mind and soul',\n",
       " '3d',\n",
       " 'Sam Worthington',\n",
       " 'Zoe Saldana',\n",
       " 'Sigourney Weaver',\n",
       " 'James Cameron']"
      ]
     },
     "execution_count": 41,
     "metadata": {},
     "output_type": "execute_result"
    }
   ],
   "source": [
    "movies['tags'][0]"
   ]
  },
  {
   "cell_type": "code",
   "execution_count": 42,
   "id": "f6bd9d65",
   "metadata": {},
   "outputs": [],
   "source": [
    "new_df=movies[['movie_id','title','tags']]"
   ]
  },
  {
   "cell_type": "code",
   "execution_count": 43,
   "id": "d5479ddf",
   "metadata": {},
   "outputs": [
    {
     "data": {
      "text/html": [
       "<div>\n",
       "<style scoped>\n",
       "    .dataframe tbody tr th:only-of-type {\n",
       "        vertical-align: middle;\n",
       "    }\n",
       "\n",
       "    .dataframe tbody tr th {\n",
       "        vertical-align: top;\n",
       "    }\n",
       "\n",
       "    .dataframe thead th {\n",
       "        text-align: right;\n",
       "    }\n",
       "</style>\n",
       "<table border=\"1\" class=\"dataframe\">\n",
       "  <thead>\n",
       "    <tr style=\"text-align: right;\">\n",
       "      <th></th>\n",
       "      <th>movie_id</th>\n",
       "      <th>title</th>\n",
       "      <th>tags</th>\n",
       "    </tr>\n",
       "  </thead>\n",
       "  <tbody>\n",
       "    <tr>\n",
       "      <th>0</th>\n",
       "      <td>19995</td>\n",
       "      <td>Avatar</td>\n",
       "      <td>[In, the, 22nd, century,, a, paraplegic, Marin...</td>\n",
       "    </tr>\n",
       "    <tr>\n",
       "      <th>1</th>\n",
       "      <td>285</td>\n",
       "      <td>Pirates of the Caribbean: At World's End</td>\n",
       "      <td>[Captain, Barbossa,, long, believed, to, be, d...</td>\n",
       "    </tr>\n",
       "    <tr>\n",
       "      <th>2</th>\n",
       "      <td>206647</td>\n",
       "      <td>Spectre</td>\n",
       "      <td>[A, cryptic, message, from, Bond’s, past, send...</td>\n",
       "    </tr>\n",
       "    <tr>\n",
       "      <th>3</th>\n",
       "      <td>49026</td>\n",
       "      <td>The Dark Knight Rises</td>\n",
       "      <td>[Following, the, death, of, District, Attorney...</td>\n",
       "    </tr>\n",
       "    <tr>\n",
       "      <th>4</th>\n",
       "      <td>49529</td>\n",
       "      <td>John Carter</td>\n",
       "      <td>[John, Carter, is, a, war-weary,, former, mili...</td>\n",
       "    </tr>\n",
       "  </tbody>\n",
       "</table>\n",
       "</div>"
      ],
      "text/plain": [
       "   movie_id                                     title  \\\n",
       "0     19995                                    Avatar   \n",
       "1       285  Pirates of the Caribbean: At World's End   \n",
       "2    206647                                   Spectre   \n",
       "3     49026                     The Dark Knight Rises   \n",
       "4     49529                               John Carter   \n",
       "\n",
       "                                                tags  \n",
       "0  [In, the, 22nd, century,, a, paraplegic, Marin...  \n",
       "1  [Captain, Barbossa,, long, believed, to, be, d...  \n",
       "2  [A, cryptic, message, from, Bond’s, past, send...  \n",
       "3  [Following, the, death, of, District, Attorney...  \n",
       "4  [John, Carter, is, a, war-weary,, former, mili...  "
      ]
     },
     "execution_count": 43,
     "metadata": {},
     "output_type": "execute_result"
    }
   ],
   "source": [
    "new_df.head()"
   ]
  },
  {
   "cell_type": "code",
   "execution_count": 44,
   "id": "c50bcde2",
   "metadata": {},
   "outputs": [
    {
     "name": "stderr",
     "output_type": "stream",
     "text": [
      "C:\\Users\\HP\\AppData\\Local\\Temp\\ipykernel_9604\\487797088.py:1: SettingWithCopyWarning: \n",
      "A value is trying to be set on a copy of a slice from a DataFrame.\n",
      "Try using .loc[row_indexer,col_indexer] = value instead\n",
      "\n",
      "See the caveats in the documentation: https://pandas.pydata.org/pandas-docs/stable/user_guide/indexing.html#returning-a-view-versus-a-copy\n",
      "  new_df['tags']=new_df['tags'].apply(lambda x:\" \".join(x))\n"
     ]
    }
   ],
   "source": [
    "new_df['tags']=new_df['tags'].apply(lambda x:\" \".join(x))"
   ]
  },
  {
   "cell_type": "code",
   "execution_count": 45,
   "id": "6d15d6a2",
   "metadata": {},
   "outputs": [
    {
     "data": {
      "text/html": [
       "<div>\n",
       "<style scoped>\n",
       "    .dataframe tbody tr th:only-of-type {\n",
       "        vertical-align: middle;\n",
       "    }\n",
       "\n",
       "    .dataframe tbody tr th {\n",
       "        vertical-align: top;\n",
       "    }\n",
       "\n",
       "    .dataframe thead th {\n",
       "        text-align: right;\n",
       "    }\n",
       "</style>\n",
       "<table border=\"1\" class=\"dataframe\">\n",
       "  <thead>\n",
       "    <tr style=\"text-align: right;\">\n",
       "      <th></th>\n",
       "      <th>movie_id</th>\n",
       "      <th>title</th>\n",
       "      <th>tags</th>\n",
       "    </tr>\n",
       "  </thead>\n",
       "  <tbody>\n",
       "    <tr>\n",
       "      <th>0</th>\n",
       "      <td>19995</td>\n",
       "      <td>Avatar</td>\n",
       "      <td>In the 22nd century, a paraplegic Marine is di...</td>\n",
       "    </tr>\n",
       "    <tr>\n",
       "      <th>1</th>\n",
       "      <td>285</td>\n",
       "      <td>Pirates of the Caribbean: At World's End</td>\n",
       "      <td>Captain Barbossa, long believed to be dead, ha...</td>\n",
       "    </tr>\n",
       "    <tr>\n",
       "      <th>2</th>\n",
       "      <td>206647</td>\n",
       "      <td>Spectre</td>\n",
       "      <td>A cryptic message from Bond’s past sends him o...</td>\n",
       "    </tr>\n",
       "    <tr>\n",
       "      <th>3</th>\n",
       "      <td>49026</td>\n",
       "      <td>The Dark Knight Rises</td>\n",
       "      <td>Following the death of District Attorney Harve...</td>\n",
       "    </tr>\n",
       "    <tr>\n",
       "      <th>4</th>\n",
       "      <td>49529</td>\n",
       "      <td>John Carter</td>\n",
       "      <td>John Carter is a war-weary, former military ca...</td>\n",
       "    </tr>\n",
       "  </tbody>\n",
       "</table>\n",
       "</div>"
      ],
      "text/plain": [
       "   movie_id                                     title  \\\n",
       "0     19995                                    Avatar   \n",
       "1       285  Pirates of the Caribbean: At World's End   \n",
       "2    206647                                   Spectre   \n",
       "3     49026                     The Dark Knight Rises   \n",
       "4     49529                               John Carter   \n",
       "\n",
       "                                                tags  \n",
       "0  In the 22nd century, a paraplegic Marine is di...  \n",
       "1  Captain Barbossa, long believed to be dead, ha...  \n",
       "2  A cryptic message from Bond’s past sends him o...  \n",
       "3  Following the death of District Attorney Harve...  \n",
       "4  John Carter is a war-weary, former military ca...  "
      ]
     },
     "execution_count": 45,
     "metadata": {},
     "output_type": "execute_result"
    }
   ],
   "source": [
    "new_df.head()"
   ]
  },
  {
   "cell_type": "code",
   "execution_count": 46,
   "id": "7eaa1b3d",
   "metadata": {},
   "outputs": [
    {
     "data": {
      "text/plain": [
       "'In the 22nd century, a paraplegic Marine is dispatched to the moon Pandora on a unique mission, but becomes torn between following orders and protecting an alien civilization. Enter the World of Pandora. Action Adventure Fantasy Science Fiction culture clash future space war space colony society space travel futuristic romance space alien tribe alien planet cgi marine soldier battle love affair anti war power relations mind and soul 3d Sam Worthington Zoe Saldana Sigourney Weaver James Cameron'"
      ]
     },
     "execution_count": 46,
     "metadata": {},
     "output_type": "execute_result"
    }
   ],
   "source": [
    "new_df['tags'][0]"
   ]
  },
  {
   "cell_type": "code",
   "execution_count": 47,
   "id": "b91b4eea",
   "metadata": {},
   "outputs": [],
   "source": [
    "from sklearn.feature_extraction.text import TfidfVectorizer"
   ]
  },
  {
   "cell_type": "code",
   "execution_count": 48,
   "id": "16e78387",
   "metadata": {},
   "outputs": [],
   "source": [
    "vectorizer=TfidfVectorizer()"
   ]
  },
  {
   "cell_type": "code",
   "execution_count": 49,
   "id": "537b6185",
   "metadata": {},
   "outputs": [],
   "source": [
    "feature_vectors=vectorizer.fit_transform(new_df['tags'])"
   ]
  },
  {
   "cell_type": "code",
   "execution_count": 50,
   "id": "add7c134",
   "metadata": {},
   "outputs": [
    {
     "name": "stdout",
     "output_type": "stream",
     "text": [
      "  (0, 13060)\t0.029120875495575755\n",
      "  (0, 26201)\t0.0670522202005964\n",
      "  (0, 240)\t0.15887378780815548\n",
      "  (0, 4557)\t0.09487679505999033\n",
      "  (0, 19317)\t0.15519265570498858\n",
      "  (0, 16364)\t0.22019139055326079\n",
      "  (0, 13614)\t0.03360172910389206\n",
      "  (0, 7577)\t0.14487891861414998\n",
      "  (0, 26484)\t0.02488654910616385\n",
      "  (0, 17509)\t0.12139452180396305\n",
      "  (0, 19255)\t0.298768520383948\n",
      "  (0, 18770)\t0.03836362214350151\n",
      "  (0, 27388)\t0.12482483914900125\n",
      "  (0, 17294)\t0.08419319981284831\n",
      "  (0, 3919)\t0.049919686885670445\n",
      "  (0, 2562)\t0.0790193734502227\n",
      "  (0, 26591)\t0.11958522289281184\n",
      "  (0, 2845)\t0.08029665797746822\n",
      "  (0, 10062)\t0.11120737025871007\n",
      "  (0, 18878)\t0.12989895998365045\n",
      "  (0, 1223)\t0.05124047027327367\n",
      "  (0, 20711)\t0.13416535997533396\n",
      "  (0, 1187)\t0.04240949267828759\n",
      "  (0, 982)\t0.2788110986440932\n",
      "  (0, 5031)\t0.12895970559154935\n",
      "  :\t:\n",
      "  (4807, 7980)\t0.14204306652129406\n",
      "  (4807, 11505)\t0.11744285032623196\n",
      "  (4807, 3600)\t0.32047578354878187\n",
      "  (4807, 15427)\t0.10457077395110782\n",
      "  (4807, 9288)\t0.10138548319909936\n",
      "  (4807, 20573)\t0.08867455768290264\n",
      "  (4807, 23205)\t0.08069621762277716\n",
      "  (4807, 13893)\t0.09813473576354574\n",
      "  (4807, 3676)\t0.10644037037302545\n",
      "  (4807, 8000)\t0.28342674678693475\n",
      "  (4807, 2390)\t0.2926723920838922\n",
      "  (4807, 9779)\t0.10289836296265327\n",
      "  (4807, 10426)\t0.10746480472829772\n",
      "  (4807, 1749)\t0.09401545661759188\n",
      "  (4807, 6810)\t0.10746480472829772\n",
      "  (4807, 5934)\t0.11238796315230587\n",
      "  (4807, 22906)\t0.09935635555228112\n",
      "  (4807, 1735)\t0.11557325390431433\n",
      "  (4807, 7718)\t0.07294448510512426\n",
      "  (4807, 251)\t0.11956242393437708\n",
      "  (4807, 9609)\t0.11390084291585979\n",
      "  (4807, 11176)\t0.11100681213866989\n",
      "  (4807, 4071)\t0.11390084291585979\n",
      "  (4807, 28671)\t0.1330117720450829\n",
      "  (4807, 12178)\t0.55779124093058\n"
     ]
    }
   ],
   "source": [
    "print(feature_vectors)"
   ]
  },
  {
   "cell_type": "code",
   "execution_count": 51,
   "id": "88462351",
   "metadata": {},
   "outputs": [],
   "source": [
    "from sklearn.metrics.pairwise import cosine_similarity"
   ]
  },
  {
   "cell_type": "code",
   "execution_count": 52,
   "id": "85cf33cc",
   "metadata": {},
   "outputs": [],
   "source": [
    "similarity=cosine_similarity(feature_vectors)"
   ]
  },
  {
   "cell_type": "code",
   "execution_count": 53,
   "id": "4f5ee71f",
   "metadata": {},
   "outputs": [
    {
     "name": "stdout",
     "output_type": "stream",
     "text": [
      "[[1.         0.04378933 0.02725684 ... 0.02899817 0.03200857 0.00618613]\n",
      " [0.04378933 1.         0.04024915 ... 0.04722965 0.03035942 0.01411725]\n",
      " [0.02725684 0.04024915 1.         ... 0.02564689 0.05325758 0.01307847]\n",
      " ...\n",
      " [0.02899817 0.04722965 0.02564689 ... 1.         0.03618244 0.02778068]\n",
      " [0.03200857 0.03035942 0.05325758 ... 0.03618244 1.         0.03162343]\n",
      " [0.00618613 0.01411725 0.01307847 ... 0.02778068 0.03162343 1.        ]]\n"
     ]
    }
   ],
   "source": [
    "print(similarity)"
   ]
  },
  {
   "cell_type": "code",
   "execution_count": 54,
   "id": "a4138ad9",
   "metadata": {},
   "outputs": [
    {
     "data": {
      "text/plain": [
       "(4808, 4808)"
      ]
     },
     "execution_count": 54,
     "metadata": {},
     "output_type": "execute_result"
    }
   ],
   "source": [
    "similarity.shape"
   ]
  },
  {
   "cell_type": "code",
   "execution_count": 55,
   "id": "f438fe05",
   "metadata": {},
   "outputs": [
    {
     "name": "stdout",
     "output_type": "stream",
     "text": [
      "['Avatar', \"Pirates of the Caribbean: At World's End\", 'Spectre', 'The Dark Knight Rises', 'John Carter', 'Spider-Man 3', 'Tangled', 'Avengers: Age of Ultron', 'Harry Potter and the Half-Blood Prince', 'Batman v Superman: Dawn of Justice', 'Superman Returns', 'Quantum of Solace', \"Pirates of the Caribbean: Dead Man's Chest\", 'The Lone Ranger', 'Man of Steel', 'The Chronicles of Narnia: Prince Caspian', 'The Avengers', 'Pirates of the Caribbean: On Stranger Tides', 'Men in Black 3', 'The Hobbit: The Battle of the Five Armies', 'The Amazing Spider-Man', 'Robin Hood', 'The Hobbit: The Desolation of Smaug', 'The Golden Compass', 'King Kong', 'Titanic', 'Captain America: Civil War', 'Battleship', 'Jurassic World', 'Skyfall', 'Spider-Man 2', 'Iron Man 3', 'Alice in Wonderland', 'X-Men: The Last Stand', 'Monsters University', 'Transformers: Revenge of the Fallen', 'Transformers: Age of Extinction', 'Oz: The Great and Powerful', 'The Amazing Spider-Man 2', 'TRON: Legacy', 'Cars 2', 'Green Lantern', 'Toy Story 3', 'Terminator Salvation', 'Furious 7', 'World War Z', 'X-Men: Days of Future Past', 'Star Trek Into Darkness', 'Jack the Giant Slayer', 'The Great Gatsby', 'Prince of Persia: The Sands of Time', 'Pacific Rim', 'Transformers: Dark of the Moon', 'Indiana Jones and the Kingdom of the Crystal Skull', 'The Good Dinosaur', 'Brave', 'Star Trek Beyond', 'WALL·E', 'Rush Hour 3', '2012', 'A Christmas Carol', 'Jupiter Ascending', 'The Legend of Tarzan', 'The Chronicles of Narnia: The Lion, the Witch and the Wardrobe', 'X-Men: Apocalypse', 'The Dark Knight', 'Up', 'Monsters vs Aliens', 'Iron Man', 'Hugo', 'Wild Wild West', 'The Mummy: Tomb of the Dragon Emperor', 'Suicide Squad', 'Evan Almighty', 'Edge of Tomorrow', 'Waterworld', 'G.I. Joe: The Rise of Cobra', 'Inside Out', 'The Jungle Book', 'Iron Man 2', 'Snow White and the Huntsman', 'Maleficent', 'Dawn of the Planet of the Apes', 'The Lovers', '47 Ronin', 'Captain America: The Winter Soldier', 'Shrek Forever After', 'Tomorrowland', 'Big Hero 6', 'Wreck-It Ralph', 'The Polar Express', 'Independence Day: Resurgence', 'How to Train Your Dragon', 'Terminator 3: Rise of the Machines', 'Guardians of the Galaxy', 'Interstellar', 'Inception', 'Shin Godzilla', 'The Hobbit: An Unexpected Journey', 'The Fast and the Furious', 'The Curious Case of Benjamin Button', 'X-Men: First Class', 'The Hunger Games: Mockingjay - Part 2', \"The Sorcerer's Apprentice\", 'Poseidon', 'Alice Through the Looking Glass', 'Shrek the Third', 'Warcraft', 'Terminator Genisys', 'The Chronicles of Narnia: The Voyage of the Dawn Treader', 'Pearl Harbor', 'Transformers', 'Alexander', 'Harry Potter and the Order of the Phoenix', 'Harry Potter and the Goblet of Fire', 'Hancock', 'I Am Legend', 'Charlie and the Chocolate Factory', 'Ratatouille', 'Batman Begins', 'Madagascar: Escape 2 Africa', 'Night at the Museum: Battle of the Smithsonian', 'X-Men Origins: Wolverine', 'The Matrix Revolutions', 'Frozen', 'The Matrix Reloaded', 'Thor: The Dark World', 'Mad Max: Fury Road', 'Angels & Demons', 'Thor', 'Bolt', 'G-Force', 'Wrath of the Titans', 'Dark Shadows', 'Mission: Impossible - Rogue Nation', 'The Wolfman', 'Bee Movie', 'Kung Fu Panda 2', 'The Last Airbender', 'Mission: Impossible III', 'White House Down', 'Mars Needs Moms', 'Flushed Away', 'Pan', 'Mr. Peabody & Sherman', 'Troy', \"Madagascar 3: Europe's Most Wanted\", 'Die Another Day', 'Ghostbusters', 'Armageddon', 'Men in Black II', 'Beowulf', 'Kung Fu Panda 3', 'Mission: Impossible - Ghost Protocol', 'Rise of the Guardians', 'Fun with Dick and Jane', 'The Last Samurai', 'Exodus: Gods and Kings', 'Star Trek', 'Spider-Man', 'How to Train Your Dragon 2', 'Gods of Egypt', 'Stealth', 'Watchmen', 'Lethal Weapon 4', 'Hulk', 'G.I. Joe: Retaliation', 'Sahara', 'Final Fantasy: The Spirits Within', 'Captain America: The First Avenger', 'The World Is Not Enough', 'Master and Commander: The Far Side of the World', 'The Twilight Saga: Breaking Dawn - Part 2', 'Happy Feet Two', 'The Incredible Hulk', 'The BFG', 'The Revenant', 'Turbo', 'Rango', 'Penguins of Madagascar', 'The Bourne Ultimatum', 'Kung Fu Panda', 'Ant-Man', 'The Hunger Games: Catching Fire', 'Home', 'War of the Worlds', 'Bad Boys II', 'Puss in Boots', 'Salt', 'Noah', 'The Adventures of Tintin', 'Harry Potter and the Prisoner of Azkaban', 'Australia', 'After Earth', 'Dinosaur', 'Night at the Museum: Secret of the Tomb', 'Megamind', \"Harry Potter and the Philosopher's Stone\", 'R.I.P.D.', 'Pirates of the Caribbean: The Curse of the Black Pearl', 'The Hunger Games: Mockingjay - Part 1', 'The Da Vinci Code', 'Rio 2', 'X2', 'Fast Five', 'Sherlock Holmes: A Game of Shadows', 'Clash of the Titans', 'Total Recall', 'The 13th Warrior', 'The Bourne Legacy', 'Batman & Robin', 'How the Grinch Stole Christmas', 'The Day After Tomorrow', 'Mission: Impossible II', 'The Perfect Storm', 'Fantastic 4: Rise of the Silver Surfer', 'Life of Pi', 'Ghost Rider', 'Jason Bourne', \"Charlie's Angels: Full Throttle\", 'Prometheus', 'Stuart Little 2', 'Elysium', 'The Chronicles of Riddick', 'RoboCop', 'Speed Racer', 'How Do You Know', 'Knight and Day', 'Oblivion', 'Star Wars: Episode III - Revenge of the Sith', 'Star Wars: Episode II - Attack of the Clones', 'Monsters, Inc.', 'The Wolverine', 'Star Wars: Episode I - The Phantom Menace', 'The Croods', 'Asterix at the Olympic Games', 'Windtalkers', \"The Huntsman: Winter's War\", 'Teenage Mutant Ninja Turtles', 'Gravity', \"Dante's Peak\", 'Teenage Mutant Ninja Turtles: Out of the Shadows', 'Fantastic Four', 'Night at the Museum', 'San Andreas', 'Tomorrow Never Dies', 'The Patriot', \"Ocean's Twelve\", 'Mr. & Mrs. Smith', 'Insurgent', 'The Aviator', \"Gulliver's Travels\", 'The Green Hornet', '300: Rise of an Empire', 'The Smurfs', 'Home on the Range', 'Allegiant', 'Real Steel', 'The Smurfs 2', 'Speed 2: Cruise Control', \"Ender's Game\", 'Live Free or Die Hard', 'The Lord of the Rings: The Fellowship of the Ring', 'Around the World in 80 Days', 'Ali', 'The Cat in the Hat', 'I, Robot', 'Kingdom of Heaven', 'Stuart Little', 'The Princess and the Frog', 'The Martian', 'The Island', 'Town & Country', 'Gone in Sixty Seconds', 'Gladiator', 'Minority Report', 'Harry Potter and the Chamber of Secrets', 'Casino Royale', 'Planet of the Apes', 'Terminator 2: Judgment Day', 'Public Enemies', 'American Gangster', 'True Lies', 'The Taking of Pelham 1 2 3', 'Little Fockers', 'The Other Guys', 'Eraser', 'Django Unchained', 'The Hunchback of Notre Dame', \"The Emperor's New Groove\", 'The Expendables 2', 'National Treasure', 'Eragon', 'Where the Wild Things Are', 'Epic', 'The Tourist', 'End of Days', 'Blood Diamond', 'The Wolf of Wall Street', 'Batman Forever', 'Starship Troopers', 'Cloud Atlas', \"Legend of the Guardians: The Owls of Ga'Hoole\", 'Catwoman', 'Hercules', 'Treasure Planet', 'Land of the Lost', 'The Expendables 3', 'Point Break', 'Son of the Mask', 'In the Heart of the Sea', 'The Adventures of Pluto Nash', 'Green Zone', 'The Peanuts Movie', 'The Spanish Prisoner', 'The Mummy Returns', 'Gangs of New York', 'The Flowers of War', \"Surf's Up\", 'The Stepford Wives', 'Black Hawk Down', 'The Campaign', 'The Fifth Element', 'Sex and the City 2', 'The Road to El Dorado', 'Ice Age: Continental Drift', 'Cinderella', 'The Lovely Bones', 'Finding Nemo', 'The Lord of the Rings: The Return of the King', 'The Lord of the Rings: The Two Towers', 'Seventh Son', 'Lara Croft: Tomb Raider', 'Transcendence', 'Jurassic Park III', 'Rise of the Planet of the Apes', 'The Spiderwick Chronicles', 'A Good Day to Die Hard', 'The Alamo', 'The Incredibles', 'Cutthroat Island', 'Percy Jackson & the Olympians: The Lightning Thief', 'Men in Black', 'Toy Story 2', 'Unstoppable', 'Rush Hour 2', 'What Lies Beneath', 'Cloudy with a Chance of Meatballs', 'Ice Age: Dawn of the Dinosaurs', 'The Secret Life of Walter Mitty', \"Charlie's Angels\", 'The Departed', 'Mulan', 'Tropic Thunder', 'The Girl with the Dragon Tattoo', 'Die Hard: With a Vengeance', 'Sherlock Holmes', 'Ben-Hur', 'Atlantis: The Lost Empire', 'Alvin and the Chipmunks: The Road Chip', 'Valkyrie', \"You Don't Mess with the Zohan\", 'Pixels', 'A.I. Artificial Intelligence', 'The Haunted Mansion', 'Contact', 'Hollow Man', 'The Interpreter', 'Percy Jackson: Sea of Monsters', 'Lara Croft Tomb Raider: The Cradle of Life', 'Now You See Me 2', 'The Saint', 'Spy Game', 'Mission to Mars', 'Rio', 'Bicentennial Man', 'Volcano', \"The Devil's Own\", 'K-19: The Widowmaker', 'Conan the Barbarian', 'Cinderella Man', 'The Nutcracker: The Untold Story', 'Seabiscuit', 'Twister', 'Cast Away', 'Happy Feet', 'The Bourne Supremacy', 'Air Force One', \"Ocean's Eleven\", 'The Three Musketeers', 'Hotel Transylvania', 'Enchanted', 'Safe House', '102 Dalmatians', 'Tower Heist', 'The Holiday', 'Enemy of the State', \"It's Complicated\", \"Ocean's Thirteen\", 'Open Season', 'Divergent', 'Enemy at the Gates', 'The Rundown', 'Last Action Hero', 'Memoirs of a Geisha', 'The Fast and the Furious: Tokyo Drift', 'Arthur Christmas', 'Meet Joe Black', 'Collateral Damage', 'All That Jazz', 'Mirror Mirror', 'Scott Pilgrim vs. the World', 'The Core', 'Nutty Professor II: The Klumps', 'Scooby-Doo', 'Dredd', 'Click', 'Creepshow', 'Cats & Dogs 2 : The Revenge of Kitty Galore', 'Jumper', 'Hellboy II: The Golden Army', 'Zodiac', 'The 6th Day', 'Bruce Almighty', 'The Expendables', 'Mission: Impossible', 'The Hunger Games', 'The Hangover Part II', 'Batman Returns', 'Over the Hedge', 'Lilo & Stitch', \"Charlotte's Web\", 'Deep Impact', 'RED 2', 'The Longest Yard', 'Alvin and the Chipmunks: Chipwrecked', 'Grown Ups 2', 'Get Smart', \"Something's Gotta Give\", 'Shutter Island', 'Four Christmases', 'Robots', 'Face/Off', 'Bedtime Stories', 'Road to Perdition', 'Just Go with It', 'Con Air', 'Eagle Eye', 'Cold Mountain', 'The Book of Eli', 'Flubber', 'The Haunting', 'Space Jam', 'The Pink Panther', 'The Day the Earth Stood Still', 'Conspiracy Theory', 'Fury', 'Six Days Seven Nights', 'Yogi Bear', 'Spirit: Stallion of the Cimarron', 'Zookeeper', 'Lost in Space', 'The Manchurian Candidate', 'Déjà Vu', 'Hotel Transylvania 2', 'Fantasia 2000', 'The Time Machine', 'Mighty Joe Young', 'Swordfish', 'The Legend of Zorro', 'What Dreams May Come', 'Little Nicky', 'The Brothers Grimm', 'Mars Attacks!', 'Evolution', 'The Edge', 'Surrogates', 'Thirteen Days', 'Daylight', 'Walking With Dinosaurs', 'Battlefield Earth', 'Looney Tunes: Back in Action', 'Nine', 'Timeline', 'The Postman', 'Babe: Pig in the City', 'The Last Witch Hunter', 'Red Planet', 'Arthur and the Invisibles', 'Oceans', 'A Sound of Thunder', 'Pompeii', 'Top Cat Begins', 'A Beautiful Mind', 'The Lion King', 'Journey 2: The Mysterious Island', 'Cloudy with a Chance of Meatballs 2', 'Red Dragon', 'Hidalgo', 'Jack and Jill', '2 Fast 2 Furious', 'The Little Prince', 'The Invasion', 'The Adventures of Rocky & Bullwinkle', 'The Secret Life of Pets', 'The League of Extraordinary Gentlemen', 'Despicable Me 2', 'Independence Day', 'The Lost World: Jurassic Park', 'Madagascar', 'Children of Men', 'X-Men', 'Wanted', 'The Rock', 'Ice Age: The Meltdown', '50 First Dates', 'Hairspray', 'Exorcist: The Beginning', 'Inspector Gadget', 'Now You See Me', 'Grown Ups', 'The Terminal', 'Hotel for Dogs', 'Vertical Limit', \"Charlie Wilson's War\", 'Shark Tale', 'Dreamgirls', 'Be Cool', 'Munich', 'Tears of the Sun', 'Killers', 'The Man from U.N.C.L.E.', 'Spanglish', 'Monster House', 'Bandits', 'First Knight', 'Anna and the King', 'Immortals', 'Hostage', 'Titan A.E.', 'Hollywood Homicide', 'Soldier', 'Carriers', 'Monkeybone', 'Flight of the Phoenix', 'Unbreakable', 'Minions', 'Sucker Punch', 'Snake Eyes', 'Sphere', 'The Angry Birds Movie', \"Fool's Gold\", 'Funny People', 'The Kingdom', 'Talladega Nights: The Ballad of Ricky Bobby', 'Dr. Dolittle 2', 'Braveheart', 'Jarhead', 'The Simpsons Movie', 'The Majestic', 'Driven', 'Two Brothers', 'The Village', 'Doctor Dolittle', 'Signs', 'Shrek 2', 'Cars', 'Runaway Bride', 'xXx', 'The SpongeBob Movie: Sponge Out of Water', 'Ransom', 'Inglourious Basterds', 'Hook', 'Die Hard 2', 'S.W.A.T.', 'Vanilla Sky', 'Lady in the Water', 'AVP: Alien vs. Predator', 'Alvin and the Chipmunks: The Squeakquel', 'We Were Soldiers', 'Olympus Has Fallen', 'Star Trek: Insurrection', 'Battle: Los Angeles', 'Big Fish', 'Wolf', 'War Horse', 'The Monuments Men', 'The Abyss', 'Wall Street: Money Never Sleeps', 'Dracula Untold', 'The Siege', 'Stardust', 'Seven Years in Tibet', 'The Dilemma', 'Bad Company', 'Doom', 'I Spy', 'Underworld: Awakening', 'Rock of Ages', \"Hart's War\", 'Killer Elite', 'Rollerball', 'Ballistic: Ecks vs. Sever', 'Hard Rain', 'Osmosis Jones', \"Legends of Oz: Dorothy's Return\", 'Blackhat', 'Sky Captain and the World of Tomorrow', 'Basic Instinct 2', 'Escape Plan', 'The Legend of Hercules', 'The Sum of All Fears', 'The Twilight Saga: Eclipse', 'The Score', 'Despicable Me', 'Money Train', 'Ted 2', 'Agora', 'Mystery Men', 'Hall Pass', 'The Insider', 'The Finest Hours', 'Body of Lies', 'Dinner for Schmucks', 'Abraham Lincoln: Vampire Hunter', 'Entrapment', 'The X Files', 'The Last Legion', 'Saving Private Ryan', 'Need for Speed', 'What Women Want', 'Ice Age', 'Dreamcatcher', 'Lincoln', 'The Matrix', 'Apollo 13', 'The Santa Clause 2', 'Les Misérables', \"You've Got Mail\", 'Step Brothers', 'The Mask of Zorro', 'Due Date', 'Unbroken', 'Space Cowboys', 'Cliffhanger', 'Broken Arrow', 'The Kid', 'World Trade Center', 'Mona Lisa Smile', 'The Dictator', 'Eyes Wide Shut', 'Annie', 'Focus', 'This Means War', 'Blade: Trinity', 'Red Dawn', 'Primary Colors', 'Resident Evil: Retribution', 'Death Race', 'The Long Kiss Goodnight', 'Proof of Life', 'Zathura: A Space Adventure', 'Fight Club', 'We Are Marshall', 'Hudson Hawk', 'Lucky Numbers', 'I, Frankenstein', 'Oliver Twist', 'Elektra', 'Sin City: A Dame to Kill For', 'Random Hearts', 'Everest', 'Perfume: The Story of a Murderer', 'Austin Powers in Goldmember', 'Astro Boy', 'Jurassic Park', 'Wyatt Earp', 'Clear and Present Danger', 'Dragon Blade', 'Little Man', 'U-571', 'The American President', 'The Love Guru', '3000 Miles to Graceland', 'The Hateful Eight', 'Blades of Glory', 'Hop', '300', 'Meet the Fockers', 'Marley & Me', 'The Green Mile', 'Wild Hogs', 'Chicken Little', 'Gone Girl', 'The Bourne Identity', 'GoldenEye', \"The General's Daughter\", 'The Truman Show', 'The Prince of Egypt', 'Daddy Day Care', '2 Guns', 'Cats & Dogs', 'The Italian Job', 'Two Weeks Notice', 'Antz', 'Couples Retreat', 'Days of Thunder', 'Cheaper by the Dozen 2', 'Maze Runner: The Scorch Trials', 'Eat Pray Love', 'The Family Man', 'RED', 'Any Given Sunday', 'The Horse Whisperer', 'Collateral', 'The Scorpion King', 'Ladder 49', 'Jack Reacher', 'Deep Blue Sea', 'This Is It', 'Contagion', 'Kangaroo Jack', 'Coraline', 'The Happening', 'Man on Fire', 'The Shaggy Dog', 'Starsky & Hutch', 'Jingle All the Way', 'Hellboy', 'A Civil Action', 'ParaNorman', 'The Jackal', 'Paycheck', 'Up Close & Personal', 'The Tale of Despereaux', 'The Tuxedo', 'Under Siege 2: Dark Territory', 'Jack Ryan: Shadow Recruit', 'Joy', 'London Has Fallen', 'Alien: Resurrection', 'Shooter', 'The Boxtrolls', 'Practical Magic', 'The Lego Movie', 'Miss Congeniality 2: Armed and Fabulous', 'Reign of Fire', 'Gangster Squad', 'Year One', 'Invictus', 'State of Play', 'Duplicity', 'My Favorite Martian', 'The Sentinel', 'Planet 51', 'Star Trek: Nemesis', 'Intolerable Cruelty', 'Trouble with the Curve', 'Edge of Darkness', 'The Relic', 'Analyze That', 'Righteous Kill', 'Mercury Rising', 'The Soloist', 'The Legend of Bagger Vance', 'Almost Famous', 'Garfield: A Tail of Two Kitties', 'xXx: State of the Union', 'Priest', 'Sinbad: Legend of the Seven Seas', 'Event Horizon', 'Dragonfly', 'The Black Dahlia', 'Flyboys', 'The Last Castle', 'Supernova', \"Winter's Tale\", 'The Mortal Instruments: City of Bones', 'Meet Dave', 'Dark Water', 'Edtv', 'Inkheart', 'The Spirit', 'Mortdecai', 'In the Name of the King: A Dungeon Siege Tale', 'Beyond Borders', 'The Monkey King 2', 'The Great Raid', 'Deadpool', 'Holy Man', 'American Sniper', 'Goosebumps', 'Just Like Heaven', 'The Flintstones in Viva Rock Vegas', 'Rambo III', 'Leatherheads', 'The Ridiculous 6', 'Did You Hear About the Morgans?', 'The Internship', 'Resident Evil: Afterlife', 'Red Tails', \"The Devil's Advocate\", \"That's My Boy\", 'DragonHeart', 'After the Sunset', 'Ghost Rider: Spirit of Vengeance', \"Captain Corelli's Mandolin\", 'The Pacifier', 'Walking Tall', 'Forrest Gump', 'Alvin and the Chipmunks', 'Meet the Parents', 'Pocahontas', 'Superman', 'The Nutty Professor', 'Hitch', 'George of the Jungle', 'American Wedding', 'Captain Phillips', 'Date Night', 'Casper', 'The Equalizer', 'Maid in Manhattan', 'Crimson Tide', 'The Pursuit of Happyness', 'Flightplan', 'Disclosure', 'City of Angels', 'Kill Bill: Vol. 1', 'Bowfinger', 'Kill Bill: Vol. 2', 'Tango & Cash', 'Death Becomes Her', 'Shanghai Noon', 'Executive Decision', \"Mr. Popper's Penguins\", 'The Forbidden Kingdom', 'Free Birds', 'Alien³', 'Evita', 'Ronin', 'The Ghost and the Darkness', 'Paddington', 'The Watch', 'The Hunted', 'Instinct', 'Stuck on You', 'Semi-Pro', 'The Pirates! In an Adventure with Scientists!', 'Changeling', 'Chain Reaction', 'The Fan', 'The Phantom of the Opera', 'Elizabeth: The Golden Age', 'Æon Flux', 'Gods and Generals', 'Turbulence', 'Imagine That', 'Muppets Most Wanted', 'Thunderbirds', 'Burlesque', 'A Very Long Engagement', 'Lolita', 'D-Tox', 'Blade II', 'Seven Pounds', 'Bullet to the Head', 'The Godfather: Part III', 'Elizabethtown', 'You, Me and Dupree', 'Superman II', 'Gigli', \"All the King's Men\", 'Shaft', 'Anastasia', 'Moulin Rouge!', 'Domestic Disturbance', 'Black Mass', 'Flags of Our Fathers', 'Law Abiding Citizen', 'Grindhouse', 'Beloved', 'Lucky You', 'Catch Me If You Can', 'Zero Dark Thirty', 'The Break-Up', 'Mamma Mia!', \"Valentine's Day\", 'The Dukes of Hazzard', 'The Thin Red Line', 'The Change-Up', 'Man on the Moon', 'Casino', 'From Paris with Love', 'Bulletproof Monk', 'Me, Myself & Irene', 'Barnyard', 'Deck the Halls', 'The Twilight Saga: New Moon', 'Shrek', 'The Adjustment Bureau', 'Robin Hood: Prince of Thieves', 'Jerry Maguire', 'Ted', 'As Good as It Gets', 'Patch Adams', 'Anchorman 2: The Legend Continues', 'Mr. Deeds', 'Super 8', 'Erin Brockovich', 'How to Lose a Guy in 10 Days', '22 Jump Street', 'Interview with the Vampire', 'Yes Man', 'Central Intelligence', 'Stepmom', \"Daddy's Home\", 'Into the Woods', 'Inside Man', 'Payback', 'Congo', 'We Bought a Zoo', 'Knowing', 'Failure to Launch', 'The Ring Two', 'Crazy, Stupid, Love.', 'Garfield', 'Christmas with the Kranks', 'Moneyball', 'Outbreak', 'Non-Stop', 'Race to Witch Mountain', 'V for Vendetta', 'Shanghai Knights', 'Curious George', 'Herbie Fully Loaded', \"Don't Say a Word\", 'Hansel & Gretel: Witch Hunters', 'Unfaithful', 'I Am Number Four', 'Syriana', '13 Hours: The Secret Soldiers of Benghazi', 'The Book of Life', 'Firewall', 'Absolute Power', 'G.I. Jane', 'The Game', 'Silent Hill', 'The Replacements', 'American Reunion', 'The Negotiator', 'Into the Storm', 'Beverly Hills Cop III', 'Gremlins 2: The New Batch', 'The Judge', 'The Peacemaker', 'Resident Evil: Apocalypse', 'Bridget Jones: The Edge of Reason', 'Out of Time', 'On Deadly Ground', 'The Adventures of Sharkboy and Lavagirl', 'The Beach', 'Raising Helen', 'Ninja Assassin', 'For Love of the Game', 'Striptease', 'Marmaduke', 'Hereafter', 'Murder by Numbers', 'Assassins', 'Hannibal Rising', 'The Story of Us', 'The Host', 'The Host', 'Basic', 'Blood Work', 'The International', 'Escape from L.A.', 'The Iron Giant', 'The Life Aquatic with Steve Zissou', 'Free State of Jones', 'The Life of David Gale', 'Man of the House', 'Run All Night', 'Eastern Promises', 'Into the Blue', 'The Messenger: The Story of Joan of Arc', 'Your Highness', 'Dream House', 'Mad City', \"Baby's Day Out\", 'The Scarlet Letter', 'Fair Game', 'Domino', 'Jade', 'Gamer', 'Beautiful Creatures', 'Death to Smoochy', 'Zoolander 2', 'The Big Bounce', 'What Planet Are You From?', 'Drive Angry', 'Street Fighter: The Legend of Chun-Li', 'The One', 'The Adventures of Ford Fairlane', 'The Boat That Rocked', 'Traffic', 'Indiana Jones and the Last Crusade', 'Anna Karenina', 'Chappie', 'The Bone Collector', 'Panic Room', 'The Tooth Fairy', 'Three Kings', 'Child 44', 'Rat Race', 'K-PAX', 'Kate & Leopold', 'Bedazzled', 'The Cotton Club', '3:10 to Yuma', 'Taken 3', 'Out of Sight', 'The Cable Guy', 'Earth', 'Dick Tracy', 'The Thomas Crown Affair', 'Riding in Cars with Boys', 'First Blood', 'Solaris', \"Happily N'Ever After\", 'Mary Reilly', \"My Best Friend's Wedding\", \"America's Sweethearts\", 'Insomnia', 'Star Trek: First Contact', 'Jonah Hex', 'Courage Under Fire', 'Liar Liar', 'The Infiltrator', 'Inchon', 'The Flintstones', 'Taken 2', 'Scary Movie 3', 'Miss Congeniality', 'Journey to the Center of the Earth', 'The Princess Diaries 2: Royal Engagement', 'The Pelican Brief', 'The Client', 'The Bucket List', 'Patriot Games', 'Monster-in-Law', 'Prisoners', 'Training Day', 'Galaxy Quest', 'Scary Movie 2', 'The Muppets', 'Blade', 'Coach Carter', 'Changing Lanes', 'Anaconda', 'Coyote Ugly', 'Love Actually', \"A Bug's Life\", 'From Hell', 'The Specialist', 'Tin Cup', 'Yours, Mine and Ours', 'Kicking & Screaming', \"The Hitchhiker's Guide to the Galaxy\", 'Fat Albert', 'Resident Evil: Extinction', 'Blended', 'Last Holiday', 'The River Wild', 'The Indian in the Cupboard', 'Savages', 'Cellular', 'Johnny English', 'The Ant Bully', 'Dune', 'Across the Universe', 'Revolutionary Road', '16 Blocks', 'Babylon A.D.', 'The Glimmer Man', 'Multiplicity', 'Aliens in the Attic', 'The Pledge', 'The Producers', 'The Phantom', 'All the Pretty Horses', 'Nixon', 'The Ghost Writer', 'Deep Rising', 'Miracle at St. Anna', 'Curse of the Golden Flower', 'Bangkok Dangerous', 'Big Trouble', 'Love in the Time of Cholera', 'Shadow Conspiracy', 'Johnny English Reborn', 'Foodfight!', 'Argo', 'The Fugitive', 'The Bounty Hunter', 'Sleepers', 'Rambo: First Blood Part II', 'The Juror', 'Pinocchio', \"Heaven's Gate\", 'Underworld: Evolution', 'Victor Frankenstein', 'Finding Forrester', '28 Days', 'Unleashed', 'The Sweetest Thing', 'The Firm', 'Charlie St. Cloud', 'The Mechanic', '21 Jump Street', 'Notting Hill', 'Chicken Run', 'Along Came Polly', 'Boomerang', 'The Heat', 'Cleopatra', 'Here Comes the Boom', 'High Crimes', 'The Mirror Has Two Faces', 'The Mothman Prophecies', 'Brüno', 'Licence to Kill', 'Red Riding Hood', '15 Minutes', 'Super Mario Bros.', 'Lord of War', 'Hero', 'One for the Money', 'The Interview', \"The Warrior's Way\", 'Micmacs', '8 Mile', 'Why I Did (Not) Eat My Father', \"A Knight's Tale\", 'The Medallion', 'The Sixth Sense', 'Man on a Ledge', 'The Big Year', 'The Karate Kid', 'American Hustle', 'The Proposal', 'Double Jeopardy', 'Back to the Future Part II', 'Lucy', 'Fifty Shades of Grey', 'Spy Kids 3-D: Game Over', 'A Time to Kill', 'Cheaper by the Dozen', 'Lone Survivor', 'A League of Their Own', 'The Conjuring 2', 'The Social Network', \"He's Just Not That Into You\", 'Scary Movie 4', 'Scream 3', 'Back to the Future Part III', 'Get Hard', 'Dracula', 'Julie & Julia', '42', 'The Talented Mr. Ripley', 'Dumb and Dumber To', 'Eight Below', 'The Intern', 'Ride Along 2', 'The Last of the Mohicans', 'Ray', 'Sin City', 'Vantage Point', 'I Love You, Man', 'Shallow Hal', 'JFK', \"Big Momma's House 2\", 'The Mexican', '17 Again', 'The Other Woman', 'The Final Destination', 'Bridge of Spies', 'Behind Enemy Lines', 'Get Him to the Greek', 'Shall We Dance?', 'Small Soldiers', 'Spawn', 'The Count of Monte Cristo', 'The Lincoln Lawyer', 'Unknown', 'The Prestige', 'Horrible Bosses 2', 'Escape from Planet Earth', 'Apocalypto', 'The Living Daylights', 'Predators', 'Legal Eagles', 'Secret Window', 'The Lake House', 'The Skeleton Key', 'The Odd Life of Timothy Green', 'Made of Honor', 'Jersey Boys', 'The Rainmaker', 'Gothika', 'Amistad', 'Medicine Man', 'Aliens vs Predator: Requiem', 'Ri¢hie Ri¢h', 'Autumn in New York', 'Music and Lyrics', 'Paul', 'The Guilt Trip', 'Scream 4', '8MM', 'The Doors', 'Sex Tape', 'Hanging Up', 'Final Destination 5', 'Mickey Blue Eyes', 'Pay It Forward', 'Fever Pitch', 'Drillbit Taylor', 'A Million Ways to Die in the West', 'The Shadow', 'Extremely Loud & Incredibly Close', 'Morning Glory', \"Get Rich or Die Tryin'\", 'The Art of War', 'Rent', 'Bless the Child', 'The Out-of-Towners', 'The Island of Dr. Moreau', 'The Musketeer', 'The Other Boleyn Girl', 'Sweet November', 'The Reaping', 'Mean Streets', 'Renaissance Man', 'Colombiana', 'Quest for Camelot', 'City By The Sea', 'At First Sight', 'Torque', 'City Hall', 'Showgirls', 'Marie Antoinette', 'Kiss of Death', 'Get Carter', 'The Impossible', 'Ishtar', 'Fantastic Mr. Fox', 'Life or Something Like It', 'Memoirs of an Invisible Man', 'Amélie', 'New York Minute', 'Alfie', 'Big Miracle', 'The Deep End of the Ocean', 'FearDotCom', \"Cirque du Freak: The Vampire's Assistant\", 'Duplex', 'Soul Men', 'Raise the Titanic', 'Universal Soldier: The Return', 'Pandorum', 'Impostor', 'Extreme Ops', 'Just Visiting', 'Sunshine', 'A Thousand Words', 'Delgo', 'The Gunman', 'Stormbreaker', 'Disturbia', 'Hackers', 'The Hunting Party', 'The Hudsucker Proxy', 'The Warlords', 'Nomad: The Warrior', 'Snowpiercer', 'A Monster in Paris', 'The Last Shot', 'The Crow', 'Baahubali: The Beginning', \"The Time Traveler's Wife\", 'Because I Said So', 'Frankenweenie', 'Serenity', 'Against the Ropes', 'Superman III', 'Grudge Match', 'Red Cliff', 'Sweet Home Alabama', 'The Ugly Truth', 'Sgt. Bilko', 'Spy Kids 2: The Island of Lost Dreams', 'Star Trek: Generations', 'The Grandmaster', 'Water for Elephants', \"Dragon Nest: Warriors' Dawn\", 'The Hurricane', 'Enough', 'Heartbreakers', 'Paul Blart: Mall Cop 2', 'Angel Eyes', 'Joe Somebody', 'The Ninth Gate', 'Extreme Measures', 'Rock Star', 'Precious', 'White Squall', 'The Thing', 'Riddick', 'Switchback', 'Texas Rangers', 'City of Ember', 'The Master', 'Virgin Territory', 'The Express', 'The 5th Wave', 'Creed', 'The Town', \"What to Expect When You're Expecting\", 'Burn After Reading', \"Nim's Island\", 'Rush', 'Magnolia', 'Cop Out', 'How to Be Single', 'Dolphin Tale', 'Twilight', 'John Q', 'Blue Streak', \"We're the Millers\", 'The Inhabited Island', 'Breakdown', 'Never Say Never Again', 'Hot Tub Time Machine', 'Dolphin Tale 2', 'Reindeer Games', 'A Man Apart', 'Aloha', 'Ghosts of Mississippi', 'Snow Falling on Cedars', 'The Rite', 'Gattaca', \"Isn't She Great\", 'Space Chimps', 'Head of State', 'The Hangover', 'Ip Man 3', 'Austin Powers: The Spy Who Shagged Me', 'Batman', 'Batman', 'There Be Dragons', 'Lethal Weapon 3', 'The Blind Side', 'Spy Kids', 'Horrible Bosses', 'True Grit', 'The Devil Wears Prada', 'Star Trek: The Motion Picture', 'Identity Thief', 'Cape Fear', '21', 'Trainwreck', 'Guess Who', 'The English Patient', 'L.A. Confidential', 'Sky High', 'In & Out', 'Species', 'A Nightmare on Elm Street', 'The Cell', 'The Man in the Iron Mask', 'Secretariat', 'TMNT', 'Radio', 'Friends with Benefits', 'Neighbors 2: Sorority Rising', 'Saving Mr. Banks', 'Malcolm X', 'This Is 40', 'Old Dogs', 'Underworld: Rise of the Lycans', 'License to Wed', 'The Benchwarmers', 'Must Love Dogs', 'Donnie Brasco', 'Resident Evil', 'Poltergeist', 'The Ladykillers', 'Max Payne', 'In Time', 'The Back-Up Plan', 'Something Borrowed', 'Black Knight', 'The Bad News Bears', 'Street Fighter', 'The Pianist', 'The Nativity Story', 'House of Wax', 'Closer', 'J. Edgar', 'Mirrors', 'Queen of the Damned', 'Predator 2', 'Untraceable', 'Blast from the Past', 'Flash Gordon', 'Jersey Girl', 'Alex Cross', 'Midnight in the Garden of Good and Evil', 'Heist', 'Nanny McPhee and the Big Bang', 'Hoffa', 'The X Files: I Want to Believe', 'Ella Enchanted', 'Concussion', 'Abduction', 'Valiant', 'Wonder Boys', 'Superhero Movie', 'Broken City', 'Cursed', 'Premium Rush', 'Hot Pursuit', 'The Four Feathers', 'Parker', 'Wimbledon', 'Furry Vengeance', 'Bait', 'Krull', 'Lions for Lambs', 'Flight of the Intruder', 'Walk Hard: The Dewey Cox Story', 'The Shipping News', 'American Outlaws', 'The Young Victoria', 'Whiteout', 'The Tree of Life', 'Knock Off', 'Sabotage', 'The Order', 'Punisher: War Zone', 'Zoom', 'The Walk', 'Warriors of Virtue', 'A Good Year', 'Radio Flyer', 'Bound by Honor', \"Smilla's Sense of Snow\", 'Femme Fatale', 'Lion of the Desert', 'The Horseman on the Roof', 'Ride with the Devil', 'Biutiful', 'Bandidas', 'Black Water Transit', 'The Maze Runner', 'Unfinished Business', 'The Age of Innocence', 'The Fountain', 'Chill Factor', 'Stolen', 'Ponyo', 'The Longest Ride', \"The Astronaut's Wife\", 'I Dreamed of Africa', 'Playing for Keeps', 'Mandela: Long Walk to Freedom', 'Reds', 'A Few Good Men', 'Exit Wounds', \"Big Momma's House\", 'Thunder and the House of Magic', 'The Darkest Hour', 'Step Up Revolution', 'Snakes on a Plane', 'The Watcher', 'The Punisher', 'Goal!: The Dream Begins', 'Safe', 'Pushing Tin', 'Return of the Jedi', 'Doomsday', 'The Reader', 'Wanderlust', 'Elf', 'Phenomenon', 'Snow Dogs', 'Scrooged', 'Nacho Libre', 'Bridesmaids', 'This Is the End', 'Stigmata', 'Men of Honor', 'Takers', 'The Big Wedding', 'Big Mommas: Like Father, Like Son', 'Source Code', 'Alive', 'The Number 23', 'The Young and Prodigious T.S. Spivet', '1941', 'Dreamer: Inspired By a True Story', 'A History of Violence', 'Transporter 2', 'The Quick and the Dead', 'Laws of Attraction', 'Bringing Out the Dead', 'Repo Men', 'Dragon Wars: D-War', 'Bogus', 'The Incredible Burt Wonderstone', \"Cats Don't Dance\", 'Cradle Will Rock', 'The Good German', 'George and the Dragon', 'Apocalypse Now', 'Going the Distance', \"Mr. Holland's Opus\", 'Criminal', 'Out of Africa', 'Flight', 'Moonraker', 'The Grand Budapest Hotel', 'Hearts in Atlantis', 'Arachnophobia', 'Frequency', 'Vacation', 'Get Shorty', 'Chicago', 'Big Daddy', 'American Pie 2', 'Toy Story', 'Speed', 'The Vow', 'Extraordinary Measures', 'Remember the Titans', 'The Hunt for Red October', 'The Butler', 'DodgeBall: A True Underdog Story', 'The Addams Family', 'Ace Ventura: When Nature Calls', 'The Princess Diaries', 'The First Wives Club', 'Se7en', 'District 9', 'The SpongeBob SquarePants Movie', 'Mystic River', 'Million Dollar Baby', 'Analyze This', 'The Notebook', '27 Dresses', 'Hannah Montana: The Movie', 'Rugrats in Paris: The Movie', 'The Prince of Tides', 'Legends of the Fall', 'Up in the Air', 'About Schmidt', 'Warm Bodies', 'Looper', 'Down to Earth', 'Babe', 'Hope Springs', 'Forgetting Sarah Marshall', 'Four Brothers', 'Baby Mama', 'Hope Floats', 'Bride Wars', 'Without a Paddle', '13 Going on 30', 'Midnight in Paris', 'The Nut Job', 'Blow', 'Message in a Bottle', 'Star Trek V: The Final Frontier', 'Like Mike', 'The Naked Gun 33⅓: The Final Insult', 'A View to a Kill', 'The Curse of the Were-Rabbit', 'P.S. I Love You', 'Racing Stripes', 'Atonement', 'Letters to Juliet', 'Black Rain', 'The Three Stooges', 'Corpse Bride', 'Glory Road', 'Sicario', 'Southpaw', 'Drag Me to Hell', 'The Age of Adaline', 'Secondhand Lions', 'Step Up 3D', 'Blue Crush', 'Stranger Than Fiction', '30 Days of Night', 'The Cabin in the Woods', 'Meet the Spartans', 'Midnight Run', 'The Running Man', 'Little Shop of Horrors', 'Hanna', 'Mortal Kombat: Annihilation', 'Larry Crowne', 'Carrie', 'Take the Lead', 'Gridiron Gang', \"What's the Worst That Could Happen?\", '9', 'Side Effects', 'The Prince & Me', 'Winnie the Pooh', 'Dumb and Dumberer: When Harry Met Lloyd', 'Bulworth', 'Get on Up', 'One True Thing', 'Virtuosity', 'My Super Ex-Girlfriend', 'Deliver Us from Evil', 'Sanctum', 'Little Black Book', 'The Five-Year Engagement', 'Mr. 3000', 'The Next Three Days', 'Ultraviolet', 'Assault on Precinct 13', 'The Replacement Killers', 'Fled', 'Eight Legged Freaks', 'Love & Other Drugs', '88 Minutes', 'North Country', 'The Whole Ten Yards', 'Splice', 'Howard the Duck', 'Pride and Glory', 'The Cave', 'Alex & Emma', 'Wicker Park', 'Fright Night', 'The New World', 'Wing Commander', 'In Dreams', 'Dragonball Evolution', 'The Last Stand', 'Godsend', 'Chasing Liberty', 'Hoodwinked Too! Hood VS. Evil', 'An Unfinished Life', 'The Imaginarium of Doctor Parnassus', \"Barney's Version\", 'Runner Runner', 'Antitrust', 'Glory', 'Once Upon a Time in America', 'Dead Man Down', 'The Merchant of Venice', 'The Good Thief', 'Supercross', 'Miss Potter', 'The Promise', 'DOA: Dead or Alive', 'The Assassination of Jesse James by the Coward Robert Ford', '1911', 'Little Nicholas', 'Wild Card', 'Machine Gun Preacher', 'Animals United', 'Goodbye Bafana', 'United Passions', 'Grace of Monaco', 'Savva. Heart of the Warrior', \"Ripley's Game\", 'Sausage Party', 'Pitch Perfect 2', 'Walk the Line', 'Keeping the Faith', 'The Borrowers', 'Frost/Nixon', 'Confessions of a Dangerous Mind', 'Serving Sara', 'The Boss', 'Cry Freedom', 'Mumford', 'Seed of Chucky', 'The Jacket', 'Aladdin', 'Straight Outta Compton', 'Indiana Jones and the Temple of Doom', 'The Rugrats Movie', 'Along Came a Spider', 'Florence Foster Jenkins', 'Once Upon a Time in Mexico', 'Die Hard', 'Role Models', 'The Big Short', 'Taking Woodstock', 'Miracle', 'Dawn of the Dead', 'The Wedding Planner', 'Space Pirate Captain Harlock', 'The Royal Tenenbaums', 'Identity', 'Last Vegas', 'For Your Eyes Only', 'Serendipity', 'Timecop', 'Zoolander', 'Safe Haven', 'Hocus Pocus', 'No Reservations', 'Kick-Ass', '30 Minutes or Less', 'Dracula 2000', 'Alexander and the Terrible, Horrible, No Good, Very Bad Day', 'Pride & Prejudice', 'Blade Runner', 'Rob Roy', '3 Days to Kill', 'We Own the Night', 'Lost Souls', 'Winged Migration', 'Just My Luck', 'Mystery, Alaska', 'The Spy Next Door', 'A Simple Wish', 'Ghosts of Mars', 'Our Brand Is Crisis', 'Pride and Prejudice and Zombies', 'Kundun', 'How to Lose Friends & Alienate People', 'Kick-Ass 2', 'Alatriste', 'Brick Mansions', 'Octopussy', 'Knocked Up', \"My Sister's Keeper\", 'Welcome Home Roscoe Jenkins', 'A Passage to India', 'Notes on a Scandal', 'Rendition', 'Star Trek VI: The Undiscovered Country', 'Divine Secrets of the Ya-Ya Sisterhood', 'Kiss the Girls', 'The Blues Brothers', 'The Sisterhood of the Traveling Pants 2', 'Joyful Noise', 'About a Boy', 'Lake Placid', 'Lucky Number Slevin', 'The Right Stuff', 'Anonymous', 'The NeverEnding Story', 'Dark City', 'The Duchess', 'Return to Oz', 'The Newton Boys', 'Case 39', 'Suspect Zero', 'Martian Child', 'Spy Kids: All the Time in the World', 'Money Monster', 'The 51st State', 'Flawless', 'Mindhunters', 'What Just Happened', 'The Statement', 'The Magic Flute', 'Paul Blart: Mall Cop', 'Freaky Friday', 'The 40 Year Old Virgin', 'Shakespeare in Love', 'A Walk Among the Tombstones', 'Kindergarten Cop', 'Pineapple Express', 'Ever After: A Cinderella Story', 'Open Range', 'Flatliners', 'A Bridge Too Far', 'Red Eye', 'Final Destination 2', 'O Brother, Where Art Thou?', 'Legion', 'Pain & Gain', 'In Good Company', 'Clockstoppers', 'Silverado', 'Brothers', 'Agent Cody Banks 2: Destination London', \"New Year's Eve\", 'Original Sin', 'The Raven', 'Welcome to Mooseport', 'Highlander: The Final Dimension', 'Blood and Wine', 'Snow White: A Tale of Terror', 'The Curse of the Jade Scorpion', 'Accidental Love', 'Flipper', 'Self/less', 'The Constant Gardener', 'The Passion of the Christ', 'Mrs. Doubtfire', 'Rain Man', 'Gran Torino', 'W.', 'Taken', 'The Best of Me', 'The Bodyguard', \"Schindler's List\", 'The Help', 'The Fifth Estate', 'Scooby-Doo 2: Monsters Unleashed', 'Forbidden Kingdom', 'Freddy vs. Jason', 'The Face of an Angel', 'Jimmy Neutron: Boy Genius', 'Cloverfield', 'Teenage Mutant Ninja Turtles II: The Secret of the Ooze', 'The Untouchables', 'No Country for Old Men', 'Ride Along', \"Bridget Jones's Diary\", 'Chocolat', 'Legally Blonde 2: Red, White & Blonde', 'Parental Guidance', 'No Strings Attached', 'Tombstone', 'Romeo Must Die', 'The Omen', 'Final Destination 3', 'The Lucky One', 'Bridge to Terabithia', 'Finding Neverland', 'A Madea Christmas', 'The Grey', 'Hide and Seek', 'Anchorman: The Legend of Ron Burgundy', 'GoodFellas', 'Agent Cody Banks', 'Nanny McPhee', 'Scarface', 'Nothing to Lose', 'The Last Emperor', 'Contraband', 'Money Talks', 'There Will Be Blood', 'The Wild Thornberrys Movie', 'Rugrats Go Wild', 'Undercover Brother', 'The Sisterhood of the Traveling Pants', 'Kiss of the Dragon', 'The House Bunny', 'Beauty Shop', 'Million Dollar Arm', 'The Giver', 'What a Girl Wants', 'Jeepers Creepers 2', 'Good Luck Chuck', 'Cradle 2 the Grave', 'The Hours', \"She's the Man\", \"Mr. Bean's Holiday\", 'Anacondas: The Hunt for the Blood Orchid', 'Blood Ties', 'August Rush', 'Elizabeth', 'Bride of Chucky', 'Tora! Tora! Tora!', 'Spice World', 'The Sitter', 'Dance Flick', 'The Shawshank Redemption', 'Crocodile Dundee in Los Angeles', 'Kingpin', 'The Gambler', 'August: Osage County', 'Ice Princess', 'A Lot Like Love', 'Eddie the Eagle', 'He Got Game', 'Don Juan DeMarco', 'Dear John', 'The Losers', \"Don't Be Afraid of the Dark\", 'War', 'Punch-Drunk Love', 'EuroTrip', 'Half Past Dead', 'Unaccompanied Minors', 'Bright Lights, Big City', 'The Adventures of Pinocchio', 'The Greatest Game Ever Played', 'The Box', 'The Ruins', 'The Next Best Thing', 'My Soul to Take', 'The Girl Next Door', 'Maximum Risk', 'Stealing Harvard', 'Legend', 'Hot Rod', 'Shark Night', \"Angela's Ashes\", 'Draft Day', 'Lifeforce', 'The Conspirator', 'Lords of Dogtown', 'The 33', 'Big Trouble in Little China', 'Fly Me to the Moon', 'Warrior', 'Michael Collins', 'Gettysburg', 'Stop-Loss', 'Abandon', 'Brokedown Palace', 'The Possession', 'Mrs. Winterbourne', 'Straw Dogs', 'The Hoax', 'Stone Cold', 'The Road', 'Sheena', 'Underclassman', \"Say It Isn't So\", \"The World's Fastest Indian\", 'Tank Girl', \"King's Ransom\", 'Blindness', 'BloodRayne', 'Carnage', 'Where the Truth Lies', 'Cirque du Soleil: Worlds Away', 'Without Limits', 'Me and Orson Welles', 'The Best Offer', 'The Bad Lieutenant: Port of Call - New Orleans', \"A Turtle's Tale: Sammy's Adventures\", 'Little White Lies', 'Love Ranch', \"The True Story of Puss 'n Boots\", 'Space Dogs', 'The Counselor', 'Ironclad', 'Waterloo', 'Kung Fu Jungle', 'Red Sky', 'Dangerous Liaisons', 'On the Road', 'Star Trek IV: The Voyage Home', 'Rocky Balboa', 'Scream 2', 'Jane Got a Gun', 'Think Like a Man Too', 'The Whole Nine Yards', 'Footloose', 'Old School', 'The Fisher King', 'I Still Know What You Did Last Summer', 'Return to Me', 'Zack and Miri Make a Porno', 'Nurse Betty', 'The Men Who Stare at Goats', 'Double Take', 'Girl, Interrupted', 'Win a Date with Tad Hamilton!', 'Muppets from Space', 'The Wiz', 'Ready to Rumble', 'Play It to the Bone', \"I Don't Know How She Does It\", 'Piranha 3D', 'Beyond the Sea', 'Meet the Deedles', 'The Thief and the Cobbler', 'The Bridge of San Luis Rey', 'Faster', \"Howl's Moving Castle\", 'Zombieland', 'The Waterboy', 'The Empire Strikes Back', 'Bad Boys', 'The Naked Gun 2½: The Smell of Fear', 'Final Destination', 'The Ides of March', 'Pitch Black', 'Someone Like You...', 'Her', 'Joy Ride', 'The Adventurer: The Curse of the Midas Box', 'Anywhere But Here', 'The Crew', 'Haywire', 'Jaws: The Revenge', \"Marvin's Room\", 'The Longshots', 'The End of the Affair', 'Harley Davidson and the Marlboro Man', 'In the Valley of Elah', 'Coco Before Chanel', 'Forsaken', 'Cheri', 'Vanity Fair', 'Bodyguards and Assassins', '1408', 'Spaceballs', 'The Water Diviner', 'Ghost', \"There's Something About Mary\", 'The Santa Clause', 'The Rookie', 'The Game Plan', 'The Bridges of Madison County', 'The Animal', 'Gandhi', 'The Hundred-Foot Journey', 'The Net', 'I Am Sam', 'Son of God', 'Underworld', 'Derailed', 'The Informant!', 'Shadowlands', 'Deuce Bigalow: European Gigolo', 'Delivery Man', 'Our Kind of Traitor', 'Saving Silverman', 'Diary of a Wimpy Kid: Dog Days', 'Summer of Sam', 'Jay and Silent Bob Strike Back', 'The Glass House', 'Hail, Caesar!', 'Josie and the Pussycats', 'Homefront', 'The Little Vampire', 'I Heart Huckabees', 'RoboCop 3', 'Megiddo: The Omega Code 2', 'Darling Lili', 'Dudley Do-Right', 'The Transporter Refueled', 'The Libertine', 'Black Book', 'Joyeux Noël', 'Hit & Run', 'Mad Money', 'Before I Go to Sleep', 'Sorcerer', 'Stone', 'Moliere', 'Out of the Furnace', 'Michael Clayton', 'My Fellow Americans', 'Arlington Road', 'Underdogs', 'To Rome with Love', 'Firefox', 'South Park: Bigger, Longer & Uncut', 'Death at a Funeral', 'Teenage Mutant Ninja Turtles III', 'Hardball', 'Silver Linings Playbook', 'Freedom Writers', 'For Colored Girls', 'The Transporter', 'Never Back Down', 'The Rage: Carrie 2', 'Away We Go', 'Swing Vote', 'Moonlight Mile', 'Tinker Tailor Soldier Spy', 'Molly', 'The Beaver', 'The Best Little Whorehouse in Texas', 'eXistenZ', 'Raiders of the Lost Ark', 'Home Alone 2: Lost in New York', 'Close Encounters of the Third Kind', 'Pulse', 'Beverly Hills Cop II', 'Bringing Down the House', 'The Silence of the Lambs', \"Wayne's World\", 'Jackass 3D', 'Jaws 2', 'Beverly Hills Chihuahua', 'The Conjuring', 'Are We There Yet?', 'Tammy', 'School of Rock', 'Mortal Kombat', 'White Chicks', 'The Descendants', 'Holes', 'The Last Song', '12 Years a Slave', 'Drumline', 'Why Did I Get Married Too?', 'Edward Scissorhands', 'Me Before You', \"Madea's Witness Protection\", 'The French Connection', 'Bad Moms', 'Date Movie', 'Return to Never Land', 'Selma', 'The Jungle Book 2', 'Boogeyman', 'Premonition', 'The Tigger Movie', 'Orphan', 'Max', 'Epic Movie', 'Spotlight', 'Lakeview Terrace', 'The Grudge 2', 'How Stella Got Her Groove Back', \"Bill & Ted's Bogus Journey\", 'Man of the Year', 'The Black Hole', 'The American', 'Selena', 'Vampires Suck', 'Babel', 'This Is Where I Leave You', 'Doubt', 'Team America: World Police', 'Texas Chainsaw 3D', 'Copycat', 'Scary Movie 5', 'Paint Your Wagon', 'Milk', 'Risen', 'Ghost Ship', 'A Very Harold & Kumar Christmas', 'Wild Things', 'The Stepfather', 'The Debt', 'High Fidelity', 'One Missed Call', 'Eye for an Eye', 'The Bank Job', 'Eternal Sunshine of the Spotless Mind', 'You Again', 'Street Kings', \"The World's End\", 'Nancy Drew', 'Daybreakers', \"She's Out of My League\", 'Monte Carlo', 'Stay Alive', 'Quigley Down Under', 'Alpha and Omega', 'The Covenant', 'Stick It', 'Shorts', 'To Die For', 'Nerve', 'Appaloosa', 'Vampires', 'Psycho', \"My Best Friend's Girl\", 'Endless Love', 'Georgia Rule', 'Under the Rainbow', 'Ladyhawke', 'Simon Birch', 'Reign Over Me', 'Into the Wild', 'School for Scoundrels', 'Silent Hill: Revelation 3D', 'From Dusk Till Dawn', \"Pooh's Heffalump Movie\", 'Home for the Holidays', 'Kung Fu Hustle', 'The Country Bears', 'The Kite Runner', '21 Grams', 'Paparazzi', 'A Guy Thing', 'Loser', 'Capitalism: A Love Story', 'The Greatest Story Ever Told', 'Secret in Their Eyes', 'Disaster Movie', 'Armored', 'The Man Who Knew Too Little', \"What's Your Number?\", 'Lockout', 'Envy', 'Crank: High Voltage', 'Bullets Over Broadway', 'One Night with the King', 'The Quiet American', 'The Weather Man', 'Undisputed', 'Ghost Town', '12 Rounds', 'Let Me In', '3 Ninjas Kick Back', 'Be Kind Rewind', 'Mrs Henderson Presents', 'Triple 9', 'Deconstructing Harry', 'Three to Tango', 'Burnt', \"We're No Angels\", 'Everyone Says I Love You', 'Death Sentence', \"Everybody's Fine\", 'Superbabies: Baby Geniuses 2', 'The Man', 'Code Name: The Cleaner', 'Connie and Carla', 'Sweet Charity', 'Inherent Vice', 'Doogal', 'Battle of the Year', 'An American Carol', 'Machete Kills', 'Willard', 'Strange Wilderness', 'Topsy-Turvy', 'Little Boy', 'A Dangerous Method', 'A Scanner Darkly', 'Chasing Mavericks', 'Alone in the Dark', 'Bandslam', 'Birth', 'A Most Violent Year', 'Passchendaele', 'Flash of Genius', \"I'm Not There.\", 'The Cold Light of Day', 'The Brothers Bloom', 'Synecdoche, New York', 'Princess Mononoke', 'Bon voyage', \"Can't Stop the Music\", 'The Proposition', 'My All American', 'Marci X', 'Equilibrium', 'The Children of Huang Shi', 'The Yards', 'The Oogieloves in the Big Balloon Adventure', 'By the Sea', 'Steamboy', 'The Game of Their Lives', 'All Good Things', 'Rapa Nui', 'CJ7', 'The Visitors II: The Corridors of Time', 'Dylan Dog: Dead of Night', 'People I Know', 'The Tempest', 'Regression', 'Three Kingdoms: Resurrection of the Dragon', 'Butterfly on a Wheel', 'Zambezia', 'Ramanujan', 'Dwegons', 'Hands of Stone', 'Survivor', 'The Frozen Ground', 'The Painted Veil', 'The Baader Meinhof Complex', 'Dances with Wolves', 'Bad Teacher', 'Sea of Love', 'A Cinderella Story', 'Scream', 'Thir13en Ghosts', 'The Shining', 'Back to the Future', 'House on Haunted Hill', 'I Can Do Bad All By Myself', 'Fight Valley', 'The Switch', 'Just Married', \"The Devil's Double\", 'Thomas and the Magic Railroad', 'The Crazies', 'Spirited Away', 'Firestorm', 'The Bounty', 'The Book Thief', 'Sex Drive', 'Leap Year', 'The Fall of the Roman Empire', 'Take Me Home Tonight', \"Won't Back Down\", 'The Nutcracker', 'Kansas City', 'Indignation', 'The Amityville Horror', 'Adaptation.', 'Land of the Dead', 'Out of Inferno', 'Fear and Loathing in Las Vegas', 'The Invention of Lying', 'Neighbors', 'The Mask', 'Big', 'Borat: Cultural Learnings of America for Make Benefit Glorious Nation of Kazakhstan', 'Legally Blonde', 'Star Trek III: The Search for Spock', 'The Exorcism of Emily Rose', 'Deuce Bigalow: Male Gigolo', 'Left Behind', 'The Family Stone', 'Barbershop 2:  Back in Business', 'Bad Santa', 'Austin Powers: International Man of Mystery', 'My Big Fat Greek Wedding 2', 'Diary of a Wimpy Kid: Rodrick Rules', 'Predator', 'Amadeus', 'Prom Night', 'Mean Girls', 'Under the Tuscan Sun', 'Gosford Park', 'Peggy Sue Got Married', 'Birdman', 'Blue Jasmine', 'United 93', 'Honey', 'Spy Hard', 'The Fog', 'Soul Surfer', 'Catch-22', 'Observe and Report', 'Conan the Destroyer', 'Raging Bull', 'Love Happens', 'Young Sherlock Holmes', 'Fame', '127 Hours', 'Small Time Crooks', 'Center Stage', 'Love the Coopers', 'Catch That Kid', 'Life as a House', 'Steve Jobs', 'I Love You, Beth Cooper', 'Youth in Revolt', 'The Legend of the Lone Ranger', 'The Tailor of Panama', 'Blow Out', 'Getaway', 'The Ice Storm', 'And So It Goes', 'Troop Beverly Hills', 'Being Julia', 'Nine 1/2 Weeks', 'Dragonslayer', 'The Last Station', 'Ed Wood', 'Labor Day', 'Mongol: The Rise of Genghis Khan', 'RockNRolla', 'Megaforce', 'Hamlet', \"Mao's Last Dancer\", 'Midnight Special', 'Anything Else', 'The Railway Man', 'The White Ribbon', 'Restoration', 'The Wraith', 'Salton Sea', 'Metallica: Through the Never', 'The Informers', 'Carlos', 'I Come with the Rain', \"One Man's Hero\", 'Day of the Dead', 'I Am Wrath', 'Renaissance', 'Red Sonja', 'Red Lights', 'Superbad', 'Madea Goes to Jail', 'Wolves', 'Step Up 2: The Streets', 'Hoodwinked!', 'Hotel Rwanda', 'Hitman', 'Black Nativity', 'The Prince', 'City of Ghosts', 'The Others', 'Aliens', 'My Fair Lady', 'I Know What You Did Last Summer', \"Let's Be Cops\", 'Sideways', 'Beerfest', 'Halloween', 'Good Boy!', 'The Best Man Holiday', \"Smokin' Aces\", 'Saw: The Final Chapter', '40 Days and 40 Nights', 'A Night at the Roxbury', 'Beastly', 'The Hills Have Eyes', 'Dickie Roberts: Former Child Star', 'McFarland, USA', 'Lottery Ticket', 'ATL', 'Pitch Perfect', 'Summer Catch', 'A Simple Plan', 'They', 'Larry the Cable Guy: Health Inspector', 'The Adventures of Elmo in Grouchland', \"Brooklyn's Finest\", '55 Days at Peking', 'Evil Dead', 'My Life in Ruins', 'American Dreamz', 'Superman IV: The Quest for Peace', 'How She Move', 'Running Scared', 'Bobby Jones: Stroke of Genius', 'Shanghai Surprise', 'The Illusionist', 'Roar', 'Veronica Guerin', 'Escobar: Paradise Lost', 'Southland Tales', 'Dragon Hunters', 'Damnation Alley', 'The Apparition', 'My Girl', 'Fur: An Imaginary Portrait of Diane Arbus', 'Wall Street', 'Sense and Sensibility', 'Becoming Jane', 'Sydney White', 'House of Sand and Fog', 'Dead Poets Society', 'Dumb and Dumber', 'When Harry Met Sally...', 'The Verdict', 'Road Trip', 'Varsity Blues', 'The Artist', 'The Unborn', 'Moonrise Kingdom', 'The Texas Chainsaw Massacre: The Beginning', 'The Young Messiah', 'The Master of Disguise', \"Pan's Labyrinth\", 'See Spot Run', 'Baby Boy', 'The Roommate', 'Joe Dirt', 'Double Impact', 'Hot Fuzz', 'The Women', 'Vicky Cristina Barcelona', 'Arn: The Knight Templar', 'Boys and Girls', 'White Oleander', \"Jennifer's Body\", 'Drowning Mona', 'Radio Days', 'Remember Me', 'How to Deal', 'My Stepmother is an Alien', 'Philadelphia', 'The Thirteenth Floor', 'The Cookout', 'Meteor', 'Duets', 'Hollywood Ending', 'Detroit Rock City', 'Highlander', 'Things We Lost in the Fire', 'Steel', 'The Immigrant', 'The White Countess', 'Trance', 'Soul Plane', 'Welcome to the Sticks', 'Good', 'Enter the Void', 'Vamps', \"Hachi: A Dog's Tale\", 'Zulu', 'The Homesman', 'Juwanna Mann', 'Ararat', 'Madison', 'Slow Burn', 'Wasabi', 'Slither', 'Beverly Hills Cop', 'Home Alone', 'Three Men and a Baby', 'Tootsie', 'Top Gun', 'Crouching Tiger, Hidden Dragon', 'American Beauty', \"The King's Speech\", 'Twins', 'The Yellow Handkerchief', 'The Color Purple', 'Tidal Wave', 'The Imitation Game', 'Private Benjamin', \"Coal Miner's Daughter\", 'Diary of a Wimpy Kid', 'Mama', \"National Lampoon's Vacation\", 'Bad Grandpa', 'The Queen', 'Beetlejuice', 'Why Did I Get Married?', 'Little Women', 'The Woman in Black', 'When a Stranger Calls', 'Big Fat Liar', 'The Deer Hunter', 'Wag the Dog', 'The Lizzie McGuire Movie', 'Snitch', 'Krampus', 'The Faculty', \"What's Love Got to Do with It\", 'Cop Land', 'Not Another Teen Movie', 'End of Watch', 'The Skulls', 'The Theory of Everything', \"Malibu's Most Wanted\", 'Where the Heart Is', 'Lawrence of Arabia', 'Halloween II', 'Wild', 'The Last House on the Left', 'The Wedding Date', 'Halloween: Resurrection', 'The Princess Bride', 'The Great Debaters', 'Drive', 'Confessions of a Teenage Drama Queen', 'The Object of My Affection', '28 Weeks Later', 'When the Game Stands Tall', 'Because of Winn-Dixie', 'Love & Basketball', 'Grosse Pointe Blank', 'All About Steve', 'Book of Shadows: Blair Witch 2', 'The Craft', 'Match Point', 'Ramona and Beezus', 'The Remains of the Day', 'Boogie Nights', 'Nowhere to Run', 'Flicka', 'The Hills Have Eyes 2', 'Urban Legends: Final Cut', 'Tuck Everlasting', 'The Marine', 'Keanu', 'Country Strong', 'Disturbing Behavior', 'The Place Beyond the Pines', 'The November Man', 'Eye of the Beholder', 'The Hurt Locker', 'Firestarter', 'Killing Them Softly', 'A Most Wanted Man', 'Freddy Got Fingered', \"VeggieTales: The Pirates Who Don't Do Anything\", 'U2 3D', 'Highlander: Endgame', 'Idlewild', 'One Day', 'Whip It', 'Knockaround Guys', 'Confidence', 'The Muse', 'De-Lovely', 'New York Stories', \"Barney's Great Adventure\", 'The Man with the Iron Fists', 'Home Fries', 'Here On Earth', 'Brazil', 'Raise Your Voice', 'The Big Lebowski', 'Black Snake Moan', 'Dark Blue', 'A Mighty Heart', 'Whatever It Takes', 'Boat Trip', 'The Importance of Being Earnest', 'The Love Letter', 'Hoot', 'In Bruges', 'Peeples', 'The Rocker', 'Post Grad', 'Promised Land', 'Whatever Works', 'The In Crowd', 'The Three Burials of Melquiades Estrada', 'Jakob the Liar', 'Kiss Kiss Bang Bang', 'Idle Hands', 'Mulholland Drive', 'Blood and Chocolate', 'You Will Meet a Tall Dark Stranger', 'Never Let Me Go', 'The Company', 'Transsiberian', 'The Clan of the Cave Bear', 'Crazy in Alabama', 'Funny Games', 'Listening', \"Felicia's Journey\", 'Metropolis', 'District B13', \"Things to Do in Denver When You're Dead\", 'The Assassin', 'Buffalo Soldiers', 'The Return', 'Ong Bak 2', 'Centurion', 'Silent Trigger', 'The Midnight Meat Train', 'Winnie Mandela', 'The Son of No One', \"All The Queen's Men\", 'The Good Night', 'Bathory: Countess of Blood', 'Khumba', 'Automata', 'Dungeons & Dragons: Wrath of the Dragon God', 'Chiamatemi Francesco - Il Papa della gente', 'Shinjuku Incident', 'Pandaemonium', 'Groundhog Day', 'Magic Mike XXL', 'Romeo + Juliet', \"Sarah's Key\", 'Freedom', 'Unforgiven', 'Manderlay', 'Slumdog Millionaire', 'Fatal Attraction', 'Pretty Woman', 'Crocodile Dundee II', 'Broken Horses', 'Born on the Fourth of July', 'Cool Runnings', 'My Bloody Valentine', 'Stomp the Yard', 'The Spy Who Loved Me', 'Urban Legend', 'Good Deeds', 'White Fang', 'Superstar', 'The Iron Lady', 'Jonah: A VeggieTales Movie', 'Poetic Justice', 'All About the Benjamins', 'Vampire in Brooklyn', 'Exorcist II: The Heretic', 'An American Haunting', \"My Boss's Daughter\", 'A Perfect Getaway', 'Our Family Wedding', 'Dead Man on Campus', 'Tea with Mussolini', 'Thinner', 'New York, New York', 'Crooklyn', 'I Think I Love My Wife', 'Jason X', 'Bobby', 'Head Over Heels', 'Fun Size', 'The Diving Bell and the Butterfly', 'Little Children', 'Gossip', 'A Walk on the Moon', 'Catch a Fire', 'Soul Survivors', 'Jefferson in Paris', 'Easy Virtue', 'Caravans', 'Mr. Turner', 'Wild Grass', 'Amen.', 'Reign of Assassins', 'The Lucky Ones', 'Margaret', 'Stan Helsing', 'Flipped', 'Brokeback Mountain', 'Clueless', 'Far from Heaven', 'Hot Tub Time Machine 2', 'Quills', 'Seven Psychopaths', \"The Caveman's Valentine\", 'Downfall', 'The Sea Inside', 'Under the Skin', 'Good Morning, Vietnam', 'The Last Godfather', 'Justin Bieber: Never Say Never', 'Black Swan', 'The Godfather: Part II', 'Save the Last Dance', 'A Nightmare on Elm Street 4: The Dream Master', 'Miracles from Heaven', 'Dude, Where’s My Car?', 'Young Guns', 'St. Vincent', 'About Last Night', '10 Things I Hate About You', 'The New Guy', \"National Lampoon's Loaded Weapon 1\", 'The Shallows', 'The Butterfly Effect', 'Snow Day', 'This Christmas', 'Baby Geniuses', 'The Big Hit', 'Harriet the Spy', \"Child's Play 2\", 'No Good Deed', 'The Mist', 'Ex Machina', 'Being John Malkovich', 'Two Can Play That Game', 'Earth to Echo', 'Crazy/Beautiful', 'Letters from Iwo Jima', 'The Astronaut Farmer', 'Woo', 'Room', 'Dirty Work', 'Serial Mom', 'Dick', 'Light It Up', '54', 'Bubble Boy', 'Birthday Girl', '21 & Over', \"Paris, je t'aime\", 'Resurrecting the Champ', 'Admission', 'The Widow of Saint-Pierre', 'Chloe', 'Faithful', 'Find Me Guilty', 'The Perks of Being a Wallflower', 'Excessive Force', 'Infamous', 'The Claim', 'The Vatican Tapes', 'Attack the Block', 'In the Land of Blood and Honey', 'The Call', 'Operation Chromite', 'The Crocodile Hunter: Collision Course', 'I Love You Phillip Morris', 'Quest for Fire', 'Antwone Fisher', \"The Emperor's Club\", 'True Romance', 'Womb', 'Glengarry Glen Ross', 'The Killer Inside Me', 'Cat People', 'Sorority Row', 'The Prisoner of Zenda', 'Lars and the Real Girl', 'The Boy in the Striped Pyjamas', 'Dancer in the Dark', 'Oscar and Lucinda', 'The Funeral', 'Solitary Man', 'Machete', 'Casino Jack', 'The Land Before Time', 'Tae Guk Gi: The Brotherhood of War', 'The Perfect Game', 'The Exorcist', 'Jaws', 'American Pie', 'Ernest & Celestine', 'The Golden Child', 'Think Like a Man', 'Barbershop', 'Star Trek II: The Wrath of Khan', 'Ace Ventura: Pet Detective', 'WarGames', 'Witness', 'Act of Valor', 'Step Up', 'Beavis and Butt-Head Do America', 'Jackie Brown', 'Harold & Kumar Escape from Guantanamo Bay', 'Chronicle', 'Yentl', 'Time Bandits', 'Crossroads', 'Project X', 'Patton', 'One Hour Photo', 'Quarantine', 'The Eye', 'Johnson Family Vacation', 'How High', 'The Muppet Christmas Carol', 'Frida', 'Katy Perry: Part of Me', 'The Fault in Our Stars', 'Rounders', 'Top Five', 'Prophecy', 'Stir of Echoes', 'Philomena', 'The Upside of Anger', 'The Boys from Brazil', 'Aquamarine', 'Paper Towns', \"My Baby's Daddy\", 'Nebraska', 'Tales from the Crypt: Demon Knight', \"Max Keeble's Big Move\", 'Young Adult', 'Crank', \"Def Jam's How to Be a Player\", 'Living Out Loud', 'Just Wright', 'Rachel Getting Married', 'The Postman Always Rings Twice', 'Girl with a Pearl Earring', 'Das Boot', 'Sorority Boys', 'About Time', 'House of Flying Daggers', 'Arbitrage', 'Project Almanac', 'Cadillac Records', 'Screwed', 'Fortress', 'For Your Consideration', 'Celebrity', 'Running with Scissors', 'From Justin to Kelly', 'Girl 6', 'In the Cut', 'Two Lovers', 'Last Orders', 'The Host', 'The Host', 'The Pursuit of D.B. Cooper', 'Ravenous', 'Charlie Bartlett', 'The Great Beauty', 'The Dangerous Lives of Altar Boys', 'Stoker', '2046', 'Married Life', 'Duma', 'Ondine', 'Brother', 'Welcome to Collinwood', 'Critical Care', 'The Life Before Her Eyes', 'Darling Companion', 'Trade', 'Fateless', 'Breakfast of Champions', 'A Woman, a Gun and a Noodle Shop', 'Cypher', 'City of Life and Death', 'Legend of a Rabbit', 'Space Battleship Yamato', '5 Days of War', 'Triangle', '10 Days in a Madhouse', 'Heaven is for Real', 'Snatch', \"Dancin' It's On\", 'Pet Sematary', 'Madadayo', 'The Cry of the Owl', 'A Tale of Three Cities', 'Gremlins', 'Star Wars', 'Dirty Grandpa', 'Doctor Zhivago', 'Trash', 'High School Musical 3: Senior Year', 'The Fighter', 'Jackass Number Two', 'My Cousin Vinny', 'If I Stay', 'Drive Hard', 'Major League', \"St. Trinian's\", 'Phone Booth', 'A Walk to Remember', 'Dead Man Walking', 'Cruel Intentions', 'Saw VI', 'History of the World: Part I', 'The Secret Life of Bees', 'Corky Romano', 'Raising Cain', 'F.I.S.T.', 'Invaders from Mars', 'Brooklyn', 'Barry Lyndon', 'Out Cold', 'The Ladies Man', 'Quartet', 'Tomcats', 'Frailty', 'Woman in Gold', 'Kinsey', 'Army of Darkness', 'Slackers', \"What's Eating Gilbert Grape\", 'The Visual Bible: The Gospel of John', 'Vera Drake', 'The Guru', 'The Perez Family', 'Inside Llewyn Davis', 'O', 'Return to the Blue Lagoon', 'The Molly Maguires', 'Romance & Cigarettes', 'Copying Beethoven', 'Brighton Rock', 'Saw V', 'Machine Gun McCain', 'LOL', 'Jindabyne', 'Kabhi Alvida Naa Kehna', 'An Ideal Husband', 'The Last Days on Mars', 'Darkness', '2001: A Space Odyssey', 'E.T. the Extra-Terrestrial', 'In the Land of Women', 'The Blue Butterfly', 'There Goes My Baby', 'Housefull', 'September Dawn', 'For Greater Glory - The True Story of Cristiada', 'The Bélier Family', 'Good Will Hunting', 'Misconduct', 'Saw III', 'Stripes', 'Bring It On', 'The Purge: Election Year', \"She's All That\", 'Saw IV', 'White Noise', \"Madea's Family Reunion\", 'The Color of Money', 'The Longest Day', 'The Mighty Ducks', 'The Grudge', 'Happy Gilmore', 'Jeepers Creepers', \"Bill & Ted's Excellent Adventure\", 'Oliver!', 'The Best Exotic Marigold Hotel', \"Recess: School's Out\", 'Mad Max Beyond Thunderdome', 'Commando', 'The Boy', 'Devil', 'Friday After Next', 'Insidious: Chapter 3', 'The Last Dragon', 'The Lawnmower Man', \"Nick and Norah's Infinite Playlist\", 'Dogma', 'The Banger Sisters', 'Twilight Zone: The Movie', 'Road House', 'A Low Down Dirty Shame', 'Swimfan', 'Employee of the Month', \"Can't Hardly Wait\", 'The Outsiders', \"Pete's Dragon\", 'The Dead Zone', 'Sinister 2', 'Sparkle', 'Valentine', 'The Fourth Kind', 'A Prairie Home Companion', 'Sugar Hill', 'Invasion U.S.A.', 'Roll Bounce', 'Rushmore', 'Skyline', 'The Second Best Exotic Marigold Hotel', 'Kit Kittredge: An American Girl', 'The Perfect Man', \"Mo' Better Blues\", 'Kung Pow: Enter the Fist', 'Tremors', 'Wrong Turn', 'The Long Riders', 'The Corruptor', 'Mud', 'Reno 911!: Miami', 'One Direction: This Is Us', 'The Goods: Live Hard, Sell Hard', 'Hey Arnold! The Movie', 'My Week with Marilyn', 'The Matador', 'Love Jones', 'The Gift', 'End of the Spear', 'Get Over It', 'Office Space', 'Drop Dead Gorgeous', 'Big Eyes', 'Very Bad Things', 'Sleepover', 'Body Double', 'MacGruber', 'Dirty Pretty Things', 'Movie 43', 'Over Her Dead Body', 'Seeking a Friend for the End of the World', 'Cedar Rapids', 'American History X', 'The Collection', \"Teacher's Pet\", 'The Red Violin', 'The Straight Story', 'Deuces Wild', 'Bad Words', 'Run, Fatboy, Run', 'Heartbeeps', 'Black or White', 'On the Line', 'Rescue Dawn', 'Danny Collins', 'Jeff, Who Lives at Home', 'I Am Love', 'Atlas Shrugged Part II', 'Romeo Is Bleeding', 'The Limey', 'Crash', 'The House of Mirth', 'Malone', 'Peaceful Warrior', 'Bucky Larson: Born to Be a Star', 'Bamboozled', 'The Forest', 'Sphinx', \"While We're Young\", 'A Better Life', 'Spider', 'Gun Shy', 'Nicholas Nickleby', 'The Iceman', 'Krrish', 'Cecil B. Demented', 'Killer Joe', 'The Joneses', 'Owning Mahowny', 'The Brothers Solomon', 'My Blueberry Nights', 'Illuminata', 'Swept Away', 'War, Inc.', 'Shaolin Soccer', 'The Brown Bunny', 'The Swindle', 'Rosewater', 'The Chambermaid on the Titanic', 'Coriolanus', 'Imaginary Heroes', 'High Heels and Low Lifes', \"World's Greatest Dad\", 'Severance', 'Edmond', 'Welcome to the Rileys', 'Police Academy: Mission to Moscow', 'Blood Done Sign My Name', 'Cinco de Mayo: La Batalla', 'Elsa & Fred', 'An Alan Smithee Film: Burn, Hollywood, Burn', 'The Open Road', 'The Good Guy', 'Motherhood', 'Free Style', 'Strangerland', 'Janky Promoters', 'Blonde Ambition', 'The Oxford Murders', 'The Reef', 'Eulogy', 'White Noise 2: The Light', 'Beat the World', 'Fifty Dead Men Walking', 'Jungle Shuffle', 'Adam Resurrected', 'Of Horses and Men', \"It's a Wonderful Afterlife\", \"The Devil's Tomb\", 'Partition', 'Good Intentions', 'The Good, The Bad, The Weird', 'Nurse 3-D', 'Gunless', 'Adventureland', 'The Lost City', 'Next Friday', 'American Heist', 'You Only Live Twice', 'Plastic', 'Amour', 'Poltergeist III', 'Re-Kill', \"It's a Mad, Mad, Mad, Mad World\", 'Volver', 'Heavy Metal', 'Gentlemen Broncos', 'Richard III', 'Into the Grizzly Maze', 'Kites', 'Melancholia', 'Red Dog', 'Jab Tak Hai Jaan', 'Alien', 'The Texas Chain Saw Massacre', 'The Runaways', 'Fiddler on the Roof', 'Thunderball', 'Detention', 'Loose Cannons', 'Set It Off', 'The Best Man', \"Child's Play\", 'Sicko', 'The Purge: Anarchy', 'Down to You', 'Harold & Kumar Go to White Castle', 'The Contender', 'Boiler Room', 'Trading Places', 'Black Christmas', \"Breakin' All the Rules\", 'Henry V', 'The Savages', 'Chasing Papi', 'The Way of the Gun', 'Igby Goes Down', 'PCU', 'The Ultimate Gift', 'The Ice Pirates', 'Gracie', 'Trust the Man', 'Hamlet 2', 'Velvet Goldmine', 'The Wailing', 'Glee: The Concert Movie', 'The Legend of Suriyothai', 'Two Evil Eyes', 'Barbecue', 'All or Nothing', 'Princess Kaiulani', 'Opal Dream', 'Flame & Citron', 'Undiscovered', 'Red Riding: In the Year of Our Lord 1974', 'The Girl on the Train', 'Veronika Decides to Die', 'Crocodile Dundee', 'Ultramarines: A Warhammer 40,000 Movie', 'The I Inside', 'Beneath Hill 60', 'Polisse', 'Awake', 'Star Wars: Clone Wars: Volume 1', 'Skin Trade', 'The Lost Boys', 'Crazy Heart', 'The Rose', 'Baggage Claim', 'Barbarella', 'Shipwrecked', 'Election', 'The Namesake', 'The DUFF', 'Glitter', 'The Haunting in Connecticut 2: Ghosts of Georgia', 'Silmido', 'Bright Star', 'My Name Is Khan', 'All Is Lost', 'Limbo', 'Namastey London', 'The Wind That Shakes the Barley', 'Yeh Jawaani Hai Deewani', 'Quo Vadis', 'Repo! The Genetic Opera', 'Valley of the Wolves: Iraq', 'Pulp Fiction', 'The Muppet Movie', 'Nightcrawler', 'Club Dread', 'The Sound of Music', 'Splash', 'Little Miss Sunshine', 'Stand by Me', '28 Days Later', 'You Got Served', 'Escape from Alcatraz', 'Brown Sugar', 'A Thin Line Between Love and Hate', '50/50', 'Shutter', 'That Awkward Moment', 'Modern Problems', 'Kicks', 'Much Ado About Nothing', \"On Her Majesty's Secret Service\", 'New Nightmare', 'Drive Me Crazy', 'Akeelah and the Bee', 'Half Baked', 'New in Town', 'American Psycho', 'The Good Girl', 'Bon Cop Bad Cop', 'The Boondock Saints II: All Saints Day', 'The City of Your Final Destination', 'Enough Said', 'Easy A', 'The Inkwell', 'Shadow of the Vampire', 'Prom', 'The Pallbearer', 'Held Up', 'Woman on Top', 'Howards End', 'Anomalisa', 'Another Year', '8 Women', 'Showdown in Little Tokyo', 'Clay Pigeons', \"It's Kind of a Funny Story\", 'Made in Dagenham', 'When Did You Last See Your Father?', 'Prefontaine', 'The Wicked Lady', 'The Secret of Kells', 'Begin Again', 'Down in the Valley', 'Brooklyn Rules', 'Restless', 'The Singing Detective', 'The Land Girls', 'Fido', 'The Wendell Baker Story', 'Wild Target', 'Pathology', 'Wuthering Heights', '10th & Wolf', 'Dear Wendy', 'Aloft', 'Akira', 'The Death and Life of Bobby Z', 'The Rocket: The Legend of Rocket Richard', 'Swelter', 'My Lucky Star', 'Imagine Me & You', 'Mr. Church', 'Swimming Pool', 'Green Street Hooligans: Underground', 'The Blood of Heroes', 'Code of Honor', 'Driving Miss Daisy', 'Soul Food', 'Rumble in the Bronx', 'Far from Men', 'Thank You for Smoking', 'Hostel: Part II', 'An Education', 'Shopgirl', 'The Hotel New Hampshire', 'Narc', 'Men with Brooms', 'Witless Protection', 'The Work and the Glory', 'Extract', 'Masked and Anonymous', 'Betty Fisher and Other Stories', 'Code 46', 'Outside Bet', 'Albert Nobbs', 'Black November', 'Ta Ra Rum Pum', 'Persepolis', 'The Hole', 'The Wave', 'The Neon Demon', 'Harry Brown', 'The Omega Code', 'Juno', 'Pound of Flesh', 'Diamonds Are Forever', 'The Godfather', 'Flashdance', '(500) Days of Summer', 'The Piano', 'Magic Mike', 'Darkness Falls', 'Live and Let Die', 'My Dog Skip', 'Definitely, Maybe', 'Jumping the Broom', 'Good Night, and Good Luck.', 'Capote', 'Desperado', \"Logan's Run\", 'The Man with the Golden Gun', 'Action Jackson', 'The Descent', 'Michael Jordan to the Max', \"Devil's Due\", 'Flirting with Disaster', \"The Devil's Rejects\", 'Dope', 'In Too Deep', 'House of 1000 Corpses', 'Alien Zone', 'A Serious Man', 'Get Low', 'Warlock', 'Beyond the Lights', 'A Single Man', 'The Last Temptation of Christ', 'Outside Providence', 'Bride & Prejudice', 'Rabbit-Proof Fence', \"Who's Your Caddy?\", 'Split Second', 'The Other Side of Heaven', 'Veer-Zaara', 'Redbelt', 'Cyrus', 'A Dog Of Flanders', 'Auto Focus', 'Factory Girl', 'We Need to Talk About Kevin', 'The Christmas Candle', 'The Mighty Macs', \"Losin' It\", 'Mother and Child', 'March or Die', 'The Visitors', 'Somewhere', 'I Hope They Serve Beer in Hell', 'Chairman of the Board', 'Hesher', 'Dom Hemingway', 'Gerry', 'The Heart of Me', 'Freeheld', 'The Extra Man', 'Hard to Be a God', 'Ca$h', 'Wah-Wah', 'The Boondock Saints', 'Z Storm', 'Twixt', 'The Snow Queen', 'Alpha and Omega: The Legend of the Saw Tooth Cave', 'Pale Rider', 'Stargate: The Ark of Truth', 'Dazed and Confused', 'High School Musical 2', 'Two Lovers and a Bear', 'Criminal Activities', 'Aimee & Jaguar', 'The Chumscrubber', 'Shade', 'House at the End of the Street', 'Incendies', 'Remember Me, My Love', 'Perrier’s Bounty', 'Elite Squad', 'Annabelle', 'Bran Nue Dae', 'Boyz n the Hood', 'La Bamba', 'The Four Seasons', 'Dressed to Kill', 'The Adventures of Huck Finn', 'Go', 'Friends with Money', 'The Andromeda Strain', 'Bats', 'Nowhere in Africa', 'Shame', 'Layer Cake', 'The Work and the Glory II: American Zion', 'The East', 'A Home at the End of the World', 'Aberdeen', 'The Messenger', 'Tracker', 'Control', 'The Terminator', 'Good bye, Lenin!', 'The Damned United', 'The Return of the Living Dead', 'Mallrats', 'Grease', 'Platoon', 'Fahrenheit 9/11', 'Butch Cassidy and the Sundance Kid', 'Mary Poppins', 'Ordinary People', 'West Side Story', 'Caddyshack', 'The Brothers', 'The Wood', 'The Usual Suspects', 'A Nightmare on Elm Street 5: The Dream Child', 'National Lampoon’s Van Wilder', 'The Wrestler', 'Duel in the Sun', 'Best in Show', 'Escape from New York', 'School Daze', 'Daddy Day Camp', 'Mr. Nice Guy', 'A Mighty Wind', 'Mystic Pizza', 'Sliding Doors', 'Tales from the Hood', 'The Last King of Scotland', 'Halloween 5: The Revenge of Michael Myers', 'Bernie', 'Dolphins and Whales: Tribes of the Ocean', 'Pollock', '200 Cigarettes', 'The Words', 'Casa De Mi Padre', 'City Island', 'The Guard', 'College', 'The Virgin Suicides', 'Little Voice', 'Miss March', 'Wish I Was Here', 'Simply Irresistible', 'Hedwig and the Angry Inch', 'Only the Strong', 'Goddess of Love', 'Shattered Glass', 'Novocaine', 'The Business of Strangers', 'The Wild Bunch', 'The Wackness', 'The First Great Train Robbery', 'Morvern Callar', 'Beastmaster 2: Through the Portal of Time', 'The 5th Quarter', 'The Flower of Evil', 'The Greatest', 'Snow Flower and the Secret Fan', 'Come Early Morning', 'Lucky Break', 'Julia', 'Surfer, Dude', 'Lake of Fire', '11:14', 'Men of War', 'Don McKay', 'Deadfall', 'A Shine of Rainbows', 'The Hit List', 'Emma', 'Videodrome', 'The Spanish Apartment', 'Song One', 'Winter in Wartime', 'Freaky Deaky', 'The Train', 'Trade Of Innocents', 'The Protector', 'Stiff Upper Lips', 'Bend It Like Beckham', 'Sunshine State', 'Crossover', 'Khiladi 786', '[REC]²', 'Standing Ovation', 'The Sting', 'Chariots of Fire', 'Diary of a Mad Black Woman', 'Shine', 'Don Jon', 'High Plains Drifter', 'Ghost World', 'Iris', 'Galaxina', 'The Chorus', 'Mambo Italiano', 'Wonderland', 'Do the Right Thing', 'Harvard Man', 'Le Havre', 'Irreversible', 'R100', 'Rang De Basanti', 'Animals', 'Salvation Boulevard', 'The Ten', 'A Room for Romeo Brass', 'Headhunters', 'Grabbers', 'Saint Ralph', 'Miss Julie', 'Somewhere in Time', 'Dum Maaro Dum', 'Insidious: Chapter 2', 'Saw II', '10 Cloverfield Lane', 'Jackass: The Movie', 'Lights Out', 'Paranormal Activity 3', 'Ouija', 'A Nightmare on Elm Street 3: Dream Warriors', 'Instructions Not Included', 'Paranormal Activity 4', 'The Robe', 'The Return of the Pink Panther', \"Freddy's Dead: The Final Nightmare\", 'Monster', '20,000 Leagues Under the Sea', 'Paranormal Activity: The Marked Ones', 'The Elephant Man', 'Dallas Buyers Club', 'The Lazarus Effect', 'Memento', 'Oculus', 'Clerks II', 'Billy Elliot', 'The Way Way Back', 'House Party 2', 'The Man from Snowy River', \"Doug's 1st Movie\", 'The Apostle', 'Mommie Dearest', 'Our Idiot Brother', 'Race', 'The Players Club', 'As Above, So Below', 'Addicted', \"Eve's Bayou\", 'Still Alice', 'The Egyptian', 'Nighthawks', 'Friday the 13th Part VIII: Jason Takes Manhattan', 'My Big Fat Greek Wedding', 'Spring Breakers', 'Halloween: The Curse of Michael Myers', 'Y Tu Mamá También', 'Shaun of the Dead', 'The Haunting of Molly Hartley', 'Lone Star', 'Halloween 4: The Return of Michael Myers', \"April Fool's Day\", 'Diner', 'Lone Wolf McQuade', 'Apollo 18', 'Sunshine Cleaning', 'No Escape', 'The Beastmaster', 'Solomon and Sheba', 'Fifty Shades of Black', 'Not Easily Broken', 'A Farewell to Arms', 'The Perfect Match', 'Digimon: The Movie', 'Saved!', 'The Barbarian Invasions', 'Robin and Marian', 'The Forsaken', 'Force 10 from Navarone', 'UHF', \"Grandma's Boy\", 'Slums of Beverly Hills', 'Once Upon a Time in the West', 'Made', 'Moon', 'Keeping Up with the Steins', 'Sea Rex 3D: Journey to a Prehistoric World', 'The Sweet Hereafter', 'Of Gods and Men', 'Bottle Shock', 'Jekyll and Hyde ... Together Again', 'Heavenly Creatures', '90 Minutes in Heaven', 'Everything Must Go', 'Zero Effect', 'The Machinist', 'Light Sleeper', 'Kill the Messenger', 'Rabbit Hole', 'Party Monster', 'Green Room', 'The Oh in Ohio', 'Atlas Shrugged Part III: Who is John Galt?', 'Bottle Rocket', 'Albino Alligator', 'Gandhi, My Father', 'Standard Operating Procedure', 'Out of the Blue', 'Out of the Blue', 'Tucker and Dale vs Evil', 'Lovely, Still', 'Tycoon', 'Desert Blue', 'Decoys', 'The Visit', 'Redacted', 'Fascination', 'Area 51', 'Sleep Tight', 'The Cottage', 'Dead Like Me: Life After Death', 'Farce of the Penguins', 'Flying By', 'Rudderless', 'Henry & Me', 'Christmas Eve', 'We Have Your Husband', 'Dying of the Light', 'Born Of War', 'Capricorn One', \"Should've Been Romeo\", 'Running Forever', 'Yoga Hosers', 'Navy Seals vs. Zombies', 'I Served the King of England', 'Soul Kitchen', 'Sling Blade', 'The Awakening', 'Hostel', 'A Cock and Bull Story', 'Take Shelter', 'Lady in White', 'Driving Lessons', \"Let's Kill Ward's Wife\", 'The Texas Chainsaw Massacre 2', 'Pat Garrett & Billy the Kid', 'Only God Forgives', 'Camping Sauvage', 'Without Men', 'Dear Frankie', 'All Hat', 'The Names of Love', 'Treading Water', 'Savage Grace', 'Out of the Blue', 'Out of the Blue', 'Police Academy', 'The Blue Lagoon', 'Four Weddings and a Funeral', 'Fast Times at Ridgemont High', 'Moby Dick', '25th Hour', 'Bound', 'Requiem for a Dream', 'State Fair', 'Tango', 'Salvador', \"Moms' Night Out\", 'Donnie Darko', 'Saving Private Perez', 'Character', 'Spun', 'Life During Wartime', 'Sympathy for Lady Vengeance', \"Mozart's Sister\", 'Mean Machine', 'Exiled', 'Blackthorn', 'Lilya 4-ever', 'After.Life', 'Fugly', \"One Flew Over the Cuckoo's Nest\", \"R.L. Stine's Monsterville: The Cabinet of Souls\", 'Silent Movie', 'Airlift', 'Anne of Green Gables', 'Falcon Rising', 'The Sweeney', 'Sexy Beast', 'Easy Money', 'Whale Rider', 'Paa', 'Cargo', 'High School Musical', 'Love and Death on Long Island', 'Night Watch', 'The Crying Game', \"Porky's\", 'Survival of the Dead', 'Night of the Living Dead', 'Lost in Translation', 'Annie Hall', 'The Greatest Show on Earth', \"Monster's Ball\", 'Maggie', 'Leaving Las Vegas', 'Hansel and Gretel Get Baked', 'The Front Page', 'The Boy Next Door', 'Trapeze', 'The Kids Are All Right', 'They Live', 'The Great Escape', 'What the #$*! Do We (K)now!?', 'The Last Exorcism Part II', 'Boyhood', 'Scoop', 'The Wash', '3 Strikes', 'The Cooler', 'The Misfits', 'The Night Listener', 'The Jerky Boys', 'The Orphanage', 'A Haunted House 2', 'The Rules of Attraction', 'Topaz', \"Let's Go to Prison\", 'Four Rooms', 'Secretary', 'The Real Cancun', 'Talk Radio', 'Waiting for Guffman', 'Love Stinks', 'You Kill Me', 'Thumbsucker', 'Red State', 'Mirrormask', 'Samsara', 'The Barbarians', 'The Art of Getting By', 'Zipper', 'Poolhall Junkies', 'The Loss of Sexual Innocence', 'Holy Motors', 'Joe', 'Shooting Fish', 'Prison', 'Psycho Beach Party', 'The Big Tease', 'Guten Tag, Ramón', 'Trust', 'An Everlasting Piece', 'Among Giants', 'Adore', 'The Velocity of Gary', 'Mondays in the Sun', 'Stake Land', 'The Last Time I Committed Suicide', 'Futuro Beach', 'Another Happy Day', 'A Lonely Place to Die', 'Nothing', 'The Geographer Drank His Globe Away', '1776', 'Inescapable', \"Hell's Angels\", 'Purple Violets', 'The Veil', 'The Loved Ones', 'The Helpers', 'How to Fall in Love', 'The Perfect Wave', 'A Man for All Seasons', 'Network', 'Gone with the Wind', 'Desert Dancer', 'Major Dundee', 'Annie Get Your Gun', 'Four Lions', 'The House of Sand', 'Defendor', 'The Pirate', 'The Good Heart', 'The History Boys', 'Midnight Cowboy', 'The Full Monty', 'Airplane!', 'Chain of Command', 'Friday', 'Menace II Society', 'Creepshow 2', 'The Ballad of Cable Hogue', 'In Cold Blood', \"The Nun's Story\", 'Harper', 'Frenzy', 'The Witch', 'I Got the Hook Up', \"She's the One\", 'Gods and Monsters', 'The Secret in Their Eyes', 'Train', 'Evil Dead II', 'Pootie Tang', 'Sharknado', 'The Other Conquest', 'Troll Hunter', 'Ira & Abby', 'Winter Passing', 'D.E.B.S.', 'The Masked Saint', 'The Betrayed', 'Taxman', 'The Secret', 'Batman: The Dark Knight Returns, Part 2', 'Time to Choose', 'In the Name of the King III', 'Wicked Blood', 'Stranded', 'Lords of London', 'High Anxiety', 'March of the Penguins', 'Margin Call', 'August', 'Choke', 'Whiplash', 'City of God', 'Human Traffic', 'To Write Love on Her Arms', 'The Dead Girl', 'The Hunt', 'A Christmas Story', 'Bella', 'Class of 1984', 'The Opposite Sex', 'Dreaming of Joseph Lees', 'The Class', \"Rosemary's Baby\", 'The Man Who Shot Liberty Valance', 'Adam', 'Maria Full of Grace', 'Beginners', 'Feast', 'Animal House', 'Goldfinger', 'Antiviral', \"It's a Wonderful Life\", 'Trainspotting', 'The Original Kings of Comedy', 'Paranormal Activity 2', 'Waking Ned', 'Bowling for Columbine', 'Coming Home', \"A Nightmare on Elm Street Part 2: Freddy's Revenge\", 'A Room with a View', 'The Purge', 'Sinister', 'Martin Lawrence Live: Runteldat', 'Cat on a Hot Tin Roof', 'Beneath the Planet of the Apes', 'Air Bud', 'Pokémon: Spell of the Unknown', 'Friday the 13th Part VI: Jason Lives', 'The Bridge on the River Kwai', 'Spaced Invaders', 'Family Plot', 'The Apartment', 'Jason Goes to Hell: The Final Friday', 'Torn Curtain', \"Dave Chappelle's Block Party\", 'Slow West', 'Krush Groove', 'Next Day Air', 'Elmer Gantry', 'Judgment at Nuremberg', \"Trippin'\", 'Red River', 'Phat Girlz', 'Before Midnight', 'Teen Wolf Too', 'Phantasm II', 'Woman Thou Art Loosed', 'Real Women Have Curves', 'Water', 'East Is East', 'Whipped', 'Kama Sutra - A Tale of Love', 'Please Give', 'Willy Wonka & the Chocolate Factory', 'Warlock: The Armageddon', '8 Heads in a Duffel Bag', 'Days of Heaven', 'Thirteen Conversations About One Thing', 'Jawbreaker', 'Basquiat', 'Frances Ha', 'Tsotsi', 'Happiness', 'DysFunktional Family', 'Tusk', 'Oldboy', 'Letters to God', 'Hobo with a Shotgun', 'Compadres', 'Freeway', \"Love's Abiding Joy\", 'Fish Tank', 'Damsels in Distress', 'Creature', 'Bachelorette', 'Brave New Girl', \"Tim and Eric's Billion Dollar Movie\", 'Summer Storm', 'Fort McCoy', 'Chain Letter', 'Just Looking', 'The Divide', 'The Eclipse', 'Demonic', 'My Big Fat Independent Movie', 'The Deported', 'Tanner Hall', 'Open Road', 'They Came Together', '30 Nights of Paranormal Activity With the Devil Inside the Girl With the Dragon Tattoo', 'Never Back Down 2: The Beatdown', 'Point Blank', 'Four Single Fathers', 'Enter the Dangerous Mind', 'Something Wicked', 'AWOL-72', 'Iguana', 'Chicago Overcoat', 'Barry Munday', 'Central Station', 'Pocketful of Miracles', 'Close Range', 'Boynton Beach Club', 'Amnesiac', 'Freakonomics', 'High Tension', 'Griff the Invisible', 'Unnatural', 'Hustle & Flow', 'Some Like It Hot', 'Friday the 13th Part VII: The New Blood', 'The Wizard of Oz', 'Young Frankenstein', 'Diary of the Dead', 'Lage Raho Munna Bhai', \"Ulee's Gold\", 'The Black Stallion', 'Sardaarji', 'Journey to Saturn', \"Donovan's Reef\", 'The Dress', 'A Guy Named Joe', 'Blazing Saddles', 'Friday the 13th: The Final Chapter', 'Ida', 'Maurice', 'Beer League', 'Riding Giants', 'Timecrimes', 'Silver Medalist', 'Timber Falls', \"Singin' in the Rain\", 'Fat, Sick & Nearly Dead', 'A Haunted House', \"2016: Obama's America\", 'That Thing You Do!', 'Halloween III: Season of the Witch', 'Escape from the Planet of the Apes', 'Hud', 'Kevin Hart: Let Me Explain', 'My Own Private Idaho', 'Garden State', 'Before Sunrise', 'Evil Words', \"Jesus' Son\", 'Saving Face', 'Brick Lane', 'Robot & Frank', 'My Life Without Me', 'The Spectacular Now', 'Religulous', 'Fuel', \"Valley of the Heart's Delight\", 'Eye of the Dolphin', '8: The Mormon Proposition', 'The Other End of the Line', 'Anatomy', 'Sleep Dealer', 'Super', 'Christmas Mail', 'Stung', 'Antibirth', 'Get on the Bus', 'Thr3e', 'Idiocracy', 'The Rise of the Krays', 'This Is England', 'U.F.O.', 'Bathing Beauty', 'Go for It!', 'Dancer, Texas Pop. 81', 'Show Boat', 'Redemption Road', 'The Calling', 'The Brave Little Toaster', 'Fantasia', '8 Days', 'Friday the 13th Part III', 'Friday the 13th: A New Beginning', 'The Last Sin Eater', 'Do You Believe?', 'Impact Point', 'The Valley of Decision', 'Eden', 'Chicken Tikka Masala', \"There's Always Woodstock\", 'Jack Brooks: Monster Slayer', 'The Best Years of Our Lives', 'Bully', 'Elling', 'Mi America', '[REC]', 'Lies in Plain Sight', 'Sharkskin', 'Containment', 'The Timber', 'From Russia with Love', 'The Toxic Avenger Part II', 'Sleeper', 'It Follows', 'Everything You Always Wanted to Know About Sex *But Were Afraid to Ask', 'To Kill a Mockingbird', 'Mad Max 2: The Road Warrior', 'The Legend of Drunken Master', \"Boys Don't Cry\", 'Silent House', 'The Lives of Others', 'Courageous', 'The Hustler', 'Boom Town', 'The Triplets of Belleville', 'Smoke Signals', 'American Splendor', 'Before Sunset', 'Amores perros', 'Thirteen', \"Gentleman's Agreement\", \"Winter's Bone\", 'Touching the Void', \"Alexander's Ragtime Band\", 'Me and You and Everyone We Know', 'Inside Job', 'We Are Your Friends', 'Ghost Dog: The Way of the Samurai', 'Harsh Times', 'Captive', 'Full Frontal', 'Witchboard', 'Shortbus', 'Waltz with Bashir', 'The Book of Mormon Movie, Volume 1: The Journey', 'No End in Sight', 'The Diary of a Teenage Girl', 'In the Shadow of the Moon', \"Meek's Cutoff\", 'Inside Deep Throat', 'Dinner Rush', 'Clockwatchers', 'The Virginity Hit', 'Subway', 'House of D', 'Teeth', 'Six-String Samurai', 'Hum To Mohabbat Karega', \"It's All Gone Pete Tong\", 'Saint John of Las Vegas', '24 7: Twenty Four Seven', 'Stonewall', 'Roadside Romeo', 'This Thing of Ours', 'The Lost Medallion: The Adventures of Billy Stone', 'The Last Five Years', 'The Missing Person', 'Return of the Living Dead 3', 'London', 'Sherrybaby', 'Circle', 'Eden Lake', 'Plush', 'Lesbian Vampire Killers', \"Gangster's Paradise: Jerusalema\", 'Freeze Frame', 'Grave Encounters', 'Stitches', 'Nine Dead', 'To Be Frank, Sinatra at 100', 'Bananas', 'Supercapitalist', 'Rockaway', 'The Lady from Shanghai', \"No Man's Land: The Rise of Reeker\", 'Highway', 'Small Apartments', 'Coffee Town', 'The Ghastly Love of Johnny X', 'All Is Bright', 'The Torture Chamber of Dr. Sadism', \"Straight A's\", 'A Funny Thing Happened on the Way to the Forum', 'Slacker Uprising', \"The Legend of Hell's Gate: An American Conspiracy\", 'The Walking Deceased', 'The Curse of Downers Grove', 'Shark Lake', \"River's Edge\", 'Northfork', 'The Marine 4: Moving Target', 'Buried', 'Submarine', 'The Square', 'One to Another', 'ABCD (Any Body Can Dance)', 'Man on Wire', 'Abandoned', 'Brotherly Love', 'The Last Exorcism', 'Nowhere Boy', 'A Streetcar Named Desire', 'Dr. Strangelove or: How I Learned to Stop Worrying and Love the Bomb', 'The Crime of Padre Amaro', 'Beasts of the Southern Wild', 'Battle for the Planet of the Apes', 'Songcatcher', 'Higher Ground', 'Vaalu', 'The Greatest Movie Ever Sold', 'Ed and His Dead Mother', 'Travellers and Magicians', \"Hang 'em High\", 'Deadline - U.S.A.', 'Sublime', \"A Beginner's Guide to Snuff\", 'Independence Daysaster', 'Dysfunctional Friends', 'Run Lola Run', 'May', 'Against the Wild', 'Under the Same Moon', 'Conquest of the Planet of the Apes', 'In the Bedroom', 'I Spit on Your Grave', 'Happy, Texas', 'My Summer of Love', 'The Lunchbox', 'Yes', \"You Can't Take It With You\", 'From Here to Eternity', 'She Wore a Yellow Ribbon', 'Grace Unplugged', 'Foolish', 'N-Secure', 'Caramel', 'Out of the Dark', 'The Bubble', 'The Conversation', 'Dil Jo Bhi Kahey...', 'Mississippi Mermaid', 'I Love Your Work', 'Cabin Fever', 'Waitress', 'Bloodsport', 'Mr. Smith Goes to Washington', 'Kids', 'The Squid and the Whale', 'Kissing Jessica Stein', 'Kickboxer: Vengeance', 'Spellbound', 'Exotica', \"Buffalo '66\", 'Insidious', 'Repo Man', 'Nine Queens', 'The Gatekeepers', 'The Ballad of Jack and Rose', 'The To Do List', 'Killing Zoe', 'The Believer', 'Snow Angels', 'Unsullied', 'Session 9', 'I Want Someone to Eat Cheese With', 'Mooz-lum', 'Hatchet', 'Modern Times', 'Stolen Summer', 'My Name Is Bruce', 'The Salon', 'Road Hard', 'Forty Shades of Blue', 'Amigo', 'Pontypool', 'Trucker', 'Me You and Five Bucks', 'The Lords of Salem', 'Housebound', 'Wal-Mart: The High Cost of Low Price', 'Fetching Cody', 'Last I Heard', 'Closer to the Moon', 'Mutant World', 'Growing Up Smith', 'Checkmate', '#Horror', 'Wind Walkers', 'Snow White and the Seven Dwarfs', 'The Holy Girl', 'Shalako', 'Incident at Loch Ness', 'The Dog Lover', 'GirlHouse', 'The Blue Room', 'House at the End of the Drive', 'Batman', 'Batman', 'Lock, Stock and Two Smoking Barrels', 'The Ballad of Gregorio Cortez', 'The Celebration', 'Trees Lounge', 'Journey from the Fall', 'The Basket', 'Eddie: The Sleepwalking Cannibal', 'Queen of the Mountains', 'Def-Con 4', 'The Hebrew Hammer', \"Neal 'n' Nikki\", 'The 41–Year–Old Virgin Who Knocked Up Sarah Marshall and Felt Superbad About It', 'Forget Me Not', 'Rebecca', 'Friday the 13th Part 2', 'The Lost Weekend', 'C.H.U.D.', 'Filly Brown', 'The Lion of Judah', 'Niagara', 'How Green Was My Valley', 'Da Sweet Blood of Jesus', 'Sex, Lies, and Videotape', 'Saw', 'Super Troopers', 'The Algerian', 'The Amazing Catfish', 'Monsoon Wedding', 'You Can Count on Me', 'The Trouble with Harry', \"But I'm a Cheerleader\", 'Home Run', 'Reservoir Dogs', 'The Blue Bird', 'The Good, the Bad and the Ugly', 'The Second Mother', 'Blue Like Jazz', 'Down & Out With The Dolls', 'Pink Ribbons, Inc.', 'Certifiably Jonathan', 'Desire', 'The Blade of Don Juan', 'Grand Theft Parsons', 'Extreme Movie', 'The Charge of the Light Brigade', 'Below Zero', 'Crowsnest', 'Airborne', 'Cotton Comes to Harlem', 'The Wicked Within', 'Bleeding Hearts', 'Waiting...', \"Dead Man's Shoes\", 'From a Whisper to a Scream', 'Sex With Strangers', \"Dracula: Pages from a Virgin's Diary\", 'Faith Like Potatoes', 'Beyond the Black Rainbow', 'The Raid', 'The Dead Undead', 'The Vatican Exorcisms', 'Casablanca', 'Lake Mungo', 'Rocket Singh: Salesman of the Year', 'Silent Running', 'Rocky', 'The Sleepwalker', 'Tom Jones', 'Unfriended', 'Taxi Driver', 'The Howling', 'Dr. No', 'Chernobyl Diaries', 'Hellraiser', \"God's Not Dead 2\", 'Cry_Wolf', 'Godzilla 2000', 'Blue Valentine', 'Transamerica', 'The Devil Inside', 'Beyond the Valley of the Dolls', 'Love Me Tender', 'An Inconvenient Truth', 'Sands of Iwo Jima', 'Shine a Light', 'The Green Inferno', 'Departure', 'The Sessions', 'Food, Inc.', 'October Baby', 'Next Stop Wonderland', 'The Skeleton Twins', 'Martha Marcy May Marlene', 'Obvious Child', 'Frozen River', '20 Feet from Stardom', 'Two Girls and a Guy', 'Walking and Talking', 'Who Killed the Electric Car?', 'The Broken Hearts Club: A Romantic Comedy', 'Bubba Ho-tep', 'Slam', 'Brigham City', 'Fiza', 'Orgazmo', 'All the Real Girls', 'Dream with the Fishes', 'Blue Car', 'Palo Alto', 'Ajami', 'Wristcutters: A Love Story', 'I Origins', 'The Battle of Shaker Heights', 'The Act of Killing', 'Taxi to the Dark Side', 'Once in a Lifetime: The Extraordinary Story of the New York Cosmos', 'Guiana 1838', 'Lisa Picard Is Famous', 'Antarctica: A Year on Ice', 'A LEGO Brickumentary', 'Hardflip', 'Chocolate: Deep Dark Secrets', 'The House of the Devil', 'The Perfect Host', 'Safe Men', 'Speedway Junky', 'The Last Big Thing', 'The Specials', '16 to Life', 'Alone With Her', 'Creative Control', 'Special', 'Sparkler', 'The Helix... Loaded', 'In Her Line of Fire', 'The Jimmy Show', 'Heli', 'Karachi se Lahore', 'Loving Annabelle', 'Hits', 'Jimmy and Judy', 'Frat Party', \"The Party's Over\", 'Proud', 'The Poker House', 'Childless', 'ZMD: Zombies of Mass Destruction', 'Snow White: A Deadly Summer', 'Hidden Away', 'My Last Day Without You', 'Steppin: The Movie', \"Doc Holliday's Revenge\", 'Black Rock', 'Truth or Dare', 'The Pet', 'Bang Bang Baby', 'Fear Clinic', 'Zombie Hunter', 'A Fine Step', 'Charly', 'Banshee Chapter', 'Ask Me Anything', 'And Then Came Love', 'Food Chains', 'On the Waterfront', 'L!fe Happens', '4 Months, 3 Weeks and 2 Days', 'The Horror Network Vol. 1', 'Hard Candy', 'The Quiet', 'Circumstance', 'Fruitvale Station', 'The Brass Teapot', 'Bambi', 'The Hammer', 'Latter Days', 'Elza', '1982', 'For a Good Time, Call...', 'Celeste & Jesse Forever', 'Time Changer', 'London to Brighton', 'American Hero', 'Windsor Drive', 'A Separation', 'Crying with Laughter', 'Welcome to the Dollhouse', 'Ruby in Paradise', 'Raising Victor Vargas', \"Pandora's Box\", 'Harrison Montgomery', 'Live-In Maid', 'Deterrence', 'The Mudge Boy', 'The Young Unknowns', 'Not Cool', 'Dead Snow', 'Saints and Soldiers', 'Vessel', 'American Graffiti', 'Iraq for Sale: The War Profiteers', 'Aqua Teen Hunger Force Colon Movie Film for Theaters', 'Safety Not Guaranteed', 'Kevin Hart: Laugh at My Pain', 'Kill List', 'The Innkeepers', 'The Conformist', 'Interview with the Assassin', 'Donkey Punch', 'All the Boys Love Mandy Lane', 'Bled', 'High Noon', 'Hoop Dreams', 'Rize', 'L.I.E.', 'The Sisterhood of Night', 'B-Girl', 'Half Nelson', 'Naturally Native', 'Hav Plenty', 'Adulterers', 'Escape from Tomorrow', 'Starsuckers', 'The Hadza:  Last of the First', 'After', 'Treachery', 'Walter', 'Top Hat', 'The Blair Witch Project', 'Woodstock', 'The Kentucky Fried Movie', 'Mercy Streets', 'Carousel of Revenge', 'Broken Vessels', 'Water & Power', 'They Will Have to Kill Us First', 'Light from the Darkroom', 'The Country Doctor', \"The Maid's Room\", \"A Hard Day's Night\", 'The Harvest (La Cosecha)', 'Love Letters', 'Juliet and Alfa Romeo', 'Fireproof', 'Faith Connections', 'Benji', 'Open Water', 'High Road', 'Kingdom of the Spiders', 'Mad Hot Ballroom', 'The Station Agent', 'To Save A Life', 'Wordplay', 'Beyond the Mat', 'The Singles Ward', 'Osama', 'Sholem Aleichem: Laughing In The Darkness', 'Groove', 'The R.M.', 'Twin Falls Idaho', 'Mean Creek', 'Hurricane Streets', 'Never Again', 'Civil Brand', 'Lonesome Jim', 'Drinking Buddies', 'Deceptive Practice: The Mysteries and Mentors of Ricky Jay', 'Seven Samurai', 'The Other Dream Team', 'Johnny Suede', 'Finishing The Game', 'Rubber', 'Kiss the Bride', 'The Slaughter Rule', 'Monsters', 'The Californians', 'The Living Wake', 'Detention of the Dead', 'Crazy Stone', 'Scott Walker: 30 Century Man', 'Everything Put Together', 'Good Kill', 'The Outrageous Sophie Tucker', 'Now Is Good', 'Girls Gone Dead', 'America Is Still the Place', 'Subconscious', 'Enter Nowhere', 'El Rey de Najayo', 'Fight to the Finish', \"Alleluia! The Devil's Carnival\", 'The Sound and the Shadow', 'Rodeo Girl', 'Born to Fly: Elizabeth Streb vs. Gravity', 'The Little Ponderosa Zoo', 'The Toxic Avenger', 'Straight Out of Brooklyn', 'Bloody Sunday', 'Diamond Ruff', 'Conversations with Other Women', 'Poultrygeist: Night of the Chicken Dead', 'Mutual Friends', '42nd Street', 'Rise of the Entrepreneur: The Search for a Better Way', 'Metropolitan', 'As It Is in Heaven', 'Roadside', 'Napoleon Dynamite', 'Blue Ruin', 'Paranormal Activity', 'Dogtown and Z-Boys', 'Monty Python and the Holy Grail', 'Quinceañera', 'Gory Gory Hallelujah', 'Tarnation', 'I Want Your Money', 'Love in the Time of Monsters', 'The Beyond', 'What Happens in Vegas', 'The Dark Hours', 'My Beautiful Laundrette', 'Fabled', 'Show Me', 'Cries and Whispers', 'Intolerance', 'Trekkies', 'The Broadway Melody', 'The Evil Dead', 'Maniac', 'Censored Voices', 'Murderball', 'American Ninja 2: The Confrontation', '51 Birch Street', 'Rotor DR1', '12 Angry Men', 'My Dog Tulip', 'It Happened One Night', 'Dogtooth', 'Tupac: Resurrection', 'Tumbleweeds', 'The Prophecy', \"When the Cat's Away\", 'Pieces of April', 'The Big Swap', 'Old Joy', 'Wendy and Lucy', '3 Backyards', 'Pierrot le Fou', 'Sisters in Law', 'Ayurveda: Art of Being', 'Nothing But a Man', 'First Love, Last Rites', 'Fighting Tommy Riley', 'Royal Kill', 'The Looking Glass', 'Death Race 2000', 'Locker 13', 'Midnight Cabaret', \"Anderson's Cross\", 'Bizarre', 'Graduation Day', 'Some Guy Who Kills People', 'Compliance', 'Chasing Amy', 'Lovely & Amazing', 'Death Calls', 'Better Luck Tomorrow', 'The Incredibly True Adventure of Two Girls In Love', 'Chuck & Buck', 'American Desi', \"Amidst the Devil's Wings\", 'Cube', 'Love and Other Catastrophes', 'I Married a Strange Person!', 'November', 'Like Crazy', 'Teeth and Blood', 'Sugar Town', 'The Motel', 'The Canyons', 'On the Outs', 'Shotgun Stories', 'Exam', 'The Sticky Fingers of Time', 'Sunday School Musical', 'Rust', 'Ink', 'The Christmas Bunny', 'Butterfly', 'UnDivided', 'The Frozen', 'Horse Camp', 'Give Me Shelter', 'The Big Parade', 'Little Big Top', 'Along the Roadside', 'Bronson', 'Western Religion', 'Burn', 'Urbania', 'The Stewardesses', 'The Beast from 20,000 Fathoms', 'Mad Max', 'Swingers', 'A Fistful of Dollars', 'She Done Him Wrong', 'Short Cut to Nirvana: Kumbh Mela', 'The Grace Card', 'Middle of Nowhere', 'Three', 'The Business of Fancydancing', 'Call + Response', 'Malevolence', 'Reality Show', 'Super Hybrid', 'Baghead', 'American Beast', 'The Case of the Grinning Cat', 'Ordet', 'Good Dick', 'The Man from Earth', 'The Trials Of Darryl Hunt', 'Samantha: An American Girl Holiday', 'Yesterday Was a Lie', 'Theresa Is a Mother', 'H.', 'Archaeology of a Woman', 'Children of Heaven', 'Weekend', \"She's Gotta Have It\", 'Butterfly Girl', 'The World Is Mine', 'Another Earth', \"Sweet Sweetback's Baadasssss Song\", 'Perfect Cowboy', 'Tadpole', 'Once', 'The Woman Chaser', 'The Horse Boy', 'When the Lights Went Out', 'Heroes of Dirt', 'A Charlie Brown Christmas', 'Antarctic Edge: 70° South', 'Aroused', 'Top Spin', 'Roger & Me', 'An American in Hollywood', 'Sound of My Voice', 'The Blood of My Brother: A Story of Death in Iraq', \"Your Sister's Sister\", \"A Dog's Breakfast\", 'The Married Woman', 'The Birth of a Nation', 'The Work and The Story', 'Facing the Giants', 'The Gallows', 'Eraserhead', 'Hollywood Shuffle', 'The Mighty', 'Penitentiary', 'The Lost Skeleton of Cadavra', \"Dude Where's My Dog?\", 'Cheap Thrills', 'Indie Game: The Movie', 'Straightheads', 'Open Secret', 'Echo Dr.', 'The Night Visitor', 'The Past Is a Grotesque Animal', 'Peace, Propaganda & the Promised Land', 'Pi', \"I Love You, Don't Touch Me!\", '20 Dates', 'Queen Crab', 'Super Size Me', 'The FP', 'Happy Christmas', \"The Brain That Wouldn't Die\", 'Tiger Orange', 'Supporting Characters', 'Absentia', 'The Brothers McMullen', 'The Dirties', 'Gabriela', 'Tiny Furniture', 'Hayride', 'The Naked Ape', 'Counting', 'The Call of Cthulhu', 'Bending Steel', 'The Signal', 'The Image Revolution', 'This Is Martin Bonner', 'A True Story', 'George Washington', 'Smiling Fish & Goat On Fire', 'Dawn of the Crescent Moon', 'Raymond Did It', 'The Last Waltz', 'Run, Hide, Die', 'The Exploding Girl', \"The Legend of God's Gun\", 'Mutual Appreciation', 'Her Cry: La Llorona Investigation', 'Down Terrace', 'Clerks', 'Pink Narcissus', 'Funny Ha Ha', 'In the Company of Men', 'Manito', 'Rampage', 'Slacker', 'Dutch Kills', 'Dry Spell', 'Flywheel', 'Backmask', 'The Puffy Chair', 'Stories of Our Lives', 'Breaking Upwards', 'All Superheroes Must Die', 'Pink Flamingos', 'Clean', 'The Circle', 'Tin Can Man', 'Cure', 'On The Downlow', 'Sanctuary: Quite a Conundrum', 'Bang', 'Primer', 'Cavite', 'El Mariachi', 'Newlyweds', 'Signed, Sealed, Delivered', 'Shanghai Calling', 'My Date with Drew']\n"
     ]
    }
   ],
   "source": [
    "list_of_all_titles=new_df['title'].tolist()\n",
    "print(list_of_all_titles)"
   ]
  },
  {
   "cell_type": "code",
   "execution_count": 56,
   "id": "34ec993e",
   "metadata": {},
   "outputs": [
    {
     "name": "stdout",
     "output_type": "stream",
     "text": [
      "['avatar', \"pirates of the caribbean: at world's end\", 'spectre', 'the dark knight rises', 'john carter', 'spider-man 3', 'tangled', 'avengers: age of ultron', 'harry potter and the half-blood prince', 'batman v superman: dawn of justice', 'superman returns', 'quantum of solace', \"pirates of the caribbean: dead man's chest\", 'the lone ranger', 'man of steel', 'the chronicles of narnia: prince caspian', 'the avengers', 'pirates of the caribbean: on stranger tides', 'men in black 3', 'the hobbit: the battle of the five armies', 'the amazing spider-man', 'robin hood', 'the hobbit: the desolation of smaug', 'the golden compass', 'king kong', 'titanic', 'captain america: civil war', 'battleship', 'jurassic world', 'skyfall', 'spider-man 2', 'iron man 3', 'alice in wonderland', 'x-men: the last stand', 'monsters university', 'transformers: revenge of the fallen', 'transformers: age of extinction', 'oz: the great and powerful', 'the amazing spider-man 2', 'tron: legacy', 'cars 2', 'green lantern', 'toy story 3', 'terminator salvation', 'furious 7', 'world war z', 'x-men: days of future past', 'star trek into darkness', 'jack the giant slayer', 'the great gatsby', 'prince of persia: the sands of time', 'pacific rim', 'transformers: dark of the moon', 'indiana jones and the kingdom of the crystal skull', 'the good dinosaur', 'brave', 'star trek beyond', 'wall·e', 'rush hour 3', '2012', 'a christmas carol', 'jupiter ascending', 'the legend of tarzan', 'the chronicles of narnia: the lion, the witch and the wardrobe', 'x-men: apocalypse', 'the dark knight', 'up', 'monsters vs aliens', 'iron man', 'hugo', 'wild wild west', 'the mummy: tomb of the dragon emperor', 'suicide squad', 'evan almighty', 'edge of tomorrow', 'waterworld', 'g.i. joe: the rise of cobra', 'inside out', 'the jungle book', 'iron man 2', 'snow white and the huntsman', 'maleficent', 'dawn of the planet of the apes', 'the lovers', '47 ronin', 'captain america: the winter soldier', 'shrek forever after', 'tomorrowland', 'big hero 6', 'wreck-it ralph', 'the polar express', 'independence day: resurgence', 'how to train your dragon', 'terminator 3: rise of the machines', 'guardians of the galaxy', 'interstellar', 'inception', 'shin godzilla', 'the hobbit: an unexpected journey', 'the fast and the furious', 'the curious case of benjamin button', 'x-men: first class', 'the hunger games: mockingjay - part 2', \"the sorcerer's apprentice\", 'poseidon', 'alice through the looking glass', 'shrek the third', 'warcraft', 'terminator genisys', 'the chronicles of narnia: the voyage of the dawn treader', 'pearl harbor', 'transformers', 'alexander', 'harry potter and the order of the phoenix', 'harry potter and the goblet of fire', 'hancock', 'i am legend', 'charlie and the chocolate factory', 'ratatouille', 'batman begins', 'madagascar: escape 2 africa', 'night at the museum: battle of the smithsonian', 'x-men origins: wolverine', 'the matrix revolutions', 'frozen', 'the matrix reloaded', 'thor: the dark world', 'mad max: fury road', 'angels & demons', 'thor', 'bolt', 'g-force', 'wrath of the titans', 'dark shadows', 'mission: impossible - rogue nation', 'the wolfman', 'bee movie', 'kung fu panda 2', 'the last airbender', 'mission: impossible iii', 'white house down', 'mars needs moms', 'flushed away', 'pan', 'mr. peabody & sherman', 'troy', \"madagascar 3: europe's most wanted\", 'die another day', 'ghostbusters', 'armageddon', 'men in black ii', 'beowulf', 'kung fu panda 3', 'mission: impossible - ghost protocol', 'rise of the guardians', 'fun with dick and jane', 'the last samurai', 'exodus: gods and kings', 'star trek', 'spider-man', 'how to train your dragon 2', 'gods of egypt', 'stealth', 'watchmen', 'lethal weapon 4', 'hulk', 'g.i. joe: retaliation', 'sahara', 'final fantasy: the spirits within', 'captain america: the first avenger', 'the world is not enough', 'master and commander: the far side of the world', 'the twilight saga: breaking dawn - part 2', 'happy feet two', 'the incredible hulk', 'the bfg', 'the revenant', 'turbo', 'rango', 'penguins of madagascar', 'the bourne ultimatum', 'kung fu panda', 'ant-man', 'the hunger games: catching fire', 'home', 'war of the worlds', 'bad boys ii', 'puss in boots', 'salt', 'noah', 'the adventures of tintin', 'harry potter and the prisoner of azkaban', 'australia', 'after earth', 'dinosaur', 'night at the museum: secret of the tomb', 'megamind', \"harry potter and the philosopher's stone\", 'r.i.p.d.', 'pirates of the caribbean: the curse of the black pearl', 'the hunger games: mockingjay - part 1', 'the da vinci code', 'rio 2', 'x2', 'fast five', 'sherlock holmes: a game of shadows', 'clash of the titans', 'total recall', 'the 13th warrior', 'the bourne legacy', 'batman & robin', 'how the grinch stole christmas', 'the day after tomorrow', 'mission: impossible ii', 'the perfect storm', 'fantastic 4: rise of the silver surfer', 'life of pi', 'ghost rider', 'jason bourne', \"charlie's angels: full throttle\", 'prometheus', 'stuart little 2', 'elysium', 'the chronicles of riddick', 'robocop', 'speed racer', 'how do you know', 'knight and day', 'oblivion', 'star wars: episode iii - revenge of the sith', 'star wars: episode ii - attack of the clones', 'monsters, inc.', 'the wolverine', 'star wars: episode i - the phantom menace', 'the croods', 'asterix at the olympic games', 'windtalkers', \"the huntsman: winter's war\", 'teenage mutant ninja turtles', 'gravity', \"dante's peak\", 'teenage mutant ninja turtles: out of the shadows', 'fantastic four', 'night at the museum', 'san andreas', 'tomorrow never dies', 'the patriot', \"ocean's twelve\", 'mr. & mrs. smith', 'insurgent', 'the aviator', \"gulliver's travels\", 'the green hornet', '300: rise of an empire', 'the smurfs', 'home on the range', 'allegiant', 'real steel', 'the smurfs 2', 'speed 2: cruise control', \"ender's game\", 'live free or die hard', 'the lord of the rings: the fellowship of the ring', 'around the world in 80 days', 'ali', 'the cat in the hat', 'i, robot', 'kingdom of heaven', 'stuart little', 'the princess and the frog', 'the martian', 'the island', 'town & country', 'gone in sixty seconds', 'gladiator', 'minority report', 'harry potter and the chamber of secrets', 'casino royale', 'planet of the apes', 'terminator 2: judgment day', 'public enemies', 'american gangster', 'true lies', 'the taking of pelham 1 2 3', 'little fockers', 'the other guys', 'eraser', 'django unchained', 'the hunchback of notre dame', \"the emperor's new groove\", 'the expendables 2', 'national treasure', 'eragon', 'where the wild things are', 'epic', 'the tourist', 'end of days', 'blood diamond', 'the wolf of wall street', 'batman forever', 'starship troopers', 'cloud atlas', \"legend of the guardians: the owls of ga'hoole\", 'catwoman', 'hercules', 'treasure planet', 'land of the lost', 'the expendables 3', 'point break', 'son of the mask', 'in the heart of the sea', 'the adventures of pluto nash', 'green zone', 'the peanuts movie', 'the spanish prisoner', 'the mummy returns', 'gangs of new york', 'the flowers of war', \"surf's up\", 'the stepford wives', 'black hawk down', 'the campaign', 'the fifth element', 'sex and the city 2', 'the road to el dorado', 'ice age: continental drift', 'cinderella', 'the lovely bones', 'finding nemo', 'the lord of the rings: the return of the king', 'the lord of the rings: the two towers', 'seventh son', 'lara croft: tomb raider', 'transcendence', 'jurassic park iii', 'rise of the planet of the apes', 'the spiderwick chronicles', 'a good day to die hard', 'the alamo', 'the incredibles', 'cutthroat island', 'percy jackson & the olympians: the lightning thief', 'men in black', 'toy story 2', 'unstoppable', 'rush hour 2', 'what lies beneath', 'cloudy with a chance of meatballs', 'ice age: dawn of the dinosaurs', 'the secret life of walter mitty', \"charlie's angels\", 'the departed', 'mulan', 'tropic thunder', 'the girl with the dragon tattoo', 'die hard: with a vengeance', 'sherlock holmes', 'ben-hur', 'atlantis: the lost empire', 'alvin and the chipmunks: the road chip', 'valkyrie', \"you don't mess with the zohan\", 'pixels', 'a.i. artificial intelligence', 'the haunted mansion', 'contact', 'hollow man', 'the interpreter', 'percy jackson: sea of monsters', 'lara croft tomb raider: the cradle of life', 'now you see me 2', 'the saint', 'spy game', 'mission to mars', 'rio', 'bicentennial man', 'volcano', \"the devil's own\", 'k-19: the widowmaker', 'conan the barbarian', 'cinderella man', 'the nutcracker: the untold story', 'seabiscuit', 'twister', 'cast away', 'happy feet', 'the bourne supremacy', 'air force one', \"ocean's eleven\", 'the three musketeers', 'hotel transylvania', 'enchanted', 'safe house', '102 dalmatians', 'tower heist', 'the holiday', 'enemy of the state', \"it's complicated\", \"ocean's thirteen\", 'open season', 'divergent', 'enemy at the gates', 'the rundown', 'last action hero', 'memoirs of a geisha', 'the fast and the furious: tokyo drift', 'arthur christmas', 'meet joe black', 'collateral damage', 'all that jazz', 'mirror mirror', 'scott pilgrim vs. the world', 'the core', 'nutty professor ii: the klumps', 'scooby-doo', 'dredd', 'click', 'creepshow', 'cats & dogs 2 : the revenge of kitty galore', 'jumper', 'hellboy ii: the golden army', 'zodiac', 'the 6th day', 'bruce almighty', 'the expendables', 'mission: impossible', 'the hunger games', 'the hangover part ii', 'batman returns', 'over the hedge', 'lilo & stitch', \"charlotte's web\", 'deep impact', 'red 2', 'the longest yard', 'alvin and the chipmunks: chipwrecked', 'grown ups 2', 'get smart', \"something's gotta give\", 'shutter island', 'four christmases', 'robots', 'face/off', 'bedtime stories', 'road to perdition', 'just go with it', 'con air', 'eagle eye', 'cold mountain', 'the book of eli', 'flubber', 'the haunting', 'space jam', 'the pink panther', 'the day the earth stood still', 'conspiracy theory', 'fury', 'six days seven nights', 'yogi bear', 'spirit: stallion of the cimarron', 'zookeeper', 'lost in space', 'the manchurian candidate', 'déjà vu', 'hotel transylvania 2', 'fantasia 2000', 'the time machine', 'mighty joe young', 'swordfish', 'the legend of zorro', 'what dreams may come', 'little nicky', 'the brothers grimm', 'mars attacks!', 'evolution', 'the edge', 'surrogates', 'thirteen days', 'daylight', 'walking with dinosaurs', 'battlefield earth', 'looney tunes: back in action', 'nine', 'timeline', 'the postman', 'babe: pig in the city', 'the last witch hunter', 'red planet', 'arthur and the invisibles', 'oceans', 'a sound of thunder', 'pompeii', 'top cat begins', 'a beautiful mind', 'the lion king', 'journey 2: the mysterious island', 'cloudy with a chance of meatballs 2', 'red dragon', 'hidalgo', 'jack and jill', '2 fast 2 furious', 'the little prince', 'the invasion', 'the adventures of rocky & bullwinkle', 'the secret life of pets', 'the league of extraordinary gentlemen', 'despicable me 2', 'independence day', 'the lost world: jurassic park', 'madagascar', 'children of men', 'x-men', 'wanted', 'the rock', 'ice age: the meltdown', '50 first dates', 'hairspray', 'exorcist: the beginning', 'inspector gadget', 'now you see me', 'grown ups', 'the terminal', 'hotel for dogs', 'vertical limit', \"charlie wilson's war\", 'shark tale', 'dreamgirls', 'be cool', 'munich', 'tears of the sun', 'killers', 'the man from u.n.c.l.e.', 'spanglish', 'monster house', 'bandits', 'first knight', 'anna and the king', 'immortals', 'hostage', 'titan a.e.', 'hollywood homicide', 'soldier', 'carriers', 'monkeybone', 'flight of the phoenix', 'unbreakable', 'minions', 'sucker punch', 'snake eyes', 'sphere', 'the angry birds movie', \"fool's gold\", 'funny people', 'the kingdom', 'talladega nights: the ballad of ricky bobby', 'dr. dolittle 2', 'braveheart', 'jarhead', 'the simpsons movie', 'the majestic', 'driven', 'two brothers', 'the village', 'doctor dolittle', 'signs', 'shrek 2', 'cars', 'runaway bride', 'xxx', 'the spongebob movie: sponge out of water', 'ransom', 'inglourious basterds', 'hook', 'die hard 2', 's.w.a.t.', 'vanilla sky', 'lady in the water', 'avp: alien vs. predator', 'alvin and the chipmunks: the squeakquel', 'we were soldiers', 'olympus has fallen', 'star trek: insurrection', 'battle: los angeles', 'big fish', 'wolf', 'war horse', 'the monuments men', 'the abyss', 'wall street: money never sleeps', 'dracula untold', 'the siege', 'stardust', 'seven years in tibet', 'the dilemma', 'bad company', 'doom', 'i spy', 'underworld: awakening', 'rock of ages', \"hart's war\", 'killer elite', 'rollerball', 'ballistic: ecks vs. sever', 'hard rain', 'osmosis jones', \"legends of oz: dorothy's return\", 'blackhat', 'sky captain and the world of tomorrow', 'basic instinct 2', 'escape plan', 'the legend of hercules', 'the sum of all fears', 'the twilight saga: eclipse', 'the score', 'despicable me', 'money train', 'ted 2', 'agora', 'mystery men', 'hall pass', 'the insider', 'the finest hours', 'body of lies', 'dinner for schmucks', 'abraham lincoln: vampire hunter', 'entrapment', 'the x files', 'the last legion', 'saving private ryan', 'need for speed', 'what women want', 'ice age', 'dreamcatcher', 'lincoln', 'the matrix', 'apollo 13', 'the santa clause 2', 'les misérables', \"you've got mail\", 'step brothers', 'the mask of zorro', 'due date', 'unbroken', 'space cowboys', 'cliffhanger', 'broken arrow', 'the kid', 'world trade center', 'mona lisa smile', 'the dictator', 'eyes wide shut', 'annie', 'focus', 'this means war', 'blade: trinity', 'red dawn', 'primary colors', 'resident evil: retribution', 'death race', 'the long kiss goodnight', 'proof of life', 'zathura: a space adventure', 'fight club', 'we are marshall', 'hudson hawk', 'lucky numbers', 'i, frankenstein', 'oliver twist', 'elektra', 'sin city: a dame to kill for', 'random hearts', 'everest', 'perfume: the story of a murderer', 'austin powers in goldmember', 'astro boy', 'jurassic park', 'wyatt earp', 'clear and present danger', 'dragon blade', 'little man', 'u-571', 'the american president', 'the love guru', '3000 miles to graceland', 'the hateful eight', 'blades of glory', 'hop', '300', 'meet the fockers', 'marley & me', 'the green mile', 'wild hogs', 'chicken little', 'gone girl', 'the bourne identity', 'goldeneye', \"the general's daughter\", 'the truman show', 'the prince of egypt', 'daddy day care', '2 guns', 'cats & dogs', 'the italian job', 'two weeks notice', 'antz', 'couples retreat', 'days of thunder', 'cheaper by the dozen 2', 'maze runner: the scorch trials', 'eat pray love', 'the family man', 'red', 'any given sunday', 'the horse whisperer', 'collateral', 'the scorpion king', 'ladder 49', 'jack reacher', 'deep blue sea', 'this is it', 'contagion', 'kangaroo jack', 'coraline', 'the happening', 'man on fire', 'the shaggy dog', 'starsky & hutch', 'jingle all the way', 'hellboy', 'a civil action', 'paranorman', 'the jackal', 'paycheck', 'up close & personal', 'the tale of despereaux', 'the tuxedo', 'under siege 2: dark territory', 'jack ryan: shadow recruit', 'joy', 'london has fallen', 'alien: resurrection', 'shooter', 'the boxtrolls', 'practical magic', 'the lego movie', 'miss congeniality 2: armed and fabulous', 'reign of fire', 'gangster squad', 'year one', 'invictus', 'state of play', 'duplicity', 'my favorite martian', 'the sentinel', 'planet 51', 'star trek: nemesis', 'intolerable cruelty', 'trouble with the curve', 'edge of darkness', 'the relic', 'analyze that', 'righteous kill', 'mercury rising', 'the soloist', 'the legend of bagger vance', 'almost famous', 'garfield: a tail of two kitties', 'xxx: state of the union', 'priest', 'sinbad: legend of the seven seas', 'event horizon', 'dragonfly', 'the black dahlia', 'flyboys', 'the last castle', 'supernova', \"winter's tale\", 'the mortal instruments: city of bones', 'meet dave', 'dark water', 'edtv', 'inkheart', 'the spirit', 'mortdecai', 'in the name of the king: a dungeon siege tale', 'beyond borders', 'the monkey king 2', 'the great raid', 'deadpool', 'holy man', 'american sniper', 'goosebumps', 'just like heaven', 'the flintstones in viva rock vegas', 'rambo iii', 'leatherheads', 'the ridiculous 6', 'did you hear about the morgans?', 'the internship', 'resident evil: afterlife', 'red tails', \"the devil's advocate\", \"that's my boy\", 'dragonheart', 'after the sunset', 'ghost rider: spirit of vengeance', \"captain corelli's mandolin\", 'the pacifier', 'walking tall', 'forrest gump', 'alvin and the chipmunks', 'meet the parents', 'pocahontas', 'superman', 'the nutty professor', 'hitch', 'george of the jungle', 'american wedding', 'captain phillips', 'date night', 'casper', 'the equalizer', 'maid in manhattan', 'crimson tide', 'the pursuit of happyness', 'flightplan', 'disclosure', 'city of angels', 'kill bill: vol. 1', 'bowfinger', 'kill bill: vol. 2', 'tango & cash', 'death becomes her', 'shanghai noon', 'executive decision', \"mr. popper's penguins\", 'the forbidden kingdom', 'free birds', 'alien³', 'evita', 'ronin', 'the ghost and the darkness', 'paddington', 'the watch', 'the hunted', 'instinct', 'stuck on you', 'semi-pro', 'the pirates! in an adventure with scientists!', 'changeling', 'chain reaction', 'the fan', 'the phantom of the opera', 'elizabeth: the golden age', 'æon flux', 'gods and generals', 'turbulence', 'imagine that', 'muppets most wanted', 'thunderbirds', 'burlesque', 'a very long engagement', 'lolita', 'd-tox', 'blade ii', 'seven pounds', 'bullet to the head', 'the godfather: part iii', 'elizabethtown', 'you, me and dupree', 'superman ii', 'gigli', \"all the king's men\", 'shaft', 'anastasia', 'moulin rouge!', 'domestic disturbance', 'black mass', 'flags of our fathers', 'law abiding citizen', 'grindhouse', 'beloved', 'lucky you', 'catch me if you can', 'zero dark thirty', 'the break-up', 'mamma mia!', \"valentine's day\", 'the dukes of hazzard', 'the thin red line', 'the change-up', 'man on the moon', 'casino', 'from paris with love', 'bulletproof monk', 'me, myself & irene', 'barnyard', 'deck the halls', 'the twilight saga: new moon', 'shrek', 'the adjustment bureau', 'robin hood: prince of thieves', 'jerry maguire', 'ted', 'as good as it gets', 'patch adams', 'anchorman 2: the legend continues', 'mr. deeds', 'super 8', 'erin brockovich', 'how to lose a guy in 10 days', '22 jump street', 'interview with the vampire', 'yes man', 'central intelligence', 'stepmom', \"daddy's home\", 'into the woods', 'inside man', 'payback', 'congo', 'we bought a zoo', 'knowing', 'failure to launch', 'the ring two', 'crazy, stupid, love.', 'garfield', 'christmas with the kranks', 'moneyball', 'outbreak', 'non-stop', 'race to witch mountain', 'v for vendetta', 'shanghai knights', 'curious george', 'herbie fully loaded', \"don't say a word\", 'hansel & gretel: witch hunters', 'unfaithful', 'i am number four', 'syriana', '13 hours: the secret soldiers of benghazi', 'the book of life', 'firewall', 'absolute power', 'g.i. jane', 'the game', 'silent hill', 'the replacements', 'american reunion', 'the negotiator', 'into the storm', 'beverly hills cop iii', 'gremlins 2: the new batch', 'the judge', 'the peacemaker', 'resident evil: apocalypse', 'bridget jones: the edge of reason', 'out of time', 'on deadly ground', 'the adventures of sharkboy and lavagirl', 'the beach', 'raising helen', 'ninja assassin', 'for love of the game', 'striptease', 'marmaduke', 'hereafter', 'murder by numbers', 'assassins', 'hannibal rising', 'the story of us', 'the host', 'the host', 'basic', 'blood work', 'the international', 'escape from l.a.', 'the iron giant', 'the life aquatic with steve zissou', 'free state of jones', 'the life of david gale', 'man of the house', 'run all night', 'eastern promises', 'into the blue', 'the messenger: the story of joan of arc', 'your highness', 'dream house', 'mad city', \"baby's day out\", 'the scarlet letter', 'fair game', 'domino', 'jade', 'gamer', 'beautiful creatures', 'death to smoochy', 'zoolander 2', 'the big bounce', 'what planet are you from?', 'drive angry', 'street fighter: the legend of chun-li', 'the one', 'the adventures of ford fairlane', 'the boat that rocked', 'traffic', 'indiana jones and the last crusade', 'anna karenina', 'chappie', 'the bone collector', 'panic room', 'the tooth fairy', 'three kings', 'child 44', 'rat race', 'k-pax', 'kate & leopold', 'bedazzled', 'the cotton club', '3:10 to yuma', 'taken 3', 'out of sight', 'the cable guy', 'earth', 'dick tracy', 'the thomas crown affair', 'riding in cars with boys', 'first blood', 'solaris', \"happily n'ever after\", 'mary reilly', \"my best friend's wedding\", \"america's sweethearts\", 'insomnia', 'star trek: first contact', 'jonah hex', 'courage under fire', 'liar liar', 'the infiltrator', 'inchon', 'the flintstones', 'taken 2', 'scary movie 3', 'miss congeniality', 'journey to the center of the earth', 'the princess diaries 2: royal engagement', 'the pelican brief', 'the client', 'the bucket list', 'patriot games', 'monster-in-law', 'prisoners', 'training day', 'galaxy quest', 'scary movie 2', 'the muppets', 'blade', 'coach carter', 'changing lanes', 'anaconda', 'coyote ugly', 'love actually', \"a bug's life\", 'from hell', 'the specialist', 'tin cup', 'yours, mine and ours', 'kicking & screaming', \"the hitchhiker's guide to the galaxy\", 'fat albert', 'resident evil: extinction', 'blended', 'last holiday', 'the river wild', 'the indian in the cupboard', 'savages', 'cellular', 'johnny english', 'the ant bully', 'dune', 'across the universe', 'revolutionary road', '16 blocks', 'babylon a.d.', 'the glimmer man', 'multiplicity', 'aliens in the attic', 'the pledge', 'the producers', 'the phantom', 'all the pretty horses', 'nixon', 'the ghost writer', 'deep rising', 'miracle at st. anna', 'curse of the golden flower', 'bangkok dangerous', 'big trouble', 'love in the time of cholera', 'shadow conspiracy', 'johnny english reborn', 'foodfight!', 'argo', 'the fugitive', 'the bounty hunter', 'sleepers', 'rambo: first blood part ii', 'the juror', 'pinocchio', \"heaven's gate\", 'underworld: evolution', 'victor frankenstein', 'finding forrester', '28 days', 'unleashed', 'the sweetest thing', 'the firm', 'charlie st. cloud', 'the mechanic', '21 jump street', 'notting hill', 'chicken run', 'along came polly', 'boomerang', 'the heat', 'cleopatra', 'here comes the boom', 'high crimes', 'the mirror has two faces', 'the mothman prophecies', 'brüno', 'licence to kill', 'red riding hood', '15 minutes', 'super mario bros.', 'lord of war', 'hero', 'one for the money', 'the interview', \"the warrior's way\", 'micmacs', '8 mile', 'why i did (not) eat my father', \"a knight's tale\", 'the medallion', 'the sixth sense', 'man on a ledge', 'the big year', 'the karate kid', 'american hustle', 'the proposal', 'double jeopardy', 'back to the future part ii', 'lucy', 'fifty shades of grey', 'spy kids 3-d: game over', 'a time to kill', 'cheaper by the dozen', 'lone survivor', 'a league of their own', 'the conjuring 2', 'the social network', \"he's just not that into you\", 'scary movie 4', 'scream 3', 'back to the future part iii', 'get hard', 'dracula', 'julie & julia', '42', 'the talented mr. ripley', 'dumb and dumber to', 'eight below', 'the intern', 'ride along 2', 'the last of the mohicans', 'ray', 'sin city', 'vantage point', 'i love you, man', 'shallow hal', 'jfk', \"big momma's house 2\", 'the mexican', '17 again', 'the other woman', 'the final destination', 'bridge of spies', 'behind enemy lines', 'get him to the greek', 'shall we dance?', 'small soldiers', 'spawn', 'the count of monte cristo', 'the lincoln lawyer', 'unknown', 'the prestige', 'horrible bosses 2', 'escape from planet earth', 'apocalypto', 'the living daylights', 'predators', 'legal eagles', 'secret window', 'the lake house', 'the skeleton key', 'the odd life of timothy green', 'made of honor', 'jersey boys', 'the rainmaker', 'gothika', 'amistad', 'medicine man', 'aliens vs predator: requiem', 'ri¢hie ri¢h', 'autumn in new york', 'music and lyrics', 'paul', 'the guilt trip', 'scream 4', '8mm', 'the doors', 'sex tape', 'hanging up', 'final destination 5', 'mickey blue eyes', 'pay it forward', 'fever pitch', 'drillbit taylor', 'a million ways to die in the west', 'the shadow', 'extremely loud & incredibly close', 'morning glory', \"get rich or die tryin'\", 'the art of war', 'rent', 'bless the child', 'the out-of-towners', 'the island of dr. moreau', 'the musketeer', 'the other boleyn girl', 'sweet november', 'the reaping', 'mean streets', 'renaissance man', 'colombiana', 'quest for camelot', 'city by the sea', 'at first sight', 'torque', 'city hall', 'showgirls', 'marie antoinette', 'kiss of death', 'get carter', 'the impossible', 'ishtar', 'fantastic mr. fox', 'life or something like it', 'memoirs of an invisible man', 'amélie', 'new york minute', 'alfie', 'big miracle', 'the deep end of the ocean', 'feardotcom', \"cirque du freak: the vampire's assistant\", 'duplex', 'soul men', 'raise the titanic', 'universal soldier: the return', 'pandorum', 'impostor', 'extreme ops', 'just visiting', 'sunshine', 'a thousand words', 'delgo', 'the gunman', 'stormbreaker', 'disturbia', 'hackers', 'the hunting party', 'the hudsucker proxy', 'the warlords', 'nomad: the warrior', 'snowpiercer', 'a monster in paris', 'the last shot', 'the crow', 'baahubali: the beginning', \"the time traveler's wife\", 'because i said so', 'frankenweenie', 'serenity', 'against the ropes', 'superman iii', 'grudge match', 'red cliff', 'sweet home alabama', 'the ugly truth', 'sgt. bilko', 'spy kids 2: the island of lost dreams', 'star trek: generations', 'the grandmaster', 'water for elephants', \"dragon nest: warriors' dawn\", 'the hurricane', 'enough', 'heartbreakers', 'paul blart: mall cop 2', 'angel eyes', 'joe somebody', 'the ninth gate', 'extreme measures', 'rock star', 'precious', 'white squall', 'the thing', 'riddick', 'switchback', 'texas rangers', 'city of ember', 'the master', 'virgin territory', 'the express', 'the 5th wave', 'creed', 'the town', \"what to expect when you're expecting\", 'burn after reading', \"nim's island\", 'rush', 'magnolia', 'cop out', 'how to be single', 'dolphin tale', 'twilight', 'john q', 'blue streak', \"we're the millers\", 'the inhabited island', 'breakdown', 'never say never again', 'hot tub time machine', 'dolphin tale 2', 'reindeer games', 'a man apart', 'aloha', 'ghosts of mississippi', 'snow falling on cedars', 'the rite', 'gattaca', \"isn't she great\", 'space chimps', 'head of state', 'the hangover', 'ip man 3', 'austin powers: the spy who shagged me', 'batman', 'batman', 'there be dragons', 'lethal weapon 3', 'the blind side', 'spy kids', 'horrible bosses', 'true grit', 'the devil wears prada', 'star trek: the motion picture', 'identity thief', 'cape fear', '21', 'trainwreck', 'guess who', 'the english patient', 'l.a. confidential', 'sky high', 'in & out', 'species', 'a nightmare on elm street', 'the cell', 'the man in the iron mask', 'secretariat', 'tmnt', 'radio', 'friends with benefits', 'neighbors 2: sorority rising', 'saving mr. banks', 'malcolm x', 'this is 40', 'old dogs', 'underworld: rise of the lycans', 'license to wed', 'the benchwarmers', 'must love dogs', 'donnie brasco', 'resident evil', 'poltergeist', 'the ladykillers', 'max payne', 'in time', 'the back-up plan', 'something borrowed', 'black knight', 'the bad news bears', 'street fighter', 'the pianist', 'the nativity story', 'house of wax', 'closer', 'j. edgar', 'mirrors', 'queen of the damned', 'predator 2', 'untraceable', 'blast from the past', 'flash gordon', 'jersey girl', 'alex cross', 'midnight in the garden of good and evil', 'heist', 'nanny mcphee and the big bang', 'hoffa', 'the x files: i want to believe', 'ella enchanted', 'concussion', 'abduction', 'valiant', 'wonder boys', 'superhero movie', 'broken city', 'cursed', 'premium rush', 'hot pursuit', 'the four feathers', 'parker', 'wimbledon', 'furry vengeance', 'bait', 'krull', 'lions for lambs', 'flight of the intruder', 'walk hard: the dewey cox story', 'the shipping news', 'american outlaws', 'the young victoria', 'whiteout', 'the tree of life', 'knock off', 'sabotage', 'the order', 'punisher: war zone', 'zoom', 'the walk', 'warriors of virtue', 'a good year', 'radio flyer', 'bound by honor', \"smilla's sense of snow\", 'femme fatale', 'lion of the desert', 'the horseman on the roof', 'ride with the devil', 'biutiful', 'bandidas', 'black water transit', 'the maze runner', 'unfinished business', 'the age of innocence', 'the fountain', 'chill factor', 'stolen', 'ponyo', 'the longest ride', \"the astronaut's wife\", 'i dreamed of africa', 'playing for keeps', 'mandela: long walk to freedom', 'reds', 'a few good men', 'exit wounds', \"big momma's house\", 'thunder and the house of magic', 'the darkest hour', 'step up revolution', 'snakes on a plane', 'the watcher', 'the punisher', 'goal!: the dream begins', 'safe', 'pushing tin', 'return of the jedi', 'doomsday', 'the reader', 'wanderlust', 'elf', 'phenomenon', 'snow dogs', 'scrooged', 'nacho libre', 'bridesmaids', 'this is the end', 'stigmata', 'men of honor', 'takers', 'the big wedding', 'big mommas: like father, like son', 'source code', 'alive', 'the number 23', 'the young and prodigious t.s. spivet', '1941', 'dreamer: inspired by a true story', 'a history of violence', 'transporter 2', 'the quick and the dead', 'laws of attraction', 'bringing out the dead', 'repo men', 'dragon wars: d-war', 'bogus', 'the incredible burt wonderstone', \"cats don't dance\", 'cradle will rock', 'the good german', 'george and the dragon', 'apocalypse now', 'going the distance', \"mr. holland's opus\", 'criminal', 'out of africa', 'flight', 'moonraker', 'the grand budapest hotel', 'hearts in atlantis', 'arachnophobia', 'frequency', 'vacation', 'get shorty', 'chicago', 'big daddy', 'american pie 2', 'toy story', 'speed', 'the vow', 'extraordinary measures', 'remember the titans', 'the hunt for red october', 'the butler', 'dodgeball: a true underdog story', 'the addams family', 'ace ventura: when nature calls', 'the princess diaries', 'the first wives club', 'se7en', 'district 9', 'the spongebob squarepants movie', 'mystic river', 'million dollar baby', 'analyze this', 'the notebook', '27 dresses', 'hannah montana: the movie', 'rugrats in paris: the movie', 'the prince of tides', 'legends of the fall', 'up in the air', 'about schmidt', 'warm bodies', 'looper', 'down to earth', 'babe', 'hope springs', 'forgetting sarah marshall', 'four brothers', 'baby mama', 'hope floats', 'bride wars', 'without a paddle', '13 going on 30', 'midnight in paris', 'the nut job', 'blow', 'message in a bottle', 'star trek v: the final frontier', 'like mike', 'the naked gun 33⅓: the final insult', 'a view to a kill', 'the curse of the were-rabbit', 'p.s. i love you', 'racing stripes', 'atonement', 'letters to juliet', 'black rain', 'the three stooges', 'corpse bride', 'glory road', 'sicario', 'southpaw', 'drag me to hell', 'the age of adaline', 'secondhand lions', 'step up 3d', 'blue crush', 'stranger than fiction', '30 days of night', 'the cabin in the woods', 'meet the spartans', 'midnight run', 'the running man', 'little shop of horrors', 'hanna', 'mortal kombat: annihilation', 'larry crowne', 'carrie', 'take the lead', 'gridiron gang', \"what's the worst that could happen?\", '9', 'side effects', 'the prince & me', 'winnie the pooh', 'dumb and dumberer: when harry met lloyd', 'bulworth', 'get on up', 'one true thing', 'virtuosity', 'my super ex-girlfriend', 'deliver us from evil', 'sanctum', 'little black book', 'the five-year engagement', 'mr. 3000', 'the next three days', 'ultraviolet', 'assault on precinct 13', 'the replacement killers', 'fled', 'eight legged freaks', 'love & other drugs', '88 minutes', 'north country', 'the whole ten yards', 'splice', 'howard the duck', 'pride and glory', 'the cave', 'alex & emma', 'wicker park', 'fright night', 'the new world', 'wing commander', 'in dreams', 'dragonball evolution', 'the last stand', 'godsend', 'chasing liberty', 'hoodwinked too! hood vs. evil', 'an unfinished life', 'the imaginarium of doctor parnassus', \"barney's version\", 'runner runner', 'antitrust', 'glory', 'once upon a time in america', 'dead man down', 'the merchant of venice', 'the good thief', 'supercross', 'miss potter', 'the promise', 'doa: dead or alive', 'the assassination of jesse james by the coward robert ford', '1911', 'little nicholas', 'wild card', 'machine gun preacher', 'animals united', 'goodbye bafana', 'united passions', 'grace of monaco', 'savva. heart of the warrior', \"ripley's game\", 'sausage party', 'pitch perfect 2', 'walk the line', 'keeping the faith', 'the borrowers', 'frost/nixon', 'confessions of a dangerous mind', 'serving sara', 'the boss', 'cry freedom', 'mumford', 'seed of chucky', 'the jacket', 'aladdin', 'straight outta compton', 'indiana jones and the temple of doom', 'the rugrats movie', 'along came a spider', 'florence foster jenkins', 'once upon a time in mexico', 'die hard', 'role models', 'the big short', 'taking woodstock', 'miracle', 'dawn of the dead', 'the wedding planner', 'space pirate captain harlock', 'the royal tenenbaums', 'identity', 'last vegas', 'for your eyes only', 'serendipity', 'timecop', 'zoolander', 'safe haven', 'hocus pocus', 'no reservations', 'kick-ass', '30 minutes or less', 'dracula 2000', 'alexander and the terrible, horrible, no good, very bad day', 'pride & prejudice', 'blade runner', 'rob roy', '3 days to kill', 'we own the night', 'lost souls', 'winged migration', 'just my luck', 'mystery, alaska', 'the spy next door', 'a simple wish', 'ghosts of mars', 'our brand is crisis', 'pride and prejudice and zombies', 'kundun', 'how to lose friends & alienate people', 'kick-ass 2', 'alatriste', 'brick mansions', 'octopussy', 'knocked up', \"my sister's keeper\", 'welcome home roscoe jenkins', 'a passage to india', 'notes on a scandal', 'rendition', 'star trek vi: the undiscovered country', 'divine secrets of the ya-ya sisterhood', 'kiss the girls', 'the blues brothers', 'the sisterhood of the traveling pants 2', 'joyful noise', 'about a boy', 'lake placid', 'lucky number slevin', 'the right stuff', 'anonymous', 'the neverending story', 'dark city', 'the duchess', 'return to oz', 'the newton boys', 'case 39', 'suspect zero', 'martian child', 'spy kids: all the time in the world', 'money monster', 'the 51st state', 'flawless', 'mindhunters', 'what just happened', 'the statement', 'the magic flute', 'paul blart: mall cop', 'freaky friday', 'the 40 year old virgin', 'shakespeare in love', 'a walk among the tombstones', 'kindergarten cop', 'pineapple express', 'ever after: a cinderella story', 'open range', 'flatliners', 'a bridge too far', 'red eye', 'final destination 2', 'o brother, where art thou?', 'legion', 'pain & gain', 'in good company', 'clockstoppers', 'silverado', 'brothers', 'agent cody banks 2: destination london', \"new year's eve\", 'original sin', 'the raven', 'welcome to mooseport', 'highlander: the final dimension', 'blood and wine', 'snow white: a tale of terror', 'the curse of the jade scorpion', 'accidental love', 'flipper', 'self/less', 'the constant gardener', 'the passion of the christ', 'mrs. doubtfire', 'rain man', 'gran torino', 'w.', 'taken', 'the best of me', 'the bodyguard', \"schindler's list\", 'the help', 'the fifth estate', 'scooby-doo 2: monsters unleashed', 'forbidden kingdom', 'freddy vs. jason', 'the face of an angel', 'jimmy neutron: boy genius', 'cloverfield', 'teenage mutant ninja turtles ii: the secret of the ooze', 'the untouchables', 'no country for old men', 'ride along', \"bridget jones's diary\", 'chocolat', 'legally blonde 2: red, white & blonde', 'parental guidance', 'no strings attached', 'tombstone', 'romeo must die', 'the omen', 'final destination 3', 'the lucky one', 'bridge to terabithia', 'finding neverland', 'a madea christmas', 'the grey', 'hide and seek', 'anchorman: the legend of ron burgundy', 'goodfellas', 'agent cody banks', 'nanny mcphee', 'scarface', 'nothing to lose', 'the last emperor', 'contraband', 'money talks', 'there will be blood', 'the wild thornberrys movie', 'rugrats go wild', 'undercover brother', 'the sisterhood of the traveling pants', 'kiss of the dragon', 'the house bunny', 'beauty shop', 'million dollar arm', 'the giver', 'what a girl wants', 'jeepers creepers 2', 'good luck chuck', 'cradle 2 the grave', 'the hours', \"she's the man\", \"mr. bean's holiday\", 'anacondas: the hunt for the blood orchid', 'blood ties', 'august rush', 'elizabeth', 'bride of chucky', 'tora! tora! tora!', 'spice world', 'the sitter', 'dance flick', 'the shawshank redemption', 'crocodile dundee in los angeles', 'kingpin', 'the gambler', 'august: osage county', 'ice princess', 'a lot like love', 'eddie the eagle', 'he got game', 'don juan demarco', 'dear john', 'the losers', \"don't be afraid of the dark\", 'war', 'punch-drunk love', 'eurotrip', 'half past dead', 'unaccompanied minors', 'bright lights, big city', 'the adventures of pinocchio', 'the greatest game ever played', 'the box', 'the ruins', 'the next best thing', 'my soul to take', 'the girl next door', 'maximum risk', 'stealing harvard', 'legend', 'hot rod', 'shark night', \"angela's ashes\", 'draft day', 'lifeforce', 'the conspirator', 'lords of dogtown', 'the 33', 'big trouble in little china', 'fly me to the moon', 'warrior', 'michael collins', 'gettysburg', 'stop-loss', 'abandon', 'brokedown palace', 'the possession', 'mrs. winterbourne', 'straw dogs', 'the hoax', 'stone cold', 'the road', 'sheena', 'underclassman', \"say it isn't so\", \"the world's fastest indian\", 'tank girl', \"king's ransom\", 'blindness', 'bloodrayne', 'carnage', 'where the truth lies', 'cirque du soleil: worlds away', 'without limits', 'me and orson welles', 'the best offer', 'the bad lieutenant: port of call - new orleans', \"a turtle's tale: sammy's adventures\", 'little white lies', 'love ranch', \"the true story of puss 'n boots\", 'space dogs', 'the counselor', 'ironclad', 'waterloo', 'kung fu jungle', 'red sky', 'dangerous liaisons', 'on the road', 'star trek iv: the voyage home', 'rocky balboa', 'scream 2', 'jane got a gun', 'think like a man too', 'the whole nine yards', 'footloose', 'old school', 'the fisher king', 'i still know what you did last summer', 'return to me', 'zack and miri make a porno', 'nurse betty', 'the men who stare at goats', 'double take', 'girl, interrupted', 'win a date with tad hamilton!', 'muppets from space', 'the wiz', 'ready to rumble', 'play it to the bone', \"i don't know how she does it\", 'piranha 3d', 'beyond the sea', 'meet the deedles', 'the thief and the cobbler', 'the bridge of san luis rey', 'faster', \"howl's moving castle\", 'zombieland', 'the waterboy', 'the empire strikes back', 'bad boys', 'the naked gun 2½: the smell of fear', 'final destination', 'the ides of march', 'pitch black', 'someone like you...', 'her', 'joy ride', 'the adventurer: the curse of the midas box', 'anywhere but here', 'the crew', 'haywire', 'jaws: the revenge', \"marvin's room\", 'the longshots', 'the end of the affair', 'harley davidson and the marlboro man', 'in the valley of elah', 'coco before chanel', 'forsaken', 'cheri', 'vanity fair', 'bodyguards and assassins', '1408', 'spaceballs', 'the water diviner', 'ghost', \"there's something about mary\", 'the santa clause', 'the rookie', 'the game plan', 'the bridges of madison county', 'the animal', 'gandhi', 'the hundred-foot journey', 'the net', 'i am sam', 'son of god', 'underworld', 'derailed', 'the informant!', 'shadowlands', 'deuce bigalow: european gigolo', 'delivery man', 'our kind of traitor', 'saving silverman', 'diary of a wimpy kid: dog days', 'summer of sam', 'jay and silent bob strike back', 'the glass house', 'hail, caesar!', 'josie and the pussycats', 'homefront', 'the little vampire', 'i heart huckabees', 'robocop 3', 'megiddo: the omega code 2', 'darling lili', 'dudley do-right', 'the transporter refueled', 'the libertine', 'black book', 'joyeux noël', 'hit & run', 'mad money', 'before i go to sleep', 'sorcerer', 'stone', 'moliere', 'out of the furnace', 'michael clayton', 'my fellow americans', 'arlington road', 'underdogs', 'to rome with love', 'firefox', 'south park: bigger, longer & uncut', 'death at a funeral', 'teenage mutant ninja turtles iii', 'hardball', 'silver linings playbook', 'freedom writers', 'for colored girls', 'the transporter', 'never back down', 'the rage: carrie 2', 'away we go', 'swing vote', 'moonlight mile', 'tinker tailor soldier spy', 'molly', 'the beaver', 'the best little whorehouse in texas', 'existenz', 'raiders of the lost ark', 'home alone 2: lost in new york', 'close encounters of the third kind', 'pulse', 'beverly hills cop ii', 'bringing down the house', 'the silence of the lambs', \"wayne's world\", 'jackass 3d', 'jaws 2', 'beverly hills chihuahua', 'the conjuring', 'are we there yet?', 'tammy', 'school of rock', 'mortal kombat', 'white chicks', 'the descendants', 'holes', 'the last song', '12 years a slave', 'drumline', 'why did i get married too?', 'edward scissorhands', 'me before you', \"madea's witness protection\", 'the french connection', 'bad moms', 'date movie', 'return to never land', 'selma', 'the jungle book 2', 'boogeyman', 'premonition', 'the tigger movie', 'orphan', 'max', 'epic movie', 'spotlight', 'lakeview terrace', 'the grudge 2', 'how stella got her groove back', \"bill & ted's bogus journey\", 'man of the year', 'the black hole', 'the american', 'selena', 'vampires suck', 'babel', 'this is where i leave you', 'doubt', 'team america: world police', 'texas chainsaw 3d', 'copycat', 'scary movie 5', 'paint your wagon', 'milk', 'risen', 'ghost ship', 'a very harold & kumar christmas', 'wild things', 'the stepfather', 'the debt', 'high fidelity', 'one missed call', 'eye for an eye', 'the bank job', 'eternal sunshine of the spotless mind', 'you again', 'street kings', \"the world's end\", 'nancy drew', 'daybreakers', \"she's out of my league\", 'monte carlo', 'stay alive', 'quigley down under', 'alpha and omega', 'the covenant', 'stick it', 'shorts', 'to die for', 'nerve', 'appaloosa', 'vampires', 'psycho', \"my best friend's girl\", 'endless love', 'georgia rule', 'under the rainbow', 'ladyhawke', 'simon birch', 'reign over me', 'into the wild', 'school for scoundrels', 'silent hill: revelation 3d', 'from dusk till dawn', \"pooh's heffalump movie\", 'home for the holidays', 'kung fu hustle', 'the country bears', 'the kite runner', '21 grams', 'paparazzi', 'a guy thing', 'loser', 'capitalism: a love story', 'the greatest story ever told', 'secret in their eyes', 'disaster movie', 'armored', 'the man who knew too little', \"what's your number?\", 'lockout', 'envy', 'crank: high voltage', 'bullets over broadway', 'one night with the king', 'the quiet american', 'the weather man', 'undisputed', 'ghost town', '12 rounds', 'let me in', '3 ninjas kick back', 'be kind rewind', 'mrs henderson presents', 'triple 9', 'deconstructing harry', 'three to tango', 'burnt', \"we're no angels\", 'everyone says i love you', 'death sentence', \"everybody's fine\", 'superbabies: baby geniuses 2', 'the man', 'code name: the cleaner', 'connie and carla', 'sweet charity', 'inherent vice', 'doogal', 'battle of the year', 'an american carol', 'machete kills', 'willard', 'strange wilderness', 'topsy-turvy', 'little boy', 'a dangerous method', 'a scanner darkly', 'chasing mavericks', 'alone in the dark', 'bandslam', 'birth', 'a most violent year', 'passchendaele', 'flash of genius', \"i'm not there.\", 'the cold light of day', 'the brothers bloom', 'synecdoche, new york', 'princess mononoke', 'bon voyage', \"can't stop the music\", 'the proposition', 'my all american', 'marci x', 'equilibrium', 'the children of huang shi', 'the yards', 'the oogieloves in the big balloon adventure', 'by the sea', 'steamboy', 'the game of their lives', 'all good things', 'rapa nui', 'cj7', 'the visitors ii: the corridors of time', 'dylan dog: dead of night', 'people i know', 'the tempest', 'regression', 'three kingdoms: resurrection of the dragon', 'butterfly on a wheel', 'zambezia', 'ramanujan', 'dwegons', 'hands of stone', 'survivor', 'the frozen ground', 'the painted veil', 'the baader meinhof complex', 'dances with wolves', 'bad teacher', 'sea of love', 'a cinderella story', 'scream', 'thir13en ghosts', 'the shining', 'back to the future', 'house on haunted hill', 'i can do bad all by myself', 'fight valley', 'the switch', 'just married', \"the devil's double\", 'thomas and the magic railroad', 'the crazies', 'spirited away', 'firestorm', 'the bounty', 'the book thief', 'sex drive', 'leap year', 'the fall of the roman empire', 'take me home tonight', \"won't back down\", 'the nutcracker', 'kansas city', 'indignation', 'the amityville horror', 'adaptation.', 'land of the dead', 'out of inferno', 'fear and loathing in las vegas', 'the invention of lying', 'neighbors', 'the mask', 'big', 'borat: cultural learnings of america for make benefit glorious nation of kazakhstan', 'legally blonde', 'star trek iii: the search for spock', 'the exorcism of emily rose', 'deuce bigalow: male gigolo', 'left behind', 'the family stone', 'barbershop 2:  back in business', 'bad santa', 'austin powers: international man of mystery', 'my big fat greek wedding 2', 'diary of a wimpy kid: rodrick rules', 'predator', 'amadeus', 'prom night', 'mean girls', 'under the tuscan sun', 'gosford park', 'peggy sue got married', 'birdman', 'blue jasmine', 'united 93', 'honey', 'spy hard', 'the fog', 'soul surfer', 'catch-22', 'observe and report', 'conan the destroyer', 'raging bull', 'love happens', 'young sherlock holmes', 'fame', '127 hours', 'small time crooks', 'center stage', 'love the coopers', 'catch that kid', 'life as a house', 'steve jobs', 'i love you, beth cooper', 'youth in revolt', 'the legend of the lone ranger', 'the tailor of panama', 'blow out', 'getaway', 'the ice storm', 'and so it goes', 'troop beverly hills', 'being julia', 'nine 1/2 weeks', 'dragonslayer', 'the last station', 'ed wood', 'labor day', 'mongol: the rise of genghis khan', 'rocknrolla', 'megaforce', 'hamlet', \"mao's last dancer\", 'midnight special', 'anything else', 'the railway man', 'the white ribbon', 'restoration', 'the wraith', 'salton sea', 'metallica: through the never', 'the informers', 'carlos', 'i come with the rain', \"one man's hero\", 'day of the dead', 'i am wrath', 'renaissance', 'red sonja', 'red lights', 'superbad', 'madea goes to jail', 'wolves', 'step up 2: the streets', 'hoodwinked!', 'hotel rwanda', 'hitman', 'black nativity', 'the prince', 'city of ghosts', 'the others', 'aliens', 'my fair lady', 'i know what you did last summer', \"let's be cops\", 'sideways', 'beerfest', 'halloween', 'good boy!', 'the best man holiday', \"smokin' aces\", 'saw: the final chapter', '40 days and 40 nights', 'a night at the roxbury', 'beastly', 'the hills have eyes', 'dickie roberts: former child star', 'mcfarland, usa', 'lottery ticket', 'atl', 'pitch perfect', 'summer catch', 'a simple plan', 'they', 'larry the cable guy: health inspector', 'the adventures of elmo in grouchland', \"brooklyn's finest\", '55 days at peking', 'evil dead', 'my life in ruins', 'american dreamz', 'superman iv: the quest for peace', 'how she move', 'running scared', 'bobby jones: stroke of genius', 'shanghai surprise', 'the illusionist', 'roar', 'veronica guerin', 'escobar: paradise lost', 'southland tales', 'dragon hunters', 'damnation alley', 'the apparition', 'my girl', 'fur: an imaginary portrait of diane arbus', 'wall street', 'sense and sensibility', 'becoming jane', 'sydney white', 'house of sand and fog', 'dead poets society', 'dumb and dumber', 'when harry met sally...', 'the verdict', 'road trip', 'varsity blues', 'the artist', 'the unborn', 'moonrise kingdom', 'the texas chainsaw massacre: the beginning', 'the young messiah', 'the master of disguise', \"pan's labyrinth\", 'see spot run', 'baby boy', 'the roommate', 'joe dirt', 'double impact', 'hot fuzz', 'the women', 'vicky cristina barcelona', 'arn: the knight templar', 'boys and girls', 'white oleander', \"jennifer's body\", 'drowning mona', 'radio days', 'remember me', 'how to deal', 'my stepmother is an alien', 'philadelphia', 'the thirteenth floor', 'the cookout', 'meteor', 'duets', 'hollywood ending', 'detroit rock city', 'highlander', 'things we lost in the fire', 'steel', 'the immigrant', 'the white countess', 'trance', 'soul plane', 'welcome to the sticks', 'good', 'enter the void', 'vamps', \"hachi: a dog's tale\", 'zulu', 'the homesman', 'juwanna mann', 'ararat', 'madison', 'slow burn', 'wasabi', 'slither', 'beverly hills cop', 'home alone', 'three men and a baby', 'tootsie', 'top gun', 'crouching tiger, hidden dragon', 'american beauty', \"the king's speech\", 'twins', 'the yellow handkerchief', 'the color purple', 'tidal wave', 'the imitation game', 'private benjamin', \"coal miner's daughter\", 'diary of a wimpy kid', 'mama', \"national lampoon's vacation\", 'bad grandpa', 'the queen', 'beetlejuice', 'why did i get married?', 'little women', 'the woman in black', 'when a stranger calls', 'big fat liar', 'the deer hunter', 'wag the dog', 'the lizzie mcguire movie', 'snitch', 'krampus', 'the faculty', \"what's love got to do with it\", 'cop land', 'not another teen movie', 'end of watch', 'the skulls', 'the theory of everything', \"malibu's most wanted\", 'where the heart is', 'lawrence of arabia', 'halloween ii', 'wild', 'the last house on the left', 'the wedding date', 'halloween: resurrection', 'the princess bride', 'the great debaters', 'drive', 'confessions of a teenage drama queen', 'the object of my affection', '28 weeks later', 'when the game stands tall', 'because of winn-dixie', 'love & basketball', 'grosse pointe blank', 'all about steve', 'book of shadows: blair witch 2', 'the craft', 'match point', 'ramona and beezus', 'the remains of the day', 'boogie nights', 'nowhere to run', 'flicka', 'the hills have eyes 2', 'urban legends: final cut', 'tuck everlasting', 'the marine', 'keanu', 'country strong', 'disturbing behavior', 'the place beyond the pines', 'the november man', 'eye of the beholder', 'the hurt locker', 'firestarter', 'killing them softly', 'a most wanted man', 'freddy got fingered', \"veggietales: the pirates who don't do anything\", 'u2 3d', 'highlander: endgame', 'idlewild', 'one day', 'whip it', 'knockaround guys', 'confidence', 'the muse', 'de-lovely', 'new york stories', \"barney's great adventure\", 'the man with the iron fists', 'home fries', 'here on earth', 'brazil', 'raise your voice', 'the big lebowski', 'black snake moan', 'dark blue', 'a mighty heart', 'whatever it takes', 'boat trip', 'the importance of being earnest', 'the love letter', 'hoot', 'in bruges', 'peeples', 'the rocker', 'post grad', 'promised land', 'whatever works', 'the in crowd', 'the three burials of melquiades estrada', 'jakob the liar', 'kiss kiss bang bang', 'idle hands', 'mulholland drive', 'blood and chocolate', 'you will meet a tall dark stranger', 'never let me go', 'the company', 'transsiberian', 'the clan of the cave bear', 'crazy in alabama', 'funny games', 'listening', \"felicia's journey\", 'metropolis', 'district b13', \"things to do in denver when you're dead\", 'the assassin', 'buffalo soldiers', 'the return', 'ong bak 2', 'centurion', 'silent trigger', 'the midnight meat train', 'winnie mandela', 'the son of no one', \"all the queen's men\", 'the good night', 'bathory: countess of blood', 'khumba', 'automata', 'dungeons & dragons: wrath of the dragon god', 'chiamatemi francesco - il papa della gente', 'shinjuku incident', 'pandaemonium', 'groundhog day', 'magic mike xxl', 'romeo + juliet', \"sarah's key\", 'freedom', 'unforgiven', 'manderlay', 'slumdog millionaire', 'fatal attraction', 'pretty woman', 'crocodile dundee ii', 'broken horses', 'born on the fourth of july', 'cool runnings', 'my bloody valentine', 'stomp the yard', 'the spy who loved me', 'urban legend', 'good deeds', 'white fang', 'superstar', 'the iron lady', 'jonah: a veggietales movie', 'poetic justice', 'all about the benjamins', 'vampire in brooklyn', 'exorcist ii: the heretic', 'an american haunting', \"my boss's daughter\", 'a perfect getaway', 'our family wedding', 'dead man on campus', 'tea with mussolini', 'thinner', 'new york, new york', 'crooklyn', 'i think i love my wife', 'jason x', 'bobby', 'head over heels', 'fun size', 'the diving bell and the butterfly', 'little children', 'gossip', 'a walk on the moon', 'catch a fire', 'soul survivors', 'jefferson in paris', 'easy virtue', 'caravans', 'mr. turner', 'wild grass', 'amen.', 'reign of assassins', 'the lucky ones', 'margaret', 'stan helsing', 'flipped', 'brokeback mountain', 'clueless', 'far from heaven', 'hot tub time machine 2', 'quills', 'seven psychopaths', \"the caveman's valentine\", 'downfall', 'the sea inside', 'under the skin', 'good morning, vietnam', 'the last godfather', 'justin bieber: never say never', 'black swan', 'the godfather: part ii', 'save the last dance', 'a nightmare on elm street 4: the dream master', 'miracles from heaven', 'dude, where’s my car?', 'young guns', 'st. vincent', 'about last night', '10 things i hate about you', 'the new guy', \"national lampoon's loaded weapon 1\", 'the shallows', 'the butterfly effect', 'snow day', 'this christmas', 'baby geniuses', 'the big hit', 'harriet the spy', \"child's play 2\", 'no good deed', 'the mist', 'ex machina', 'being john malkovich', 'two can play that game', 'earth to echo', 'crazy/beautiful', 'letters from iwo jima', 'the astronaut farmer', 'woo', 'room', 'dirty work', 'serial mom', 'dick', 'light it up', '54', 'bubble boy', 'birthday girl', '21 & over', \"paris, je t'aime\", 'resurrecting the champ', 'admission', 'the widow of saint-pierre', 'chloe', 'faithful', 'find me guilty', 'the perks of being a wallflower', 'excessive force', 'infamous', 'the claim', 'the vatican tapes', 'attack the block', 'in the land of blood and honey', 'the call', 'operation chromite', 'the crocodile hunter: collision course', 'i love you phillip morris', 'quest for fire', 'antwone fisher', \"the emperor's club\", 'true romance', 'womb', 'glengarry glen ross', 'the killer inside me', 'cat people', 'sorority row', 'the prisoner of zenda', 'lars and the real girl', 'the boy in the striped pyjamas', 'dancer in the dark', 'oscar and lucinda', 'the funeral', 'solitary man', 'machete', 'casino jack', 'the land before time', 'tae guk gi: the brotherhood of war', 'the perfect game', 'the exorcist', 'jaws', 'american pie', 'ernest & celestine', 'the golden child', 'think like a man', 'barbershop', 'star trek ii: the wrath of khan', 'ace ventura: pet detective', 'wargames', 'witness', 'act of valor', 'step up', 'beavis and butt-head do america', 'jackie brown', 'harold & kumar escape from guantanamo bay', 'chronicle', 'yentl', 'time bandits', 'crossroads', 'project x', 'patton', 'one hour photo', 'quarantine', 'the eye', 'johnson family vacation', 'how high', 'the muppet christmas carol', 'frida', 'katy perry: part of me', 'the fault in our stars', 'rounders', 'top five', 'prophecy', 'stir of echoes', 'philomena', 'the upside of anger', 'the boys from brazil', 'aquamarine', 'paper towns', \"my baby's daddy\", 'nebraska', 'tales from the crypt: demon knight', \"max keeble's big move\", 'young adult', 'crank', \"def jam's how to be a player\", 'living out loud', 'just wright', 'rachel getting married', 'the postman always rings twice', 'girl with a pearl earring', 'das boot', 'sorority boys', 'about time', 'house of flying daggers', 'arbitrage', 'project almanac', 'cadillac records', 'screwed', 'fortress', 'for your consideration', 'celebrity', 'running with scissors', 'from justin to kelly', 'girl 6', 'in the cut', 'two lovers', 'last orders', 'the host', 'the host', 'the pursuit of d.b. cooper', 'ravenous', 'charlie bartlett', 'the great beauty', 'the dangerous lives of altar boys', 'stoker', '2046', 'married life', 'duma', 'ondine', 'brother', 'welcome to collinwood', 'critical care', 'the life before her eyes', 'darling companion', 'trade', 'fateless', 'breakfast of champions', 'a woman, a gun and a noodle shop', 'cypher', 'city of life and death', 'legend of a rabbit', 'space battleship yamato', '5 days of war', 'triangle', '10 days in a madhouse', 'heaven is for real', 'snatch', \"dancin' it's on\", 'pet sematary', 'madadayo', 'the cry of the owl', 'a tale of three cities', 'gremlins', 'star wars', 'dirty grandpa', 'doctor zhivago', 'trash', 'high school musical 3: senior year', 'the fighter', 'jackass number two', 'my cousin vinny', 'if i stay', 'drive hard', 'major league', \"st. trinian's\", 'phone booth', 'a walk to remember', 'dead man walking', 'cruel intentions', 'saw vi', 'history of the world: part i', 'the secret life of bees', 'corky romano', 'raising cain', 'f.i.s.t.', 'invaders from mars', 'brooklyn', 'barry lyndon', 'out cold', 'the ladies man', 'quartet', 'tomcats', 'frailty', 'woman in gold', 'kinsey', 'army of darkness', 'slackers', \"what's eating gilbert grape\", 'the visual bible: the gospel of john', 'vera drake', 'the guru', 'the perez family', 'inside llewyn davis', 'o', 'return to the blue lagoon', 'the molly maguires', 'romance & cigarettes', 'copying beethoven', 'brighton rock', 'saw v', 'machine gun mccain', 'lol', 'jindabyne', 'kabhi alvida naa kehna', 'an ideal husband', 'the last days on mars', 'darkness', '2001: a space odyssey', 'e.t. the extra-terrestrial', 'in the land of women', 'the blue butterfly', 'there goes my baby', 'housefull', 'september dawn', 'for greater glory - the true story of cristiada', 'the bélier family', 'good will hunting', 'misconduct', 'saw iii', 'stripes', 'bring it on', 'the purge: election year', \"she's all that\", 'saw iv', 'white noise', \"madea's family reunion\", 'the color of money', 'the longest day', 'the mighty ducks', 'the grudge', 'happy gilmore', 'jeepers creepers', \"bill & ted's excellent adventure\", 'oliver!', 'the best exotic marigold hotel', \"recess: school's out\", 'mad max beyond thunderdome', 'commando', 'the boy', 'devil', 'friday after next', 'insidious: chapter 3', 'the last dragon', 'the lawnmower man', \"nick and norah's infinite playlist\", 'dogma', 'the banger sisters', 'twilight zone: the movie', 'road house', 'a low down dirty shame', 'swimfan', 'employee of the month', \"can't hardly wait\", 'the outsiders', \"pete's dragon\", 'the dead zone', 'sinister 2', 'sparkle', 'valentine', 'the fourth kind', 'a prairie home companion', 'sugar hill', 'invasion u.s.a.', 'roll bounce', 'rushmore', 'skyline', 'the second best exotic marigold hotel', 'kit kittredge: an american girl', 'the perfect man', \"mo' better blues\", 'kung pow: enter the fist', 'tremors', 'wrong turn', 'the long riders', 'the corruptor', 'mud', 'reno 911!: miami', 'one direction: this is us', 'the goods: live hard, sell hard', 'hey arnold! the movie', 'my week with marilyn', 'the matador', 'love jones', 'the gift', 'end of the spear', 'get over it', 'office space', 'drop dead gorgeous', 'big eyes', 'very bad things', 'sleepover', 'body double', 'macgruber', 'dirty pretty things', 'movie 43', 'over her dead body', 'seeking a friend for the end of the world', 'cedar rapids', 'american history x', 'the collection', \"teacher's pet\", 'the red violin', 'the straight story', 'deuces wild', 'bad words', 'run, fatboy, run', 'heartbeeps', 'black or white', 'on the line', 'rescue dawn', 'danny collins', 'jeff, who lives at home', 'i am love', 'atlas shrugged part ii', 'romeo is bleeding', 'the limey', 'crash', 'the house of mirth', 'malone', 'peaceful warrior', 'bucky larson: born to be a star', 'bamboozled', 'the forest', 'sphinx', \"while we're young\", 'a better life', 'spider', 'gun shy', 'nicholas nickleby', 'the iceman', 'krrish', 'cecil b. demented', 'killer joe', 'the joneses', 'owning mahowny', 'the brothers solomon', 'my blueberry nights', 'illuminata', 'swept away', 'war, inc.', 'shaolin soccer', 'the brown bunny', 'the swindle', 'rosewater', 'the chambermaid on the titanic', 'coriolanus', 'imaginary heroes', 'high heels and low lifes', \"world's greatest dad\", 'severance', 'edmond', 'welcome to the rileys', 'police academy: mission to moscow', 'blood done sign my name', 'cinco de mayo: la batalla', 'elsa & fred', 'an alan smithee film: burn, hollywood, burn', 'the open road', 'the good guy', 'motherhood', 'free style', 'strangerland', 'janky promoters', 'blonde ambition', 'the oxford murders', 'the reef', 'eulogy', 'white noise 2: the light', 'beat the world', 'fifty dead men walking', 'jungle shuffle', 'adam resurrected', 'of horses and men', \"it's a wonderful afterlife\", \"the devil's tomb\", 'partition', 'good intentions', 'the good, the bad, the weird', 'nurse 3-d', 'gunless', 'adventureland', 'the lost city', 'next friday', 'american heist', 'you only live twice', 'plastic', 'amour', 'poltergeist iii', 're-kill', \"it's a mad, mad, mad, mad world\", 'volver', 'heavy metal', 'gentlemen broncos', 'richard iii', 'into the grizzly maze', 'kites', 'melancholia', 'red dog', 'jab tak hai jaan', 'alien', 'the texas chain saw massacre', 'the runaways', 'fiddler on the roof', 'thunderball', 'detention', 'loose cannons', 'set it off', 'the best man', \"child's play\", 'sicko', 'the purge: anarchy', 'down to you', 'harold & kumar go to white castle', 'the contender', 'boiler room', 'trading places', 'black christmas', \"breakin' all the rules\", 'henry v', 'the savages', 'chasing papi', 'the way of the gun', 'igby goes down', 'pcu', 'the ultimate gift', 'the ice pirates', 'gracie', 'trust the man', 'hamlet 2', 'velvet goldmine', 'the wailing', 'glee: the concert movie', 'the legend of suriyothai', 'two evil eyes', 'barbecue', 'all or nothing', 'princess kaiulani', 'opal dream', 'flame & citron', 'undiscovered', 'red riding: in the year of our lord 1974', 'the girl on the train', 'veronika decides to die', 'crocodile dundee', 'ultramarines: a warhammer 40,000 movie', 'the i inside', 'beneath hill 60', 'polisse', 'awake', 'star wars: clone wars: volume 1', 'skin trade', 'the lost boys', 'crazy heart', 'the rose', 'baggage claim', 'barbarella', 'shipwrecked', 'election', 'the namesake', 'the duff', 'glitter', 'the haunting in connecticut 2: ghosts of georgia', 'silmido', 'bright star', 'my name is khan', 'all is lost', 'limbo', 'namastey london', 'the wind that shakes the barley', 'yeh jawaani hai deewani', 'quo vadis', 'repo! the genetic opera', 'valley of the wolves: iraq', 'pulp fiction', 'the muppet movie', 'nightcrawler', 'club dread', 'the sound of music', 'splash', 'little miss sunshine', 'stand by me', '28 days later', 'you got served', 'escape from alcatraz', 'brown sugar', 'a thin line between love and hate', '50/50', 'shutter', 'that awkward moment', 'modern problems', 'kicks', 'much ado about nothing', \"on her majesty's secret service\", 'new nightmare', 'drive me crazy', 'akeelah and the bee', 'half baked', 'new in town', 'american psycho', 'the good girl', 'bon cop bad cop', 'the boondock saints ii: all saints day', 'the city of your final destination', 'enough said', 'easy a', 'the inkwell', 'shadow of the vampire', 'prom', 'the pallbearer', 'held up', 'woman on top', 'howards end', 'anomalisa', 'another year', '8 women', 'showdown in little tokyo', 'clay pigeons', \"it's kind of a funny story\", 'made in dagenham', 'when did you last see your father?', 'prefontaine', 'the wicked lady', 'the secret of kells', 'begin again', 'down in the valley', 'brooklyn rules', 'restless', 'the singing detective', 'the land girls', 'fido', 'the wendell baker story', 'wild target', 'pathology', 'wuthering heights', '10th & wolf', 'dear wendy', 'aloft', 'akira', 'the death and life of bobby z', 'the rocket: the legend of rocket richard', 'swelter', 'my lucky star', 'imagine me & you', 'mr. church', 'swimming pool', 'green street hooligans: underground', 'the blood of heroes', 'code of honor', 'driving miss daisy', 'soul food', 'rumble in the bronx', 'far from men', 'thank you for smoking', 'hostel: part ii', 'an education', 'shopgirl', 'the hotel new hampshire', 'narc', 'men with brooms', 'witless protection', 'the work and the glory', 'extract', 'masked and anonymous', 'betty fisher and other stories', 'code 46', 'outside bet', 'albert nobbs', 'black november', 'ta ra rum pum', 'persepolis', 'the hole', 'the wave', 'the neon demon', 'harry brown', 'the omega code', 'juno', 'pound of flesh', 'diamonds are forever', 'the godfather', 'flashdance', '(500) days of summer', 'the piano', 'magic mike', 'darkness falls', 'live and let die', 'my dog skip', 'definitely, maybe', 'jumping the broom', 'good night, and good luck.', 'capote', 'desperado', \"logan's run\", 'the man with the golden gun', 'action jackson', 'the descent', 'michael jordan to the max', \"devil's due\", 'flirting with disaster', \"the devil's rejects\", 'dope', 'in too deep', 'house of 1000 corpses', 'alien zone', 'a serious man', 'get low', 'warlock', 'beyond the lights', 'a single man', 'the last temptation of christ', 'outside providence', 'bride & prejudice', 'rabbit-proof fence', \"who's your caddy?\", 'split second', 'the other side of heaven', 'veer-zaara', 'redbelt', 'cyrus', 'a dog of flanders', 'auto focus', 'factory girl', 'we need to talk about kevin', 'the christmas candle', 'the mighty macs', \"losin' it\", 'mother and child', 'march or die', 'the visitors', 'somewhere', 'i hope they serve beer in hell', 'chairman of the board', 'hesher', 'dom hemingway', 'gerry', 'the heart of me', 'freeheld', 'the extra man', 'hard to be a god', 'ca$h', 'wah-wah', 'the boondock saints', 'z storm', 'twixt', 'the snow queen', 'alpha and omega: the legend of the saw tooth cave', 'pale rider', 'stargate: the ark of truth', 'dazed and confused', 'high school musical 2', 'two lovers and a bear', 'criminal activities', 'aimee & jaguar', 'the chumscrubber', 'shade', 'house at the end of the street', 'incendies', 'remember me, my love', 'perrier’s bounty', 'elite squad', 'annabelle', 'bran nue dae', 'boyz n the hood', 'la bamba', 'the four seasons', 'dressed to kill', 'the adventures of huck finn', 'go', 'friends with money', 'the andromeda strain', 'bats', 'nowhere in africa', 'shame', 'layer cake', 'the work and the glory ii: american zion', 'the east', 'a home at the end of the world', 'aberdeen', 'the messenger', 'tracker', 'control', 'the terminator', 'good bye, lenin!', 'the damned united', 'the return of the living dead', 'mallrats', 'grease', 'platoon', 'fahrenheit 9/11', 'butch cassidy and the sundance kid', 'mary poppins', 'ordinary people', 'west side story', 'caddyshack', 'the brothers', 'the wood', 'the usual suspects', 'a nightmare on elm street 5: the dream child', 'national lampoon’s van wilder', 'the wrestler', 'duel in the sun', 'best in show', 'escape from new york', 'school daze', 'daddy day camp', 'mr. nice guy', 'a mighty wind', 'mystic pizza', 'sliding doors', 'tales from the hood', 'the last king of scotland', 'halloween 5: the revenge of michael myers', 'bernie', 'dolphins and whales: tribes of the ocean', 'pollock', '200 cigarettes', 'the words', 'casa de mi padre', 'city island', 'the guard', 'college', 'the virgin suicides', 'little voice', 'miss march', 'wish i was here', 'simply irresistible', 'hedwig and the angry inch', 'only the strong', 'goddess of love', 'shattered glass', 'novocaine', 'the business of strangers', 'the wild bunch', 'the wackness', 'the first great train robbery', 'morvern callar', 'beastmaster 2: through the portal of time', 'the 5th quarter', 'the flower of evil', 'the greatest', 'snow flower and the secret fan', 'come early morning', 'lucky break', 'julia', 'surfer, dude', 'lake of fire', '11:14', 'men of war', 'don mckay', 'deadfall', 'a shine of rainbows', 'the hit list', 'emma', 'videodrome', 'the spanish apartment', 'song one', 'winter in wartime', 'freaky deaky', 'the train', 'trade of innocents', 'the protector', 'stiff upper lips', 'bend it like beckham', 'sunshine state', 'crossover', 'khiladi 786', '[rec]²', 'standing ovation', 'the sting', 'chariots of fire', 'diary of a mad black woman', 'shine', 'don jon', 'high plains drifter', 'ghost world', 'iris', 'galaxina', 'the chorus', 'mambo italiano', 'wonderland', 'do the right thing', 'harvard man', 'le havre', 'irreversible', 'r100', 'rang de basanti', 'animals', 'salvation boulevard', 'the ten', 'a room for romeo brass', 'headhunters', 'grabbers', 'saint ralph', 'miss julie', 'somewhere in time', 'dum maaro dum', 'insidious: chapter 2', 'saw ii', '10 cloverfield lane', 'jackass: the movie', 'lights out', 'paranormal activity 3', 'ouija', 'a nightmare on elm street 3: dream warriors', 'instructions not included', 'paranormal activity 4', 'the robe', 'the return of the pink panther', \"freddy's dead: the final nightmare\", 'monster', '20,000 leagues under the sea', 'paranormal activity: the marked ones', 'the elephant man', 'dallas buyers club', 'the lazarus effect', 'memento', 'oculus', 'clerks ii', 'billy elliot', 'the way way back', 'house party 2', 'the man from snowy river', \"doug's 1st movie\", 'the apostle', 'mommie dearest', 'our idiot brother', 'race', 'the players club', 'as above, so below', 'addicted', \"eve's bayou\", 'still alice', 'the egyptian', 'nighthawks', 'friday the 13th part viii: jason takes manhattan', 'my big fat greek wedding', 'spring breakers', 'halloween: the curse of michael myers', 'y tu mamá también', 'shaun of the dead', 'the haunting of molly hartley', 'lone star', 'halloween 4: the return of michael myers', \"april fool's day\", 'diner', 'lone wolf mcquade', 'apollo 18', 'sunshine cleaning', 'no escape', 'the beastmaster', 'solomon and sheba', 'fifty shades of black', 'not easily broken', 'a farewell to arms', 'the perfect match', 'digimon: the movie', 'saved!', 'the barbarian invasions', 'robin and marian', 'the forsaken', 'force 10 from navarone', 'uhf', \"grandma's boy\", 'slums of beverly hills', 'once upon a time in the west', 'made', 'moon', 'keeping up with the steins', 'sea rex 3d: journey to a prehistoric world', 'the sweet hereafter', 'of gods and men', 'bottle shock', 'jekyll and hyde ... together again', 'heavenly creatures', '90 minutes in heaven', 'everything must go', 'zero effect', 'the machinist', 'light sleeper', 'kill the messenger', 'rabbit hole', 'party monster', 'green room', 'the oh in ohio', 'atlas shrugged part iii: who is john galt?', 'bottle rocket', 'albino alligator', 'gandhi, my father', 'standard operating procedure', 'out of the blue', 'out of the blue', 'tucker and dale vs evil', 'lovely, still', 'tycoon', 'desert blue', 'decoys', 'the visit', 'redacted', 'fascination', 'area 51', 'sleep tight', 'the cottage', 'dead like me: life after death', 'farce of the penguins', 'flying by', 'rudderless', 'henry & me', 'christmas eve', 'we have your husband', 'dying of the light', 'born of war', 'capricorn one', \"should've been romeo\", 'running forever', 'yoga hosers', 'navy seals vs. zombies', 'i served the king of england', 'soul kitchen', 'sling blade', 'the awakening', 'hostel', 'a cock and bull story', 'take shelter', 'lady in white', 'driving lessons', \"let's kill ward's wife\", 'the texas chainsaw massacre 2', 'pat garrett & billy the kid', 'only god forgives', 'camping sauvage', 'without men', 'dear frankie', 'all hat', 'the names of love', 'treading water', 'savage grace', 'out of the blue', 'out of the blue', 'police academy', 'the blue lagoon', 'four weddings and a funeral', 'fast times at ridgemont high', 'moby dick', '25th hour', 'bound', 'requiem for a dream', 'state fair', 'tango', 'salvador', \"moms' night out\", 'donnie darko', 'saving private perez', 'character', 'spun', 'life during wartime', 'sympathy for lady vengeance', \"mozart's sister\", 'mean machine', 'exiled', 'blackthorn', 'lilya 4-ever', 'after.life', 'fugly', \"one flew over the cuckoo's nest\", \"r.l. stine's monsterville: the cabinet of souls\", 'silent movie', 'airlift', 'anne of green gables', 'falcon rising', 'the sweeney', 'sexy beast', 'easy money', 'whale rider', 'paa', 'cargo', 'high school musical', 'love and death on long island', 'night watch', 'the crying game', \"porky's\", 'survival of the dead', 'night of the living dead', 'lost in translation', 'annie hall', 'the greatest show on earth', \"monster's ball\", 'maggie', 'leaving las vegas', 'hansel and gretel get baked', 'the front page', 'the boy next door', 'trapeze', 'the kids are all right', 'they live', 'the great escape', 'what the #$*! do we (k)now!?', 'the last exorcism part ii', 'boyhood', 'scoop', 'the wash', '3 strikes', 'the cooler', 'the misfits', 'the night listener', 'the jerky boys', 'the orphanage', 'a haunted house 2', 'the rules of attraction', 'topaz', \"let's go to prison\", 'four rooms', 'secretary', 'the real cancun', 'talk radio', 'waiting for guffman', 'love stinks', 'you kill me', 'thumbsucker', 'red state', 'mirrormask', 'samsara', 'the barbarians', 'the art of getting by', 'zipper', 'poolhall junkies', 'the loss of sexual innocence', 'holy motors', 'joe', 'shooting fish', 'prison', 'psycho beach party', 'the big tease', 'guten tag, ramón', 'trust', 'an everlasting piece', 'among giants', 'adore', 'the velocity of gary', 'mondays in the sun', 'stake land', 'the last time i committed suicide', 'futuro beach', 'another happy day', 'a lonely place to die', 'nothing', 'the geographer drank his globe away', '1776', 'inescapable', \"hell's angels\", 'purple violets', 'the veil', 'the loved ones', 'the helpers', 'how to fall in love', 'the perfect wave', 'a man for all seasons', 'network', 'gone with the wind', 'desert dancer', 'major dundee', 'annie get your gun', 'four lions', 'the house of sand', 'defendor', 'the pirate', 'the good heart', 'the history boys', 'midnight cowboy', 'the full monty', 'airplane!', 'chain of command', 'friday', 'menace ii society', 'creepshow 2', 'the ballad of cable hogue', 'in cold blood', \"the nun's story\", 'harper', 'frenzy', 'the witch', 'i got the hook up', \"she's the one\", 'gods and monsters', 'the secret in their eyes', 'train', 'evil dead ii', 'pootie tang', 'sharknado', 'the other conquest', 'troll hunter', 'ira & abby', 'winter passing', 'd.e.b.s.', 'the masked saint', 'the betrayed', 'taxman', 'the secret', 'batman: the dark knight returns, part 2', 'time to choose', 'in the name of the king iii', 'wicked blood', 'stranded', 'lords of london', 'high anxiety', 'march of the penguins', 'margin call', 'august', 'choke', 'whiplash', 'city of god', 'human traffic', 'to write love on her arms', 'the dead girl', 'the hunt', 'a christmas story', 'bella', 'class of 1984', 'the opposite sex', 'dreaming of joseph lees', 'the class', \"rosemary's baby\", 'the man who shot liberty valance', 'adam', 'maria full of grace', 'beginners', 'feast', 'animal house', 'goldfinger', 'antiviral', \"it's a wonderful life\", 'trainspotting', 'the original kings of comedy', 'paranormal activity 2', 'waking ned', 'bowling for columbine', 'coming home', \"a nightmare on elm street part 2: freddy's revenge\", 'a room with a view', 'the purge', 'sinister', 'martin lawrence live: runteldat', 'cat on a hot tin roof', 'beneath the planet of the apes', 'air bud', 'pokémon: spell of the unknown', 'friday the 13th part vi: jason lives', 'the bridge on the river kwai', 'spaced invaders', 'family plot', 'the apartment', 'jason goes to hell: the final friday', 'torn curtain', \"dave chappelle's block party\", 'slow west', 'krush groove', 'next day air', 'elmer gantry', 'judgment at nuremberg', \"trippin'\", 'red river', 'phat girlz', 'before midnight', 'teen wolf too', 'phantasm ii', 'woman thou art loosed', 'real women have curves', 'water', 'east is east', 'whipped', 'kama sutra - a tale of love', 'please give', 'willy wonka & the chocolate factory', 'warlock: the armageddon', '8 heads in a duffel bag', 'days of heaven', 'thirteen conversations about one thing', 'jawbreaker', 'basquiat', 'frances ha', 'tsotsi', 'happiness', 'dysfunktional family', 'tusk', 'oldboy', 'letters to god', 'hobo with a shotgun', 'compadres', 'freeway', \"love's abiding joy\", 'fish tank', 'damsels in distress', 'creature', 'bachelorette', 'brave new girl', \"tim and eric's billion dollar movie\", 'summer storm', 'fort mccoy', 'chain letter', 'just looking', 'the divide', 'the eclipse', 'demonic', 'my big fat independent movie', 'the deported', 'tanner hall', 'open road', 'they came together', '30 nights of paranormal activity with the devil inside the girl with the dragon tattoo', 'never back down 2: the beatdown', 'point blank', 'four single fathers', 'enter the dangerous mind', 'something wicked', 'awol-72', 'iguana', 'chicago overcoat', 'barry munday', 'central station', 'pocketful of miracles', 'close range', 'boynton beach club', 'amnesiac', 'freakonomics', 'high tension', 'griff the invisible', 'unnatural', 'hustle & flow', 'some like it hot', 'friday the 13th part vii: the new blood', 'the wizard of oz', 'young frankenstein', 'diary of the dead', 'lage raho munna bhai', \"ulee's gold\", 'the black stallion', 'sardaarji', 'journey to saturn', \"donovan's reef\", 'the dress', 'a guy named joe', 'blazing saddles', 'friday the 13th: the final chapter', 'ida', 'maurice', 'beer league', 'riding giants', 'timecrimes', 'silver medalist', 'timber falls', \"singin' in the rain\", 'fat, sick & nearly dead', 'a haunted house', \"2016: obama's america\", 'that thing you do!', 'halloween iii: season of the witch', 'escape from the planet of the apes', 'hud', 'kevin hart: let me explain', 'my own private idaho', 'garden state', 'before sunrise', 'evil words', \"jesus' son\", 'saving face', 'brick lane', 'robot & frank', 'my life without me', 'the spectacular now', 'religulous', 'fuel', \"valley of the heart's delight\", 'eye of the dolphin', '8: the mormon proposition', 'the other end of the line', 'anatomy', 'sleep dealer', 'super', 'christmas mail', 'stung', 'antibirth', 'get on the bus', 'thr3e', 'idiocracy', 'the rise of the krays', 'this is england', 'u.f.o.', 'bathing beauty', 'go for it!', 'dancer, texas pop. 81', 'show boat', 'redemption road', 'the calling', 'the brave little toaster', 'fantasia', '8 days', 'friday the 13th part iii', 'friday the 13th: a new beginning', 'the last sin eater', 'do you believe?', 'impact point', 'the valley of decision', 'eden', 'chicken tikka masala', \"there's always woodstock\", 'jack brooks: monster slayer', 'the best years of our lives', 'bully', 'elling', 'mi america', '[rec]', 'lies in plain sight', 'sharkskin', 'containment', 'the timber', 'from russia with love', 'the toxic avenger part ii', 'sleeper', 'it follows', 'everything you always wanted to know about sex *but were afraid to ask', 'to kill a mockingbird', 'mad max 2: the road warrior', 'the legend of drunken master', \"boys don't cry\", 'silent house', 'the lives of others', 'courageous', 'the hustler', 'boom town', 'the triplets of belleville', 'smoke signals', 'american splendor', 'before sunset', 'amores perros', 'thirteen', \"gentleman's agreement\", \"winter's bone\", 'touching the void', \"alexander's ragtime band\", 'me and you and everyone we know', 'inside job', 'we are your friends', 'ghost dog: the way of the samurai', 'harsh times', 'captive', 'full frontal', 'witchboard', 'shortbus', 'waltz with bashir', 'the book of mormon movie, volume 1: the journey', 'no end in sight', 'the diary of a teenage girl', 'in the shadow of the moon', \"meek's cutoff\", 'inside deep throat', 'dinner rush', 'clockwatchers', 'the virginity hit', 'subway', 'house of d', 'teeth', 'six-string samurai', 'hum to mohabbat karega', \"it's all gone pete tong\", 'saint john of las vegas', '24 7: twenty four seven', 'stonewall', 'roadside romeo', 'this thing of ours', 'the lost medallion: the adventures of billy stone', 'the last five years', 'the missing person', 'return of the living dead 3', 'london', 'sherrybaby', 'circle', 'eden lake', 'plush', 'lesbian vampire killers', \"gangster's paradise: jerusalema\", 'freeze frame', 'grave encounters', 'stitches', 'nine dead', 'to be frank, sinatra at 100', 'bananas', 'supercapitalist', 'rockaway', 'the lady from shanghai', \"no man's land: the rise of reeker\", 'highway', 'small apartments', 'coffee town', 'the ghastly love of johnny x', 'all is bright', 'the torture chamber of dr. sadism', \"straight a's\", 'a funny thing happened on the way to the forum', 'slacker uprising', \"the legend of hell's gate: an american conspiracy\", 'the walking deceased', 'the curse of downers grove', 'shark lake', \"river's edge\", 'northfork', 'the marine 4: moving target', 'buried', 'submarine', 'the square', 'one to another', 'abcd (any body can dance)', 'man on wire', 'abandoned', 'brotherly love', 'the last exorcism', 'nowhere boy', 'a streetcar named desire', 'dr. strangelove or: how i learned to stop worrying and love the bomb', 'the crime of padre amaro', 'beasts of the southern wild', 'battle for the planet of the apes', 'songcatcher', 'higher ground', 'vaalu', 'the greatest movie ever sold', 'ed and his dead mother', 'travellers and magicians', \"hang 'em high\", 'deadline - u.s.a.', 'sublime', \"a beginner's guide to snuff\", 'independence daysaster', 'dysfunctional friends', 'run lola run', 'may', 'against the wild', 'under the same moon', 'conquest of the planet of the apes', 'in the bedroom', 'i spit on your grave', 'happy, texas', 'my summer of love', 'the lunchbox', 'yes', \"you can't take it with you\", 'from here to eternity', 'she wore a yellow ribbon', 'grace unplugged', 'foolish', 'n-secure', 'caramel', 'out of the dark', 'the bubble', 'the conversation', 'dil jo bhi kahey...', 'mississippi mermaid', 'i love your work', 'cabin fever', 'waitress', 'bloodsport', 'mr. smith goes to washington', 'kids', 'the squid and the whale', 'kissing jessica stein', 'kickboxer: vengeance', 'spellbound', 'exotica', \"buffalo '66\", 'insidious', 'repo man', 'nine queens', 'the gatekeepers', 'the ballad of jack and rose', 'the to do list', 'killing zoe', 'the believer', 'snow angels', 'unsullied', 'session 9', 'i want someone to eat cheese with', 'mooz-lum', 'hatchet', 'modern times', 'stolen summer', 'my name is bruce', 'the salon', 'road hard', 'forty shades of blue', 'amigo', 'pontypool', 'trucker', 'me you and five bucks', 'the lords of salem', 'housebound', 'wal-mart: the high cost of low price', 'fetching cody', 'last i heard', 'closer to the moon', 'mutant world', 'growing up smith', 'checkmate', '#horror', 'wind walkers', 'snow white and the seven dwarfs', 'the holy girl', 'shalako', 'incident at loch ness', 'the dog lover', 'girlhouse', 'the blue room', 'house at the end of the drive', 'batman', 'batman', 'lock, stock and two smoking barrels', 'the ballad of gregorio cortez', 'the celebration', 'trees lounge', 'journey from the fall', 'the basket', 'eddie: the sleepwalking cannibal', 'queen of the mountains', 'def-con 4', 'the hebrew hammer', \"neal 'n' nikki\", 'the 41–year–old virgin who knocked up sarah marshall and felt superbad about it', 'forget me not', 'rebecca', 'friday the 13th part 2', 'the lost weekend', 'c.h.u.d.', 'filly brown', 'the lion of judah', 'niagara', 'how green was my valley', 'da sweet blood of jesus', 'sex, lies, and videotape', 'saw', 'super troopers', 'the algerian', 'the amazing catfish', 'monsoon wedding', 'you can count on me', 'the trouble with harry', \"but i'm a cheerleader\", 'home run', 'reservoir dogs', 'the blue bird', 'the good, the bad and the ugly', 'the second mother', 'blue like jazz', 'down & out with the dolls', 'pink ribbons, inc.', 'certifiably jonathan', 'desire', 'the blade of don juan', 'grand theft parsons', 'extreme movie', 'the charge of the light brigade', 'below zero', 'crowsnest', 'airborne', 'cotton comes to harlem', 'the wicked within', 'bleeding hearts', 'waiting...', \"dead man's shoes\", 'from a whisper to a scream', 'sex with strangers', \"dracula: pages from a virgin's diary\", 'faith like potatoes', 'beyond the black rainbow', 'the raid', 'the dead undead', 'the vatican exorcisms', 'casablanca', 'lake mungo', 'rocket singh: salesman of the year', 'silent running', 'rocky', 'the sleepwalker', 'tom jones', 'unfriended', 'taxi driver', 'the howling', 'dr. no', 'chernobyl diaries', 'hellraiser', \"god's not dead 2\", 'cry_wolf', 'godzilla 2000', 'blue valentine', 'transamerica', 'the devil inside', 'beyond the valley of the dolls', 'love me tender', 'an inconvenient truth', 'sands of iwo jima', 'shine a light', 'the green inferno', 'departure', 'the sessions', 'food, inc.', 'october baby', 'next stop wonderland', 'the skeleton twins', 'martha marcy may marlene', 'obvious child', 'frozen river', '20 feet from stardom', 'two girls and a guy', 'walking and talking', 'who killed the electric car?', 'the broken hearts club: a romantic comedy', 'bubba ho-tep', 'slam', 'brigham city', 'fiza', 'orgazmo', 'all the real girls', 'dream with the fishes', 'blue car', 'palo alto', 'ajami', 'wristcutters: a love story', 'i origins', 'the battle of shaker heights', 'the act of killing', 'taxi to the dark side', 'once in a lifetime: the extraordinary story of the new york cosmos', 'guiana 1838', 'lisa picard is famous', 'antarctica: a year on ice', 'a lego brickumentary', 'hardflip', 'chocolate: deep dark secrets', 'the house of the devil', 'the perfect host', 'safe men', 'speedway junky', 'the last big thing', 'the specials', '16 to life', 'alone with her', 'creative control', 'special', 'sparkler', 'the helix... loaded', 'in her line of fire', 'the jimmy show', 'heli', 'karachi se lahore', 'loving annabelle', 'hits', 'jimmy and judy', 'frat party', \"the party's over\", 'proud', 'the poker house', 'childless', 'zmd: zombies of mass destruction', 'snow white: a deadly summer', 'hidden away', 'my last day without you', 'steppin: the movie', \"doc holliday's revenge\", 'black rock', 'truth or dare', 'the pet', 'bang bang baby', 'fear clinic', 'zombie hunter', 'a fine step', 'charly', 'banshee chapter', 'ask me anything', 'and then came love', 'food chains', 'on the waterfront', 'l!fe happens', '4 months, 3 weeks and 2 days', 'the horror network vol. 1', 'hard candy', 'the quiet', 'circumstance', 'fruitvale station', 'the brass teapot', 'bambi', 'the hammer', 'latter days', 'elza', '1982', 'for a good time, call...', 'celeste & jesse forever', 'time changer', 'london to brighton', 'american hero', 'windsor drive', 'a separation', 'crying with laughter', 'welcome to the dollhouse', 'ruby in paradise', 'raising victor vargas', \"pandora's box\", 'harrison montgomery', 'live-in maid', 'deterrence', 'the mudge boy', 'the young unknowns', 'not cool', 'dead snow', 'saints and soldiers', 'vessel', 'american graffiti', 'iraq for sale: the war profiteers', 'aqua teen hunger force colon movie film for theaters', 'safety not guaranteed', 'kevin hart: laugh at my pain', 'kill list', 'the innkeepers', 'the conformist', 'interview with the assassin', 'donkey punch', 'all the boys love mandy lane', 'bled', 'high noon', 'hoop dreams', 'rize', 'l.i.e.', 'the sisterhood of night', 'b-girl', 'half nelson', 'naturally native', 'hav plenty', 'adulterers', 'escape from tomorrow', 'starsuckers', 'the hadza:  last of the first', 'after', 'treachery', 'walter', 'top hat', 'the blair witch project', 'woodstock', 'the kentucky fried movie', 'mercy streets', 'carousel of revenge', 'broken vessels', 'water & power', 'they will have to kill us first', 'light from the darkroom', 'the country doctor', \"the maid's room\", \"a hard day's night\", 'the harvest (la cosecha)', 'love letters', 'juliet and alfa romeo', 'fireproof', 'faith connections', 'benji', 'open water', 'high road', 'kingdom of the spiders', 'mad hot ballroom', 'the station agent', 'to save a life', 'wordplay', 'beyond the mat', 'the singles ward', 'osama', 'sholem aleichem: laughing in the darkness', 'groove', 'the r.m.', 'twin falls idaho', 'mean creek', 'hurricane streets', 'never again', 'civil brand', 'lonesome jim', 'drinking buddies', 'deceptive practice: the mysteries and mentors of ricky jay', 'seven samurai', 'the other dream team', 'johnny suede', 'finishing the game', 'rubber', 'kiss the bride', 'the slaughter rule', 'monsters', 'the californians', 'the living wake', 'detention of the dead', 'crazy stone', 'scott walker: 30 century man', 'everything put together', 'good kill', 'the outrageous sophie tucker', 'now is good', 'girls gone dead', 'america is still the place', 'subconscious', 'enter nowhere', 'el rey de najayo', 'fight to the finish', \"alleluia! the devil's carnival\", 'the sound and the shadow', 'rodeo girl', 'born to fly: elizabeth streb vs. gravity', 'the little ponderosa zoo', 'the toxic avenger', 'straight out of brooklyn', 'bloody sunday', 'diamond ruff', 'conversations with other women', 'poultrygeist: night of the chicken dead', 'mutual friends', '42nd street', 'rise of the entrepreneur: the search for a better way', 'metropolitan', 'as it is in heaven', 'roadside', 'napoleon dynamite', 'blue ruin', 'paranormal activity', 'dogtown and z-boys', 'monty python and the holy grail', 'quinceañera', 'gory gory hallelujah', 'tarnation', 'i want your money', 'love in the time of monsters', 'the beyond', 'what happens in vegas', 'the dark hours', 'my beautiful laundrette', 'fabled', 'show me', 'cries and whispers', 'intolerance', 'trekkies', 'the broadway melody', 'the evil dead', 'maniac', 'censored voices', 'murderball', 'american ninja 2: the confrontation', '51 birch street', 'rotor dr1', '12 angry men', 'my dog tulip', 'it happened one night', 'dogtooth', 'tupac: resurrection', 'tumbleweeds', 'the prophecy', \"when the cat's away\", 'pieces of april', 'the big swap', 'old joy', 'wendy and lucy', '3 backyards', 'pierrot le fou', 'sisters in law', 'ayurveda: art of being', 'nothing but a man', 'first love, last rites', 'fighting tommy riley', 'royal kill', 'the looking glass', 'death race 2000', 'locker 13', 'midnight cabaret', \"anderson's cross\", 'bizarre', 'graduation day', 'some guy who kills people', 'compliance', 'chasing amy', 'lovely & amazing', 'death calls', 'better luck tomorrow', 'the incredibly true adventure of two girls in love', 'chuck & buck', 'american desi', \"amidst the devil's wings\", 'cube', 'love and other catastrophes', 'i married a strange person!', 'november', 'like crazy', 'teeth and blood', 'sugar town', 'the motel', 'the canyons', 'on the outs', 'shotgun stories', 'exam', 'the sticky fingers of time', 'sunday school musical', 'rust', 'ink', 'the christmas bunny', 'butterfly', 'undivided', 'the frozen', 'horse camp', 'give me shelter', 'the big parade', 'little big top', 'along the roadside', 'bronson', 'western religion', 'burn', 'urbania', 'the stewardesses', 'the beast from 20,000 fathoms', 'mad max', 'swingers', 'a fistful of dollars', 'she done him wrong', 'short cut to nirvana: kumbh mela', 'the grace card', 'middle of nowhere', 'three', 'the business of fancydancing', 'call + response', 'malevolence', 'reality show', 'super hybrid', 'baghead', 'american beast', 'the case of the grinning cat', 'ordet', 'good dick', 'the man from earth', 'the trials of darryl hunt', 'samantha: an american girl holiday', 'yesterday was a lie', 'theresa is a mother', 'h.', 'archaeology of a woman', 'children of heaven', 'weekend', \"she's gotta have it\", 'butterfly girl', 'the world is mine', 'another earth', \"sweet sweetback's baadasssss song\", 'perfect cowboy', 'tadpole', 'once', 'the woman chaser', 'the horse boy', 'when the lights went out', 'heroes of dirt', 'a charlie brown christmas', 'antarctic edge: 70° south', 'aroused', 'top spin', 'roger & me', 'an american in hollywood', 'sound of my voice', 'the blood of my brother: a story of death in iraq', \"your sister's sister\", \"a dog's breakfast\", 'the married woman', 'the birth of a nation', 'the work and the story', 'facing the giants', 'the gallows', 'eraserhead', 'hollywood shuffle', 'the mighty', 'penitentiary', 'the lost skeleton of cadavra', \"dude where's my dog?\", 'cheap thrills', 'indie game: the movie', 'straightheads', 'open secret', 'echo dr.', 'the night visitor', 'the past is a grotesque animal', 'peace, propaganda & the promised land', 'pi', \"i love you, don't touch me!\", '20 dates', 'queen crab', 'super size me', 'the fp', 'happy christmas', \"the brain that wouldn't die\", 'tiger orange', 'supporting characters', 'absentia', 'the brothers mcmullen', 'the dirties', 'gabriela', 'tiny furniture', 'hayride', 'the naked ape', 'counting', 'the call of cthulhu', 'bending steel', 'the signal', 'the image revolution', 'this is martin bonner', 'a true story', 'george washington', 'smiling fish & goat on fire', 'dawn of the crescent moon', 'raymond did it', 'the last waltz', 'run, hide, die', 'the exploding girl', \"the legend of god's gun\", 'mutual appreciation', 'her cry: la llorona investigation', 'down terrace', 'clerks', 'pink narcissus', 'funny ha ha', 'in the company of men', 'manito', 'rampage', 'slacker', 'dutch kills', 'dry spell', 'flywheel', 'backmask', 'the puffy chair', 'stories of our lives', 'breaking upwards', 'all superheroes must die', 'pink flamingos', 'clean', 'the circle', 'tin can man', 'cure', 'on the downlow', 'sanctuary: quite a conundrum', 'bang', 'primer', 'cavite', 'el mariachi', 'newlyweds', 'signed, sealed, delivered', 'shanghai calling', 'my date with drew']\n"
     ]
    }
   ],
   "source": [
    "list_of_all_titles=[x.lower() for x in list_of_all_titles]\n",
    "print(list_of_all_titles)"
   ]
  },
  {
   "cell_type": "code",
   "execution_count": 57,
   "id": "f69941b8",
   "metadata": {},
   "outputs": [
    {
     "name": "stdout",
     "output_type": "stream",
     "text": [
      "Enter a movie name: avatar\n"
     ]
    }
   ],
   "source": [
    "movie_name=input(\"Enter a movie name: \").strip().lower()"
   ]
  },
  {
   "cell_type": "code",
   "execution_count": 58,
   "id": "dcaa233b",
   "metadata": {},
   "outputs": [],
   "source": [
    "import difflib"
   ]
  },
  {
   "cell_type": "code",
   "execution_count": 59,
   "id": "96474fd5",
   "metadata": {},
   "outputs": [
    {
     "name": "stdout",
     "output_type": "stream",
     "text": [
      "['avatar']\n"
     ]
    }
   ],
   "source": [
    "close_match=difflib.get_close_matches(movie_name,list_of_all_titles)\n",
    "print(close_match)"
   ]
  },
  {
   "cell_type": "code",
   "execution_count": 60,
   "id": "61584c10",
   "metadata": {},
   "outputs": [
    {
     "name": "stdout",
     "output_type": "stream",
     "text": [
      "avatar\n"
     ]
    }
   ],
   "source": [
    "match=close_match[0]\n",
    "print(match)"
   ]
  },
  {
   "cell_type": "code",
   "execution_count": 62,
   "id": "c6a40432",
   "metadata": {},
   "outputs": [
    {
     "name": "stdout",
     "output_type": "stream",
     "text": [
      "0\n"
     ]
    }
   ],
   "source": [
    "movie_index=new_df[new_df['title'].str.lower()==match].index[0]\n",
    "print(movie_index)"
   ]
  },
  {
   "cell_type": "code",
   "execution_count": 63,
   "id": "bfd3d975",
   "metadata": {},
   "outputs": [
    {
     "name": "stdout",
     "output_type": "stream",
     "text": [
      "[(0, 1.0), (1, 0.04378933439058242), (2, 0.02725683681805422), (3, 0.024649395591758792), (4, 0.1826120245744528), (5, 0.07262239236884772), (6, 0.024581484430772366), (7, 0.07409033533442559), (8, 0.017769954653253865), (9, 0.030375448001089152), (10, 0.044845184616421764), (11, 0.03452176838892362), (12, 0.0161572605545359), (13, 0.020002779692895416), (14, 0.07646362249898869), (15, 0.03662566592497341), (16, 0.06095710575983625), (17, 0.05247158324616235), (18, 0.08648079825769708), (19, 0.04273291513900805), (20, 0.02604550375776431), (21, 0.031336439074787566), (22, 0.021803323552317313), (23, 0.023092681228954484), (24, 0.031993255492809125), (25, 0.04477798407677524), (26, 0.08420623998383404), (27, 0.11300536214335132), (28, 0.02552603778332735), (29, 0.042721490303763626), (30, 0.041925164890080434), (31, 0.07716781992536778), (32, 0.052470667115386276), (33, 0.027297230356596622), (34, 0.01504425930521884), (35, 0.0646600643106589), (36, 0.09762114239604286), (37, 0.048233024573149874), (38, 0.028912960479712632), (39, 0.04912861750455426), (40, 0.03388083096893006), (41, 0.09720639443866515), (42, 0.011164843856512494), (43, 0.07380770243844459), (44, 0.012965716028229185), (45, 0.04859174962221967), (46, 0.09847090739144179), (47, 0.20110588499159232), (48, 0.06720186723200225), (49, 0.028510436988336618), (50, 0.04257187943674882), (51, 0.04425071735096096), (52, 0.13287801104228655), (53, 0.06593366496870785), (54, 0.018990162918873205), (55, 0.03547189579129266), (56, 0.12821669231912206), (57, 0.06088475888200479), (58, 0.021722361199641105), (59, 0.054456544012925844), (60, 0.01685804676801496), (61, 0.09269418494486992), (62, 0.016881763739905294), (63, 0.040849853793111915), (64, 0.039738050035884064), (65, 0.025914419849946135), (66, 0.018123368455357343), (67, 0.08530864897250112), (68, 0.036102278850493066), (69, 0.03764465862615847), (70, 0.03954176811194617), (71, 0.04087264207167817), (72, 0.04413798402262087), (73, 0.012253356596655624), (74, 0.13938065418764664), (75, 0.05684631026711686), (76, 0.03541728005133247), (77, 0.027407651057058814), (78, 0.01914556473176212), (79, 0.04304226954304953), (80, 0.0268571192289119), (81, 0.04232457004845509), (82, 0.052075460326465955), (83, 0.10092033366120637), (84, 0.0407940139998145), (85, 0.06652751424185853), (86, 0.04396946706156863), (87, 0.1020415332878789), (88, 0.03147994699857358), (89, 0.0334764971173412), (90, 0.017448013665157976), (91, 0.10293089570195599), (92, 0.02814239776780865), (93, 0.023433611970865062), (94, 0.15101996499639053), (95, 0.1506356776597713), (96, 0.038296303696625525), (97, 0.04187006033993805), (98, 0.01968865628635333), (99, 0.008699106996571518), (100, 0.0328946997430485), (101, 0.06226431134830994), (102, 0.052401881445977586), (103, 0.033475383014367935), (104, 0.013028436996290945), (105, 0.041944595545824755), (106, 0.032971794504902716), (107, 0.054162156757012685), (108, 0.09580426894908216), (109, 0.031205818439407312), (110, 0.06985189809053723), (111, 0.11938545911522802), (112, 0.03889716975668116), (113, 0.01919363466963767), (114, 0.023042338736322037), (115, 0.03169099863381402), (116, 0.038406912669967444), (117, 0.02586927359969938), (118, 0.01718624385149127), (119, 0.03451284245450821), (120, 0.01387654655412052), (121, 0.027501868270369243), (122, 0.02894406910284042), (123, 0.05035539846672516), (124, 0.03637649922545245), (125, 0.053708405479001), (126, 0.03629994486596083), (127, 0.08944765494279201), (128, 0.027319078573855703), (129, 0.040507417113135095), (130, 0.016493803842941072), (131, 0.0573497329123098), (132, 0.05532638345032245), (133, 0.029644070128936263), (134, 0.033142879296139405), (135, 0.0298558707670426), (136, 0.010557224647072712), (137, 0.04109676424659606), (138, 0.035039259908166226), (139, 0.03583200559774732), (140, 0.044180447462363825), (141, 0.15189734776085673), (142, 0.03800059788706794), (143, 0.03888198657354197), (144, 0.032661966283545375), (145, 0.041170134039657615), (146, 0.03475620157621291), (147, 0.05102096571676318), (148, 0.02847807438476968), (149, 0.18171949121081116), (150, 0.149835909258771), (151, 0.040092118036735055), (152, 0.014995335455783914), (153, 0.04123239344951805), (154, 0.03024520866093966), (155, 0.021454024594667317), (156, 0.09005222384106709), (157, 0.024838687503887742), (158, 0.15680132444558442), (159, 0.031058567745720626), (160, 0.05151359295531274), (161, 0.027933684069934746), (162, 0.029056319527478478), (163, 0.041366321253714824), (164, 0.026000267883493185), (165, 0.021738440203154068), (166, 0.03160063241526559), (167, 0.02072379617298099), (168, 0.07556497520013873), (169, 0.07543356202089352), (170, 0.04876322521071197), (171, 0.03544848623418127), (172, 0.03388938522595976), (173, 0.02444539406322845), (174, 0.06032413112447536), (175, 0.029920531427959363), (176, 0.012494423288189197), (177, 0.018685555987398253), (178, 0.013363716383338496), (179, 0.03106201782185774), (180, 0.0168581179957627), (181, 0.016436067696181136), (182, 0.03830270372914969), (183, 0.03193205216507111), (184, 0.16709342112847736), (185, 0.051578936368697086), (186, 0.018568683374411817), (187, 0.04795476610601557), (188, 0.026609343727274304), (189, 0.0430984494469746), (190, 0.037189505920686525), (191, 0.025217528489585823), (192, 0.029481547450652713), (193, 0.03078903324904223), (194, 0.006411938529026632), (195, 0.02694677137518677), (196, 0.04494422548597302), (197, 0.037061247062968816), (198, 0.024912434213600516), (199, 0.036049131548369195), (200, 0.062489825894141884), (201, 0.021357447134645775), (202, 0.01610376145551045), (203, 0.03523049821415149), (204, 0.014983587179977165), (205, 0.024087263405704627), (206, 0.07019179831654884), (207, 0.07742708544570735), (208, 0.03592684272156826), (209, 0.004549927022355257), (210, 0.022189509311289168), (211, 0.024910312321720838), (212, 0.03303854664882831), (213, 0.0376572160082294), (214, 0.0197663377291126), (215, 0.0630746325594194), (216, 0.017825831211798406), (217, 0.05130238595512399), (218, 0.014159930191519936), (219, 0.03274086729483923), (220, 0.07289103301270893), (221, 0.014325824476175267), (222, 0.09911841439878202), (223, 0.10192582372120815), (224, 0.04190921474112513), (225, 0.03290175483551515), (226, 0.032394747996050306), (227, 0.04432365807732455), (228, 0.09894905988664138), (229, 0.06437210139152254), (230, 0.08205164663467557), (231, 0.029224174761523773), (232, 0.05186632497100317), (233, 0.06392657019394193), (234, 0.03669063310423787), (235, 0.018974078783980698), (236, 0.09313732784581003), (237, 0.016999669132361894), (238, 0.04957548170103568), (239, 0.17320208269252918), (240, 0.018318857096424872), (241, 0.0283101377749908), (242, 0.023150856985731532), (243, 0.04212091903213745), (244, 0.02095756205136483), (245, 0.031371646373491095), (246, 0.05453078580674239), (247, 0.016919147835633672), (248, 0.010547907233621229), (249, 0.06502279353464524), (250, 0.011802965588715453), (251, 0.04436197119780631), (252, 0.014411734779528129), (253, 0.05347942873686625), (254, 0.038180993018617666), (255, 0.00970631701090571), (256, 0.051805065161683525), (257, 0.03082383756688643), (258, 0.02483324972276364), (259, 0.010867327544472475), (260, 0.17873939789974103), (261, 0.027461712126133415), (262, 0.02347727771341818), (263, 0.022707762525205958), (264, 0.0178832582389561), (265, 0.025719617307490665), (266, 0.038650239537339856), (267, 0.0291979824004431), (268, 0.015117744539383596), (269, 0.018313633813883765), (270, 0.11596990844520556), (271, 0.04686081615026747), (272, 0.021476378197298696), (273, 0.006517559447930052), (274, 0.051445012284096134), (275, 0.05548599303271883), (276, 0.018593807357268045), (277, 0.02698505822478492), (278, 0.19736873843751268), (279, 0.06235963931621135), (280, 0.01498602343732065), (281, 0.055668001499546454), (282, 0.0289237758902598), (283, 0.008913259649043553), (284, 0.016236840044171752), (285, 0.024403187891868888), (286, 0.021780873235079372), (287, 0.028839870310745523), (288, 0.023062994238718278), (289, 0.013248164587679592), (290, 0.035655246946837305), (291, 0.033760156867134114), (292, 0.031415501165878004), (293, 0.012486239641266866), (294, 0.05699374716264752), (295, 0.02416370892002017), (296, 0.0377353576489822), (297, 0.026611159315469868), (298, 0.011184371643564787), (299, 0.022029271611289414), (300, 0.17647088435381425), (301, 0.08866852906434236), (302, 0.027099308401710605), (303, 0.015019417345308709), (304, 0.0566886458134722), (305, 0.21637005152919425), (306, 0.09507765189918252), (307, 0.055286365598080665), (308, 0.021320028000556393), (309, 0.019445879207817943), (310, 0.034141416342043346), (311, 0.09112943775203061), (312, 0.07840673337327615), (313, 0.03195180020409881), (314, 0.017462640123782153), (315, 0.02622316069423272), (316, 0.035397999197945854), (317, 0.01932978579166618), (318, 0.02015282370497235), (319, 0.01728167725269346), (320, 0.034410221381471), (321, 0.00787770630395129), (322, 0.1514824856279216), (323, 0.0369650039514719), (324, 0.029123287633222417), (325, 0.023688436267593545), (326, 0.02487187594295714), (327, 0.01677234839032322), (328, 0.010714560134257173), (329, 0.0549709098672049), (330, 0.05530411436640684), (331, 0.03468792922834622), (332, 0.04161894399368235), (333, 0.05375478810085081), (334, 0.044913384854964065), (335, 0.03264023516632391), (336, 0.02392457040353823), (337, 0.02208875298411155), (338, 0.029019196618131765), (339, 0.016445390013136635), (340, 0.024573570924554297), (341, 0.03973387758388909), (342, 0.13866501510372045), (343, 0.013754826406534783), (344, 0.014440216995213808), (345, 0.022599088057458482), (346, 0.014935959483187098), (347, 0.028180110730349858), (348, 0.023062919743597546), (349, 0.015304706867220068), (350, 0.0406317804093147), (351, 0.013259267258018044), (352, 0.013176474881184523), (353, 0.03241105180430373), (354, 0.009155327972634627), (355, 0.014325972098341092), (356, 0.018060781833716573), (357, 0.006054616640652783), (358, 0.02915822553385429), (359, 0.049229403850532844), (360, 0.04437005978253458), (361, 0.022958284947297895), (362, 0.06545612703735793), (363, 0.0725272887189633), (364, 0.01154705246736741), (365, 0.11587119885098592), (366, 0.027369073862173503), (367, 0.03074639313149532), (368, 0.03636701534537153), (369, 0.12319127688665188), (370, 0.04017309615436368), (371, 0.034973934642176345), (372, 0.0390694629929403), (373, 0.23662033491820716), (374, 0.02164491438167506), (375, 0.04460708108859964), (376, 0.0253644795856171), (377, 0.03466418425521556), (378, 0.007894233523953128), (379, 0.03512168478238617), (380, 0.01731832064695034), (381, 0.01427645837185007), (382, 0.015653871860023955), (383, 0.01836583929519798), (384, 0.026404714187112766), (385, 0.029883731480365668), (386, 0.015629166098519633), (387, 0.02591689049331849), (388, 0.009613213787042578), (389, 0.06072511026901965), (390, 0.015375661445047246), (391, 0.045261129667929056), (392, 0.013309180567513972), (393, 0.023428668125989288), (394, 0.01926572962085841), (395, 0.037790103781085285), (396, 0.013609456107597855), (397, 0.019753636413950164), (398, 0.008748402315384943), (399, 0.012474159845929403), (400, 0.038387616142161664), (401, 0.07834746036684939), (402, 0.02779872338781109), (403, 0.029503630255200267), (404, 0.05811174011971993), (405, 0.01739701438209154), (406, 0.0303520516788719), (407, 0.0369187358419706), (408, 0.017711499074462136), (409, 0.01569711441467537), (410, 0.025058407298691285), (411, 0.022864016118896484), (412, 0.04937718700822719), (413, 0.03700683616019256), (414, 0.014997769436211943), (415, 0.04798637176603688), (416, 0.021912028273424325), (417, 0.037091044785762514), (418, 0.05303927267323942), (419, 0.04230564342068283), (420, 0.061466777164949804), (421, 0.02394557476794383), (422, 0.06193489596315317), (423, 0.0379914665871124), (424, 0.020617578489255828), (425, 0.031986686914910856), (426, 0.03323851001712607), (427, 0.018237960406594925), (428, 0.029879265062658967), (429, 0.007249017464181365), (430, 0.07302468082075413), (431, 0.015424778737285295), (432, 0.1409029350070806), (433, 0.00691262844374517), (434, 0.015649148444168287), (435, 0.012604024704374803), (436, 0.018082617741243725), (437, 0.024449402023363525), (438, 0.017222070865263606), (439, 0.03970882455279565), (440, 0.030039462053426648), (441, 0.022454240836746003), (442, 0.02458275892858142), (443, 0.02811339502321298), (444, 0.023266325504972117), (445, 0.016243624585823194), (446, 0.0351660111861887), (447, 0.01373261826482333), (448, 0.04189786250459519), (449, 0.01970016469008964), (450, 0.019622061030161987), (451, 0.017997175875409346), (452, 0.010209928990183675), (453, 0.020730144151219015), (454, 0.10979713806462325), (455, 0.013545451397414178), (456, 0.07304463028004951), (457, 0.02358655772802614), (458, 0.02156818419539039), (459, 0.03214129782072342), (460, 0.03503211836565392), (461, 0.16782681608022748), (462, 0.043174028772106375), (463, 0.038179502645681235), (464, 0.009536584441042419), (465, 0.01240775032544996), (466, 0.06679790120787979), (467, 0.04032546743050119), (468, 0.027486182809561104), (469, 0.039366850949741454), (470, 0.03362620323318573), (471, 0.023881317685400655), (472, 0.027941027881562587), (473, 0.08300545267633658), (474, 0.014405351050421743), (475, 0.05006883490516259), (476, 0.05810425898291505), (477, 0.018107709767950612), (478, 0.03222946192500975), (479, 0.052003928122045975), (480, 0.07172136538619428), (481, 0.012287867265745654), (482, 0.00699968233066377), (483, 0.07918030245985617), (484, 0.025890019871874323), (485, 0.02602333332433893), (486, 0.03385324913789806), (487, 0.04280475619947645), (488, 0.04278371370204093), (489, 0.029874253521230625), (490, 0.041557296488885336), (491, 0.027880551068431264), (492, 0.029988305210442046), (493, 0.020006477939442185), (494, 0.023185667468500006), (495, 0.06768763113094177), (496, 0.041541146102244936), (497, 0.01209255627646247), (498, 0.024125616335113467), (499, 0.012272349906434644), (500, 0.008143310402904958), (501, 0.04037833309910344), (502, 0.13587474549537973), (503, 0.024853364223530086), (504, 0.006266058432068669), (505, 0.06579510882431429), (506, 0.043160137668915376), (507, 0.1402502385943866), (508, 0.018839502559744176), (509, 0.014320519006174906), (510, 0.050688341042820065), (511, 0.024906914130437618), (512, 0.04440210066467776), (513, 0.032607853715957466), (514, 0.02257920410413512), (515, 0.01781646301825551), (516, 0.019976494191370632), (517, 0.03685301599130812), (518, 0.024992681447102566), (519, 0.010261032860261785), (520, 0.0026403144376669248), (521, 0.010963777622645334), (522, 0.02094298768029009), (523, 0.023503558811076478), (524, 0.039352732715189805), (525, 0.030189423655038163), (526, 0.034214864987114846), (527, 0.012300328630381746), (528, 0.015508542455482699), (529, 0.10020574819454468), (530, 0.02038148014259559), (531, 0.06071270390706971), (532, 0.057479003342472995), (533, 0.030190599737143817), (534, 0.02104108887581609), (535, 0.06348923310520038), (536, 0.04997165660209928), (537, 0.020152759008197095), (538, 0.007414190823016574), (539, 0.15746564658281328), (540, 0.018581688030318892), (541, 0.18076639926425908), (542, 0.03223387273657146), (543, 0.02425643541263605), (544, 0.021773780398488762), (545, 0.018568963988276906), (546, 0.024143493328796506), (547, 0.018806050250893255), (548, 0.016004984404798705), (549, 0.15873541751051373), (550, 0.023627377862507102), (551, 0.022015231654429656), (552, 0.005898145927167505), (553, 0.017302936487824872), (554, 0.01513189203496923), (555, 0.026393060211730737), (556, 0.03094488375625386), (557, 0.12133812520064138), (558, 0.015806508616309053), (559, 0.02398242858760786), (560, 0.016073259378725606), (561, 0.009083728631433953), (562, 0.004554181142169663), (563, 0.02649807660028305), (564, 0.10200623790908547), (565, 0.0337662507111067), (566, 0.016350509704108833), (567, 0.01110474952877031), (568, 0.052774233334590456), (569, 0.03284923161569028), (570, 0.03729457036958915), (571, 0.044954060559276234), (572, 0.025781781412194293), (573, 0.01068015544284228), (574, 0.016740843530634354), (575, 0.06670148622761625), (576, 0.022128469846083056), (577, 0.11580316245358029), (578, 0.05420454717909655), (579, 0.07274915414335771), (580, 0.019674551075607186), (581, 0.12647684954822022), (582, 0.2043721701436613), (583, 0.02381436871686481), (584, 0.037352645090315884), (585, 0.06401705950142823), (586, 0.05884709940933176), (587, 0.07418154444569051), (588, 0.02591217346882829), (589, 0.05555427488010308), (590, 0.01663765165950909), (591, 0.030984940098639717), (592, 0.052581615538223395), (593, 0.036783436545298545), (594, 0.010212560879161862), (595, 0.0953324353281313), (596, 0.03541196700722658), (597, 0.008476839615776851), (598, 0.020081021922363263), (599, 0.06122197769915833), (600, 0.045018891409151746), (601, 0.031236927451154636), (602, 0.012811693448750492), (603, 0.02329897288571094), (604, 0.012770755877295337), (605, 0.020247018721735913), (606, 0.02350890269333466), (607, 0.039928635454638574), (608, 0.021582174570519322), (609, 0.025501403914610348), (610, 0.038165953354078144), (611, 0.032209983380339195), (612, 0.03810784720071184), (613, 0.007995883836487833), (614, 0.03317275264798096), (615, 0.008456061564871744), (616, 0.011582658285181185), (617, 0.07929736298776704), (618, 0.029035880991861773), (619, 0.01357143862209979), (620, 0.00928726776746957), (621, 0.028529812510806905), (622, 0.026868257527966767), (623, 0.018813645330534916), (624, 0.04518290255542), (625, 0.025892767650625422), (626, 0.132754888694825), (627, 0.03592517795916971), (628, 0.06986754463064163), (629, 0.03363002800436865), (630, 0.02168946507889001), (631, 0.018490699099200435), (632, 0.05986072947089309), (633, 0.046572123619143466), (634, 0.07002651428554924), (635, 0.06565000785946667), (636, 0.015658794531869018), (637, 0.03152391187280973), (638, 0.027792364544028135), (639, 0.00831039585547372), (640, 0.01725940469024672), (641, 0.015592068880414749), (642, 0.06793227848655423), (643, 0.12946430453485083), (644, 0.019304999839353475), (645, 0.013118127133287905), (646, 0.042570605533623775), (647, 0.05370477832841964), (648, 0.01494220672756761), (649, 0.00704215987713689), (650, 0.018041323144095622), (651, 0.009369012652826749), (652, 0.010771370259366442), (653, 0.02303647378634615), (654, 0.03472950449560913), (655, 0.043878503215852106), (656, 0.03529136227117278), (657, 0.044754355415192), (658, 0.0215965978461774), (659, 0.015468521647759761), (660, 0.043900112573922116), (661, 0.16202760757732979), (662, 0.013882163187248744), (663, 0.016219861850101686), (664, 0.020983253422776484), (665, 0.02549896053298044), (666, 0.08091547441571788), (667, 0.012042167100976619), (668, 0.029253261984633374), (669, 0.01734571370739657), (670, 0.03579497352131237), (671, 0.04307067268464032), (672, 0.027504737722354955), (673, 0.03076940896526163), (674, 0.04653836700187276), (675, 0.03278295145765261), (676, 0.024601108014914448), (677, 0.06432603311623078), (678, 0.042028724296261324), (679, 0.023059950671447896), (680, 0.08009777389937343), (681, 0.026800472086590293), (682, 0.01721801783090081), (683, 0.019576024413210436), (684, 0.01613189295126313), (685, 0.008763199050774006), (686, 0.01796295456027478), (687, 0.05287726687873538), (688, 0.031952891289457795), (689, 0.022307797557079522), (690, 0.017978389209133274), (691, 0.03556519258366102), (692, 0.16430950397670868), (693, 0.009772949369994973), (694, 0.030270636207320754), (695, 0.020369655270587674), (696, 0.020986960968016857), (697, 0.025541394214036724), (698, 0.04761499361889607), (699, 0.003714809618453305), (700, 0.012543839511486146), (701, 0.039490947027378355), (702, 0.015447827446510925), (703, 0.015122844911929315), (704, 0.04338998006654914), (705, 0.017843943555895345), (706, 0.02337095655758333), (707, 0.010815245227139857), (708, 0.016932008817412924), (709, 0.04382989651004565), (710, 0.02842730395716995), (711, 0.011914081216612173), (712, 0.03454721674431989), (713, 0.03456798773491126), (714, 0.009387018600445761), (715, 0.027468960965615585), (716, 0.01144833571123815), (717, 0.028877420344678932), (718, 0.01771795854909683), (719, 0.005270584111767494), (720, 0.021825813949746895), (721, 0.019293107021732734), (722, 0.025551189437520414), (723, 0.01989100880001397), (724, 0.029075479871007705), (725, 0.005380139280004317), (726, 0.01038780254281873), (727, 0.020663660276122393), (728, 0.04324467705198653), (729, 0.02310363527732733), (730, 0.028832754718165658), (731, 0.03419689879391288), (732, 0.036782333203786925), (733, 0.024586036475902504), (734, 0.02678454948979486), (735, 0.030883672719917925), (736, 0.014157282863908115), (737, 0.03527754367629937), (738, 0.011859000065785486), (739, 0.019962061575339356), (740, 0.09588844035615446), (741, 0.024415949182454082), (742, 0.019766477129754153), (743, 0.024344386969676994), (744, 0.028253866010706015), (745, 0.0263798843489945), (746, 0.02628117458051782), (747, 0.027499002219957037), (748, 0.017643294690429072), (749, 0.00955522418429408), (750, 0.025679680307531035), (751, 0.012924112769404323), (752, 0.044470043252463363), (753, 0.022337869472718652), (754, 0.13693404887884852), (755, 0.06780345256954909), (756, 0.009141017611544325), (757, 0.009750275750784415), (758, 0.026458160889404555), (759, 0.03209677510010627), (760, 0.012457613937259492), (761, 0.02574732224377052), (762, 0.00584870227364183), (763, 0.018549881949204036), (764, 0.03945847292435417), (765, 0.027685082363807182), (766, 0.012716755757492393), (767, 0.014167726184712735), (768, 0.04098487000877206), (769, 0.045272666258134586), (770, 0.17907881601208406), (771, 0.008024860458793375), (772, 0.012184938449378367), (773, 0.08152029034694439), (774, 0.015345266207527979), (775, 0.10585853251957127), (776, 0.03032589271467594), (777, 0.029742211454777175), (778, 0.1348700596811982), (779, 0.02123649613717593), (780, 0.0007046735715774303), (781, 0.02401145683139183), (782, 0.035676045651226125), (783, 0.006899191843063535), (784, 0.04531602489830249), (785, 0.06933229148287194), (786, 0.03023498135482591), (787, 0.10090175206564676), (788, 0.026469113352162767), (789, 0.008069007223510526), (790, 0.05468590862429143), (791, 0.03776035859792637), (792, 0.01832164297925765), (793, 0.03681219576128042), (794, 0.039945020664549996), (795, 0.03899763001568542), (796, 0.012669669732535171), (797, 0.00672041632835403), (798, 0.004161804329276011), (799, 0.04856459358034014), (800, 0.06412403403374768), (801, 0.0027217498551006707), (802, 0.009189747234838914), (803, 0.02179218448978388), (804, 0.024032101442200766), (805, 0.021292628361239244), (806, 0.0381922718396057), (807, 0.02520477901798738), (808, 0.04384868375188283), (809, 0.04238938902678436), (810, 0.022385473197501386), (811, 0.01760593178263414), (812, 0.07376351030859389), (813, 0.04729448586362865), (814, 0.029356734433539054), (815, 0.018386193382155854), (816, 0.025514061730468725), (817, 0.01666732344441767), (818, 0.011612449757405783), (819, 0.005132483219154153), (820, 0.028853945582300203), (821, 0.019853295253160267), (822, 0.035087256677768824), (823, 0.04563781455846561), (824, 0.017765178104248897), (825, 0.009275021037809996), (826, 0.020774920472106426), (827, 0.03439711262730745), (828, 0.016238542628926052), (829, 0.015230194865305167), (830, 0.023980648351031034), (831, 0.031054704552674405), (832, 0.024703211702399887), (833, 0.035407097793953214), (834, 0.01716511666427799), (835, 0.0258163230609272), (836, 0.042966656220563934), (837, 0.03379103509138685), (838, 0.26007073129322567), (839, 0.02629734673026439), (840, 0.014704367200746974), (841, 0.016988194409687456), (842, 0.01710895033435028), (843, 0.07011771210722151), (844, 0.03409633380998052), (845, 0.01918680051885951), (846, 0.022153568639278285), (847, 0.06179529139425866), (848, 0.03134679618966916), (849, 0.02527967981682034), (850, 0.02141082589713989), (851, 0.016421168389309567), (852, 0.027259903250018515), (853, 0.04580884178192206), (854, 0.05929510146600063), (855, 0.07851008177382725), (856, 0.061433543105706485), (857, 0.01018249774245292), (858, 0.03197478211970101), (859, 0.03267835807012264), (860, 0.026077883208284008), (861, 0.04114574857261773), (862, 0.04441808337838096), (863, 0.029554685848377945), (864, 0.014078222527683325), (865, 0.009446238671440173), (866, 0.0115474264830242), (867, 0.018744649966370146), (868, 0.03914855760264669), (869, 0.02372417955854933), (870, 0.06350940726726205), (871, 0.034647007747238674), (872, 0.04193863786555235), (873, 0.0153082732946036), (874, 0.024902802196753622), (875, 0.042079099531297806), (876, 0.0041653970221633765), (877, 0.01799404212852294), (878, 0.04461382535996765), (879, 0.013536445541731256), (880, 0.011574379203282144), (881, 0.015314865699799661), (882, 0.01836957387384066), (883, 0.01846174459236857), (884, 0.015491001040434322), (885, 0.026598235748024834), (886, 0.024012893531632176), (887, 0.026487731418810806), (888, 0.01751573690948806), (889, 0.10069271741301841), (890, 0.011645173901881137), (891, 0.02002360695714618), (892, 0.010247542691476525), (893, 0.044981407956001015), (894, 0.04852086258804382), (895, 0.015320139828712154), (896, 0.04586429031391638), (897, 0.060478876651712095), (898, 0.04303295527417324), (899, 0.03225076877801476), (900, 0.03870828418849882), (901, 0.04027146828515572), (902, 0.02109805590895698), (903, 0.023503011836380684), (904, 0.016602601301860413), (905, 0.006988963123777897), (906, 0.0030832260346579277), (907, 0.01551639361035546), (908, 0.05322695360958759), (909, 0.017057638329802578), (910, 0.03298192776657487), (911, 0.015261742385112563), (912, 0.016695490887456962), (913, 0.0061816134435821075), (914, 0.02060024703868271), (915, 0.022613584685645477), (916, 0.013718564009749138), (917, 0.021616284286762495), (918, 0.04212117760385266), (919, 0.016748463363989854), (920, 0.0288435127146834), (921, 0.032766897691982946), (922, 0.025164007696037414), (923, 0.01799833726611992), (924, 0.01964337682742582), (925, 0.04317253897764532), (926, 0.020078396693750188), (927, 0.015495770295921711), (928, 0.006984020010580757), (929, 0.04234727794913586), (930, 0.018607503830977312), (931, 0.07375445329534154), (932, 0.0205972573510381), (933, 0.042636810579519444), (934, 0.020149927653472142), (935, 0.035038671331865265), (936, 0.009926797275885302), (937, 0.023299769809455195), (938, 0.030803437068216796), (939, 0.07906334225068293), (940, 0.030339634283832836), (941, 0.04358737791610867), (942, 0.12119270677905486), (943, 0.009198908389276957), (944, 0.015221418195806477), (945, 0.026384998132352087), (946, 0.027207802446324477), (947, 0.016602488550324174), (948, 0.019514413240173133), (949, 0.017202548699059735), (950, 0.01915777300806412), (951, 0.054428885464779364), (952, 0.012779905695478133), (953, 0.020497444228271357), (954, 0.006823090831988536), (955, 0.021870640536364134), (956, 0.027028679033527132), (957, 0.011103961493082005), (958, 0.010778995762076176), (959, 0.022358797688005472), (960, 0.02406934626434713), (961, 0.03402944661015604), (962, 0.024007349751776118), (963, 0.03873214263865117), (964, 0.04155205599558734), (965, 0.018770905388999917), (966, 0.008442645582930456), (967, 0.011928941036668167), (968, 0.004519040773422511), (969, 0.03570086328082967), (970, 0.011699635067814561), (971, 0.01562749867789007), (972, 0.1413584820149317), (973, 0.13065714012623075), (974, 0.008297894694990024), (975, 0.005223962825491735), (976, 0.024251727911880284), (977, 0.04298298043234105), (978, 0.07997400098612108), (979, 0.022698290719642425), (980, 0.04345906177897063), (981, 0.01281537198258577), (982, 0.04672647429328238), (983, 0.02613093424944136), (984, 0.002930744667988064), (985, 0.0380844789454511), (986, 0.04236912148664343), (987, 0.02365827852238613), (988, 0.017458991291651398), (989, 0.016053679947367616), (990, 0.022785201314341454), (991, 0.050752119909794675), (992, 0.013296212678321307), (993, 0.007293774060637503), (994, 0.02489338204405517), (995, 0.06877245993726856), (996, 0.024159580448905055), (997, 0.01579703288330606), (998, 0.0072427132358515766), (999, 0.003957588875860579), (1000, 0.12653532881524523), (1001, 0.015342048011718762), (1002, 0.04219953403793598), (1003, 0.04412300695846788), (1004, 0.012395854346952572), (1005, 0.06503123186805489), (1006, 0.044739897021661174), (1007, 0.029731577697482234), (1008, 0.05691350763583605), (1009, 0.04318997220020711), (1010, 0.03910566047518776), (1011, 0.01789686534067565), (1012, 0.004037738342225441), (1013, 0.05770357592161346), (1014, 0.03262818659246287), (1015, 0.015395558074541118), (1016, 0.07546759021669272), (1017, 0.07610487749301349), (1018, 0.047373752621544085), (1019, 0.02472234126936472), (1020, 0.05850284400075573), (1021, 0.03103113721237137), (1022, 0.02321795188612288), (1023, 0.008525191909181445), (1024, 0.04725487385904692), (1025, 0.020887008511725116), (1026, 0.009624788566410313), (1027, 0.015353340938288124), (1028, 0.03173460625407584), (1029, 0.09659133036773454), (1030, 0.024697825597754464), (1031, 0.02310773788197193), (1032, 0.04318028400889355), (1033, 0.014720858737986987), (1034, 0.03884285506018226), (1035, 0.07840910344414258), (1036, 0.017274845475743338), (1037, 0.053938302184561866), (1038, 0.0065381060472968645), (1039, 0.006436153248537914), (1040, 0.05040925730426106), (1041, 0.0192865512687999), (1042, 0.009635711728671179), (1043, 0.050975984419862), (1044, 0.016600498090961133), (1045, 0.06676408996778774), (1046, 0.024196994402611912), (1047, 0.018131109634242207), (1048, 0.014408837726889676), (1049, 0.025321474423971403), (1050, 0.008444546748020238), (1051, 0.02309501440667163), (1052, 0.010668386630831918), (1053, 0.028999603961179503), (1054, 0.12416997059941055), (1055, 0.008951496546606607), (1056, 0.026002281800298687), (1057, 0.013733097789694133), (1058, 0.010097168596283177), (1059, 0.0256542545544426), (1060, 0.01610628895399275), (1061, 0.013054350546204454), (1062, 0.028394667114563118), (1063, 0.029522200469943444), (1064, 0.011779594790131277), (1065, 0.02024235211904403), (1066, 0.021792554372818483), (1067, 0.0029718494119528828), (1068, 0.037085217825208745), (1069, 0.1691260670759093), (1070, 0.016725991275223107), (1071, 0.039867098802559765), (1072, 0.0033067954629151216), (1073, 0.0078649598618633), (1074, 0.012387575221986366), (1075, 0.028151507893262845), (1076, 0.008494428419166453), (1077, 0.021302975548131015), (1078, 0.015445699703874383), (1079, 0.051307476526088115), (1080, 0.15865486023232858), (1081, 0.08652306885517366), (1082, 0.022702504785659418), (1083, 0.04188886860068898), (1084, 0.03169128771458381), (1085, 0.03229727417454037), (1086, 0.021849379986149685), (1087, 0.07502429337130784), (1088, 0.0038104940176037615), (1089, 0.010707873651865502), (1090, 0.05937910384639859), (1091, 0.02531656602408979), (1092, 0.02388185914411864), (1093, 0.02382047445192796), (1094, 0.0281661902081781), (1095, 0.07399216854577939), (1096, 0.05068156591316586), (1097, 0.026265351493913975), (1098, 0.02303114169311679), (1099, 0.04839482391184004), (1100, 0.024970932213784033), (1101, 0.05136985608424618), (1102, 0.023602998460411334), (1103, 0.015789164647631474), (1104, 0.024753530776044128), (1105, 0.012116420779807879), (1106, 0.005138079142048038), (1107, 0.06705720266841786), (1108, 0.018245227646311497), (1109, 0.011511208459477552), (1110, 0.03216867897084569), (1111, 0.05339538147365759), (1112, 0.03857664366453421), (1113, 0.015321135861303325), (1114, 0.026127387921208067), (1115, 0.017378420949043773), (1116, 0.03204132001015307), (1117, 0.03292798261624709), (1118, 0.06255501901234306), (1119, 0.03939002599300001), (1120, 0.017777359165724788), (1121, 0.036401024091801064), (1122, 0.014660355327254362), (1123, 0.019484486187867273), (1124, 0.012645246965956819), (1125, 0.01624305247510291), (1126, 0.03249104747613918), (1127, 0.013269442521726429), (1128, 0.03981280749374643), (1129, 0.008266437966159036), (1130, 0.03465298980626338), (1131, 0.003931431137656168), (1132, 0.02447660665404245), (1133, 0.025944018163841363), (1134, 0.013558048802956815), (1135, 0.024004547968029675), (1136, 0.033532259688009665), (1137, 0.01622469094041299), (1138, 0.020986273175516906), (1139, 0.024296170700710624), (1140, 0.017556626633922358), (1141, 0.02673701816554206), (1142, 0.02866561258552444), (1143, 0.036855347748582304), (1144, 0.017050349255485122), (1145, 0.014324752522285489), (1146, 0.014680573787327707), (1147, 0.05309802310761519), (1148, 0.019780623644235676), (1149, 0.011674667505192802), (1150, 0.009509946206370268), (1151, 0.00844934149169217), (1152, 0.004921245197439089), (1153, 0.02880611388346299), (1154, 0.03222343019002584), (1155, 0.03481637188812801), (1156, 0.049224730968847656), (1157, 0.0028295342598417088), (1158, 0.013120068440759775), (1159, 0.058419020279767336), (1160, 0.04200211990724351), (1161, 0.02458881973370226), (1162, 0.02055866909430748), (1163, 0.009828219053929806), (1164, 0.08672129828449257), (1165, 0.015867165504709152), (1166, 0.039902556181981935), (1167, 0.02952201100581169), (1168, 0.01383017431044739), (1169, 0.054477702858600374), (1170, 0.01954181237737039), (1171, 0.01860186226154116), (1172, 0.017494797067872284), (1173, 0.05144474431437321), (1174, 0.017824936869106606), (1175, 0.020504476893848884), (1176, 0.07949614027982811), (1177, 0.020907900441847434), (1178, 0.02260603882039036), (1179, 0.021323119467879164), (1180, 0.01527627049797451), (1181, 0.00738924545852177), (1182, 0.016268971782029493), (1183, 0.00690122628306314), (1184, 0.04374522252829065), (1185, 0.02250045121335112), (1186, 0.04168170606878519), (1187, 0.006278554773443108), (1188, 0.04314646700160459), (1189, 0.04666342252769569), (1190, 0.011183152411122829), (1191, 0.010467459230522376), (1192, 0.05238615779452972), (1193, 0.04316989492865398), (1194, 0.02029486876899433), (1195, 0.008949487897191827), (1196, 0.01693648008683258), (1197, 0.03075985557502221), (1198, 0.01074639597389377), (1199, 0.11636630288834363), (1200, 0.08925525934967878), (1201, 0.0233912457063771), (1202, 0.15640838443034674), (1203, 0.037198915570917715), (1204, 0.009798735505342143), (1205, 0.03299507194721905), (1206, 0.003963667954181666), (1207, 0.01398915348680068), (1208, 0.02920794870795068), (1209, 0.022335028542908187), (1210, 0.015275582583266509), (1211, 0.012418704686816977), (1212, 0.029825505546562492), (1213, 0.047845892300860726), (1214, 0.15356527978567644), (1215, 0.031572232798887004), (1216, 0.03632720394536863), (1217, 0.016102171277689984), (1218, 0.1365146563135653), (1219, 0.007233766636536503), (1220, 0.013968503483520224), (1221, 0.01959740196317292), (1222, 0.013130694736853014), (1223, 0.032501568573239374), (1224, 0.005897320555199415), (1225, 0.024231070861766818), (1226, 0.01909836616751908), (1227, 0.012989627484147975), (1228, 0.017157826366211878), (1229, 0.00607584453517639), (1230, 0.006385339487878167), (1231, 0.046969144635396864), (1232, 0.008456421723224064), (1233, 0.01630981555542122), (1234, 0.009088875056453186), (1235, 0.030557520949588385), (1236, 0.023275455211700137), (1237, 0.014307752174645635), (1238, 0.04016389482889612), (1239, 0.025544589971301743), (1240, 0.036788276510762295), (1241, 0.025555142264116107), (1242, 0.01766155757939118), (1243, 0.015120136038092372), (1244, 0.02219326693375203), (1245, 0.04194111962522922), (1246, 0.08515725048895323), (1247, 0.03766502415618988), (1248, 0.023436656807246502), (1249, 0.019697153935016132), (1250, 0.022705231974292896), (1251, 0.026637736347760052), (1252, 0.005166581601217876), (1253, 0.013855578757612513), (1254, 0.026987985572642235), (1255, 0.014689496141464592), (1256, 0.026082866557480353), (1257, 0.04066740818970706), (1258, 0.013517975003464045), (1259, 0.016393279837296527), (1260, 0.044175702701714226), (1261, 0.023438263934089768), (1262, 0.012380574630702254), (1263, 0.023805400854385338), (1264, 0.024932579060878507), (1265, 0.024467370033291025), (1266, 0.012380468572002644), (1267, 0.021814077486292605), (1268, 0.009628321805441962), (1269, 0.03492191402630349), (1270, 0.013628605982512264), (1271, 0.03217942658226115), (1272, 0.04998706640334532), (1273, 0.09105627254246365), (1274, 0.013987193668133335), (1275, 0.060662901276803634), (1276, 0.1513213250258472), (1277, 0.01706684850041632), (1278, 0.06698326289617047), (1279, 0.031865741633962934), (1280, 0.03999119514164203), (1281, 0.03552821297568102), (1282, 0.016893225925726334), (1283, 0.07768100950410887), (1284, 0.006226198980893553), (1285, 0.026927622247895765), (1286, 0.040478149491885794), (1287, 0.037093447468562184), (1288, 0.05864229704352928), (1289, 0.018402027415236655), (1290, 0.019006385608561056), (1291, 0.03741769597375424), (1292, 0.05865637681311929), (1293, 0.009156732707144035), (1294, 0.017827352209333607), (1295, 0.10458308138859407), (1296, 0.008573753002086031), (1297, 0.044812558078424), (1298, 0.00264696822576145), (1299, 0.03701130482049621), (1300, 0.014779926442677744), (1301, 0.03611758000835333), (1302, 0.04865771205414243), (1303, 0.036289240686767484), (1304, 0.0371045438312411), (1305, 0.021166921519248285), (1306, 0.013423981118144593), (1307, 0.03251366770199886), (1308, 0.008076901710172064), (1309, 0.014215757230598957), (1310, 0.059397283909348245), (1311, 0.015482551230102958), (1312, 0.017050462259908312), (1313, 0.019948639036758486), (1314, 0.01623701428962652), (1315, 0.013201684979896943), (1316, 0.023606490601069285), (1317, 0.017671169652481646), (1318, 0.008383849455836812), (1319, 0.170371293703834), (1320, 0.09905327132629954), (1321, 0.02392421971643695), (1322, 0.03704186354350097), (1323, 0.03787328040517503), (1324, 0.01645546921305059), (1325, 0.03007417310705247), (1326, 0.013219177867016608), (1327, 0.12363367001682693), (1328, 0.014287694250954993), (1329, 0.025823463562822113), (1330, 0.020902597063320833), (1331, 0.011267428631350067), (1332, 0.018374847936131332), (1333, 0.027699053084555513), (1334, 0.015657658973178865), (1335, 0.017437866461004422), (1336, 0.032682422351704835), (1337, 0.018331772423887262), (1338, 0.030412318795716695), (1339, 0.013411283286891984), (1340, 0.015519371316117749), (1341, 0.004986551841535994), (1342, 0.16113569262140215), (1343, 0.0075476073361655655), (1344, 0.029349791377692655), (1345, 0.028579207061403752), (1346, 0.043249822358943965), (1347, 0.03280902468718802), (1348, 0.02222991353163947), (1349, 0.03346088664542983), (1350, 0.029590992571131243), (1351, 0.021991489684909948), (1352, 0.011009890610361301), (1353, 0.1851234805938857), (1354, 0.036622522050877584), (1355, 0.16498602580113506), (1356, 0.006940131766445593), (1357, 0.016622455658694822), (1358, 0.010506966151975189), (1359, 0.10204598858057413), (1360, 0.028233104626351722), (1361, 0.027775279095634254), (1362, 0.03577257241958369), (1363, 0.015347432472107115), (1364, 0.016425007403134594), (1365, 0.018201744135098858), (1366, 0.015790938844259972), (1367, 0.027824499122794624), (1368, 0.02054767748632517), (1369, 0.10227835797887044), (1370, 0.017247984144315418), (1371, 0.030891002378959972), (1372, 0.01779655302462066), (1373, 0.0009452188237411707), (1374, 0.07258923138061979), (1375, 0.07298525586660567), (1376, 0.01737081107237226), (1377, 0.04265804585833402), (1378, 0.01196197709242119), (1379, 0.09318328987266175), (1380, 0.01614216142950166), (1381, 0.051118287047653435), (1382, 0.031071365551636948), (1383, 0.010793284978188178), (1384, 0.023759815310447394), (1385, 0.011084597827317556), (1386, 0.021306512111618752), (1387, 0.019791531212541832), (1388, 0.0030745002029035602), (1389, 0.006077020223172775), (1390, 0.015745509755575544), (1391, 0.03845084927034062), (1392, 0.07287868863486627), (1393, 0.011135941002380807), (1394, 0.00964158511063272), (1395, 0.020413079062226582), (1396, 0.012301286377538986), (1397, 0.04598008536473082), (1398, 0.017356837020633127), (1399, 0.010923643503553657), (1400, 0.02178753479107769), (1401, 0.050117429397756486), (1402, 0.05010949716608615), (1403, 0.017919119776760924), (1404, 0.038850323819018276), (1405, 0.017557947299144713), (1406, 0.023906472426309545), (1407, 0.04760203432140648), (1408, 0.02140613927322785), (1409, 0.006406903722122166), (1410, 0.02959215013786665), (1411, 0.02081109868080818), (1412, 0.014138657020175523), (1413, 0.026679731999341823), (1414, 0.06110906203960521), (1415, 0.017080122156053923), (1416, 0.023558869948958994), (1417, 0.07265001897810046), (1418, 0.02725641096531069), (1419, 0.009131089129180103), (1420, 0.0035817167401019094), (1421, 0.00920158315357488), (1422, 0.03812740209017352), (1423, 0.02497384067994168), (1424, 0.037585699220517264), (1425, 0.025545002721836962), (1426, 0.017374791040319422), (1427, 0.01145249210899813), (1428, 0.03405522943541403), (1429, 0.007122161236598438), (1430, 0.04739915342941526), (1431, 0.009953529371341143), (1432, 0.006720781537674648), (1433, 0.012510473469239503), (1434, 0.022619048985871942), (1435, 0.04115076719904471), (1436, 0.03946857799214379), (1437, 0.025008082062858976), (1438, 0.006695096852214436), (1439, 0.015305708587400588), (1440, 0.06470160224326177), (1441, 0.045403705951421736), (1442, 0.04993633274850282), (1443, 0.01641485401993991), (1444, 0.010433495414344005), (1445, 0.03802029995742698), (1446, 0.04161441090815883), (1447, 0.01990645201328659), (1448, 0.07361849730063547), (1449, 0.015931726710514973), (1450, 0.05301647289271817), (1451, 0.03808125744191752), (1452, 0.024655378109734543), (1453, 0.036973256824622255), (1454, 0.023449949000913177), (1455, 0.046038946253459154), (1456, 0.00858358972544268), (1457, 0.01261062858923289), (1458, 0.03546783483006196), (1459, 0.013196339812448226), (1460, 0.007344897559740006), (1461, 0.04811013656971191), (1462, 0.049292586400118195), (1463, 0.05892503375714877), (1464, 0.027137809846680662), (1465, 0.01925593022126519), (1466, 0.011674399146329376), (1467, 0.02916995835744793), (1468, 0.027845874430480016), (1469, 0.06500453755028583), (1470, 0.06522852967599682), (1471, 0.018919402951598246), (1472, 0.016056960289616336), (1473, 0.050698025862801026), (1474, 0.02325413093012664), (1475, 0.09603577278376747), (1476, 0.04034453283485505), (1477, 0.010773390524418874), (1478, 0.008910539223033111), (1479, 0.01914678322356669), (1480, 0.026009955064072162), (1481, 0.016322486030040207), (1482, 0.01281035442551024), (1483, 0.03711932638787903), (1484, 0.10169475440764912), (1485, 0.012652053346715882), (1486, 0.015603372872545974), (1487, 0.025024728877998975), (1488, 0.019085467559364806), (1489, 0.01500685147415176), (1490, 0.03493768218324288), (1491, 0.00435130538383017), (1492, 0.09493602934209056), (1493, 0.06760505957613552), (1494, 0.06197997362368769), (1495, 0.006640093454253369), (1496, 0.021175767524441485), (1497, 0.03977283790119865), (1498, 0.014371976095581288), (1499, 0.023799507855031047), (1500, 0.009234998398765307), (1501, 0.018162850279150933), (1502, 0.02883904448684315), (1503, 0.01140797031116732), (1504, 0.019953765511950983), (1505, 0.016255036899486573), (1506, 0.03350858811655809), (1507, 0.008958050661362755), (1508, 0.06359212940976111), (1509, 0.025077180664055065), (1510, 0.03779079910823763), (1511, 0.016201659106708913), (1512, 0.04007593753494634), (1513, 0.011822800844644026), (1514, 0.008249706271850307), (1515, 0.06846671992778222), (1516, 0.019810999942854436), (1517, 0.027455828955273924), (1518, 0.012212362355253536), (1519, 0.051081185020994166), (1520, 0.047716268319639626), (1521, 0.014968944830380767), (1522, 0.007467317608219641), (1523, 0.006553269047589322), (1524, 0.010718515340091142), (1525, 0.06798100607984296), (1526, 0.03359805021776416), (1527, 0.05286837391133471), (1528, 0.02055857642695743), (1529, 0.01525888613771241), (1530, 0.05337547217857033), (1531, 0.026069889576995943), (1532, 0.010529291631879746), (1533, 0.25683290584515206), (1534, 0.04112965656748755), (1535, 0.010908425267645488), (1536, 0.012878517464164102), (1537, 0.034811590219136365), (1538, 0.010178970234857112), (1539, 0.017165970943616632), (1540, 0.014473487952730096), (1541, 0.013905658955556958), (1542, 0.015171449701081134), (1543, 0.009516128898536287), (1544, 0.012800935797122562), (1545, 0.019654685989834282), (1546, 0.027781116948191315), (1547, 0.01227567324791091), (1548, 0.033634140348293026), (1549, 0.026740535427767633), (1550, 0.016694074876410288), (1551, 0.022763892478811037), (1552, 0.04864731874082892), (1553, 0.026949931840943263), (1554, 0.0127559499226458), (1555, 0.028775923515073614), (1556, 0.060196463308658694), (1557, 0.018061067737699776), (1558, 0.013200471319661946), (1559, 0.02645469480241471), (1560, 0.012592668284142263), (1561, 0.04380157245454331), (1562, 0.017441100509097144), (1563, 0.016688044167674984), (1564, 0.015856906726516247), (1565, 0.03067007422096024), (1566, 0.08069853469232269), (1567, 0.01970468458578071), (1568, 0.017054871239372375), (1569, 0.03126968397385035), (1570, 0.07866912767248373), (1571, 0.030739968867847915), (1572, 0.01866987366122869), (1573, 0.013769440250273978), (1574, 0.015610470757776907), (1575, 0.013905293552088626), (1576, 0.007955030613147337), (1577, 0.012174241020302328), (1578, 0.004438393480660257), (1579, 0.030280217426185543), (1580, 0.018750401951329165), (1581, 0.03690786750668701), (1582, 0.029532732095869103), (1583, 0.032292389647938215), (1584, 0.023442276294916818), (1585, 0.06039658372824201), (1586, 0.017361553723790144), (1587, 0.013435974427400658), (1588, 0.02083764371074899), (1589, 0.01586733476306746), (1590, 0.008920549546556201), (1591, 0.012898481935075033), (1592, 0.061416509333705446), (1593, 0.02310530207777078), (1594, 0.03107006788949236), (1595, 0.005382672645858916), (1596, 0.029597960286597835), (1597, 0.02144481402760687), (1598, 0.010865049308240855), (1599, 0.03119961330536072), (1600, 0.0368215775431693), (1601, 0.025525992383464827), (1602, 0.01637972462442546), (1603, 0.026148488355695946), (1604, 0.023217879432586786), (1605, 0.02826471383165657), (1606, 0.03207753367820128), (1607, 0.011499938390055486), (1608, 0.028773603463165966), (1609, 0.015947826922529957), (1610, 0.041979884557849914), (1611, 0.009123876206541572), (1612, 0.04515593695743971), (1613, 0.0652035649783812), (1614, 0.012679930506696609), (1615, 0.022024631341043727), (1616, 0.009789146882601107), (1617, 0.01011970623570509), (1618, 0.023786668309281018), (1619, 0.05407985716234352), (1620, 0.0016163313590947328), (1621, 0.03446961322321285), (1622, 0.007704536652683242), (1623, 0.016104993655811226), (1624, 0.04699415496793259), (1625, 0.02472624808550853), (1626, 0.01402529261277793), (1627, 0.018983000825420194), (1628, 0.01913102989391296), (1629, 0.009770313150259063), (1630, 0.036708377220979596), (1631, 0.023755418266140336), (1632, 0.021078939515412665), (1633, 0.004120546795603707), (1634, 0.02430903634459362), (1635, 0.07367557712547892), (1636, 0.015105097927791947), (1637, 0.024648723474855163), (1638, 0.015172642194774485), (1639, 0.025342194482753568), (1640, 0.031084725332842143), (1641, 0.005404807693924596), (1642, 0.017674787866293323), (1643, 0.01289757510170228), (1644, 0.021797259306849285), (1645, 0.06846415035655315), (1646, 0.059231814634197494), (1647, 0.021296274559639908), (1648, 0.03407242897063398), (1649, 0.022712128214629118), (1650, 0.010562710627920668), (1651, 0.06548301890409133), (1652, 0.12641706674279507), (1653, 0.0056354678918003505), (1654, 0.05193183835717575), (1655, 0.03860985830510419), (1656, 0.030971569175577758), (1657, 0.03136881692569963), (1658, 0.014442725221630478), (1659, 0.02133028919769466), (1660, 0.013015809236207813), (1661, 0.015621323223542961), (1662, 0.006523537124611083), (1663, 0.01738244567644183), (1664, 0.08393066076554213), (1665, 0.02452655541424953), (1666, 0.005983162476787637), (1667, 0.03323398860365942), (1668, 0.009676119571050806), (1669, 0.04118086911433481), (1670, 0.027995355608146984), (1671, 0.042975565193810704), (1672, 0.02064527144494768), (1673, 0.05077090398576904), (1674, 0.04488207623747502), (1675, 0.013877371919556573), (1676, 0.007076422666618277), (1677, 0.04126112440985359), (1678, 0.014296459911502208), (1679, 0.006027146854266645), (1680, 0.04895336355684808), (1681, 0.020598400380625142), (1682, 0.023593739730422343), (1683, 0.008853198004762253), (1684, 0.016764769822555925), (1685, 0.022086426427511973), (1686, 0.022141762642963556), (1687, 0.026536335222475026), (1688, 0.02921049933499693), (1689, 0.025169451729424062), (1690, 0.022167094763104835), (1691, 0.01609461112481859), (1692, 0.007538574983948868), (1693, 0.030354008938398), (1694, 0.030020799180103308), (1695, 0.01986405285011936), (1696, 0.05932830321433785), (1697, 0.038135785250533835), (1698, 0.02043521886258169), (1699, 0.015072903707604956), (1700, 0.023564556454514243), (1701, 0.01935295917489556), (1702, 0.008664151785908934), (1703, 0.019831478171027376), (1704, 0.015485291957661042), (1705, 0.0075695349424709435), (1706, 0.00758488875547583), (1707, 0.026273053400925474), (1708, 0.02129902395172158), (1709, 0.03929591322097624), (1710, 0.015693611459605045), (1711, 0.13488920817852704), (1712, 0.003240364809832764), (1713, 0.019493010003015232), (1714, 0.003730328587498208), (1715, 0.027903540434490046), (1716, 0.026160002634433313), (1717, 0.050442055158333124), (1718, 0.014419088032751982), (1719, 0.009595913529074502), (1720, 0.018748803437320744), (1721, 0.025206401545250064), (1722, 0.008835867652256153), (1723, 0.013806188910553838), (1724, 0.012278191837476615), (1725, 0.00799976619595294), (1726, 0.037235859942843244), (1727, 0.015452184412193135), (1728, 0.0354887616535295), (1729, 0.032172393855084844), (1730, 0.015705213312781616), (1731, 0.03188990352439186), (1732, 0.013619592461983911), (1733, 0.019967813106129672), (1734, 0.018829571878184514), (1735, 0.014802877656651012), (1736, 0.0201301301432908), (1737, 0.08463156589424992), (1738, 0.012576727924455182), (1739, 0.05565839073814614), (1740, 0.013032534900645671), (1741, 0.01456378325423066), (1742, 0.011898641951894504), (1743, 0.05064310022063062), (1744, 0.026526611512464122), (1745, 0.043040056350581245), (1746, 0.01173273953486902), (1747, 0.03931946502340038), (1748, 0.031070954686469816), (1749, 0.02213990967692289), (1750, 0.04099573318480917), (1751, 0.03194928697258983), (1752, 0.06315954433103786), (1753, 0.030868413082291966), (1754, 0.009992361234651375), (1755, 0.029828615280396695), (1756, 0.018865230163027796), (1757, 0.0021407544195196308), (1758, 0.019210955043037155), (1759, 0.022198329159119255), (1760, 0.026570119782747176), (1761, 0.16813974698803122), (1762, 0.01256510165312486), (1763, 0.031009425128028054), (1764, 0.05097744292331307), (1765, 0.025776755013534998), (1766, 0.027792699353762607), (1767, 0.025823633232683347), (1768, 0.029282026985068346), (1769, 0.01615649482047306), (1770, 0.042405702058003314), (1771, 0.0267722717714618), (1772, 0.007923388205372852), (1773, 0.02232708114257568), (1774, 0.00971545653451386), (1775, 0.007029680542260457), (1776, 0.007225683402965059), (1777, 0.04554086631300977), (1778, 0.052191263365323155), (1779, 0.023620002350275462), (1780, 0.01280587677960395), (1781, 0.023144660963774457), (1782, 0.022303081242342607), (1783, 0.008109159039694693), (1784, 0.02628525596633448), (1785, 0.07656741836288257), (1786, 0.04417403203298865), (1787, 0.006356879780205459), (1788, 0.02920808601053121), (1789, 0.07100582098781771), (1790, 0.022231014626156592), (1791, 0.009212663377219859), (1792, 0.01730497278661408), (1793, 0.017722083093144984), (1794, 0.01616666163478503), (1795, 0.02118143271169547), (1796, 0.03827349396413704), (1797, 0.02322206191133365), (1798, 0.082340156315249), (1799, 0.02322019800995155), (1800, 0.015689326189600842), (1801, 0.020661284184798217), (1802, 0.018206973723671832), (1803, 0.005279680864917731), (1804, 0.04822492889812114), (1805, 0.012271946885427452), (1806, 0.06552857682076922), (1807, 0.02044489851418495), (1808, 0.024264012330054704), (1809, 0.017818175207153602), (1810, 0.037940005356942884), (1811, 0.01898825036709401), (1812, 0.027193740729471238), (1813, 0.02500325423110593), (1814, 0.02371376388797277), (1815, 0.025245998927584275), (1816, 0.023378964428821553), (1817, 0.016752606580387307), (1818, 0.02129962988719554), (1819, 0.0617051648171954), (1820, 0.047766025191060116), (1821, 0.01017489455200193), (1822, 0.03259721856165221), (1823, 0.0228123593360366), (1824, 0.05556509090230672), (1825, 0.017625332695211705), (1826, 0.013534543637905076), (1827, 0.0701622373881527), (1828, 0.04906501261665543), (1829, 0.0381284262031639), (1830, 0.020732844547142047), (1831, 0.0141202136480525), (1832, 0.040162601809974156), (1833, 0.01916879600128108), (1834, 0.0249201256171159), (1835, 0.013535664778390319), (1836, 0.02091732918579837), (1837, 0.016277672368208318), (1838, 0.028234706659003253), (1839, 0.011361123515967395), (1840, 0.014068641618735708), (1841, 0.018168785068874455), (1842, 0.04177551810218169), (1843, 0.03725322093563661), (1844, 0.020916718407208535), (1845, 0.02460765911371545), (1846, 0.011253211716163666), (1847, 0.01716148921225973), (1848, 0.01303421675423798), (1849, 0.015811266781070775), (1850, 0.020228050549256006), (1851, 0.017418967988071958), (1852, 0.028227454988018014), (1853, 0.024283274863933255), (1854, 0.04526551397235848), (1855, 0.015638086571195184), (1856, 0.010729147761286952), (1857, 0.020674971028273554), (1858, 0.025018664700143897), (1859, 0.02559282460104436), (1860, 0.025110432849847646), (1861, 0.012379235142607636), (1862, 0.010721056653058388), (1863, 0.019863169227775736), (1864, 0.01599373512995327), (1865, 0.013500603754242281), (1866, 0.04520647301960621), (1867, 0.023414567433679197), (1868, 0.022534186439975734), (1869, 0.021270213054725026), (1870, 0.014094139732313883), (1871, 0.021231956004456487), (1872, 0.014568636571719397), (1873, 0.01439722172992658), (1874, 0.034815617785800446), (1875, 0.014281788049353929), (1876, 0.02667048405729654), (1877, 0.018537589828155114), (1878, 0.0020098394835569), (1879, 0.06251986181880646), (1880, 0.0353182641321995), (1881, 0.02896562650754821), (1882, 0.03772703096619954), (1883, 0.013435055600591925), (1884, 0.015585186150997821), (1885, 0.017230287313414316), (1886, 0.009320735751387085), (1887, 0.015827954803422733), (1888, 0.009373428066871812), (1889, 0.022357117591377474), (1890, 0.023648588743443312), (1891, 0.01027000805634878), (1892, 0.03937847526630911), (1893, 0.04439980049286936), (1894, 0.07166666380061235), (1895, 0.013884926308398604), (1896, 0.037306577506040495), (1897, 0.009597085219311463), (1898, 0.022688605944281716), (1899, 0.010712538929108357), (1900, 0.015229928311461876), (1901, 0.03060699975052334), (1902, 0.022110763222363116), (1903, 0.005096396451586468), (1904, 0.056101840308076925), (1905, 0.02940864745437053), (1906, 0.03608236586178684), (1907, 0.05110601956572912), (1908, 0.020982597721580776), (1909, 0.0275984439559293), (1910, 0.01565447258353093), (1911, 0.030111242190508238), (1912, 0.008823994623627929), (1913, 0.003716418563240867), (1914, 0.041812016513951306), (1915, 0.03270370405414824), (1916, 0.20927570994155137), (1917, 0.025596753652462646), (1918, 0.01181403643487235), (1919, 0.008149901432176181), (1920, 0.029950695496915893), (1921, 0.017279580222329567), (1922, 0.05838696010677639), (1923, 0.03667927008348787), (1924, 0.08065006418535231), (1925, 0.055289446234455364), (1926, 0.022580092283393593), (1927, 0.01978569575720371), (1928, 0.011310924519261335), (1929, 0.022293300619473395), (1930, 0.02713846590182315), (1931, 0.011166501799115356), (1932, 0.012153549801052073), (1933, 0.0321912897496648), (1934, 0.062182163998955604), (1935, 0.010519958205502018), (1936, 0.025369204868079608), (1937, 0.008465349887527698), (1938, 0.04441806994176576), (1939, 0.0072250644886479), (1940, 0.03027527675436968), (1941, 0.03651679124279278), (1942, 0.009566786980922242), (1943, 0.023711273514308268), (1944, 0.02207531530830173), (1945, 0.01738024150942748), (1946, 0.020136496597551266), (1947, 0.026312829349204432), (1948, 0.014044590980338311), (1949, 0.029071659240986036), (1950, 0.01180177151525615), (1951, 0.014411886878124633), (1952, 0.01155077626986873), (1953, 0.1512828989421434), (1954, 0.03096586773923663), (1955, 0.03804803937116144), (1956, 0.029515003545165022), (1957, 0.010747090194693954), (1958, 0.02075528462180877), (1959, 0.03578979906484023), (1960, 0.02794788181643708), (1961, 0.15907223768937376), (1962, 0.015441538706080421), (1963, 0.014296742385224628), (1964, 0.014488642920567663), (1965, 0.014971597021277396), (1966, 0.016361497463141802), (1967, 0.033899352106272276), (1968, 0.007596398527281466), (1969, 0.024969549131850618), (1970, 0.020431563879437644), (1971, 0.020430447514578492), (1972, 0.022007515672325402), (1973, 0.01827557552991669), (1974, 0.023828736210423383), (1975, 0.021211632493747714), (1976, 0.04839373296284477), (1977, 0.030833150699834937), (1978, 0.1096324335111577), (1979, 0.02433822749092911), (1980, 0.012466441942804546), (1981, 0.007600536417872178), (1982, 0.015739245509683617), (1983, 0.026905457107276494), (1984, 0.021757393486811286), (1985, 0.006409390022713316), (1986, 0.056655281116593355), (1987, 0.03524795403129606), (1988, 0.021523626926916548), (1989, 0.017337597068727256), (1990, 0.013872685932066454), (1991, 0.016358354293809524), (1992, 0.12139752399796794), (1993, 0.015196764958795), (1994, 0.011651606886852683), (1995, 0.012833780040715496), (1996, 0.012197024947933992), (1997, 0.07027472150771519), (1998, 0.03819996732214196), (1999, 0.06369136330975161), (2000, 0.005614719179629066), (2001, 0.05089345159231763), (2002, 0.01925901992172954), (2003, 0.006147030673904524), (2004, 0.020573203230355466), (2005, 0.011474283344755247), (2006, 0.006078128615820669), (2007, 0.012683702345280413), (2008, 0.034524976537674695), (2009, 0.03357182494193855), (2010, 0.03390292376001583), (2011, 0.021632895627447038), (2012, 0.014839971995876129), (2013, 0.044064904714490864), (2014, 0.041871931222258144), (2015, 0.017357847889783867), (2016, 0.011827760738501183), (2017, 0.21195787942991143), (2018, 0.06874214212683889), (2019, 0.0533325777948256), (2020, 0.026615451117702752), (2021, 0.01647613222583194), (2022, 0.022354194024356188), (2023, 0.01996988723624982), (2024, 0.03560186197505538), (2025, 0.012033183824695249), (2026, 0.03924333345806404), (2027, 0.010220614776753742), (2028, 0.030516611799174805), (2029, 0.05182546551464713), (2030, 0.006619349672125135), (2031, 0.04335212367081317), (2032, 0.036282651368631895), (2033, 0.008002758055549824), (2034, 0.018677207087423785), (2035, 0.029954521481595914), (2036, 0.004967587193230285), (2037, 0.019947336835130447), (2038, 0.019779272629205036), (2039, 0.015218495329479578), (2040, 0.03965057253083045), (2041, 0.011815994331372074), (2042, 0.020581152995043466), (2043, 0.013220402484208133), (2044, 0.026044184931327444), (2045, 0.04152974447528804), (2046, 0.027563763491312968), (2047, 0.014861325783829874), (2048, 0.031975956478126455), (2049, 0.06124010745051939), (2050, 0.05986410436013573), (2051, 0.01870300789671437), (2052, 0.02536288131764258), (2053, 0.02422061567992654), (2054, 0.05586757784569633), (2055, 0.05773987491343545), (2056, 0.016070724157125897), (2057, 0.011786541177536504), (2058, 0.002936963109630808), (2059, 0.026288467134800913), (2060, 0.020199299275013682), (2061, 0.00995296590394515), (2062, 0.043450111283497656), (2063, 0.01059184060997375), (2064, 0.022512941713801898), (2065, 0.00802959390639051), (2066, 0.0246416668692057), (2067, 0.015128977399558288), (2068, 0.03854154820880587), (2069, 0.028214928706645673), (2070, 0.006080108100623258), (2071, 0.05775760305646942), (2072, 0.019576049042622036), (2073, 0.011505470128568378), (2074, 0.01876138564702088), (2075, 0.01762025876213256), (2076, 0.018095982208848324), (2077, 0.012421005002998607), (2078, 0.039554233845066455), (2079, 0.026239713166335252), (2080, 0.01224298238984441), (2081, 0.010805792944205143), (2082, 0.028581004405128105), (2083, 0.03410402078942698), (2084, 0.0058354578055879154), (2085, 0.012079742907370766), (2086, 0.017682654091967516), (2087, 0.022457353938454747), (2088, 0.01595891201561768), (2089, 0.04644688499266062), (2090, 0.008922123749272542), (2091, 0.012438019883406775), (2092, 0.009727843800413577), (2093, 0.04620937776538231), (2094, 0.008832116097613602), (2095, 0.04982190415237573), (2096, 0.008251908138278488), (2097, 0.010181226482176248), (2098, 0.027145917514115634), (2099, 0.02797709274091043), (2100, 0.008462776657484303), (2101, 0.014140013408108922), (2102, 0.03311748262106369), (2103, 0.022900299244313554), (2104, 0.01922911044407319), (2105, 0.04664135613589036), (2106, 0.03225473070956729), (2107, 0.023834386187795563), (2108, 0.052212510535394815), (2109, 0.02186302754196509), (2110, 0.02046344549412261), (2111, 0.06106018753969292), (2112, 0.00522900840269379), (2113, 0.008954005506608739), (2114, 0.005534747210406034), (2115, 0.007800539826463198), (2116, 0.06223208789949473), (2117, 0.015374011920078395), (2118, 0.016101565402163676), (2119, 0.02486996723697189), (2120, 0.03100713153610013), (2121, 0.005109141524115578), (2122, 0.003915293673838134), (2123, 0.059211191659438604), (2124, 0.02180871629492627), (2125, 0.013761137256512868), (2126, 0.019514857908749253), (2127, 0.009392155449174464), (2128, 0.019158737313495287), (2129, 0.05757616837600678), (2130, 0.015401795802050035), (2131, 0.0810292804659385), (2132, 0.05796350727380837), (2133, 0.01710388190139372), (2134, 0.022195524343801985), (2135, 0.007853861610519812), (2136, 0.02481379954755933), (2137, 0.013396121544021219), (2138, 0.03397175237751551), (2139, 0.010444986260890644), (2140, 0.04669010490764637), (2141, 0.011008913542759943), (2142, 0.01596943286556184), (2143, 0.020757815337557106), (2144, 0.034339616057748865), (2145, 0.01811543697397802), (2146, 0.02486772585484258), (2147, 0.024439316777796184), (2148, 0.02193085741795014), (2149, 0.03475715953242088), (2150, 0.02314509048961024), (2151, 0.017729555060598187), (2152, 0.006465271276311642), (2153, 0.017216471515160352), (2154, 0.03332792614636678), (2155, 0.04274721933288306), (2156, 0.036976519632224814), (2157, 0.025870691619997107), (2158, 0.024470663140431684), (2159, 0.03178637728088963), (2160, 0.006677261394579665), (2161, 0.015010191675823915), (2162, 0.04739635430967632), (2163, 0.029449686558062446), (2164, 0.027708061459580414), (2165, 0.06235726807863224), (2166, 0.01876097670475669), (2167, 0.01254416851592023), (2168, 0.010574827914775028), (2169, 0.023560812709578806), (2170, 0.008427978594233377), (2171, 0.025156794025562933), (2172, 0.015463411673740456), (2173, 0.018587421006523722), (2174, 0.0337452704292068), (2175, 0.012438888390246577), (2176, 0.03558800777530756), (2177, 0.04271343077604659), (2178, 0.016291203158909886), (2179, 0.029841469008659614), (2180, 0.03147833674382104), (2181, 0.023423972778719514), (2182, 0.03611508389178271), (2183, 0.022718901705401816), (2184, 0.0248263418846242), (2185, 0.00818662764773789), (2186, 0.025776437523421607), (2187, 0.019315724918470042), (2188, 0.019036824596924566), (2189, 0.024383895471509005), (2190, 0.007701975114546125), (2191, 0.017677868420169163), (2192, 0.012540766006274646), (2193, 0.02470257525511509), (2194, 0.0011375816115751973), (2195, 0.028387529409377773), (2196, 0.03265186499179955), (2197, 0.019951163330153565), (2198, 0.025091548147711664), (2199, 0.02972832476388701), (2200, 0.20216612288554656), (2201, 0.011762183187437738), (2202, 0.0046558605500264475), (2203, 0.018794998688335667), (2204, 0.01652705405961574), (2205, 0.05323784623934065), (2206, 0.005723842450755508), (2207, 0.02092872113796037), (2208, 0.019346152638206632), (2209, 0.02290740011660421), (2210, 0.00873585022740921), (2211, 0.04428816438432431), (2212, 0.026395600541288346), (2213, 0.021169541294099675), (2214, 0.020401447632645637), (2215, 0.00763358671121724), (2216, 0.04344820028865695), (2217, 0.011923571939367602), (2218, 0.011410163954412739), (2219, 0.005435608505107783), (2220, 0.033037506423914016), (2221, 0.012399030163382344), (2222, 0.04141747504793037), (2223, 0.01953973322729184), (2224, 0.016062991853479543), (2225, 0.008749819167724973), (2226, 0.026105682583670468), (2227, 0.020561363671216484), (2228, 0.029607386845807288), (2229, 0.0471137205170003), (2230, 0.03784975234935458), (2231, 0.0843920876937538), (2232, 0.0209636093951151), (2233, 0.009810084906029332), (2234, 0.018741703311992684), (2235, 0.06427914527721997), (2236, 0.01613882812511746), (2237, 0.043405960196908636), (2238, 0.0028525245006968637), (2239, 0.05340913766133486), (2240, 0.023968444142645526), (2241, 0.036000181560850435), (2242, 0.02822676996887393), (2243, 0.05251074217680564), (2244, 0.02064751525804387), (2245, 0.00715927114750939), (2246, 0.0590216816580405), (2247, 0.04543222424497595), (2248, 0.008347839656332127), (2249, 0.04803056437009706), (2250, 0.034472590213121844), (2251, 0.009698933971081599), (2252, 0.032579369949409305), (2253, 0.010553220852134882), (2254, 0.01096650131873159), (2255, 0.03812447650626448), (2256, 0.03270976965056979), (2257, 0.021779016811615697), (2258, 0.017530746336762458), (2259, 0.03508411735410023), (2260, 0.04773985664951856), (2261, 0.022064891186082524), (2262, 0.02541766048949665), (2263, 0.022937431391537068), (2264, 0.027333337960050105), (2265, 0.03350779126219566), (2266, 0.03198911780011279), (2267, 0.009943470047907937), (2268, 0.01593732673017084), (2269, 0.010982823716179825), (2270, 0.019443940496759578), (2271, 0.0019870707498246217), (2272, 0.0244848134911595), (2273, 0.007125521560140949), (2274, 0.011815119516849869), (2275, 0.004166669165612369), (2276, 0.022675227928723417), (2277, 0.024845363734281107), (2278, 0.021079953149534574), (2279, 0.03007899687762997), (2280, 0.09384762995749414), (2281, 0.02284514830721636), (2282, 0.019031108859412536), (2283, 0.031116286985914676), (2284, 0.012624948828475265), (2285, 0.032222394708607875), (2286, 0.017129003170804454), (2287, 0.04779103920098736), (2288, 0.012121755329292999), (2289, 0.010517055234294189), (2290, 0.01501018532672115), (2291, 0.00897812125056828), (2292, 0.0179587377193131), (2293, 0.02876387944677413), (2294, 0.03116391283388525), (2295, 0.008198588139310467), (2296, 0.023254737994221366), (2297, 0.034102990027950794), (2298, 0.020439392804445296), (2299, 0.023992712777038044), (2300, 0.012115536054777068), (2301, 0.024916680617010252), (2302, 0.025531090030876214), (2303, 0.016903185348628683), (2304, 0.023459554457854664), (2305, 0.02234265450232007), (2306, 0.025117524020112227), (2307, 0.041101070525101514), (2308, 0.01632390579784182), (2309, 0.015952838064473902), (2310, 0.02958704062366057), (2311, 0.011936762107082381), (2312, 0.016538608411873598), (2313, 0.02666114216275067), (2314, 0.0015383636136091375), (2315, 0.02976712921027161), (2316, 0.03352662382676866), (2317, 0.02917285076160192), (2318, 0.0196017287083853), (2319, 0.051389960204778526), (2320, 0.01553938122160997), (2321, 0.023472125234918366), (2322, 0.034313082990449814), (2323, 0.02152801422878169), (2324, 0.027722816208816878), (2325, 0.01275978502638474), (2326, 0.031090168579320045), (2327, 0.012944766008742396), (2328, 0.009229705374827426), (2329, 0.08893731481626023), (2330, 0.01918052934089592), (2331, 0.013027566090129304), (2332, 0.01449264027686482), (2333, 0.016051760454581315), (2334, 0.007863638528342083), (2335, 0.021956200239255503), (2336, 0.007818218864895117), (2337, 0.03185740312571713), (2338, 0.02736771839492405), (2339, 0.008768443688471727), (2340, 0.026399266699840343), (2341, 0.010106989523088975), (2342, 0.03875221959587674), (2343, 0.07830775880615265), (2344, 0.021257513522371888), (2345, 0.033042410532304965), (2346, 0.023891773964430624), (2347, 0.013478550906127724), (2348, 0.023728304305829083), (2349, 0.019552655712459285), (2350, 0.026174993170388537), (2351, 0.013188659930624038), (2352, 0.048286897695485956), (2353, 0.014558328840547733), (2354, 0.03169631816719315), (2355, 0.004974034486520461), (2356, 0.01698314579972327), (2357, 0.020230153636018443), (2358, 0.022055859398397794), (2359, 0.03304864323143271), (2360, 0.036292499057184686), (2361, 0.01563420021667833), (2362, 0.015428622019023315), (2363, 0.05701677424539162), (2364, 0.010379571903590967), (2365, 0.014672492357613887), (2366, 0.024549665473143592), (2367, 0.029740799335996083), (2368, 0.03470631909404724), (2369, 0.023546836971422513), (2370, 0.008077095585081772), (2371, 0.006823679182951131), (2372, 0.028031562476975556), (2373, 0.011849722134097632), (2374, 0.03208852952573961), (2375, 0.01891477246475972), (2376, 0.019925993615807394), (2377, 0.02461442740533455), (2378, 0.020381352518600293), (2379, 0.034751559476934465), (2380, 0.026682941819052), (2381, 0.011257017096211845), (2382, 0.038945362825871875), (2383, 0.04283549022807777), (2384, 0.030131743033490498), (2385, 0.01304422936809154), (2386, 0.01437688266041857), (2387, 0.01419111969247924), (2388, 0.051414060117144805), (2389, 0.024028888900078427), (2390, 0.006703426404931093), (2391, 0.055000642352379545), (2392, 0.04320555454177048), (2393, 0.05051385337232073), (2394, 0.008063766832266384), (2395, 0.006578209192278228), (2396, 0.024208267316176132), (2397, 0.020378000962782885), (2398, 0.02067579803792495), (2399, 0.02468908372380517), (2400, 0.038211439162500485), (2401, 0.016258349144368568), (2402, 0.02371169738851174), (2403, 0.023929778755383713), (2404, 0.01905631152698432), (2405, 0.298286479375499), (2406, 0.030410739187770323), (2407, 0.019092749054809895), (2408, 0.009368029222033164), (2409, 0.018505585323421333), (2410, 0.04734319342204786), (2411, 0.007717342810965137), (2412, 0.039568832007496973), (2413, 0.0069543144126462085), (2414, 0.008775894551176694), (2415, 0.02432952175757263), (2416, 0.012398843846876529), (2417, 0.01198333578876109), (2418, 0.034717593489369786), (2419, 0.02156572598809082), (2420, 0.03240113957805947), (2421, 0.0036316898630274763), (2422, 0.01037532337943627), (2423, 0.006665366387831762), (2424, 0.019316660554736298), (2425, 0.024741391456809984), (2426, 0.06501032246162469), (2427, 0.010228804348701397), (2428, 0.01528313022396855), (2429, 0.05396136424030364), (2430, 0.02221687939698188), (2431, 0.020872968981253095), (2432, 0.016148977143010355), (2433, 0.0220784409282945), (2434, 0.018000983350250212), (2435, 0.08702953066618634), (2436, 0.018596274755288973), (2437, 0.032951533862923904), (2438, 0.00953472972278267), (2439, 0.022937946524511477), (2440, 0.029262287526244705), (2441, 0.011349831890537732), (2442, 0.01451886809470672), (2443, 0.01892059368147887), (2444, 0.06083228388105564), (2445, 0.021525155153505393), (2446, 0.06353266087832604), (2447, 0.017072700815882597), (2448, 0.019094015103170728), (2449, 0.026818457795068727), (2450, 0.021023592192980008), (2451, 0.014137615953636672), (2452, 0.03431851371498545), (2453, 0.011093175132404553), (2454, 0.016649564920505476), (2455, 0.011511671539583278), (2456, 0.014728370654498698), (2457, 0.03164312500611216), (2458, 0.019088661473367), (2459, 0.010773736899338342), (2460, 0.0226505806924581), (2461, 0.005784701197938377), (2462, 0.007495240481981246), (2463, 0.031551229641068906), (2464, 0.01985736994026367), (2465, 0.006585659774122435), (2466, 0.022424608255580986), (2467, 0.02821526049055248), (2468, 0.03252945386896368), (2469, 0.014808049934887511), (2470, 0.020770230728942088), (2471, 0.016228325710423958), (2472, 0.02412434543563676), (2473, 0.017972203067593714), (2474, 0.02533492311342718), (2475, 0.03501427617428507), (2476, 0.03849364316274825), (2477, 0.021224436617059403), (2478, 0.004261319574710983), (2479, 0.0073386874120803785), (2480, 0.012982412052096945), (2481, 0.027751926770991853), (2482, 0.028477250351352408), (2483, 0.02151346182273998), (2484, 0.06442652439744581), (2485, 0.011580447028233723), (2486, 0.021325691353007898), (2487, 0.017111019516435615), (2488, 0.03651568574735083), (2489, 0.01567382237651021), (2490, 0.01925100296080326), (2491, 0.02417536515958894), (2492, 0.04398277343146448), (2493, 0.006716613485688538), (2494, 0.03715997246609909), (2495, 0.025923405320466213), (2496, 0.033860642359630086), (2497, 0.018809705877825572), (2498, 0.03333927700217723), (2499, 0.016223783889051463), (2500, 0.021024329779240514), (2501, 0.021856525164401137), (2502, 0.07237412041819345), (2503, 0.014315268040442624), (2504, 0.020753321056056685), (2505, 0.02487506477724949), (2506, 0.01256078580066681), (2507, 0.04534899798371478), (2508, 0.03778937069912646), (2509, 0.013935963404865697), (2510, 0.015383542418981544), (2511, 0.0878428482310547), (2512, 0.01809534460418224), (2513, 0.012205489026529737), (2514, 0.0046727865752490575), (2515, 0.031149723878384203), (2516, 0.03333497258304859), (2517, 0.019419258470268905), (2518, 0.02478492038766341), (2519, 0.025756313044788513), (2520, 0.039874306509657786), (2521, 0.02390200684776444), (2522, 0.017681781954366215), (2523, 0.015366271004312024), (2524, 0.047182393532982494), (2525, 0.026067152351597442), (2526, 0.009703855303800689), (2527, 0.015516968285019157), (2528, 0.014811644200250641), (2529, 0.02154266499325109), (2530, 0.005708998825431425), (2531, 0.042594088223529995), (2532, 0.021423597981474717), (2533, 0.014612461100271087), (2534, 0.030282985817813246), (2535, 0.03321830149662741), (2536, 0.01589206047616114), (2537, 0.01513784072734754), (2538, 0.04338567077567806), (2539, 0.06347752551157688), (2540, 0.016682233583437477), (2541, 0.018337747653052433), (2542, 0.02120638772054849), (2543, 0.12088521286800269), (2544, 0.008040833761352768), (2545, 0.045102300211665246), (2546, 0.007837205747096837), (2547, 0.03604667159460951), (2548, 0.041438527012613774), (2549, 0.046592096783471336), (2550, 0.009981798116242129), (2551, 0.02019476111284682), (2552, 0.06325301513392256), (2553, 0.019735106294502036), (2554, 0.01160266502322997), (2555, 0.01576097993702402), (2556, 0.021484983585961404), (2557, 0.020276959729910664), (2558, 0.02285151806231143), (2559, 0.03010480417765453), (2560, 0.004259413352169139), (2561, 0.03714343629071253), (2562, 0.02492751941152424), (2563, 0.058064727916868196), (2564, 0.0008489539934652443), (2565, 0.019681360832150992), (2566, 0.0297478349220998), (2567, 0.02445446163375889), (2568, 0.009830924631532373), (2569, 0.011612151918893922), (2570, 0.013162454996046234), (2571, 0.06035535069748704), (2572, 0.013054044437322837), (2573, 0.040704394591431284), (2574, 0.029747809565990685), (2575, 0.042488231302814615), (2576, 0.0261247615778598), (2577, 0.008569061890236217), (2578, 0.021605260741988173), (2579, 0.032417666135125235), (2580, 0.09773891789187522), (2581, 0.0035069275829043224), (2582, 0.02368739233211432), (2583, 0.03859143807871543), (2584, 0.007319265147193974), (2585, 0.028980734981671714), (2586, 0.012836294689299966), (2587, 0.0383181959781083), (2588, 0.05256044098186441), (2589, 0.011172136720730422), (2590, 0.012119734186518624), (2591, 0.025429447245516747), (2592, 0.030410762673082445), (2593, 0.006031675418285449), (2594, 0.03982356338234587), (2595, 0.023992348870938034), (2596, 0.024930397318290932), (2597, 0.007705076031277814), (2598, 0.004145812517195534), (2599, 0.027404552232137166), (2600, 0.016960117211536486), (2601, 0.02379385299999456), (2602, 0.01606343207286476), (2603, 0.01473362344155264), (2604, 0.010821895380824308), (2605, 0.018505271102678827), (2606, 0.006513482967431506), (2607, 0.04115872632110345), (2608, 0.020874721312535587), (2609, 0.006443159232403785), (2610, 0.029676021783737055), (2611, 0.01913928202537289), (2612, 0.013178467874630572), (2613, 0.021499890943949312), (2614, 0.005132406976998508), (2615, 0.023816106624310336), (2616, 0.06276261556239295), (2617, 0.009165207832666026), (2618, 0.021738405843283733), (2619, 0.0051858189209114105), (2620, 0.014225330171507278), (2621, 0.008065935897632793), (2622, 0.0036351786912474896), (2623, 0.02398313136041743), (2624, 0.011003309407004483), (2625, 0.01645044526738612), (2626, 0.00954061226300855), (2627, 0.026252868576673676), (2628, 0.027071115595858126), (2629, 0.011975070898245956), (2630, 0.04937021962289247), (2631, 0.018789490249957796), (2632, 0.04102264022291927), (2633, 0.029651312159926606), (2634, 0.02037076463683237), (2635, 0.04220006665390013), (2636, 0.007387931402802543), (2637, 0.012309349456536174), (2638, 0.0820050432997205), (2639, 0.020445245865546195), (2640, 0.06806333563726417), (2641, 0.03395388373579944), (2642, 0.021360756940782752), (2643, 0.011318396880788274), (2644, 0.07552257800636054), (2645, 0.00844348842210741), (2646, 0.030287284812711323), (2647, 0.0372039002703772), (2648, 0.02862453154362855), (2649, 0.031046823667455547), (2650, 0.012827193193376413), (2651, 0.014347158794063468), (2652, 0.05159663489802075), (2653, 0.02971508586818583), (2654, 0.02643954174911496), (2655, 0.032482309652635315), (2656, 0.03805579215571568), (2657, 0.023478791870331528), (2658, 0.0), (2659, 0.02537788169488697), (2660, 0.03375604146924601), (2661, 0.02099469892868949), (2662, 0.016281725565759596), (2663, 0.026506668615103875), (2664, 0.02905540071257257), (2665, 0.026179560715171038), (2666, 0.015323446176852112), (2667, 0.014674402309059566), (2668, 0.028270968064017354), (2669, 0.027617558188313553), (2670, 0.013201854397924526), (2671, 0.017310098339169237), (2672, 0.018308370611731677), (2673, 0.07275299292598081), (2674, 0.00735716370823361), (2675, 0.0250590886809081), (2676, 0.023040929480398754), (2677, 0.026314828868466367), (2678, 0.016744691210932788), (2679, 0.013615436203290402), (2680, 0.039455839393028366), (2681, 0.013599116328706895), (2682, 0.028341279884253508), (2683, 0.036152862127038714), (2684, 0.019136849640859155), (2685, 0.025373513239105104), (2686, 0.03329741757971899), (2687, 0.015157661978475977), (2688, 0.02203144127678916), (2689, 0.03585490581797567), (2690, 0.03318708102732652), (2691, 0.011224920620692939), (2692, 0.012419090901180728), (2693, 0.045212747949736114), (2694, 0.01650865399499204), (2695, 0.023327008626905975), (2696, 0.0032882873399777764), (2697, 0.022619271025818358), (2698, 0.13682664296160307), (2699, 0.023517903574000687), (2700, 0.01286845866826107), (2701, 0.009926852734043229), (2702, 0.021276484159869626), (2703, 0.0190096608173998), (2704, 0.024631875094129355), (2705, 0.035562797100222435), (2706, 0.04094792337127043), (2707, 0.06204840830487794), (2708, 0.04755041780139265), (2709, 0.022281603460922506), (2710, 0.06836322521142602), (2711, 0.017352262224944515), (2712, 0.020951125365649383), (2713, 0.023250217845149815), (2714, 0.02328718159960513), (2715, 0.05519535031185126), (2716, 0.009848974732762398), (2717, 0.01241659499411974), (2718, 0.027004953199810364), (2719, 0.025255058968157548), (2720, 0.01467206876517815), (2721, 0.018759581025227453), (2722, 0.08199706341000228), (2723, 0.026928296053215686), (2724, 0.015563114402223981), (2725, 0.01506792363680587), (2726, 0.05222406864412096), (2727, 0.036088667415989345), (2728, 0.06356028882582214), (2729, 0.047412096960094116), (2730, 0.025645612329790315), (2731, 0.033371853314580494), (2732, 0.030148573095196918), (2733, 0.013911125486847833), (2734, 0.013294070884985364), (2735, 0.017471474519197422), (2736, 0.005515273835539188), (2737, 0.03505323281410294), (2738, 0.020667855767602515), (2739, 0.025772376730566527), (2740, 0.033270133652249984), (2741, 0.018508424605637713), (2742, 0.0069961666329228355), (2743, 0.014514138236117122), (2744, 0.014584562643021947), (2745, 0.03167927658116254), (2746, 0.008660515544386365), (2747, 0.018362296978595868), (2748, 0.022416719102208608), (2749, 0.021162415230361876), (2750, 0.021593521577915446), (2751, 0.026699945309767745), (2752, 0.019079737038300668), (2753, 0.014566131024994381), (2754, 0.03474012666713181), (2755, 0.04561790504826678), (2756, 0.008356895850149718), (2757, 0.06055721736916852), (2758, 0.017521383395868152), (2759, 0.0745755445601979), (2760, 0.08258153413793048), (2761, 0.016134414821866776), (2762, 0.02043235990065129), (2763, 0.03027768272338935), (2764, 0.027630196732448528), (2765, 0.013276266078611626), (2766, 0.014775146455881592), (2767, 0.02797358769947169), (2768, 0.02182736549372737), (2769, 0.023973066743528625), (2770, 0.008429919205906378), (2771, 0.018714379366424276), (2772, 0.023176493251656667), (2773, 0.018561481200021386), (2774, 0.03170259323794171), (2775, 0.017217796365369364), (2776, 0.04060903986842446), (2777, 0.01312174205200865), (2778, 0.0238047201452945), (2779, 0.01649802253171378), (2780, 0.05179046631571847), (2781, 0.028016497758724987), (2782, 0.03514210194513041), (2783, 0.11773347412403304), (2784, 0.05262460156136117), (2785, 0.02755475326857171), (2786, 0.037905062215854976), (2787, 0.023474631353724483), (2788, 0.01032512310829134), (2789, 0.03921409366984391), (2790, 0.029215216513090527), (2791, 0.03458568762425189), (2792, 0.022592353048772097), (2793, 0.030319715944331374), (2794, 0.011553081319706442), (2795, 0.020380695485119803), (2796, 0.0156739409721674), (2797, 0.014749826958968641), (2798, 0.019249403593066285), (2799, 0.045618736494934996), (2800, 0.03272509441748914), (2801, 0.02047819647862749), (2802, 0.036551626929630536), (2803, 0.01562775165228877), (2804, 0.010483365930956067), (2805, 0.012990951087090755), (2806, 0.008956138462453817), (2807, 0.02268525275649311), (2808, 0.03784168676462136), (2809, 0.016874326763164787), (2810, 0.04259986652944192), (2811, 0.01706165008220457), (2812, 0.022202293149966718), (2813, 0.007815139009685265), (2814, 0.024516266930155576), (2815, 0.04456902367584638), (2816, 0.022967420048169953), (2817, 0.0780667288495471), (2818, 0.01695806225547574), (2819, 0.03171001077954808), (2820, 0.019592735487183315), (2821, 0.023461192052956877), (2822, 0.028707323977877022), (2823, 0.009423427895331904), (2824, 0.020106527049135833), (2825, 0.023008285655043103), (2826, 0.018958534365007926), (2827, 0.024051637818890144), (2828, 0.035735834263502186), (2829, 0.051656630498368966), (2830, 0.005368310647939309), (2831, 0.05435688875085713), (2832, 0.01873863512081556), (2833, 0.019032818199037634), (2834, 0.006744871577614162), (2835, 0.02297908491149586), (2836, 0.010779964551479502), (2837, 0.029140702821045788), (2838, 0.031203505273539236), (2839, 0.018906096135465827), (2840, 0.016199254787053412), (2841, 0.008489187770541433), (2842, 0.00281958327133385), (2843, 0.018027479337607403), (2844, 0.01745029814371319), (2845, 0.006355474790796382), (2846, 0.01004002954882143), (2847, 0.021087910596162766), (2848, 0.02334291237540086), (2849, 0.02011670678703679), (2850, 0.0044584941082384585), (2851, 0.010789584260036827), (2852, 0.007679890198659507), (2853, 0.026970304906006114), (2854, 0.006527756170131925), (2855, 0.0025721693398541743), (2856, 0.015039309221817112), (2857, 0.03299556616928246), (2858, 0.010533974813248024), (2859, 0.009618345526637368), (2860, 0.0450029103384312), (2861, 0.03572716845860578), (2862, 0.07402106714728451), (2863, 0.0071248997888860655), (2864, 0.04549977809712306), (2865, 0.03780945337082999), (2866, 0.023414651670091657), (2867, 0.03194799181595345), (2868, 0.024615887027695356), (2869, 0.012088865997986286), (2870, 0.07922780399341954), (2871, 0.007210775528993877), (2872, 0.023852631432658162), (2873, 0.013163171553520156), (2874, 0.012105188895645998), (2875, 0.013339659032728695), (2876, 0.028783007816829298), (2877, 0.04902405173278142), (2878, 0.03790946703038084), (2879, 0.022639117524084866), (2880, 0.022078713776841664), (2881, 0.03584510875379925), (2882, 0.024506304400350523), (2883, 0.03155008680892096), (2884, 0.016037889609721332), (2885, 0.005908525785497873), (2886, 0.013463292475717818), (2887, 0.04927449661027374), (2888, 0.018483438533712433), (2889, 0.02075947227266111), (2890, 0.010374966173694867), (2891, 0.040888907180276914), (2892, 0.014405159673194591), (2893, 0.030649339399320883), (2894, 0.014526048954488373), (2895, 0.0317929923739989), (2896, 0.009061715147974768), (2897, 0.0418780661339643), (2898, 0.03266693875250688), (2899, 0.036614380686791466), (2900, 0.07551723112508764), (2901, 0.051229896294686744), (2902, 0.018523062165903457), (2903, 0.04464648756914062), (2904, 0.03751284456466687), (2905, 0.010842421932281842), (2906, 0.006534134381312191), (2907, 0.022173101823543158), (2908, 0.011116992078835345), (2909, 0.032266124321312255), (2910, 0.017360860420209605), (2911, 0.012525974971347848), (2912, 0.01966232573031971), (2913, 0.027620193366502684), (2914, 0.016222873592829125), (2915, 0.08126686685794139), (2916, 0.023577377903140656), (2917, 0.047095900847635264), (2918, 0.01163261650963653), (2919, 0.026656684744447094), (2920, 0.009756563761505516), (2921, 0.012994630790722092), (2922, 0.007939179603745393), (2923, 0.05182275149744397), (2924, 0.04985595924142774), (2925, 0.014471923396086654), (2926, 0.021545056612144974), (2927, 0.007885844879097641), (2928, 0.025497875768795315), (2929, 0.008603145577295595), (2930, 0.025215310045726747), (2931, 0.01441038785178592), (2932, 0.022475402935220948), (2933, 0.019732936675520202), (2934, 0.01805383183704605), (2935, 0.00743028465507802), (2936, 0.02207390026943269), (2937, 0.09339404241590078), (2938, 0.01995335735767445), (2939, 0.059812790401578886), (2940, 0.01231398100656702), (2941, 0.011525143827935317), (2942, 0.025582956679591352), (2943, 0.018144597592498122), (2944, 0.020095378678926728), (2945, 0.032506159743935524), (2946, 0.015177503388604591), (2947, 0.043192732009041335), (2948, 0.026071360067693342), (2949, 0.024013978972888025), (2950, 0.016883557255345894), (2951, 0.023126629583151703), (2952, 0.01763961875903326), (2953, 0.022137460581080577), (2954, 0.06139168071957253), (2955, 0.024313469129730196), (2956, 0.03267183799574584), (2957, 0.018959870075039627), (2958, 0.044167353858323155), (2959, 0.03182669155506705), (2960, 0.019821475206321496), (2961, 0.018078126938893976), (2962, 0.025044597186960112), (2963, 0.021488583188757147), (2964, 0.020556502862191982), (2965, 0.028603309393786167), (2966, 0.01892868757621126), (2967, 0.05947587817734341), (2968, 0.022073862912872087), (2969, 0.18416284678233388), (2970, 0.15519376918336059), (2971, 0.02101695645554335), (2972, 0.02452725169512529), (2973, 0.012334713466493178), (2974, 0.02901346527295858), (2975, 0.023201708409277697), (2976, 0.02526866049530807), (2977, 0.03604036932094417), (2978, 0.009762522003748275), (2979, 0.03040578659721378), (2980, 0.01251651035265516), (2981, 0.021471519711477483), (2982, 0.013853041093906844), (2983, 0.02694731486930802), (2984, 0.01657144191121781), (2985, 0.02340767829145654), (2986, 0.01607283008490922), (2987, 0.011761537489012442), (2988, 0.02039115046735775), (2989, 0.05426792772102533), (2990, 0.010769692995727432), (2991, 0.015634039751848076), (2992, 0.012790232138217705), (2993, 0.05702362365598599), (2994, 0.04113096373914632), (2995, 0.010718321307124608), (2996, 0.021382735440276197), (2997, 0.03297371879867846), (2998, 0.08680270971431671), (2999, 0.029299351470056835), (3000, 0.01060864500339501), (3001, 0.009793191458895616), (3002, 0.014631309091876543), (3003, 0.019217922351154857), (3004, 0.0234277699857596), (3005, 0.025656796811519705), (3006, 0.012672814577501426), (3007, 0.06481830739572998), (3008, 0.024932054084927255), (3009, 0.03907856344345157), (3010, 0.033722953239660604), (3011, 0.019875663039448696), (3012, 0.026597533671490266), (3013, 0.016178709336261494), (3014, 0.025811556399839473), (3015, 0.033237514978857366), (3016, 0.025253469646110402), (3017, 0.06790946813756493), (3018, 0.010526611938049664), (3019, 0.013214043112191872), (3020, 0.00326241643331789), (3021, 0.0764438336993703), (3022, 0.006903131547780423), (3023, 0.023317034723302307), (3024, 0.019703936696369127), (3025, 0.011079838817322113), (3026, 0.03579641590247682), (3027, 0.05423032753327734), (3028, 0.0027958332661065675), (3029, 0.015056448918650586), (3030, 0.016275514076292335), (3031, 0.018104547582886366), (3032, 0.01586918577472494), (3033, 0.010476765441608195), (3034, 0.015360124318512573), (3035, 0.036945196775991174), (3036, 0.04535820838559193), (3037, 0.008978073765131097), (3038, 0.015072107495163245), (3039, 0.008840153779482095), (3040, 0.0207472302233316), (3041, 0.017342589016683542), (3042, 0.023409012523417705), (3043, 0.013694588256882176), (3044, 0.01902131234452608), (3045, 0.013293739086896354), (3046, 0.023280165635317273), (3047, 0.02126520683094626), (3048, 0.0007797606390196871), (3049, 0.03089426730557305), (3050, 0.01784233691351428), (3051, 0.031070674418333256), (3052, 0.017800242118120355), (3053, 0.0149658418962146), (3054, 0.018295609125635593), (3055, 0.02690774799230491), (3056, 0.026498762872424537), (3057, 0.019759694668085102), (3058, 0.026626374518652098), (3059, 0.0587249180925266), (3060, 0.01493775034102003), (3061, 0.01515131944830359), (3062, 0.003979878240205122), (3063, 0.019158757799669163), (3064, 0.006144561197809907), (3065, 0.04020392461384646), (3066, 0.013104963236045533), (3067, 0.01571238328832074), (3068, 0.02016905079596185), (3069, 0.011681297449935745), (3070, 0.016911525180732155), (3071, 0.061606414343500004), (3072, 0.00404450153293065), (3073, 0.028759643313857098), (3074, 0.02520619491463532), (3075, 0.049821159560444146), (3076, 0.009644682748365881), (3077, 0.012623208432498905), (3078, 0.003442253581342712), (3079, 0.014188640608983989), (3080, 0.011220866687103613), (3081, 0.009499141396534636), (3082, 0.008469224189157274), (3083, 0.020042672416953244), (3084, 0.006969023729426656), (3085, 0.016259289651106398), (3086, 0.004864529004111615), (3087, 0.005545049763927433), (3088, 0.034982505526369265), (3089, 0.02222667758113427), (3090, 0.037815999989787824), (3091, 0.00747419107453573), (3092, 0.03930062424838534), (3093, 0.010964565207467221), (3094, 0.004767521287282962), (3095, 0.009120471096822734), (3096, 0.020362405274713263), (3097, 0.010889285592664515), (3098, 0.013421820448531265), (3099, 0.020161560138380746), (3100, 0.01855825000603926), (3101, 0.06367401927500559), (3102, 0.004637537982079037), (3103, 0.013613348930002314), (3104, 0.010077791431870622), (3105, 0.024186381654819834), (3106, 0.039766811084347695), (3107, 0.02815371133696085), (3108, 0.07703595214345789), (3109, 0.010535785613048158), (3110, 0.016415914245251965), (3111, 0.026394687755210068), (3112, 0.007733564360302659), (3113, 0.016337246190564363), (3114, 0.030744424002863736), (3115, 0.02308222907172432), (3116, 0.04034768499579196), (3117, 0.010031530710439465), (3118, 0.012692897707272815), (3119, 0.0184891426627118), (3120, 0.025946578655487836), (3121, 0.015640305433446584), (3122, 0.01925387587667031), (3123, 0.005107249925553758), (3124, 0.001085586384010543), (3125, 0.021103587175984415), (3126, 0.006708418905080121), (3127, 0.02294632082612582), (3128, 0.009601609233527859), (3129, 0.01182872680985831), (3130, 0.03210972851669173), (3131, 0.01852248909236674), (3132, 0.015327501758796259), (3133, 0.03059943051415534), (3134, 0.03141945465969857), (3135, 0.007390868901414582), (3136, 0.027406706322855315), (3137, 0.031027271543041593), (3138, 0.00574275162402436), (3139, 0.038001875694604344), (3140, 0.004342818144394882), (3141, 0.024468784608540826), (3142, 0.01068801199482481), (3143, 0.016937431735331347), (3144, 0.017335251350263214), (3145, 0.009430027195151203), (3146, 0.14222896791341527), (3147, 0.02170711270790222), (3148, 0.01887434874379727), (3149, 0.01722672008056547), (3150, 0.019935880413745694), (3151, 0.018421527154362374), (3152, 0.009487771243196332), (3153, 0.030664606056903247), (3154, 0.023716532102152715), (3155, 0.015809430482424818), (3156, 0.01812679886630858), (3157, 0.031878639583433524), (3158, 0.04933499995431512), (3159, 0.01053647429867395), (3160, 0.031275794677781465), (3161, 0.25677081078447567), (3162, 0.01032084465682794), (3163, 0.02324081340580582), (3164, 0.03408232517162883), (3165, 0.02439365767708864), (3166, 0.02733254513936182), (3167, 0.022114717032337996), (3168, 0.02542057553294127), (3169, 0.010095542829985997), (3170, 0.022139570311456986), (3171, 0.011473594548362118), (3172, 0.01618378340293013), (3173, 0.0321477820680229), (3174, 0.010596200988489297), (3175, 0.03847996177859793), (3176, 0.011536760974414405), (3177, 0.003504674137406096), (3178, 0.011415143460769153), (3179, 0.009926089002251521), (3180, 0.040006646765238775), (3181, 0.004223630070068561), (3182, 0.015471404878837955), (3183, 0.011985248005544593), (3184, 0.01211136468515497), (3185, 0.011450784790134595), (3186, 0.019959287913745682), (3187, 0.09084786196952642), (3188, 0.02855862621828639), (3189, 0.023848404834800302), (3190, 0.013533440644154253), (3191, 0.027454764615008117), (3192, 0.011476966224786622), (3193, 0.007556563543171505), (3194, 0.04446549676233048), (3195, 0.046571758329321894), (3196, 0.009800635667308006), (3197, 0.023193987528195084), (3198, 0.051038982660667434), (3199, 0.021906963320951798), (3200, 0.05277589338256251), (3201, 0.009771322000556191), (3202, 0.026633485673283754), (3203, 0.025843826735249653), (3204, 0.00921376944829757), (3205, 0.055897771888174706), (3206, 0.04730333028647522), (3207, 0.01797932069205013), (3208, 0.04279214503838794), (3209, 0.023647980699379616), (3210, 0.005639864127657882), (3211, 0.05794461762120169), (3212, 0.01706571128849343), (3213, 0.011169090083562015), (3214, 0.023607197187445295), (3215, 0.020021933145264813), (3216, 0.010757483184885406), (3217, 0.08792558066911696), (3218, 0.01940265996359869), (3219, 0.0094801235366246), (3220, 0.006696390191688212), (3221, 0.011871147839152591), (3222, 0.014564728862483823), (3223, 0.011191705532445076), (3224, 0.027806020972855786), (3225, 0.015303318511203156), (3226, 0.010081772419314211), (3227, 0.02752205721383224), (3228, 0.015921292042058895), (3229, 0.014370497503294014), (3230, 0.03719523373037487), (3231, 0.022755408204485666), (3232, 0.03487269099877418), (3233, 0.018967134230039942), (3234, 0.039799807805302054), (3235, 0.009018289636565119), (3236, 0.013011608282823486), (3237, 0.02153488816397899), (3238, 0.008436751475726843), (3239, 0.04094410134939673), (3240, 0.022442978626127486), (3241, 0.0080674798589483), (3242, 0.021138269240623474), (3243, 0.015347796876653805), (3244, 0.011568603690316986), (3245, 0.009962910433842244), (3246, 0.016440723614628137), (3247, 0.02791107400970662), (3248, 0.008542996158783973), (3249, 0.00930204099363437), (3250, 0.015020620202302827), (3251, 0.02115200013774822), (3252, 0.020291242051495052), (3253, 0.02062023044834096), (3254, 0.03070167396105178), (3255, 0.013612474715896564), (3256, 0.026003811651377013), (3257, 0.019208985685962424), (3258, 0.009761333193964541), (3259, 0.028066909988071227), (3260, 0.006423978039761375), (3261, 0.037404974736364505), (3262, 0.03270715071393546), (3263, 0.015410029544734942), (3264, 0.011966661670577665), (3265, 0.028226094317109814), (3266, 0.010142397992969707), (3267, 0.016526246331179353), (3268, 0.004371132123588193), (3269, 0.021136503391358377), (3270, 0.01592032226707186), (3271, 0.021590973055925847), (3272, 0.027721942034658817), (3273, 0.031627337584455045), (3274, 0.012520333744602017), (3275, 0.005949304126443319), (3276, 0.01809721689637104), (3277, 0.010583905307834048), (3278, 0.02013708506782977), (3279, 0.005685139316680042), (3280, 0.009726385079045944), (3281, 0.01853040951628542), (3282, 0.031768922427098306), (3283, 0.027909961410269808), (3284, 0.020235355718324247), (3285, 0.012254322175499745), (3286, 0.02019823550669497), (3287, 0.022041756826929607), (3288, 0.0442428067744619), (3289, 0.0071205708084892206), (3290, 0.04996792430747545), (3291, 0.022565931492997814), (3292, 0.005315174314227816), (3293, 0.011674595278439334), (3294, 0.012990538030958398), (3295, 0.013292353798477536), (3296, 0.03574266853424784), (3297, 0.041632411135529755), (3298, 0.026458341670879834), (3299, 0.03340515075555226), (3300, 0.031297377348300445), (3301, 0.02867457995289032), (3302, 0.007010062394469897), (3303, 0.013898912471646038), (3304, 0.020043817837708696), (3305, 0.02879196881566612), (3306, 0.031015135351700696), (3307, 0.02400308439814871), (3308, 0.0609223280044202), (3309, 0.03401783553892429), (3310, 0.03258291793691046), (3311, 0.021707669510443894), (3312, 0.020667486768568083), (3313, 0.037907208008059405), (3314, 0.030521411615700024), (3315, 0.024981809290029612), (3316, 0.04795797203608633), (3317, 0.027748394224035716), (3318, 0.021956536037153487), (3319, 0.014443461841469541), (3320, 0.012781832221119508), (3321, 0.05115323418532061), (3322, 0.026631282435817402), (3323, 0.027381717329055727), (3324, 0.004208319355540183), (3325, 0.015869255124670526), (3326, 0.0690734414986563), (3327, 0.0038291005246405023), (3328, 0.017256118966363563), (3329, 0.023641818672218456), (3330, 0.020397001493580605), (3331, 0.025226174640228104), (3332, 0.024170835796336363), (3333, 0.009780466464031481), (3334, 0.005675768110447912), (3335, 0.009956258835866684), (3336, 0.01698600316992247), (3337, 0.01951711163771781), (3338, 0.023450626630658822), (3339, 0.031336685031911504), (3340, 0.029401307216213913), (3341, 0.02654557134899851), (3342, 0.029735801521471948), (3343, 0.04288920497506828), (3344, 0.011518024613188606), (3345, 0.01211858688177667), (3346, 0.026930958198311143), (3347, 0.024105147515265456), (3348, 0.02382198665980011), (3349, 0.0070035939646109855), (3350, 0.04416078076639395), (3351, 0.019079759858321405), (3352, 0.029504771235093343), (3353, 0.03959373915393354), (3354, 0.042914036377447416), (3355, 0.022244035508834963), (3356, 0.011774661334442167), (3357, 0.024782015020421395), (3358, 0.01988648598723818), (3359, 0.020456217330143106), (3360, 0.020026935605628036), (3361, 0.014773275852161918), (3362, 0.012062512039028752), (3363, 0.02359478665883196), (3364, 0.04931679298211464), (3365, 0.0222702540308157), (3366, 0.004603486712685189), (3367, 0.035773307579818545), (3368, 0.020362624135674558), (3369, 0.021091773110188974), (3370, 0.023574903649609624), (3371, 0.02547573818239305), (3372, 0.018624537453457435), (3373, 0.012509838977778897), (3374, 0.003378035208037374), (3375, 0.0698071901889383), (3376, 0.0374138119132369), (3377, 0.04853189091401813), (3378, 0.020664382319212412), (3379, 0.030387046554721596), (3380, 0.024926676485674315), (3381, 0.014149612883585247), (3382, 0.02905119505795007), (3383, 0.004390503654893447), (3384, 0.020253094432753537), (3385, 0.02099837434395378), (3386, 0.011344710053925674), (3387, 0.01910418563975192), (3388, 0.037984374884291364), (3389, 0.04820768793216341), (3390, 0.0013170485415323122), (3391, 0.017480300744156612), (3392, 0.014555242687014948), (3393, 0.01653115462597285), (3394, 0.009623688595606014), (3395, 0.008197341689007105), (3396, 0.032197897226643846), (3397, 0.02050324731545899), (3398, 0.013995270257184916), (3399, 0.0627270355201122), (3400, 0.03662761369656682), (3401, 0.016042993955273782), (3402, 0.007451493202277205), (3403, 0.02520675990392275), (3404, 0.03465378296149798), (3405, 0.03209876446814017), (3406, 0.030946891926828014), (3407, 0.015756547644018716), (3408, 0.08133825590364606), (3409, 0.012693581595488295), (3410, 0.013888171986778965), (3411, 0.0131371069123974), (3412, 0.008010042878255106), (3413, 0.04934942903225316), (3414, 0.025988766325106223), (3415, 0.025160862361377004), (3416, 0.013228437293344018), (3417, 0.024982743776696934), (3418, 0.032977421028399755), (3419, 0.013327493735570581), (3420, 0.02743801135450174), (3421, 0.015729040706028947), (3422, 0.03661930023700078), (3423, 0.024665830801890925), (3424, 0.005343294373287176), (3425, 0.010916529306344621), (3426, 0.016645505768865865), (3427, 0.02080291318145676), (3428, 0.011832908770113098), (3429, 0.019614288273238273), (3430, 0.09685652801716907), (3431, 0.006448272225376865), (3432, 0.023552543117518164), (3433, 0.011728087885118837), (3434, 0.021907558822215043), (3435, 0.04319567582623151), (3436, 0.01054490435484291), (3437, 0.029082397666821136), (3438, 0.0066790666033306936), (3439, 0.0399226442332709), (3440, 0.054157666873652255), (3441, 0.03825765446297584), (3442, 0.07814256258330757), (3443, 0.014993324701095809), (3444, 0.011705978064627691), (3445, 0.017396235678680077), (3446, 0.008821454722062817), (3447, 0.022818829924096132), (3448, 0.08349454561062811), (3449, 0.030315112666648235), (3450, 0.028790148032589596), (3451, 0.025580217295830293), (3452, 0.02891354727555955), (3453, 0.03837573200424794), (3454, 0.016645238268159772), (3455, 0.020990557722709677), (3456, 0.02057769320842188), (3457, 0.013701737454166564), (3458, 0.02960562185089473), (3459, 0.016411702451063763), (3460, 0.024362598302180277), (3461, 0.04985500835730058), (3462, 0.02225821066220071), (3463, 0.06557737349241613), (3464, 0.026526469208448963), (3465, 0.010390257118306507), (3466, 0.009170769776525181), (3467, 0.0154769380120514), (3468, 0.008756524774779905), (3469, 0.034227429210567144), (3470, 0.005142886847487559), (3471, 0.023763410192091185), (3472, 0.012843694212541066), (3473, 0.010485747166005427), (3474, 0.03396645147244767), (3475, 0.04382865228846149), (3476, 0.010243945263389096), (3477, 0.04142384607769838), (3478, 0.016577772162445475), (3479, 0.027432119896461923), (3480, 0.03180813102923169), (3481, 0.0027710843018441036), (3482, 0.013320046576730804), (3483, 0.019798794054881073), (3484, 0.01849736238991592), (3485, 0.0560459894492503), (3486, 0.016958839647836513), (3487, 0.029579194661752885), (3488, 0.017744639687613858), (3489, 0.04996404722975133), (3490, 0.011168774907498279), (3491, 0.0), (3492, 0.0533239108344219), (3493, 0.02806859890528405), (3494, 0.0159192944559136), (3495, 0.008466562687270956), (3496, 0.02893045892401551), (3497, 0.049515839014371524), (3498, 0.008773869023613297), (3499, 0.007293615499538286), (3500, 0.014729457116509106), (3501, 0.033376261352419966), (3502, 0.024630986324386275), (3503, 0.025765729785812465), (3504, 0.022672159669431955), (3505, 0.024640998311863282), (3506, 0.03129839598053749), (3507, 0.013382548413701395), (3508, 0.02647235090069351), (3509, 0.0019726297676568843), (3510, 0.033289469880878546), (3511, 0.02530431450359647), (3512, 0.01385064021648642), (3513, 0.019041794756142625), (3514, 0.04150258766904158), (3515, 0.026946220657625253), (3516, 0.026023827510301092), (3517, 0.053011856001523514), (3518, 0.008515800539947794), (3519, 0.04625193810690735), (3520, 0.026559070942057547), (3521, 0.02174370646527451), (3522, 0.010311839638789212), (3523, 0.031707391761830774), (3524, 0.008482554803473546), (3525, 0.020481642930852428), (3526, 0.010654727099596646), (3527, 0.012627543193180626), (3528, 0.004049829490324668), (3529, 0.021630513115947523), (3530, 0.02241612249613853), (3531, 0.015624245065592618), (3532, 0.016473167667277994), (3533, 0.012589110169571574), (3534, 0.011429962571769132), (3535, 0.007797143006903836), (3536, 0.04185264874555491), (3537, 0.14456745079563646), (3538, 0.002497897406498195), (3539, 0.0220437340507699), (3540, 0.018958179259640454), (3541, 0.06331574217430819), (3542, 0.020815987808228194), (3543, 0.013759903458280225), (3544, 0.020159985640977825), (3545, 0.0017401939794330782), (3546, 0.031147970924248796), (3547, 0.033174206791467056), (3548, 0.015992523703858258), (3549, 0.0053153060729274285), (3550, 0.02584365600921712), (3551, 0.009241935953115737), (3552, 0.043889439944757365), (3553, 0.02588394971915242), (3554, 0.03453569951427355), (3555, 0.05432266725022206), (3556, 0.016992267988154147), (3557, 0.028108028080748408), (3558, 0.013318204925964717), (3559, 0.04848750705554434), (3560, 0.01542501271415634), (3561, 0.01484843088293346), (3562, 0.011642727550502698), (3563, 0.007597013914448125), (3564, 0.006419937918491792), (3565, 0.005676144498026125), (3566, 0.008334872017793019), (3567, 0.02440392075416407), (3568, 0.018672324952312712), (3569, 0.010773889908273252), (3570, 0.014148663508553537), (3571, 0.03700968935498609), (3572, 0.02618426181982294), (3573, 0.026089831714446617), (3574, 0.015157905088956434), (3575, 0.062389418604106454), (3576, 0.012017666558681257), (3577, 0.003717259673455383), (3578, 0.015640946087460656), (3579, 0.02110514482319722), (3580, 0.015508521503270544), (3581, 0.0391077491651918), (3582, 0.03551027566105347), (3583, 0.011193191422071607), (3584, 0.022127301077000366), (3585, 0.017401763401384763), (3586, 0.02144369145703661), (3587, 0.032876813156445805), (3588, 0.009333460281239311), (3589, 0.012648207504491062), (3590, 0.03596307809858798), (3591, 0.014424094395872541), (3592, 0.003971823270767005), (3593, 0.023317475628138244), (3594, 0.015712527949617465), (3595, 0.01745654513034045), (3596, 0.04675269973632885), (3597, 0.008022195459235064), (3598, 0.008331962585082085), (3599, 0.010674030024661886), (3600, 0.008919190588530872), (3601, 0.03503539444940834), (3602, 0.025688103667460896), (3603, 0.013719672981078514), (3604, 0.014496390373703663), (3605, 0.014871831317436543), (3606, 0.04490371969053152), (3607, 0.13827097789642176), (3608, 0.014201293349631014), (3609, 0.013839870606877044), (3610, 0.0694455859201014), (3611, 0.027560974490939492), (3612, 0.009091494466093298), (3613, 0.022892220423996804), (3614, 0.04813464562888053), (3615, 0.02150531634133609), (3616, 0.0311693138319955), (3617, 0.019975625904903718), (3618, 0.018484333651038905), (3619, 0.036159690999611284), (3620, 0.026125973315036778), (3621, 0.049014197856813824), (3622, 0.009881014694854631), (3623, 0.015807070227364436), (3624, 0.009350369402183657), (3625, 0.03238296757914527), (3626, 0.005625365993626131), (3627, 0.12856944480207236), (3628, 0.017643470267049082), (3629, 0.08881125440408533), (3630, 0.020869633841726947), (3631, 0.028687547168854022), (3632, 0.016724165103064903), (3633, 0.023864162609938747), (3634, 0.036981254484795334), (3635, 0.011271635442692267), (3636, 0.01976335838690044), (3637, 0.012702653701776964), (3638, 0.010222964875862078), (3639, 0.009268762907324287), (3640, 0.0241960100121868), (3641, 0.028177933003423312), (3642, 0.02679105841429187), (3643, 0.005095597333968983), (3644, 0.03883088325657292), (3645, 0.027186382804079503), (3646, 0.019028684250284936), (3647, 0.01618966593717581), (3648, 0.007257570000639683), (3649, 0.01990048488380091), (3650, 0.019735688980643578), (3651, 0.02163696896297332), (3652, 0.013112536838599403), (3653, 0.024815657419887532), (3654, 0.020599135974852117), (3655, 0.025929480852233126), (3656, 0.021644703553639837), (3657, 0.010200507188817891), (3658, 0.03288054785247212), (3659, 0.021537033568256852), (3660, 0.045795919003459605), (3661, 0.019206847017830413), (3662, 0.005607703473266666), (3663, 0.020330069411401624), (3664, 0.01963073355082472), (3665, 0.020651248475426088), (3666, 0.010796268817858123), (3667, 0.017735552081575102), (3668, 0.028880122477544505), (3669, 0.03392499411860265), (3670, 0.015767744997651857), (3671, 0.028591981408149947), (3672, 0.11214509431114104), (3673, 0.007546906229788026), (3674, 0.01975856899464057), (3675, 0.020836558279800015), (3676, 0.025715175032415438), (3677, 0.019983956605510812), (3678, 0.03837906564362435), (3679, 0.017141538491510323), (3680, 0.02033033264791423), (3681, 0.004491681876469653), (3682, 0.019836229151038033), (3683, 0.012326088565894146), (3684, 0.028352950319663048), (3685, 0.010619864882784255), (3686, 0.013351409052388496), (3687, 0.008646768050289176), (3688, 0.03262535216198779), (3689, 0.008009024702698568), (3690, 0.0014967385142782253), (3691, 0.019731986345195372), (3692, 0.017903183532557383), (3693, 0.014483988649576528), (3694, 0.022109616288036267), (3695, 0.010032442545703334), (3696, 0.02595929066576451), (3697, 0.017209098507555837), (3698, 0.017557481915034187), (3699, 0.03205976016210564), (3700, 0.039561726724762186), (3701, 0.022284821201054066), (3702, 0.026509107055681845), (3703, 0.02452945288112484), (3704, 0.011977272671563472), (3705, 0.016900533814836666), (3706, 0.024432483883544756), (3707, 0.011233621732439225), (3708, 0.02674927202483078), (3709, 0.03507120943032764), (3710, 0.008372799253792054), (3711, 0.020289340172104944), (3712, 0.0010089219719361974), (3713, 0.010964837151045579), (3714, 0.012488029954110661), (3715, 0.05152635337974848), (3716, 0.01852564712620375), (3717, 0.017448100365135184), (3718, 0.019605357258781136), (3719, 0.026954498990629953), (3720, 0.0319941619958656), (3721, 0.011664486895433368), (3722, 0.025920482892275637), (3723, 0.030732348953618163), (3724, 0.006650450515315649), (3725, 0.030475008664126044), (3726, 0.01464800805100065), (3727, 0.03260012546227567), (3728, 0.029899446634755775), (3729, 0.08321762448352471), (3730, 0.04244446416257091), (3731, 0.016886128879447775), (3732, 0.015823564979936165), (3733, 0.03983010378184023), (3734, 0.017467469437830226), (3735, 0.18080295432849464), (3736, 0.03160955754239334), (3737, 0.022300853190695656), (3738, 0.03429125666181388), (3739, 0.02948705619164716), (3740, 0.008490237355805102), (3741, 0.020780317144472205), (3742, 0.028310239176806664), (3743, 0.04115496277509091), (3744, 0.026293255231774875), (3745, 0.01420296072597505), (3746, 0.028340091004389452), (3747, 0.0220906009246656), (3748, 0.02281388961559281), (3749, 0.02336405593849912), (3750, 0.012540962050336994), (3751, 0.02888339752091137), (3752, 0.02845958131624978), (3753, 0.02160461542362003), (3754, 0.052989268402363225), (3755, 0.062254919301659974), (3756, 0.03669070671523959), (3757, 0.013530482259866177), (3758, 0.010422172179860804), (3759, 0.025560823769616107), (3760, 0.009420191966026413), (3761, 0.021197268533629167), (3762, 0.012347239940441401), (3763, 0.029812475529773366), (3764, 0.013144169674389387), (3765, 0.018983691203330027), (3766, 0.01321533108850221), (3767, 0.010505323738960296), (3768, 0.037529306386851785), (3769, 0.05614522154107036), (3770, 0.00906900702031291), (3771, 0.015541471765257553), (3772, 0.014733436802977), (3773, 0.0037732715301370175), (3774, 0.013788915706477821), (3775, 0.03858808293655684), (3776, 0.03079803448344297), (3777, 0.015102813650826915), (3778, 0.004587351878872314), (3779, 0.007114279792181249), (3780, 0.038795777808650345), (3781, 0.059639021953176385), (3782, 0.056062828595464666), (3783, 0.020752720688090923), (3784, 0.043714008511173824), (3785, 0.004600030439738163), (3786, 0.009604788647181183), (3787, 0.015317752269129075), (3788, 0.009530936158684528), (3789, 0.009134834872014878), (3790, 0.014615643461395348), (3791, 0.009433291969647283), (3792, 0.007292389289909879), (3793, 0.01680151151992801), (3794, 0.01876294430235615), (3795, 0.01599610911317156), (3796, 0.045653922670942586), (3797, 0.016385529380795318), (3798, 0.025012766572904806), (3799, 0.025047266795327736), (3800, 0.029565048323871117), (3801, 0.019810602788734033), (3802, 0.02275578392337537), (3803, 0.018952421020987077), (3804, 0.0212256113352972), (3805, 0.04212127048146315), (3806, 0.022690150650548843), (3807, 0.027625641868995354), (3808, 0.018950013038879224), (3809, 0.0499930903249739), (3810, 0.017563860833147434), (3811, 0.021164804892354484), (3812, 0.013989405535257135), (3813, 0.016449871579248182), (3814, 0.015710369017323353), (3815, 0.024676618146533325), (3816, 0.011108000957591138), (3817, 0.012486000394984736), (3818, 0.07175473816500219), (3819, 0.0013954507593137498), (3820, 0.051852123005541456), (3821, 0.024227642176515622), (3822, 0.027506805762528085), (3823, 0.010602256538190117), (3824, 0.032992130198050904), (3825, 0.026968386108007957), (3826, 0.023321979942477287), (3827, 0.025760168024068344), (3828, 0.011067277095231408), (3829, 0.0058001737208296196), (3830, 0.012461546078172256), (3831, 0.014086337129682068), (3832, 0.020201556297386573), (3833, 0.023189905265473716), (3834, 0.023083765744140696), (3835, 0.02904449062790422), (3836, 0.017052480799945924), (3837, 0.03017937632553193), (3838, 0.046826963332853654), (3839, 0.012459645122920566), (3840, 0.027195706675141568), (3841, 0.016336163315864162), (3842, 0.03259829305141343), (3843, 0.015587021710420354), (3844, 0.010360327314981545), (3845, 0.007985253813815747), (3846, 0.04083364365993927), (3847, 0.017077143132111967), (3848, 0.008444153579259945), (3849, 0.0199813773081389), (3850, 0.015055180301267627), (3851, 0.0168414127446561), (3852, 0.012585029484107592), (3853, 0.013075344370571047), (3854, 0.020872480792270342), (3855, 0.0008077107650601077), (3856, 0.016051522137409503), (3857, 0.023325514540926844), (3858, 0.03546389699574314), (3859, 0.005434829879110987), (3860, 0.02288243572027451), (3861, 0.025626950930208597), (3862, 0.04015664289331526), (3863, 0.018366154536167856), (3864, 0.012951225756377766), (3865, 0.01764253130877412), (3866, 0.01748214130692823), (3867, 0.018291553760256075), (3868, 0.021485064259806168), (3869, 0.007967969750147443), (3870, 0.03125891011259655), (3871, 0.016087699398413317), (3872, 0.02160035333497704), (3873, 0.007482121651668385), (3874, 0.015607314848788616), (3875, 0.011162586722515862), (3876, 0.01334946426884634), (3877, 0.021370885826316348), (3878, 0.03954268908550977), (3879, 0.03331640612018516), (3880, 0.017180617556434893), (3881, 0.016881286760578075), (3882, 0.02473396691451695), (3883, 0.005084335004835161), (3884, 0.00945200988312548), (3885, 0.014952913328445573), (3886, 0.006083860273096436), (3887, 0.010086129753158167), (3888, 0.02011784794159846), (3889, 0.023135646214370125), (3890, 0.03519947173774065), (3891, 0.03264338323132189), (3892, 0.025743014816599605), (3893, 0.010678200243419176), (3894, 0.008458439972325925), (3895, 0.029852251911892648), (3896, 0.008058834839786465), (3897, 0.016443900942126485), (3898, 0.022773012779763725), (3899, 0.02389427058557006), (3900, 0.01492535769293677), (3901, 0.01587551879649884), (3902, 0.01925014116532668), (3903, 0.0773824781612459), (3904, 0.0205329452229253), (3905, 0.02577365509665349), (3906, 0.01601710651427714), (3907, 0.04868003631670435), (3908, 0.054245031791180634), (3909, 0.006429017214033862), (3910, 0.0225933292471421), (3911, 0.01909356553127719), (3912, 0.03298234728678728), (3913, 0.008160097484451269), (3914, 0.015371929091033416), (3915, 0.013483856214768811), (3916, 0.00943079647321798), (3917, 0.02830910107286272), (3918, 0.03157391533424118), (3919, 0.03111606532340521), (3920, 0.004852732193166688), (3921, 0.013978983120956436), (3922, 0.009413824173735182), (3923, 0.022383339897756725), (3924, 0.02708803914829996), (3925, 0.008880984947542867), (3926, 0.01689410636016004), (3927, 0.02665885325286621), (3928, 0.05066977788448235), (3929, 0.054783226889596255), (3930, 0.02287935984370024), (3931, 0.014273679330991645), (3932, 0.013733740991747586), (3933, 0.03833827379897928), (3934, 0.009038952294470276), (3935, 0.029046514440672938), (3936, 0.015674927530681212), (3937, 0.015078450228711963), (3938, 0.02288977874191992), (3939, 0.020074301865447116), (3940, 0.02169673994977603), (3941, 0.020988904001969868), (3942, 0.016015609734317947), (3943, 0.006321012684721336), (3944, 0.008665619194373433), (3945, 0.021118574893836655), (3946, 0.017963202761898292), (3947, 0.012105930354385744), (3948, 0.03121183096090902), (3949, 0.0320590612445116), (3950, 0.005874163407372399), (3951, 0.009805067092383008), (3952, 0.06266888918969464), (3953, 0.006523057974413552), (3954, 0.040017986567882455), (3955, 0.0014417564852896442), (3956, 0.021497191417101807), (3957, 0.06169744863198242), (3958, 0.00941480994962484), (3959, 0.017741731266671643), (3960, 0.021137954002246252), (3961, 0.0310025121031305), (3962, 0.020557000231514282), (3963, 0.02111294303839219), (3964, 0.009609265347077584), (3965, 0.020307987691556638), (3966, 0.01940313565278898), (3967, 0.0038760476617919486), (3968, 0.012585206816063666), (3969, 0.01159070205529568), (3970, 0.016887490852639506), (3971, 0.006343250613738711), (3972, 0.018632080358398823), (3973, 0.01963308642879159), (3974, 0.03946992532376009), (3975, 0.03657618565689934), (3976, 0.018083242036194113), (3977, 0.006543092342844052), (3978, 0.006855348075019063), (3979, 0.031391764446416906), (3980, 0.025992573058341337), (3981, 0.02367845424236948), (3982, 0.017447183029179855), (3983, 0.029232172813611408), (3984, 0.0173385336779046), (3985, 0.022888380178825697), (3986, 0.01259591595035034), (3987, 0.0052676073509403355), (3988, 0.019393790777359757), (3989, 0.05555613745626671), (3990, 0.028917134044140147), (3991, 0.029633998313140147), (3992, 0.02351879971359947), (3993, 0.017454241443759577), (3994, 0.008143465794769622), (3995, 0.028196729025119056), (3996, 0.0014291381321724376), (3997, 0.05569138278216388), (3998, 0.044517977030182156), (3999, 0.012133383005996963), (4000, 0.017831467996581314), (4001, 0.019282802364637974), (4002, 0.024559667783927947), (4003, 0.012567487152435473), (4004, 0.046057076295448085), (4005, 0.006144011935889913), (4006, 0.005408655343539859), (4007, 0.029132260762252796), (4008, 0.02695691809813386), (4009, 0.01706086650875695), (4010, 0.03184271784863375), (4011, 0.027100516495346987), (4012, 0.00451337609763716), (4013, 0.030271952349764496), (4014, 0.013633535307485387), (4015, 0.01957529816365707), (4016, 0.043883329878837266), (4017, 0.034697884890790016), (4018, 0.009706367692845047), (4019, 0.02772612608905898), (4020, 0.05219966751365317), (4021, 0.020772913151185558), (4022, 0.01356078717252604), (4023, 0.007812462564595444), (4024, 0.039637873001336074), (4025, 0.0068571787999456004), (4026, 0.022411670362606696), (4027, 0.013918951761294429), (4028, 0.02252020559787745), (4029, 0.008892027906430624), (4030, 0.01656254119101733), (4031, 0.01766033227465876), (4032, 0.03213056050568808), (4033, 0.008516172009072894), (4034, 0.02173360488065726), (4035, 0.024721553187770758), (4036, 0.030787960621161334), (4037, 0.013937617870580656), (4038, 0.007268134032398128), (4039, 0.023458150257548212), (4040, 0.03801437174791498), (4041, 0.02092141943192354), (4042, 0.023378083356348434), (4043, 0.06157986128438443), (4044, 0.01370461341855624), (4045, 0.02269884894724945), (4046, 0.11194755681573222), (4047, 0.007335675404516953), (4048, 0.01945783084661189), (4049, 0.029591554834476248), (4050, 0.013744328551809064), (4051, 0.006022633231080238), (4052, 0.01136629679300439), (4053, 0.02716586413736847), (4054, 0.018247439702896353), (4055, 0.010908584843897296), (4056, 0.008068097550266037), (4057, 0.01848370430763657), (4058, 0.007034597051640955), (4059, 0.015700681024984293), (4060, 0.010108340910788933), (4061, 0.02557827003924487), (4062, 0.014789112199313436), (4063, 0.013693733890582913), (4064, 0.018500562369542596), (4065, 0.016226219397420322), (4066, 0.051781072221163266), (4067, 0.009801966798880188), (4068, 0.012632755396205415), (4069, 0.008270304570920182), (4070, 0.005161712863064245), (4071, 0.010822738151587812), (4072, 0.03042764062139891), (4073, 0.02424687305414628), (4074, 0.02888996831680609), (4075, 0.031970126930767805), (4076, 0.011774356754273605), (4077, 0.045735196213712206), (4078, 0.025771516207536843), (4079, 0.0008691624707762738), (4080, 0.02466749025289699), (4081, 0.022151490300779748), (4082, 0.025687988403616788), (4083, 0.017314057407254762), (4084, 0.017177849127247864), (4085, 0.03084025711850001), (4086, 0.021272660184029873), (4087, 0.008220060769168093), (4088, 0.017031451923190055), (4089, 0.01469217993693133), (4090, 0.010006888606842585), (4091, 0.01200295060037596), (4092, 0.015412792509928134), (4093, 0.022266626454383202), (4094, 0.020780090928613597), (4095, 0.06010351583263002), (4096, 0.011397550253154446), (4097, 0.019094963391188647), (4098, 0.051882917539725446), (4099, 0.013273882973162076), (4100, 0.014596604207529052), (4101, 0.04068908386677959), (4102, 0.016772039556786092), (4103, 0.01830414714851014), (4104, 0.019419304808073166), (4105, 0.010920173696775889), (4106, 0.014598031548871567), (4107, 0.034961236893368136), (4108, 0.026011748665494334), (4109, 0.028582150891914744), (4110, 0.03911199093547306), (4111, 0.017751291906381198), (4112, 0.09233902867227811), (4113, 0.015706063186595256), (4114, 0.02952684109753354), (4115, 0.04045904671789515), (4116, 0.0033345916247690707), (4117, 0.010575663193814276), (4118, 0.04879826055853236), (4119, 0.006659713695012668), (4120, 0.017715866803511237), (4121, 0.03480821301192015), (4122, 0.02444259475998919), (4123, 0.03392271051028986), (4124, 0.007571886428775872), (4125, 0.017781479270060855), (4126, 0.007271140324516971), (4127, 0.040966101050532375), (4128, 0.029851594792150472), (4129, 0.02082862908939874), (4130, 0.014539635385275366), (4131, 0.021004261898042293), (4132, 0.022270411824439677), (4133, 0.021739583118926688), (4134, 0.006020268367668153), (4135, 0.015462515142178609), (4136, 0.028006279371856967), (4137, 0.03203083804380046), (4138, 0.013456211697304361), (4139, 0.01775767795882105), (4140, 0.015636793914529656), (4141, 0.001349882163171875), (4142, 0.0138390219234305), (4143, 0.013899202968589621), (4144, 0.0), (4145, 0.014448959739940117), (4146, 0.0026062695505618522), (4147, 0.03203072677107857), (4148, 0.00872815219989057), (4149, 0.007175126828181791), (4150, 0.028525936010967486), (4151, 0.03357358076706317), (4152, 0.001692811947288692), (4153, 0.08412753905230615), (4154, 0.01727838081892071), (4155, 0.014727160290162265), (4156, 0.02156324042777409), (4157, 0.004143162991069198), (4158, 0.030552235750389053), (4159, 0.035103199332638606), (4160, 0.044228628908663525), (4161, 0.011568423642367908), (4162, 0.022459915377940627), (4163, 0.013356388193908353), (4164, 0.036849892421213046), (4165, 0.012783686192025145), (4166, 0.030774593437593444), (4167, 0.009668072044822163), (4168, 0.044335807871657175), (4169, 0.013547240041699956), (4170, 0.01728146604935652), (4171, 0.03324938963376184), (4172, 0.0), (4173, 0.005362622615909437), (4174, 0.016408069148765407), (4175, 0.03094257343923026), (4176, 0.008423221959997305), (4177, 0.042280985825589916), (4178, 0.04185772864707113), (4179, 0.026858974135085464), (4180, 0.06797285413745399), (4181, 0.015324144951734031), (4182, 0.0009437010059023868), (4183, 0.021219682857728135), (4184, 0.007051915668736818), (4185, 0.003560761431669849), (4186, 0.039396926299929684), (4187, 0.017701145112391823), (4188, 0.0010869995193060853), (4189, 0.00836999220729998), (4190, 0.03453824439020687), (4191, 0.09383207126282138), (4192, 0.021024839827666408), (4193, 0.008691380320395773), (4194, 0.008235713312294765), (4195, 0.016017334908162453), (4196, 0.0244476754325036), (4197, 0.056681453882624494), (4198, 0.03743628951964503), (4199, 0.021913019642794747), (4200, 0.009446791685731438), (4201, 0.018319102070708623), (4202, 0.023935826691822565), (4203, 0.034657824060496084), (4204, 0.03686761412714492), (4205, 0.029806915382476935), (4206, 0.024609237086304647), (4207, 0.016723965831239723), (4208, 0.031544790732139616), (4209, 0.01370749976619472), (4210, 0.0166298655671202), (4211, 0.007554817372927277), (4212, 0.03200330963439296), (4213, 0.021622963482080673), (4214, 0.02553062503307219), (4215, 0.0340444679355799), (4216, 0.023232927798237733), (4217, 0.02378469042525951), (4218, 0.009494382469688641), (4219, 0.01688649711816782), (4220, 0.027367114988198906), (4221, 0.016290298512176168), (4222, 0.017584703394975507), (4223, 0.0119477584853858), (4224, 0.018499661427682577), (4225, 0.02049532868602962), (4226, 0.03949363126604205), (4227, 0.01376582358389453), (4228, 0.012374087200342818), (4229, 0.0546984993392943), (4230, 0.004336184540582273), (4231, 0.012191600695968502), (4232, 0.023371217223973274), (4233, 0.010258241242722654), (4234, 0.024577981324448897), (4235, 0.06449446206272386), (4236, 0.02175334641724133), (4237, 0.02922067812562143), (4238, 0.006508211316758666), (4239, 0.02729568665777029), (4240, 0.0129409109585433), (4241, 0.010336417082253656), (4242, 0.024948548990696928), (4243, 0.024820143507618603), (4244, 0.012452328713694335), (4245, 0.005909934409969325), (4246, 0.02341143443836766), (4247, 0.02930522307904431), (4248, 0.046188812006722695), (4249, 0.018308107773942463), (4250, 0.016699081743818768), (4251, 0.03703971336288539), (4252, 0.021451358762405982), (4253, 0.0065628992802551096), (4254, 0.019694600119021025), (4255, 0.03855692055794023), (4256, 0.004836480876468514), (4257, 0.007372474098864493), (4258, 0.04080828440690946), (4259, 0.011690418151618098), (4260, 0.011154397801612743), (4261, 0.010204760590951281), (4262, 0.02508356927522372), (4263, 0.02503964974792334), (4264, 0.026637701091822365), (4265, 0.012395455147433586), (4266, 0.01808839903321912), (4267, 0.03963692850075835), (4268, 0.01355829521828752), (4269, 0.03291528590139244), (4270, 0.02207111970343688), (4271, 0.024739468207678167), (4272, 0.024286163155749097), (4273, 0.008338807867844873), (4274, 0.0387759669487638), (4275, 0.01064649139914153), (4276, 0.013328902417449887), (4277, 0.03640245490233444), (4278, 0.04737098715818924), (4279, 0.0), (4280, 0.024481410579564482), (4281, 0.07475648774538915), (4282, 0.007846776729806465), (4283, 0.016539486656488384), (4284, 0.010328992365743035), (4285, 0.013390016533837201), (4286, 0.016513596249369975), (4287, 0.015075409642585774), (4288, 0.012213792366352255), (4289, 0.02126133567261701), (4290, 0.015734638335281305), (4291, 0.03149141054001567), (4292, 0.022918078640926983), (4293, 0.024987152715800345), (4294, 0.006655829338512473), (4295, 0.02776233295994348), (4296, 0.01615238615457939), (4297, 0.011686404532849474), (4298, 0.023306099438002124), (4299, 0.009921570784896534), (4300, 0.0209550940327813), (4301, 0.008429467933676004), (4302, 0.011347905316803178), (4303, 0.009017171576059939), (4304, 0.007828681472444463), (4305, 0.007907712761737844), (4306, 0.04221119812729353), (4307, 0.04878975289583341), (4308, 0.019456699755593776), (4309, 0.0009162633869484761), (4310, 0.014124634112255507), (4311, 0.017836043321717218), (4312, 0.01639397216014945), (4313, 0.016019355053101578), (4314, 0.03152023803294613), (4315, 0.023805300284543647), (4316, 0.010179454646724491), (4317, 0.044448912860689485), (4318, 0.028347857383712358), (4319, 0.009335797105423914), (4320, 0.024853933082820853), (4321, 0.02865107692568064), (4322, 0.008483026256248022), (4323, 0.009646736518456888), (4324, 0.01118272231605328), (4325, 0.02515728233365807), (4326, 0.048946636771805614), (4327, 0.02456410360777184), (4328, 0.028165005881823912), (4329, 0.008094493892477416), (4330, 0.03469421145472552), (4331, 0.03291499474010221), (4332, 0.02658158994823538), (4333, 0.02359670034793274), (4334, 0.018611462979894345), (4335, 0.01219434944637346), (4336, 0.038320874218856785), (4337, 0.1968109304937145), (4338, 0.017861413315766288), (4339, 0.008882220516844817), (4340, 0.02133507025489665), (4341, 0.017927127895596393), (4342, 0.02171181641879167), (4343, 0.004054658484827937), (4344, 0.10789641698125867), (4345, 0.025507152273473728), (4346, 0.02796874338932888), (4347, 0.009891215913270161), (4348, 0.007485323953681906), (4349, 0.018493392859969236), (4350, 0.027423409533545714), (4351, 0.026874758448238285), (4352, 0.03803954934243181), (4353, 0.016755922817714018), (4354, 0.03477129845980852), (4355, 0.010984361700278753), (4356, 0.03419588313699343), (4357, 0.02281522145946786), (4358, 0.024750131541379054), (4359, 0.028059213552324252), (4360, 0.016810877439784242), (4361, 0.011674427473918772), (4362, 0.01799134856145849), (4363, 0.020154686013848268), (4364, 0.013589586437970856), (4365, 0.01573665325999931), (4366, 0.013285204416469798), (4367, 0.018744586560878716), (4368, 0.014702492031722938), (4369, 0.023227501189616504), (4370, 0.02147286277751505), (4371, 0.007289203131442921), (4372, 0.02084297258835977), (4373, 0.021823969701652964), (4374, 0.028513679061553613), (4375, 0.017678879156693753), (4376, 0.017998379821047888), (4377, 0.01009596133513547), (4378, 0.027272181099095474), (4379, 0.01118392694516097), (4380, 0.025273020325621523), (4381, 0.03299952231357756), (4382, 0.013030082815477304), (4383, 0.020024524552596516), (4384, 0.020469982875757253), (4385, 0.030535248774702928), (4386, 0.03567350285631812), (4387, 0.01432040439717186), (4388, 0.02853065305765233), (4389, 0.054917227876571315), (4390, 0.014053525807232677), (4391, 0.016376360797804364), (4392, 0.060978702093128244), (4393, 0.014429596991708543), (4394, 0.015644099221871703), (4395, 0.005784718931758268), (4396, 0.014976617187061784), (4397, 0.029142020082672204), (4398, 0.019765015620225614), (4399, 0.05082868806487423), (4400, 0.02633991165151648), (4401, 0.014359478702037094), (4402, 0.01387222085125207), (4403, 0.019913825802474798), (4404, 0.03180759228352135), (4405, 0.01081970391763318), (4406, 0.094825829804325), (4407, 0.015022464707430896), (4408, 0.005990507079931812), (4409, 0.02401334016151204), (4410, 0.006806212879577106), (4411, 0.02513950474896444), (4412, 0.015639790696783108), (4413, 0.02722390018641063), (4414, 0.021379553958945988), (4415, 0.010239543564002404), (4416, 0.02814757844925704), (4417, 0.00645225482207619), (4418, 0.02202779376748106), (4419, 0.01985968947104614), (4420, 0.007979692511429978), (4421, 0.024441704163357187), (4422, 0.021365805789981096), (4423, 0.02505172108510104), (4424, 0.013163976259511295), (4425, 0.007528600333671949), (4426, 0.015326371396798728), (4427, 0.010725643967559945), (4428, 0.016773186273081622), (4429, 0.0026924621393122333), (4430, 0.028548431149802895), (4431, 0.009581694261011181), (4432, 0.02518369974001031), (4433, 0.05184714072614004), (4434, 0.009284667326560851), (4435, 0.008003373617390692), (4436, 0.0), (4437, 0.018275349514798117), (4438, 0.007529922634205987), (4439, 0.015119788274015387), (4440, 0.01418756877317312), (4441, 0.006887701751261938), (4442, 0.00948142697740213), (4443, 0.0027536584131144), (4444, 0.015186868324821233), (4445, 0.015500088810765374), (4446, 0.023557038455193156), (4447, 0.0096220512475375), (4448, 0.0163933105357587), (4449, 0.004159098558865213), (4450, 0.023226769516855095), (4451, 0.013488638327742577), (4452, 0.01853559245153668), (4453, 0.043965679410512645), (4454, 0.02093783589194393), (4455, 0.028959327026320158), (4456, 0.005438925524816875), (4457, 0.006381704430014397), (4458, 0.009290052790079146), (4459, 0.007122753836063701), (4460, 0.024540044695573266), (4461, 0.014677799764653977), (4462, 0.02272750189273393), (4463, 0.0), (4464, 0.021353975248132085), (4465, 0.01218153342408439), (4466, 0.010441187382026478), (4467, 0.008257512841896837), (4468, 0.020027726953367932), (4469, 0.008958078798577565), (4470, 0.06482127750960458), (4471, 0.031610587428701806), (4472, 0.009706806566462771), (4473, 0.029583165896620522), (4474, 0.022277990988780017), (4475, 0.04789249709891996), (4476, 0.009519537448921747), (4477, 0.019064756267163096), (4478, 0.019561214558551254), (4479, 0.011938409624290498), (4480, 0.012858460303842014), (4481, 0.005921744545713046), (4482, 0.016232605870189133), (4483, 0.018857344515310712), (4484, 0.02411924859295965), (4485, 0.01713397167094384), (4486, 0.03505454779072801), (4487, 0.04680393380369139), (4488, 0.015901790152562077), (4489, 0.011867997308681079), (4490, 0.01688278379981495), (4491, 0.029472630070472697), (4492, 0.032419512631248676), (4493, 0.018552701995315016), (4494, 0.033230250738663224), (4495, 0.023387157507053162), (4496, 0.006184498628882147), (4497, 0.013625389070700912), (4498, 0.005704279790200253), (4499, 0.014438045022399908), (4500, 0.01006676207950351), (4501, 0.007771538376535175), (4502, 0.02559261384653623), (4503, 0.011323207871735184), (4504, 0.02070004647499707), (4505, 0.012215817644195173), (4506, 0.029168586706547695), (4507, 0.027126154723134534), (4508, 0.030763009390564318), (4509, 0.015158360899432946), (4510, 0.01888301929212064), (4511, 0.009140428865047493), (4512, 0.03891487152617488), (4513, 0.012346235970060957), (4514, 0.04971834888901927), (4515, 0.03531823488906039), (4516, 0.029813239497499634), (4517, 0.004233468665092945), (4518, 0.009838005456487095), (4519, 0.0029505300983038727), (4520, 0.015052444078625589), (4521, 0.020966098284799967), (4522, 0.021010701818933875), (4523, 0.006652029138143291), (4524, 0.02111516103579321), (4525, 0.01943918548735979), (4526, 0.01731665708945549), (4527, 0.03277759346185125), (4528, 0.015083427449024418), (4529, 0.033190100758001696), (4530, 0.01174367938193089), (4531, 0.020302791814233515), (4532, 0.029057223330443444), (4533, 0.014429429366977971), (4534, 0.022248785506161613), (4535, 0.018823247492570368), (4536, 0.017996954374024966), (4537, 0.028075237646178718), (4538, 0.018862620105474494), (4539, 0.008603585309665327), (4540, 0.035229890106018), (4541, 0.009551010232802817), (4542, 0.010735364303623363), (4543, 0.01801174263675221), (4544, 0.015438609223613288), (4545, 0.017842486825004025), (4546, 0.0033831514143969096), (4547, 0.08230994782299705), (4548, 0.018342644982046345), (4549, 0.014584638306656758), (4550, 0.006582111319024332), (4551, 0.01807130888498889), (4552, 0.005387899278958833), (4553, 0.0030611655272210964), (4554, 0.02430895857068271), (4555, 0.02623575044529858), (4556, 0.015115228277611262), (4557, 0.02769545107639972), (4558, 0.024296894042273552), (4559, 0.012783213924448573), (4560, 0.04110998050976315), (4561, 0.03750166816720814), (4562, 0.037023329030861876), (4563, 0.0255145144895305), (4564, 0.006334382671640578), (4565, 0.0075761591852471655), (4566, 0.020999509550760995), (4567, 0.032963986931114485), (4568, 0.02562295737189762), (4569, 0.013549777017845566), (4570, 0.02238878753065755), (4571, 0.0169177823055628), (4572, 0.02177344796180151), (4573, 0.0016247475271124287), (4574, 0.00962044640935149), (4575, 0.012121821826120753), (4576, 0.01859219525445433), (4577, 0.017600063265300787), (4578, 0.015756917255976815), (4579, 0.014468696205081354), (4580, 0.006379781732597115), (4581, 0.01544850095353578), (4582, 0.00926597010211335), (4583, 0.010799559159496843), (4584, 0.027448956505529695), (4585, 0.008979032349720624), (4586, 0.02122447235827731), (4587, 0.00509980001575154), (4588, 0.03269540910900094), (4589, 0.03650651042686753), (4590, 0.01592404565639143), (4591, 0.02418327235428098), (4592, 0.03417678759296171), (4593, 0.020076682220655076), (4594, 0.022219813599590854), (4595, 0.01817272308095164), (4596, 0.03279225979432803), (4597, 0.008076434742768354), (4598, 0.09917255364579913), (4599, 0.04116871022577027), (4600, 0.02003172363359053), (4601, 0.005915184807522502), (4602, 0.04488467511854892), (4603, 0.00573474953595062), (4604, 0.0706026020845747), (4605, 0.006452047025399359), (4606, 0.025805685996942555), (4607, 0.03125660002944606), (4608, 0.012580663431091387), (4609, 0.02538628303447405), (4610, 0.025750457767140342), (4611, 0.009600521407158424), (4612, 0.01511431335637371), (4613, 0.05654211997091789), (4614, 0.012093629858558021), (4615, 0.01741008471998287), (4616, 0.0136400188991549), (4617, 0.0016318206786293606), (4618, 0.01798178173741005), (4619, 0.01022430260614397), (4620, 0.02274194700807495), (4621, 0.006620806818254648), (4622, 0.0431269992205467), (4623, 0.003973413002897847), (4624, 0.004384231830248481), (4625, 0.032171315119017316), (4626, 0.03291236681514417), (4627, 0.012564334663279698), (4628, 0.03218977680174931), (4629, 0.018958291800879056), (4630, 0.011911551162850252), (4631, 0.021568581179757455), (4632, 0.025687684747170723), (4633, 0.01226783651374653), (4634, 0.02225109714037839), (4635, 0.035979408135713), (4636, 0.015619927046889024), (4637, 0.027691756354867335), (4638, 0.029677365474671556), (4639, 0.014663015153621292), (4640, 0.030869260323420668), (4641, 0.009099603236768557), (4642, 0.0744069862381379), (4643, 0.008696357776235886), (4644, 0.012753315504897361), (4645, 0.021255334991326234), (4646, 0.0171241578734467), (4647, 0.01404999520111264), (4648, 0.01250823096812966), (4649, 0.054617386276310124), (4650, 0.02651027855225225), (4651, 0.0305397496968814), (4652, 0.05739714767350598), (4653, 0.009402950379066124), (4654, 0.03087002037121564), (4655, 0.010378039724836221), (4656, 0.031141380347523742), (4657, 0.027346139877194028), (4658, 0.037755324062221846), (4659, 0.05614647806674832), (4660, 0.017916467416848835), (4661, 0.024569584702992413), (4662, 0.013058241429581764), (4663, 0.03175914604764957), (4664, 0.018650795989816858), (4665, 0.020648610764444422), (4666, 0.07955529111042525), (4667, 0.016779923888579483), (4668, 0.019263648503975106), (4669, 0.020348722599032584), (4670, 0.03763757808928122), (4671, 0.024124982440720304), (4672, 0.021026888926119078), (4673, 0.016793011791862725), (4674, 0.023455797327684328), (4675, 0.04296672340612005), (4676, 0.028203634235057132), (4677, 0.041655735327493275), (4678, 0.017285415995571356), (4679, 0.01799379178478004), (4680, 0.05063552868095648), (4681, 0.00840009600868446), (4682, 0.023763318229738806), (4683, 0.014393173907125124), (4684, 0.0321480686504267), (4685, 0.007915884483472684), (4686, 0.007477331015748765), (4687, 0.025926343667596215), (4688, 0.011619863775066203), (4689, 0.015029335086054434), (4690, 0.026008154408304295), (4691, 0.02061019463697071), (4692, 0.016000021947964155), (4693, 0.06889398051472476), (4694, 0.020912042850471418), (4695, 0.019227261664087624), (4696, 0.06095015887652266), (4697, 0.04832446369170505), (4698, 0.03191569448141193), (4699, 0.01441391441923311), (4700, 0.005203490904783862), (4701, 0.02811324761528118), (4702, 0.011267339272920947), (4703, 0.01678740144735198), (4704, 0.022906838178166605), (4705, 0.03769127351170255), (4706, 0.028928546275365265), (4707, 0.009205725301562773), (4708, 0.026015013077088093), (4709, 0.025048662502288252), (4710, 0.0007946544598086441), (4711, 0.01407701030332572), (4712, 0.012520689783635101), (4713, 0.029913149139000443), (4714, 0.013757605612664465), (4715, 0.04274325737080544), (4716, 0.016463504495379765), (4717, 0.0035505006698739973), (4718, 0.010996131042343423), (4719, 0.008146914921193635), (4720, 0.028350610733437368), (4721, 0.02945882043519319), (4722, 0.010469751533592713), (4723, 0.017982897541816763), (4724, 0.023343118249687), (4725, 0.007214350834715817), (4726, 0.00950536005436235), (4727, 0.019284075192923526), (4728, 0.011945027555655312), (4729, 0.025528482898084744), (4730, 0.011808968026203216), (4731, 0.03119145146635953), (4732, 0.022713374960486452), (4733, 0.05299673098515218), (4734, 0.01223955998641722), (4735, 0.009591865635404586), (4736, 0.032550660520020425), (4737, 0.025400391585290363), (4738, 0.023939611409152257), (4739, 0.02357622720899238), (4740, 0.027102890207375), (4741, 0.022033974487766842), (4742, 0.031042390675114658), (4743, 0.02421332183994738), (4744, 0.016482408657627325), (4745, 0.01848006654089221), (4746, 0.020642792309369197), (4747, 0.00799342552367891), (4748, 0.011133607875830193), (4749, 0.010370719362414514), (4750, 0.016199573790474164), (4751, 0.008352026057495696), (4752, 0.0012789628941919104), (4753, 0.022364070563124578), (4754, 0.02649442303136235), (4755, 0.006498474683257415), (4756, 0.02557740723668201), (4757, 0.013038485165619645), (4758, 0.006127510687149596), (4759, 0.03143144147914669), (4760, 0.014394399286933125), (4761, 0.016982490661999933), (4762, 0.030111989207549414), (4763, 0.021379393039864122), (4764, 0.019993461370389643), (4765, 0.02866378814662963), (4766, 0.010883524532220419), (4767, 0.006412092367630816), (4768, 0.025642440638649004), (4769, 0.03890161271318347), (4770, 0.00874394483204101), (4771, 0.0045203904093908), (4772, 0.015199800847490024), (4773, 0.03222207826337959), (4774, 0.016219752116368655), (4775, 0.014243543446356862), (4776, 0.013060595528160291), (4777, 0.028835973203505054), (4778, 0.02421576588299782), (4779, 0.058574936860711274), (4780, 0.005740813213809246), (4781, 0.0191567491761512), (4782, 0.037466249876904625), (4783, 0.02792507454695411), (4784, 0.03879508268833971), (4785, 0.004991354579021729), (4786, 0.02409688322728884), (4787, 0.01943358990057961), (4788, 0.03141090956561346), (4789, 0.026777636585199358), (4790, 0.013683825161061258), (4791, 0.047793392732314574), (4792, 0.02732848134542531), (4793, 0.02010380096228277), (4794, 0.004161191048052062), (4795, 0.020791531889291653), (4796, 0.01267573386248523), (4797, 0.022707072006132565), (4798, 0.008122061810721538), (4799, 0.0090694378415198), (4800, 0.034541341263785094), (4801, 0.04324566237332364), (4802, 0.017728524718690575), (4803, 0.01722691391882697), (4804, 0.010342081916306723), (4805, 0.028998171070457823), (4806, 0.03200856812488226), (4807, 0.006186132347335731)]\n"
     ]
    }
   ],
   "source": [
    "distances=list(enumerate(similarity[movie_index]))\n",
    "print(distances)"
   ]
  },
  {
   "cell_type": "code",
   "execution_count": 64,
   "id": "c2b4e06e",
   "metadata": {},
   "outputs": [
    {
     "data": {
      "text/plain": [
       "4808"
      ]
     },
     "execution_count": 64,
     "metadata": {},
     "output_type": "execute_result"
    }
   ],
   "source": [
    "len(distances)"
   ]
  },
  {
   "cell_type": "code",
   "execution_count": 65,
   "id": "92e1814c",
   "metadata": {},
   "outputs": [
    {
     "name": "stdout",
     "output_type": "stream",
     "text": [
      "[(0, 1.0), (2405, 0.298286479375499), (838, 0.26007073129322567), (1533, 0.25683290584515206), (3161, 0.25677081078447567), (373, 0.23662033491820716), (305, 0.21637005152919425), (2017, 0.21195787942991143), (1916, 0.20927570994155137), (582, 0.2043721701436613), (2200, 0.20216612288554656), (47, 0.20110588499159232), (278, 0.19736873843751268), (4337, 0.1968109304937145), (1353, 0.1851234805938857), (2969, 0.18416284678233388), (4, 0.1826120245744528), (149, 0.18171949121081116), (3735, 0.18080295432849464), (541, 0.18076639926425908)]\n"
     ]
    }
   ],
   "source": [
    "sorted_similar_movies=sorted(distances,reverse=True,key=lambda x:x[1])[:20]\n",
    "print(sorted_similar_movies)"
   ]
  },
  {
   "cell_type": "code",
   "execution_count": 66,
   "id": "06efaf5e",
   "metadata": {},
   "outputs": [
    {
     "name": "stdout",
     "output_type": "stream",
     "text": [
      "movies suggested for you: \n",
      "\n",
      "1  . Avatar\n",
      "2  . Aliens\n",
      "3  . Alien³\n",
      "4  . Moonraker\n",
      "5  . Alien\n",
      "6  . Mission to Mars\n",
      "7  . Treasure Planet\n",
      "8  . Spaceballs\n",
      "9  . Lifeforce\n",
      "10 . Battle: Los Angeles\n",
      "11 . Lockout\n",
      "12 . Star Trek Into Darkness\n",
      "13 . Planet of the Apes\n",
      "14 . Silent Running\n",
      "15 . Gattaca\n",
      "16 . 2001: A Space Odyssey\n",
      "17 . John Carter\n",
      "18 . Armageddon\n",
      "19 . Cargo\n",
      "20 . Soldier\n"
     ]
    }
   ],
   "source": [
    "print('movies suggested for you: \\n')\n",
    "i=1\n",
    "for movie in sorted_similar_movies:\n",
    "    index=movie[0]\n",
    "    movie_title=new_df[new_df.index==index]['title'].values[0]\n",
    "    if i<10:\n",
    "        print(i,\" .\",movie_title)\n",
    "    else:\n",
    "        print(i,\".\",movie_title)\n",
    "    i+=1"
   ]
  },
  {
   "cell_type": "code",
   "execution_count": 74,
   "id": "d2d2b4d0",
   "metadata": {},
   "outputs": [
    {
     "name": "stdout",
     "output_type": "stream",
     "text": [
      "Enter a movie name: superman\n",
      "superman\n",
      "movies suggested for you: \n",
      "\n",
      "1  . Superman\n",
      "2  . Superman IV: The Quest for Peace\n",
      "3  . Superman II\n",
      "4  . Superman Returns\n",
      "5  . Superman III\n",
      "6  . Man of Steel\n",
      "7  . Batman v Superman: Dawn of Justice\n",
      "8  . X-Men: Apocalypse\n",
      "9  . X-Men\n",
      "10 . X-Men: First Class\n",
      "11 . X-Men: Days of Future Past\n",
      "12 . The Dark Knight\n",
      "13 . Batman Begins\n",
      "14 . Suicide Squad\n",
      "15 . Iron Man 2\n",
      "16 . Batman\n",
      "17 . Batman\n",
      "18 . Spider-Man 2\n",
      "19 . The Wolverine\n",
      "20 . Batman\n"
     ]
    }
   ],
   "source": [
    "movie_name=input(\"Enter a movie name: \").strip().lower()\n",
    "\n",
    "close_match=difflib.get_close_matches(movie_name,list_of_all_titles)\n",
    "\n",
    "match=close_match[0]\n",
    "print(match)\n",
    "\n",
    "movie_index=new_df[new_df['title'].str.lower()==match].index[0]\n",
    "\n",
    "distances=list(enumerate(similarity[movie_index]))\n",
    "\n",
    "sorted_similar_movies=sorted(distances,reverse=True,key=lambda x:x[1])[:20]\n",
    "\n",
    "print('movies suggested for you: \\n')\n",
    "i=1\n",
    "for movie in sorted_similar_movies:\n",
    "    index=movie[0]\n",
    "    movie_title=new_df[new_df.index==index]['title'].values[0]\n",
    "    if i<10:\n",
    "        print(i,\" .\",movie_title)\n",
    "    else:\n",
    "        print(i,\".\",movie_title)\n",
    "    i+=1"
   ]
  },
  {
   "cell_type": "code",
   "execution_count": null,
   "id": "46feb8f3",
   "metadata": {},
   "outputs": [],
   "source": []
  }
 ],
 "metadata": {
  "kernelspec": {
   "display_name": "Python 3 (ipykernel)",
   "language": "python",
   "name": "python3"
  },
  "language_info": {
   "codemirror_mode": {
    "name": "ipython",
    "version": 3
   },
   "file_extension": ".py",
   "mimetype": "text/x-python",
   "name": "python",
   "nbconvert_exporter": "python",
   "pygments_lexer": "ipython3",
   "version": "3.11.4"
  }
 },
 "nbformat": 4,
 "nbformat_minor": 5
}
