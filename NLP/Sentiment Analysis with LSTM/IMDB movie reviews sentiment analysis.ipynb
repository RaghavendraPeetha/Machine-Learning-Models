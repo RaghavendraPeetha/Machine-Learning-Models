{
 "cells": [
  {
   "cell_type": "code",
   "execution_count": 5,
   "metadata": {
    "colab": {
     "base_uri": "https://localhost:8080/"
    },
    "executionInfo": {
     "elapsed": 2724,
     "status": "ok",
     "timestamp": 1733822684623,
     "user": {
      "displayName": "peetha raghavendra",
      "userId": "14355396802304380505"
     },
     "user_tz": -330
    },
    "id": "3BvZK0XqmuB9",
    "outputId": "96c1d5be-822f-4962-8bb0-d38f362342e9",
    "scrolled": false
   },
   "outputs": [
    {
     "name": "stdout",
     "output_type": "stream",
     "text": [
      "Requirement already satisfied: kaggle in c:\\users\\hp\\anaconda3\\lib\\site-packages (1.6.17)\n",
      "Requirement already satisfied: six>=1.10 in c:\\users\\hp\\anaconda3\\lib\\site-packages (from kaggle) (1.16.0)\n",
      "Requirement already satisfied: certifi>=2023.7.22 in c:\\users\\hp\\anaconda3\\lib\\site-packages (from kaggle) (2023.7.22)\n",
      "Requirement already satisfied: python-dateutil in c:\\users\\hp\\anaconda3\\lib\\site-packages (from kaggle) (2.8.2)\n",
      "Requirement already satisfied: requests in c:\\users\\hp\\anaconda3\\lib\\site-packages (from kaggle) (2.31.0)\n",
      "Requirement already satisfied: tqdm in c:\\users\\hp\\anaconda3\\lib\\site-packages (from kaggle) (4.65.0)\n",
      "Requirement already satisfied: python-slugify in c:\\users\\hp\\anaconda3\\lib\\site-packages (from kaggle) (5.0.2)\n",
      "Requirement already satisfied: urllib3 in c:\\users\\hp\\anaconda3\\lib\\site-packages (from kaggle) (2.3.0)\n",
      "Requirement already satisfied: bleach in c:\\users\\hp\\anaconda3\\lib\\site-packages (from kaggle) (4.1.0)\n",
      "Requirement already satisfied: packaging in c:\\users\\hp\\anaconda3\\lib\\site-packages (from bleach->kaggle) (23.0)\n",
      "Requirement already satisfied: webencodings in c:\\users\\hp\\anaconda3\\lib\\site-packages (from bleach->kaggle) (0.5.1)\n",
      "Requirement already satisfied: text-unidecode>=1.3 in c:\\users\\hp\\anaconda3\\lib\\site-packages (from python-slugify->kaggle) (1.3)\n",
      "Requirement already satisfied: charset-normalizer<4,>=2 in c:\\users\\hp\\anaconda3\\lib\\site-packages (from requests->kaggle) (2.0.4)\n",
      "Requirement already satisfied: idna<4,>=2.5 in c:\\users\\hp\\anaconda3\\lib\\site-packages (from requests->kaggle) (3.4)\n",
      "Requirement already satisfied: colorama in c:\\users\\hp\\anaconda3\\lib\\site-packages (from tqdm->kaggle) (0.4.6)\n"
     ]
    }
   ],
   "source": [
    "!pip install kaggle"
   ]
  },
  {
   "cell_type": "code",
   "execution_count": 6,
   "metadata": {
    "executionInfo": {
     "elapsed": 9,
     "status": "ok",
     "timestamp": 1733822684624,
     "user": {
      "displayName": "peetha raghavendra",
      "userId": "14355396802304380505"
     },
     "user_tz": -330
    },
    "id": "0tCXTys0m9E7"
   },
   "outputs": [],
   "source": [
    "import os\n",
    "import json"
   ]
  },
  {
   "cell_type": "code",
   "execution_count": 7,
   "metadata": {
    "executionInfo": {
     "elapsed": 8,
     "status": "ok",
     "timestamp": 1733822684624,
     "user": {
      "displayName": "peetha raghavendra",
      "userId": "14355396802304380505"
     },
     "user_tz": -330
    },
    "id": "n2HP_7CPqXue"
   },
   "outputs": [],
   "source": [
    "kaggle_dictionary=json.load(open(\"kaggle.json\"))"
   ]
  },
  {
   "cell_type": "code",
   "execution_count": 8,
   "metadata": {},
   "outputs": [
    {
     "data": {
      "text/plain": [
       "dict_keys(['username', 'key'])"
      ]
     },
     "execution_count": 8,
     "metadata": {},
     "output_type": "execute_result"
    }
   ],
   "source": [
    "kaggle_dictionary.keys()"
   ]
  },
  {
   "cell_type": "code",
   "execution_count": 9,
   "metadata": {
    "executionInfo": {
     "elapsed": 8,
     "status": "ok",
     "timestamp": 1733822684624,
     "user": {
      "displayName": "peetha raghavendra",
      "userId": "14355396802304380505"
     },
     "user_tz": -330
    },
    "id": "z-TspSfzr4Jo"
   },
   "outputs": [],
   "source": [
    "os.environ[\"KAGGLE_USERNAME\"]=kaggle_dictionary[\"username\"]\n",
    "os.environ[\"KAGGLE_KEY\"]=kaggle_dictionary[\"key\"]"
   ]
  },
  {
   "cell_type": "code",
   "execution_count": 10,
   "metadata": {
    "colab": {
     "base_uri": "https://localhost:8080/"
    },
    "executionInfo": {
     "elapsed": 1025,
     "status": "ok",
     "timestamp": 1733822685641,
     "user": {
      "displayName": "peetha raghavendra",
      "userId": "14355396802304380505"
     },
     "user_tz": -330
    },
    "id": "FidpbCIPsil7",
    "outputId": "b52cbcfa-335d-4e75-8373-6822ab0e4987"
   },
   "outputs": [
    {
     "name": "stdout",
     "output_type": "stream",
     "text": [
      "Dataset URL: https://www.kaggle.com/datasets/lakshmi25npathi/imdb-dataset-of-50k-movie-reviews\n",
      "License(s): other\n",
      "Downloading imdb-dataset-of-50k-movie-reviews.zip to C:\\Users\\HP\\ML models\\Sentiment Analysis with LSTM\n",
      "\n"
     ]
    },
    {
     "name": "stderr",
     "output_type": "stream",
     "text": [
      "\n",
      "  0%|          | 0.00/25.7M [00:00<?, ?B/s]\n",
      "  4%|3         | 1.00M/25.7M [00:00<00:14, 1.77MB/s]\n",
      "  8%|7         | 2.00M/25.7M [00:00<00:08, 2.82MB/s]\n",
      " 12%|#1        | 3.00M/25.7M [00:00<00:06, 3.83MB/s]\n",
      " 19%|#9        | 5.00M/25.7M [00:01<00:04, 5.19MB/s]\n",
      " 23%|##3       | 6.00M/25.7M [00:01<00:03, 5.74MB/s]\n",
      " 27%|##7       | 7.00M/25.7M [00:01<00:03, 5.92MB/s]\n",
      " 31%|###1      | 8.00M/25.7M [00:01<00:03, 6.06MB/s]\n",
      " 35%|###5      | 9.00M/25.7M [00:01<00:02, 6.16MB/s]\n",
      " 39%|###8      | 10.0M/25.7M [00:02<00:02, 6.24MB/s]\n",
      " 43%|####2     | 11.0M/25.7M [00:02<00:02, 6.30MB/s]\n",
      " 47%|####6     | 12.0M/25.7M [00:02<00:02, 6.28MB/s]\n",
      " 51%|#####     | 13.0M/25.7M [00:02<00:02, 6.40MB/s]\n",
      " 54%|#####4    | 14.0M/25.7M [00:02<00:01, 6.48MB/s]\n",
      " 58%|#####8    | 15.0M/25.7M [00:02<00:01, 5.62MB/s]\n",
      " 62%|######2   | 16.0M/25.7M [00:03<00:02, 4.31MB/s]\n",
      " 66%|######6   | 17.0M/25.7M [00:03<00:02, 4.16MB/s]\n",
      " 70%|#######   | 18.0M/25.7M [00:03<00:01, 4.07MB/s]\n",
      " 74%|#######3  | 19.0M/25.7M [00:04<00:01, 3.81MB/s]\n",
      " 78%|#######7  | 20.0M/25.7M [00:04<00:01, 3.74MB/s]\n",
      " 82%|########1 | 21.0M/25.7M [00:04<00:01, 3.69MB/s]\n",
      " 86%|########5 | 22.0M/25.7M [00:04<00:00, 4.14MB/s]\n",
      " 89%|########9 | 23.0M/25.7M [00:05<00:00, 4.47MB/s]\n",
      " 93%|#########3| 24.0M/25.7M [00:05<00:00, 4.47MB/s]\n",
      " 97%|#########7| 25.0M/25.7M [00:05<00:00, 4.34MB/s]\n",
      "100%|##########| 25.7M/25.7M [00:05<00:00, 4.29MB/s]\n",
      "100%|##########| 25.7M/25.7M [00:05<00:00, 4.64MB/s]\n"
     ]
    }
   ],
   "source": [
    "!kaggle datasets download lakshmi25npathi/imdb-dataset-of-50k-movie-reviews"
   ]
  },
  {
   "cell_type": "code",
   "execution_count": 11,
   "metadata": {
    "colab": {
     "base_uri": "https://localhost:8080/"
    },
    "executionInfo": {
     "elapsed": 7,
     "status": "ok",
     "timestamp": 1733822685641,
     "user": {
      "displayName": "peetha raghavendra",
      "userId": "14355396802304380505"
     },
     "user_tz": -330
    },
    "id": "DU5rWS90tIQw",
    "outputId": "6ede9a7e-c1ab-46ab-b719-1a8d33e9b409"
   },
   "outputs": [
    {
     "name": "stdout",
     "output_type": "stream",
     "text": [
      " Volume in drive C is Windows\n",
      " Volume Serial Number is 3253-6492\n",
      "\n",
      " Directory of C:\\Users\\HP\\ML models\\Sentiment Analysis with LSTM\n",
      "\n",
      "19-01-2025  14:34    <DIR>          .\n",
      "17-01-2025  13:45    <DIR>          ..\n",
      "17-01-2025  13:46    <DIR>          .ipynb_checkpoints\n",
      "19-01-2025  14:33            71,997 IMDB movie reviews sentiment analysis.ipynb\n",
      "19-10-2019  19:25        26,962,657 imdb-dataset-of-50k-movie-reviews.zip\n",
      "17-01-2025  14:00                73 kaggle.json\n",
      "               3 File(s)     27,034,727 bytes\n",
      "               3 Dir(s)  117,271,592,960 bytes free\n"
     ]
    }
   ],
   "source": [
    "ls"
   ]
  },
  {
   "cell_type": "code",
   "execution_count": 12,
   "metadata": {},
   "outputs": [],
   "source": [
    "from zipfile import ZipFile"
   ]
  },
  {
   "cell_type": "code",
   "execution_count": 13,
   "metadata": {
    "executionInfo": {
     "elapsed": 1120,
     "status": "ok",
     "timestamp": 1733822686756,
     "user": {
      "displayName": "peetha raghavendra",
      "userId": "14355396802304380505"
     },
     "user_tz": -330
    },
    "id": "ezXQ6ivJtvLf"
   },
   "outputs": [],
   "source": [
    "with ZipFile(\"imdb-dataset-of-50k-movie-reviews.zip\",\"r\") as zip_ref:\n",
    "  zip_ref.extractall()"
   ]
  },
  {
   "cell_type": "code",
   "execution_count": 14,
   "metadata": {
    "colab": {
     "base_uri": "https://localhost:8080/"
    },
    "executionInfo": {
     "elapsed": 7,
     "status": "ok",
     "timestamp": 1733822686756,
     "user": {
      "displayName": "peetha raghavendra",
      "userId": "14355396802304380505"
     },
     "user_tz": -330
    },
    "id": "v4YesXFnuNuZ",
    "outputId": "7fcea8cd-7a61-4f1e-d288-9ba1a32c64c9"
   },
   "outputs": [
    {
     "name": "stdout",
     "output_type": "stream",
     "text": [
      " Volume in drive C is Windows\n",
      " Volume Serial Number is 3253-6492\n",
      "\n",
      " Directory of C:\\Users\\HP\\ML models\\Sentiment Analysis with LSTM\n",
      "\n",
      "19-01-2025  14:34    <DIR>          .\n",
      "17-01-2025  13:45    <DIR>          ..\n",
      "17-01-2025  13:46    <DIR>          .ipynb_checkpoints\n",
      "19-01-2025  14:34        66,212,309 IMDB Dataset.csv\n",
      "19-01-2025  14:33            71,997 IMDB movie reviews sentiment analysis.ipynb\n",
      "19-10-2019  19:25        26,962,657 imdb-dataset-of-50k-movie-reviews.zip\n",
      "17-01-2025  14:00                73 kaggle.json\n",
      "               4 File(s)     93,247,036 bytes\n",
      "               3 Dir(s)  117,205,372,928 bytes free\n"
     ]
    }
   ],
   "source": [
    "ls"
   ]
  },
  {
   "cell_type": "code",
   "execution_count": 15,
   "metadata": {
    "scrolled": false
   },
   "outputs": [],
   "source": [
    "import pandas as pd"
   ]
  },
  {
   "cell_type": "code",
   "execution_count": 16,
   "metadata": {
    "executionInfo": {
     "elapsed": 1042,
     "status": "ok",
     "timestamp": 1733822687793,
     "user": {
      "displayName": "peetha raghavendra",
      "userId": "14355396802304380505"
     },
     "user_tz": -330
    },
    "id": "0YkG9WLNuR4x"
   },
   "outputs": [],
   "source": [
    "data=pd.read_csv(\"IMDB Dataset.csv\")"
   ]
  },
  {
   "cell_type": "code",
   "execution_count": 17,
   "metadata": {
    "colab": {
     "base_uri": "https://localhost:8080/"
    },
    "executionInfo": {
     "elapsed": 7,
     "status": "ok",
     "timestamp": 1733822687793,
     "user": {
      "displayName": "peetha raghavendra",
      "userId": "14355396802304380505"
     },
     "user_tz": -330
    },
    "id": "tLsesCR_uu-R",
    "outputId": "256281cb-3e29-4430-b961-6643cb84c51b"
   },
   "outputs": [
    {
     "data": {
      "text/plain": [
       "(50000, 2)"
      ]
     },
     "execution_count": 17,
     "metadata": {},
     "output_type": "execute_result"
    }
   ],
   "source": [
    "data.shape"
   ]
  },
  {
   "cell_type": "code",
   "execution_count": 18,
   "metadata": {
    "colab": {
     "base_uri": "https://localhost:8080/",
     "height": 206
    },
    "executionInfo": {
     "elapsed": 1142,
     "status": "ok",
     "timestamp": 1733822688930,
     "user": {
      "displayName": "peetha raghavendra",
      "userId": "14355396802304380505"
     },
     "user_tz": -330
    },
    "id": "WSZX4h3iuwha",
    "outputId": "d801bb55-ade8-425e-a26b-9bd4aa03f524"
   },
   "outputs": [
    {
     "data": {
      "text/html": [
       "<div>\n",
       "<style scoped>\n",
       "    .dataframe tbody tr th:only-of-type {\n",
       "        vertical-align: middle;\n",
       "    }\n",
       "\n",
       "    .dataframe tbody tr th {\n",
       "        vertical-align: top;\n",
       "    }\n",
       "\n",
       "    .dataframe thead th {\n",
       "        text-align: right;\n",
       "    }\n",
       "</style>\n",
       "<table border=\"1\" class=\"dataframe\">\n",
       "  <thead>\n",
       "    <tr style=\"text-align: right;\">\n",
       "      <th></th>\n",
       "      <th>review</th>\n",
       "      <th>sentiment</th>\n",
       "    </tr>\n",
       "  </thead>\n",
       "  <tbody>\n",
       "    <tr>\n",
       "      <th>0</th>\n",
       "      <td>One of the other reviewers has mentioned that ...</td>\n",
       "      <td>positive</td>\n",
       "    </tr>\n",
       "    <tr>\n",
       "      <th>1</th>\n",
       "      <td>A wonderful little production. &lt;br /&gt;&lt;br /&gt;The...</td>\n",
       "      <td>positive</td>\n",
       "    </tr>\n",
       "    <tr>\n",
       "      <th>2</th>\n",
       "      <td>I thought this was a wonderful way to spend ti...</td>\n",
       "      <td>positive</td>\n",
       "    </tr>\n",
       "    <tr>\n",
       "      <th>3</th>\n",
       "      <td>Basically there's a family where a little boy ...</td>\n",
       "      <td>negative</td>\n",
       "    </tr>\n",
       "    <tr>\n",
       "      <th>4</th>\n",
       "      <td>Petter Mattei's \"Love in the Time of Money\" is...</td>\n",
       "      <td>positive</td>\n",
       "    </tr>\n",
       "  </tbody>\n",
       "</table>\n",
       "</div>"
      ],
      "text/plain": [
       "                                              review sentiment\n",
       "0  One of the other reviewers has mentioned that ...  positive\n",
       "1  A wonderful little production. <br /><br />The...  positive\n",
       "2  I thought this was a wonderful way to spend ti...  positive\n",
       "3  Basically there's a family where a little boy ...  negative\n",
       "4  Petter Mattei's \"Love in the Time of Money\" is...  positive"
      ]
     },
     "execution_count": 18,
     "metadata": {},
     "output_type": "execute_result"
    }
   ],
   "source": [
    "data.head()"
   ]
  },
  {
   "cell_type": "code",
   "execution_count": 19,
   "metadata": {
    "colab": {
     "base_uri": "https://localhost:8080/",
     "height": 206
    },
    "executionInfo": {
     "elapsed": 20,
     "status": "ok",
     "timestamp": 1733822688930,
     "user": {
      "displayName": "peetha raghavendra",
      "userId": "14355396802304380505"
     },
     "user_tz": -330
    },
    "id": "ufWuXEujuyDx",
    "outputId": "5eb8f73d-e17b-4426-80e1-9dbcd5414ab5"
   },
   "outputs": [
    {
     "data": {
      "text/html": [
       "<div>\n",
       "<style scoped>\n",
       "    .dataframe tbody tr th:only-of-type {\n",
       "        vertical-align: middle;\n",
       "    }\n",
       "\n",
       "    .dataframe tbody tr th {\n",
       "        vertical-align: top;\n",
       "    }\n",
       "\n",
       "    .dataframe thead th {\n",
       "        text-align: right;\n",
       "    }\n",
       "</style>\n",
       "<table border=\"1\" class=\"dataframe\">\n",
       "  <thead>\n",
       "    <tr style=\"text-align: right;\">\n",
       "      <th></th>\n",
       "      <th>review</th>\n",
       "      <th>sentiment</th>\n",
       "    </tr>\n",
       "  </thead>\n",
       "  <tbody>\n",
       "    <tr>\n",
       "      <th>49995</th>\n",
       "      <td>I thought this movie did a down right good job...</td>\n",
       "      <td>positive</td>\n",
       "    </tr>\n",
       "    <tr>\n",
       "      <th>49996</th>\n",
       "      <td>Bad plot, bad dialogue, bad acting, idiotic di...</td>\n",
       "      <td>negative</td>\n",
       "    </tr>\n",
       "    <tr>\n",
       "      <th>49997</th>\n",
       "      <td>I am a Catholic taught in parochial elementary...</td>\n",
       "      <td>negative</td>\n",
       "    </tr>\n",
       "    <tr>\n",
       "      <th>49998</th>\n",
       "      <td>I'm going to have to disagree with the previou...</td>\n",
       "      <td>negative</td>\n",
       "    </tr>\n",
       "    <tr>\n",
       "      <th>49999</th>\n",
       "      <td>No one expects the Star Trek movies to be high...</td>\n",
       "      <td>negative</td>\n",
       "    </tr>\n",
       "  </tbody>\n",
       "</table>\n",
       "</div>"
      ],
      "text/plain": [
       "                                                  review sentiment\n",
       "49995  I thought this movie did a down right good job...  positive\n",
       "49996  Bad plot, bad dialogue, bad acting, idiotic di...  negative\n",
       "49997  I am a Catholic taught in parochial elementary...  negative\n",
       "49998  I'm going to have to disagree with the previou...  negative\n",
       "49999  No one expects the Star Trek movies to be high...  negative"
      ]
     },
     "execution_count": 19,
     "metadata": {},
     "output_type": "execute_result"
    }
   ],
   "source": [
    "data.tail()"
   ]
  },
  {
   "cell_type": "code",
   "execution_count": 20,
   "metadata": {
    "colab": {
     "base_uri": "https://localhost:8080/",
     "height": 178
    },
    "executionInfo": {
     "elapsed": 19,
     "status": "ok",
     "timestamp": 1733822688930,
     "user": {
      "displayName": "peetha raghavendra",
      "userId": "14355396802304380505"
     },
     "user_tz": -330
    },
    "id": "Z_V-duoYu6fV",
    "outputId": "3afd75fa-0e1b-4fd9-b54a-154fa7dfd4d6"
   },
   "outputs": [
    {
     "data": {
      "text/plain": [
       "sentiment\n",
       "positive    25000\n",
       "negative    25000\n",
       "Name: count, dtype: int64"
      ]
     },
     "execution_count": 20,
     "metadata": {},
     "output_type": "execute_result"
    }
   ],
   "source": [
    "data[\"sentiment\"].value_counts()"
   ]
  },
  {
   "cell_type": "code",
   "execution_count": 21,
   "metadata": {
    "colab": {
     "base_uri": "https://localhost:8080/"
    },
    "executionInfo": {
     "elapsed": 18,
     "status": "ok",
     "timestamp": 1733822688931,
     "user": {
      "displayName": "peetha raghavendra",
      "userId": "14355396802304380505"
     },
     "user_tz": -330
    },
    "id": "sLXITRskvJ1D",
    "outputId": "ca52f486-5e41-4cd7-827f-f814cbe989e5"
   },
   "outputs": [
    {
     "name": "stderr",
     "output_type": "stream",
     "text": [
      "C:\\Users\\HP\\AppData\\Local\\Temp\\ipykernel_17772\\3877186056.py:1: FutureWarning: Downcasting behavior in `replace` is deprecated and will be removed in a future version. To retain the old behavior, explicitly call `result.infer_objects(copy=False)`. To opt-in to the future behavior, set `pd.set_option('future.no_silent_downcasting', True)`\n",
      "  data.replace({\"sentiment\":{\"positive\":1,\"negative\":0}},inplace=True)\n"
     ]
    }
   ],
   "source": [
    "data.replace({\"sentiment\":{\"positive\":1,\"negative\":0}},inplace=True)"
   ]
  },
  {
   "cell_type": "code",
   "execution_count": 22,
   "metadata": {
    "colab": {
     "base_uri": "https://localhost:8080/",
     "height": 206
    },
    "executionInfo": {
     "elapsed": 1024,
     "status": "ok",
     "timestamp": 1733822689938,
     "user": {
      "displayName": "peetha raghavendra",
      "userId": "14355396802304380505"
     },
     "user_tz": -330
    },
    "id": "73fHS5Xrv5eg",
    "outputId": "21dbb691-abfb-4961-ded9-749eda65595d"
   },
   "outputs": [
    {
     "data": {
      "text/html": [
       "<div>\n",
       "<style scoped>\n",
       "    .dataframe tbody tr th:only-of-type {\n",
       "        vertical-align: middle;\n",
       "    }\n",
       "\n",
       "    .dataframe tbody tr th {\n",
       "        vertical-align: top;\n",
       "    }\n",
       "\n",
       "    .dataframe thead th {\n",
       "        text-align: right;\n",
       "    }\n",
       "</style>\n",
       "<table border=\"1\" class=\"dataframe\">\n",
       "  <thead>\n",
       "    <tr style=\"text-align: right;\">\n",
       "      <th></th>\n",
       "      <th>review</th>\n",
       "      <th>sentiment</th>\n",
       "    </tr>\n",
       "  </thead>\n",
       "  <tbody>\n",
       "    <tr>\n",
       "      <th>0</th>\n",
       "      <td>One of the other reviewers has mentioned that ...</td>\n",
       "      <td>1</td>\n",
       "    </tr>\n",
       "    <tr>\n",
       "      <th>1</th>\n",
       "      <td>A wonderful little production. &lt;br /&gt;&lt;br /&gt;The...</td>\n",
       "      <td>1</td>\n",
       "    </tr>\n",
       "    <tr>\n",
       "      <th>2</th>\n",
       "      <td>I thought this was a wonderful way to spend ti...</td>\n",
       "      <td>1</td>\n",
       "    </tr>\n",
       "    <tr>\n",
       "      <th>3</th>\n",
       "      <td>Basically there's a family where a little boy ...</td>\n",
       "      <td>0</td>\n",
       "    </tr>\n",
       "    <tr>\n",
       "      <th>4</th>\n",
       "      <td>Petter Mattei's \"Love in the Time of Money\" is...</td>\n",
       "      <td>1</td>\n",
       "    </tr>\n",
       "  </tbody>\n",
       "</table>\n",
       "</div>"
      ],
      "text/plain": [
       "                                              review  sentiment\n",
       "0  One of the other reviewers has mentioned that ...          1\n",
       "1  A wonderful little production. <br /><br />The...          1\n",
       "2  I thought this was a wonderful way to spend ti...          1\n",
       "3  Basically there's a family where a little boy ...          0\n",
       "4  Petter Mattei's \"Love in the Time of Money\" is...          1"
      ]
     },
     "execution_count": 22,
     "metadata": {},
     "output_type": "execute_result"
    }
   ],
   "source": [
    "data.head()"
   ]
  },
  {
   "cell_type": "code",
   "execution_count": 23,
   "metadata": {
    "colab": {
     "base_uri": "https://localhost:8080/",
     "height": 178
    },
    "executionInfo": {
     "elapsed": 20,
     "status": "ok",
     "timestamp": 1733822689938,
     "user": {
      "displayName": "peetha raghavendra",
      "userId": "14355396802304380505"
     },
     "user_tz": -330
    },
    "id": "lH5Nc6e-v6xo",
    "outputId": "727da8be-1ce7-420d-c7de-136cab962ee9"
   },
   "outputs": [
    {
     "data": {
      "text/plain": [
       "sentiment\n",
       "1    25000\n",
       "0    25000\n",
       "Name: count, dtype: int64"
      ]
     },
     "execution_count": 23,
     "metadata": {},
     "output_type": "execute_result"
    }
   ],
   "source": [
    "data[\"sentiment\"].value_counts()"
   ]
  },
  {
   "cell_type": "code",
   "execution_count": 29,
   "metadata": {},
   "outputs": [],
   "source": [
    "from sklearn.model_selection import train_test_split"
   ]
  },
  {
   "cell_type": "code",
   "execution_count": 30,
   "metadata": {
    "executionInfo": {
     "elapsed": 17,
     "status": "ok",
     "timestamp": 1733822689938,
     "user": {
      "displayName": "peetha raghavendra",
      "userId": "14355396802304380505"
     },
     "user_tz": -330
    },
    "id": "7LfUkcmnwArr"
   },
   "outputs": [],
   "source": [
    "train_data,test_data=train_test_split(data,test_size=0.2,random_state=42)"
   ]
  },
  {
   "cell_type": "code",
   "execution_count": 31,
   "metadata": {
    "colab": {
     "base_uri": "https://localhost:8080/"
    },
    "executionInfo": {
     "elapsed": 16,
     "status": "ok",
     "timestamp": 1733822689938,
     "user": {
      "displayName": "peetha raghavendra",
      "userId": "14355396802304380505"
     },
     "user_tz": -330
    },
    "id": "mxBNrACHwaXU",
    "outputId": "ffe010ed-42c7-47c7-94b3-02ce02f74139"
   },
   "outputs": [
    {
     "name": "stdout",
     "output_type": "stream",
     "text": [
      "(40000, 2) (10000, 2)\n"
     ]
    }
   ],
   "source": [
    "print(train_data.shape,test_data.shape)"
   ]
  },
  {
   "cell_type": "code",
   "execution_count": 32,
   "metadata": {
    "scrolled": true
   },
   "outputs": [],
   "source": [
    "from tensorflow.keras.preprocessing.text import Tokenizer\n",
    "from tensorflow.keras.preprocessing.sequence import pad_sequences"
   ]
  },
  {
   "cell_type": "code",
   "execution_count": 34,
   "metadata": {},
   "outputs": [
    {
     "data": {
      "text/html": [
       "<div>\n",
       "<style scoped>\n",
       "    .dataframe tbody tr th:only-of-type {\n",
       "        vertical-align: middle;\n",
       "    }\n",
       "\n",
       "    .dataframe tbody tr th {\n",
       "        vertical-align: top;\n",
       "    }\n",
       "\n",
       "    .dataframe thead th {\n",
       "        text-align: right;\n",
       "    }\n",
       "</style>\n",
       "<table border=\"1\" class=\"dataframe\">\n",
       "  <thead>\n",
       "    <tr style=\"text-align: right;\">\n",
       "      <th></th>\n",
       "      <th>review</th>\n",
       "      <th>sentiment</th>\n",
       "    </tr>\n",
       "  </thead>\n",
       "  <tbody>\n",
       "    <tr>\n",
       "      <th>39087</th>\n",
       "      <td>That's what I kept asking myself during the ma...</td>\n",
       "      <td>0</td>\n",
       "    </tr>\n",
       "    <tr>\n",
       "      <th>30893</th>\n",
       "      <td>I did not watch the entire movie. I could not ...</td>\n",
       "      <td>0</td>\n",
       "    </tr>\n",
       "    <tr>\n",
       "      <th>45278</th>\n",
       "      <td>A touching love story reminiscent of In the M...</td>\n",
       "      <td>1</td>\n",
       "    </tr>\n",
       "    <tr>\n",
       "      <th>16398</th>\n",
       "      <td>This latter-day Fulci schlocker is a totally a...</td>\n",
       "      <td>0</td>\n",
       "    </tr>\n",
       "    <tr>\n",
       "      <th>13653</th>\n",
       "      <td>First of all, I firmly believe that Norwegian ...</td>\n",
       "      <td>0</td>\n",
       "    </tr>\n",
       "  </tbody>\n",
       "</table>\n",
       "</div>"
      ],
      "text/plain": [
       "                                                  review  sentiment\n",
       "39087  That's what I kept asking myself during the ma...          0\n",
       "30893  I did not watch the entire movie. I could not ...          0\n",
       "45278  A touching love story reminiscent of In the M...          1\n",
       "16398  This latter-day Fulci schlocker is a totally a...          0\n",
       "13653  First of all, I firmly believe that Norwegian ...          0"
      ]
     },
     "execution_count": 34,
     "metadata": {},
     "output_type": "execute_result"
    }
   ],
   "source": [
    "train_data.head()"
   ]
  },
  {
   "cell_type": "code",
   "execution_count": 35,
   "metadata": {
    "executionInfo": {
     "elapsed": 17171,
     "status": "ok",
     "timestamp": 1733822707096,
     "user": {
      "displayName": "peetha raghavendra",
      "userId": "14355396802304380505"
     },
     "user_tz": -330
    },
    "id": "F7KVVQszwePj"
   },
   "outputs": [],
   "source": [
    "tokenizer=Tokenizer(num_words=5000)\n",
    "tokenizer.fit_on_texts(train_data[\"review\"])\n",
    "X_train=pad_sequences(tokenizer.texts_to_sequences(train_data[\"review\"]),maxlen=200)\n",
    "X_test=pad_sequences(tokenizer.texts_to_sequences(test_data[\"review\"]),maxlen=200)"
   ]
  },
  {
   "cell_type": "code",
   "execution_count": 36,
   "metadata": {
    "colab": {
     "base_uri": "https://localhost:8080/"
    },
    "executionInfo": {
     "elapsed": 25,
     "status": "ok",
     "timestamp": 1733822707103,
     "user": {
      "displayName": "peetha raghavendra",
      "userId": "14355396802304380505"
     },
     "user_tz": -330
    },
    "id": "nwZWBHPWzY84",
    "outputId": "91baa4ec-6331-401c-80cc-973028736851"
   },
   "outputs": [
    {
     "name": "stdout",
     "output_type": "stream",
     "text": [
      "[[1935    1 1200 ...  205  351 3856]\n",
      " [   3 1651  595 ...   89  103    9]\n",
      " [   0    0    0 ...    2  710   62]\n",
      " ...\n",
      " [   0    0    0 ... 1641    2  603]\n",
      " [   0    0    0 ...  245  103  125]\n",
      " [   0    0    0 ...   70   73 2062]]\n"
     ]
    }
   ],
   "source": [
    "print(X_train)"
   ]
  },
  {
   "cell_type": "code",
   "execution_count": 37,
   "metadata": {
    "colab": {
     "base_uri": "https://localhost:8080/"
    },
    "executionInfo": {
     "elapsed": 24,
     "status": "ok",
     "timestamp": 1733822707103,
     "user": {
      "displayName": "peetha raghavendra",
      "userId": "14355396802304380505"
     },
     "user_tz": -330
    },
    "id": "jqlt7hILz2lg",
    "outputId": "24edcfe3-bc2a-4ada-adfa-e8ba77682d8d"
   },
   "outputs": [
    {
     "name": "stdout",
     "output_type": "stream",
     "text": [
      "[[   0    0    0 ...  995  719  155]\n",
      " [  12  162   59 ...  380    7    7]\n",
      " [   0    0    0 ...   50 1088   96]\n",
      " ...\n",
      " [   0    0    0 ...  125  200 3241]\n",
      " [   0    0    0 ... 1066    1 2305]\n",
      " [   0    0    0 ...    1  332   27]]\n"
     ]
    }
   ],
   "source": [
    "print(X_test)"
   ]
  },
  {
   "cell_type": "code",
   "execution_count": 38,
   "metadata": {
    "executionInfo": {
     "elapsed": 23,
     "status": "ok",
     "timestamp": 1733822707103,
     "user": {
      "displayName": "peetha raghavendra",
      "userId": "14355396802304380505"
     },
     "user_tz": -330
    },
    "id": "GM7dddzVz4Va"
   },
   "outputs": [],
   "source": [
    "Y_train=train_data[\"sentiment\"]\n",
    "Y_test=test_data[\"sentiment\"]"
   ]
  },
  {
   "cell_type": "code",
   "execution_count": 39,
   "metadata": {
    "colab": {
     "base_uri": "https://localhost:8080/"
    },
    "executionInfo": {
     "elapsed": 22,
     "status": "ok",
     "timestamp": 1733822707103,
     "user": {
      "displayName": "peetha raghavendra",
      "userId": "14355396802304380505"
     },
     "user_tz": -330
    },
    "id": "otHUvVbS0Er8",
    "outputId": "1e17107f-90a7-4d43-a2f1-384a5f8b45d0"
   },
   "outputs": [
    {
     "name": "stdout",
     "output_type": "stream",
     "text": [
      "39087    0\n",
      "30893    0\n",
      "45278    1\n",
      "16398    0\n",
      "13653    0\n",
      "        ..\n",
      "11284    1\n",
      "44732    1\n",
      "38158    0\n",
      "860      1\n",
      "15795    1\n",
      "Name: sentiment, Length: 40000, dtype: int64\n"
     ]
    }
   ],
   "source": [
    "print(Y_train)"
   ]
  },
  {
   "cell_type": "code",
   "execution_count": 40,
   "metadata": {
    "colab": {
     "base_uri": "https://localhost:8080/"
    },
    "executionInfo": {
     "elapsed": 20,
     "status": "ok",
     "timestamp": 1733822707103,
     "user": {
      "displayName": "peetha raghavendra",
      "userId": "14355396802304380505"
     },
     "user_tz": -330
    },
    "id": "GBBEjEer0j00",
    "outputId": "53a113c0-bc6a-490a-ff68-a346cefc15b4"
   },
   "outputs": [
    {
     "name": "stdout",
     "output_type": "stream",
     "text": [
      "33553    1\n",
      "9427     1\n",
      "199      0\n",
      "12447    1\n",
      "39489    0\n",
      "        ..\n",
      "28567    0\n",
      "25079    1\n",
      "18707    1\n",
      "15200    0\n",
      "5857     1\n",
      "Name: sentiment, Length: 10000, dtype: int64\n"
     ]
    }
   ],
   "source": [
    "print(Y_test)"
   ]
  },
  {
   "cell_type": "code",
   "execution_count": 41,
   "metadata": {},
   "outputs": [],
   "source": [
    "from tensorflow.keras.models import Sequential\n",
    "from tensorflow.keras.layers import Embedding,LSTM,Dense"
   ]
  },
  {
   "cell_type": "code",
   "execution_count": 42,
   "metadata": {},
   "outputs": [],
   "source": [
    "model=Sequential()"
   ]
  },
  {
   "cell_type": "code",
   "execution_count": 43,
   "metadata": {
    "colab": {
     "base_uri": "https://localhost:8080/"
    },
    "executionInfo": {
     "elapsed": 18,
     "status": "ok",
     "timestamp": 1733822707103,
     "user": {
      "displayName": "peetha raghavendra",
      "userId": "14355396802304380505"
     },
     "user_tz": -330
    },
    "id": "4wzMdtrq0lHT",
    "outputId": "666891e7-5201-4e2c-d7db-384afc7f59d5"
   },
   "outputs": [
    {
     "name": "stderr",
     "output_type": "stream",
     "text": [
      "C:\\Users\\HP\\anaconda3\\Lib\\site-packages\\keras\\src\\layers\\core\\embedding.py:90: UserWarning: Argument `input_length` is deprecated. Just remove it.\n",
      "  warnings.warn(\n"
     ]
    }
   ],
   "source": [
    "model.add(Embedding(input_dim=5000,output_dim=128,input_length=200))\n",
    "model.add(LSTM(128,dropout=0.2,recurrent_dropout=0.2))\n",
    "model.add(Dense(1,activation=\"sigmoid\"))"
   ]
  },
  {
   "cell_type": "code",
   "execution_count": 44,
   "metadata": {
    "colab": {
     "base_uri": "https://localhost:8080/",
     "height": 225
    },
    "executionInfo": {
     "elapsed": 18,
     "status": "ok",
     "timestamp": 1733822707104,
     "user": {
      "displayName": "peetha raghavendra",
      "userId": "14355396802304380505"
     },
     "user_tz": -330
    },
    "id": "zB66hvSO3sT_",
    "outputId": "b79bf9a5-0e8c-47c5-e591-b71258557941"
   },
   "outputs": [
    {
     "data": {
      "text/html": [
       "<pre style=\"white-space:pre;overflow-x:auto;line-height:normal;font-family:Menlo,'DejaVu Sans Mono',consolas,'Courier New',monospace\"><span style=\"font-weight: bold\">Model: \"sequential\"</span>\n",
       "</pre>\n"
      ],
      "text/plain": [
       "\u001b[1mModel: \"sequential\"\u001b[0m\n"
      ]
     },
     "metadata": {},
     "output_type": "display_data"
    },
    {
     "data": {
      "text/html": [
       "<pre style=\"white-space:pre;overflow-x:auto;line-height:normal;font-family:Menlo,'DejaVu Sans Mono',consolas,'Courier New',monospace\">┏━━━━━━━━━━━━━━━━━━━━━━━━━━━━━━━━━━━━━━┳━━━━━━━━━━━━━━━━━━━━━━━━━━━━━┳━━━━━━━━━━━━━━━━━┓\n",
       "┃<span style=\"font-weight: bold\"> Layer (type)                         </span>┃<span style=\"font-weight: bold\"> Output Shape                </span>┃<span style=\"font-weight: bold\">         Param # </span>┃\n",
       "┡━━━━━━━━━━━━━━━━━━━━━━━━━━━━━━━━━━━━━━╇━━━━━━━━━━━━━━━━━━━━━━━━━━━━━╇━━━━━━━━━━━━━━━━━┩\n",
       "│ embedding (<span style=\"color: #0087ff; text-decoration-color: #0087ff\">Embedding</span>)                │ ?                           │     <span style=\"color: #00af00; text-decoration-color: #00af00\">0</span> (unbuilt) │\n",
       "├──────────────────────────────────────┼─────────────────────────────┼─────────────────┤\n",
       "│ lstm (<span style=\"color: #0087ff; text-decoration-color: #0087ff\">LSTM</span>)                          │ ?                           │     <span style=\"color: #00af00; text-decoration-color: #00af00\">0</span> (unbuilt) │\n",
       "├──────────────────────────────────────┼─────────────────────────────┼─────────────────┤\n",
       "│ dense (<span style=\"color: #0087ff; text-decoration-color: #0087ff\">Dense</span>)                        │ ?                           │     <span style=\"color: #00af00; text-decoration-color: #00af00\">0</span> (unbuilt) │\n",
       "└──────────────────────────────────────┴─────────────────────────────┴─────────────────┘\n",
       "</pre>\n"
      ],
      "text/plain": [
       "┏━━━━━━━━━━━━━━━━━━━━━━━━━━━━━━━━━━━━━━┳━━━━━━━━━━━━━━━━━━━━━━━━━━━━━┳━━━━━━━━━━━━━━━━━┓\n",
       "┃\u001b[1m \u001b[0m\u001b[1mLayer (type)                        \u001b[0m\u001b[1m \u001b[0m┃\u001b[1m \u001b[0m\u001b[1mOutput Shape               \u001b[0m\u001b[1m \u001b[0m┃\u001b[1m \u001b[0m\u001b[1m        Param #\u001b[0m\u001b[1m \u001b[0m┃\n",
       "┡━━━━━━━━━━━━━━━━━━━━━━━━━━━━━━━━━━━━━━╇━━━━━━━━━━━━━━━━━━━━━━━━━━━━━╇━━━━━━━━━━━━━━━━━┩\n",
       "│ embedding (\u001b[38;5;33mEmbedding\u001b[0m)                │ ?                           │     \u001b[38;5;34m0\u001b[0m (unbuilt) │\n",
       "├──────────────────────────────────────┼─────────────────────────────┼─────────────────┤\n",
       "│ lstm (\u001b[38;5;33mLSTM\u001b[0m)                          │ ?                           │     \u001b[38;5;34m0\u001b[0m (unbuilt) │\n",
       "├──────────────────────────────────────┼─────────────────────────────┼─────────────────┤\n",
       "│ dense (\u001b[38;5;33mDense\u001b[0m)                        │ ?                           │     \u001b[38;5;34m0\u001b[0m (unbuilt) │\n",
       "└──────────────────────────────────────┴─────────────────────────────┴─────────────────┘\n"
      ]
     },
     "metadata": {},
     "output_type": "display_data"
    },
    {
     "data": {
      "text/html": [
       "<pre style=\"white-space:pre;overflow-x:auto;line-height:normal;font-family:Menlo,'DejaVu Sans Mono',consolas,'Courier New',monospace\"><span style=\"font-weight: bold\"> Total params: </span><span style=\"color: #00af00; text-decoration-color: #00af00\">0</span> (0.00 B)\n",
       "</pre>\n"
      ],
      "text/plain": [
       "\u001b[1m Total params: \u001b[0m\u001b[38;5;34m0\u001b[0m (0.00 B)\n"
      ]
     },
     "metadata": {},
     "output_type": "display_data"
    },
    {
     "data": {
      "text/html": [
       "<pre style=\"white-space:pre;overflow-x:auto;line-height:normal;font-family:Menlo,'DejaVu Sans Mono',consolas,'Courier New',monospace\"><span style=\"font-weight: bold\"> Trainable params: </span><span style=\"color: #00af00; text-decoration-color: #00af00\">0</span> (0.00 B)\n",
       "</pre>\n"
      ],
      "text/plain": [
       "\u001b[1m Trainable params: \u001b[0m\u001b[38;5;34m0\u001b[0m (0.00 B)\n"
      ]
     },
     "metadata": {},
     "output_type": "display_data"
    },
    {
     "data": {
      "text/html": [
       "<pre style=\"white-space:pre;overflow-x:auto;line-height:normal;font-family:Menlo,'DejaVu Sans Mono',consolas,'Courier New',monospace\"><span style=\"font-weight: bold\"> Non-trainable params: </span><span style=\"color: #00af00; text-decoration-color: #00af00\">0</span> (0.00 B)\n",
       "</pre>\n"
      ],
      "text/plain": [
       "\u001b[1m Non-trainable params: \u001b[0m\u001b[38;5;34m0\u001b[0m (0.00 B)\n"
      ]
     },
     "metadata": {},
     "output_type": "display_data"
    }
   ],
   "source": [
    "model.summary()"
   ]
  },
  {
   "cell_type": "code",
   "execution_count": 45,
   "metadata": {
    "executionInfo": {
     "elapsed": 374,
     "status": "ok",
     "timestamp": 1733822913586,
     "user": {
      "displayName": "peetha raghavendra",
      "userId": "14355396802304380505"
     },
     "user_tz": -330
    },
    "id": "E9guS2fC4Te3"
   },
   "outputs": [],
   "source": [
    "model.compile(optimizer='adam',loss='binary_crossentropy',metrics=['accuracy'])"
   ]
  },
  {
   "cell_type": "code",
   "execution_count": 46,
   "metadata": {
    "colab": {
     "base_uri": "https://localhost:8080/"
    },
    "executionInfo": {
     "elapsed": 681204,
     "status": "ok",
     "timestamp": 1733823721257,
     "user": {
      "displayName": "peetha raghavendra",
      "userId": "14355396802304380505"
     },
     "user_tz": -330
    },
    "id": "1O76Vo1H5hgk",
    "outputId": "5c517d3c-0db6-40b9-f6e9-e262e7cec04c"
   },
   "outputs": [
    {
     "name": "stdout",
     "output_type": "stream",
     "text": [
      "Epoch 1/5\n",
      "\u001b[1m500/500\u001b[0m \u001b[32m━━━━━━━━━━━━━━━━━━━━\u001b[0m\u001b[37m\u001b[0m \u001b[1m204s\u001b[0m 402ms/step - accuracy: 0.7281 - loss: 0.5279 - val_accuracy: 0.8400 - val_loss: 0.3697\n",
      "Epoch 2/5\n",
      "\u001b[1m500/500\u001b[0m \u001b[32m━━━━━━━━━━━━━━━━━━━━\u001b[0m\u001b[37m\u001b[0m \u001b[1m254s\u001b[0m 508ms/step - accuracy: 0.8503 - loss: 0.3554 - val_accuracy: 0.8529 - val_loss: 0.3392\n",
      "Epoch 3/5\n",
      "\u001b[1m500/500\u001b[0m \u001b[32m━━━━━━━━━━━━━━━━━━━━\u001b[0m\u001b[37m\u001b[0m \u001b[1m242s\u001b[0m 484ms/step - accuracy: 0.8829 - loss: 0.2973 - val_accuracy: 0.8353 - val_loss: 0.4027\n",
      "Epoch 4/5\n",
      "\u001b[1m500/500\u001b[0m \u001b[32m━━━━━━━━━━━━━━━━━━━━\u001b[0m\u001b[37m\u001b[0m \u001b[1m247s\u001b[0m 494ms/step - accuracy: 0.8831 - loss: 0.2894 - val_accuracy: 0.8601 - val_loss: 0.3459\n",
      "Epoch 5/5\n",
      "\u001b[1m500/500\u001b[0m \u001b[32m━━━━━━━━━━━━━━━━━━━━\u001b[0m\u001b[37m\u001b[0m \u001b[1m233s\u001b[0m 467ms/step - accuracy: 0.9055 - loss: 0.2397 - val_accuracy: 0.8730 - val_loss: 0.3265\n"
     ]
    },
    {
     "data": {
      "text/plain": [
       "<keras.src.callbacks.history.History at 0x27968540c50>"
      ]
     },
     "execution_count": 46,
     "metadata": {},
     "output_type": "execute_result"
    }
   ],
   "source": [
    "model.fit(X_train,Y_train,epochs=5,batch_size=64,validation_split=0.2)"
   ]
  },
  {
   "cell_type": "code",
   "execution_count": 47,
   "metadata": {
    "colab": {
     "base_uri": "https://localhost:8080/"
    },
    "executionInfo": {
     "elapsed": 41407,
     "status": "ok",
     "timestamp": 1733823927431,
     "user": {
      "displayName": "peetha raghavendra",
      "userId": "14355396802304380505"
     },
     "user_tz": -330
    },
    "id": "ID1Zk2xd6Aei",
    "outputId": "0d19a13c-02d8-4680-c9e2-0dc4aafdfe20"
   },
   "outputs": [
    {
     "name": "stdout",
     "output_type": "stream",
     "text": [
      "\u001b[1m313/313\u001b[0m \u001b[32m━━━━━━━━━━━━━━━━━━━━\u001b[0m\u001b[37m\u001b[0m \u001b[1m18s\u001b[0m 57ms/step - accuracy: 0.8777 - loss: 0.3145\n",
      "Test Loss: 0.31267449259757996\n",
      "Test Accuracy: 0.8762999773025513\n"
     ]
    }
   ],
   "source": [
    "loss,accuracy=model.evaluate(X_test,Y_test)\n",
    "print(f\"Test Loss: {loss}\")\n",
    "print(f\"Test Accuracy: {accuracy}\")"
   ]
  },
  {
   "cell_type": "code",
   "execution_count": 48,
   "metadata": {
    "executionInfo": {
     "elapsed": 389,
     "status": "ok",
     "timestamp": 1733824647688,
     "user": {
      "displayName": "peetha raghavendra",
      "userId": "14355396802304380505"
     },
     "user_tz": -330
    },
    "id": "2B1I4cvD9AEL"
   },
   "outputs": [],
   "source": [
    "def predict_sentiment(review):\n",
    "  sequence=tokenizer.texts_to_sequences([review])\n",
    "  padded_sequence=pad_sequences(sequence,maxlen=200)\n",
    "  prediction=model.predict(padded_sequence)\n",
    "  sentiment=\"positive\" if prediction[0][0] > 0.5 else \"negative\"\n",
    "  return sentiment"
   ]
  },
  {
   "cell_type": "code",
   "execution_count": 49,
   "metadata": {
    "colab": {
     "base_uri": "https://localhost:8080/"
    },
    "executionInfo": {
     "elapsed": 397,
     "status": "ok",
     "timestamp": 1733824685679,
     "user": {
      "displayName": "peetha raghavendra",
      "userId": "14355396802304380505"
     },
     "user_tz": -330
    },
    "id": "4WDR6QhM9-ME",
    "outputId": "d16b3a45-0c58-4244-951b-efa84878c3b0"
   },
   "outputs": [
    {
     "name": "stdout",
     "output_type": "stream",
     "text": [
      "\u001b[1m1/1\u001b[0m \u001b[32m━━━━━━━━━━━━━━━━━━━━\u001b[0m\u001b[37m\u001b[0m \u001b[1m0s\u001b[0m 367ms/step\n",
      "The sentiment of this review is: positive\n"
     ]
    }
   ],
   "source": [
    "new_review=\"This movie was fantastic. I loved it\"\n",
    "new_sentiment=predict_sentiment(new_review)\n",
    "print(f\"The sentiment of this review is: {new_sentiment}\")"
   ]
  },
  {
   "cell_type": "code",
   "execution_count": 50,
   "metadata": {
    "colab": {
     "base_uri": "https://localhost:8080/"
    },
    "executionInfo": {
     "elapsed": 396,
     "status": "ok",
     "timestamp": 1733824677101,
     "user": {
      "displayName": "peetha raghavendra",
      "userId": "14355396802304380505"
     },
     "user_tz": -330
    },
    "id": "Iwi-cqB0-fM-",
    "outputId": "da0809ab-10b8-4bf1-a194-b2733393a2f4"
   },
   "outputs": [
    {
     "name": "stdout",
     "output_type": "stream",
     "text": [
      "\u001b[1m1/1\u001b[0m \u001b[32m━━━━━━━━━━━━━━━━━━━━\u001b[0m\u001b[37m\u001b[0m \u001b[1m0s\u001b[0m 64ms/step\n",
      "The sentiment of this review is: negative\n"
     ]
    }
   ],
   "source": [
    "new_review=\"This movie was ok but not that good.\"\n",
    "new_sentiment=predict_sentiment(new_review)\n",
    "print(f\"The sentiment of this review is: {new_sentiment}\")"
   ]
  },
  {
   "cell_type": "code",
   "execution_count": 51,
   "metadata": {
    "colab": {
     "base_uri": "https://localhost:8080/"
    },
    "executionInfo": {
     "elapsed": 404,
     "status": "ok",
     "timestamp": 1733824712099,
     "user": {
      "displayName": "peetha raghavendra",
      "userId": "14355396802304380505"
     },
     "user_tz": -330
    },
    "id": "qHRj6yin_Ngt",
    "outputId": "941b74e3-1bce-4393-dec5-3948a12ce45c"
   },
   "outputs": [
    {
     "name": "stdout",
     "output_type": "stream",
     "text": [
      "\u001b[1m1/1\u001b[0m \u001b[32m━━━━━━━━━━━━━━━━━━━━\u001b[0m\u001b[37m\u001b[0m \u001b[1m0s\u001b[0m 66ms/step\n",
      "The sentiment of this review is: negative\n"
     ]
    }
   ],
   "source": [
    "new_review=\"This movie was not that good.\"\n",
    "new_sentiment=predict_sentiment(new_review)\n",
    "print(f\"The sentiment of this review is: {new_sentiment}\")"
   ]
  },
  {
   "cell_type": "code",
   "execution_count": 52,
   "metadata": {
    "colab": {
     "base_uri": "https://localhost:8080/"
    },
    "executionInfo": {
     "elapsed": 392,
     "status": "ok",
     "timestamp": 1733824761436,
     "user": {
      "displayName": "peetha raghavendra",
      "userId": "14355396802304380505"
     },
     "user_tz": -330
    },
    "id": "prvtFWjAAYlt",
    "outputId": "526b1ab5-5bbc-48b6-f0f5-d7d12648a2e8"
   },
   "outputs": [
    {
     "name": "stdout",
     "output_type": "stream",
     "text": [
      "\u001b[1m1/1\u001b[0m \u001b[32m━━━━━━━━━━━━━━━━━━━━\u001b[0m\u001b[37m\u001b[0m \u001b[1m0s\u001b[0m 61ms/step\n",
      "The sentiment of this review is: positive\n"
     ]
    }
   ],
   "source": [
    "new_review=\"This movie was very good. I enjoyed a lot.\"\n",
    "new_sentiment=predict_sentiment(new_review)\n",
    "print(f\"The sentiment of this review is: {new_sentiment}\")"
   ]
  },
  {
   "cell_type": "code",
   "execution_count": 53,
   "metadata": {
    "id": "ANfDOdD9Ako6"
   },
   "outputs": [
    {
     "name": "stdout",
     "output_type": "stream",
     "text": [
      "\u001b[1m1/1\u001b[0m \u001b[32m━━━━━━━━━━━━━━━━━━━━\u001b[0m\u001b[37m\u001b[0m \u001b[1m0s\u001b[0m 68ms/step\n",
      "The sentiment of this review is: negative\n"
     ]
    }
   ],
   "source": [
    "new_review=\"This movie was very Bad.\"\n",
    "new_sentiment=predict_sentiment(new_review)\n",
    "print(f\"The sentiment of this review is: {new_sentiment}\")"
   ]
  },
  {
   "cell_type": "code",
   "execution_count": null,
   "metadata": {},
   "outputs": [],
   "source": []
  }
 ],
 "metadata": {
  "accelerator": "GPU",
  "colab": {
   "authorship_tag": "ABX9TyPBYPQVsBWX/C+klLyVaB4t",
   "gpuType": "T4",
   "provenance": []
  },
  "kernelspec": {
   "display_name": "Python 3 (ipykernel)",
   "language": "python",
   "name": "python3"
  },
  "language_info": {
   "codemirror_mode": {
    "name": "ipython",
    "version": 3
   },
   "file_extension": ".py",
   "mimetype": "text/x-python",
   "name": "python",
   "nbconvert_exporter": "python",
   "pygments_lexer": "ipython3",
   "version": "3.11.4"
  }
 },
 "nbformat": 4,
 "nbformat_minor": 1
}
