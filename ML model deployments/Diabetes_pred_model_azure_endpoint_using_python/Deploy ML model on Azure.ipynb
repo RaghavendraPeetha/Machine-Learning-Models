{
 "cells": [
  {
   "cell_type": "code",
   "execution_count": 1,
   "id": "97726c1e",
   "metadata": {
    "scrolled": true
   },
   "outputs": [
    {
     "name": "stdout",
     "output_type": "stream",
     "text": [
      "Requirement already satisfied: azureml-sdk in c:\\users\\hp\\anaconda3\\lib\\site-packages (1.59.0)\n",
      "Requirement already satisfied: azureml-core~=1.59.0 in c:\\users\\hp\\anaconda3\\lib\\site-packages (from azureml-sdk) (1.59.0)\n",
      "Requirement already satisfied: azureml-dataset-runtime[fuse]~=1.59.0 in c:\\users\\hp\\anaconda3\\lib\\site-packages (from azureml-sdk) (1.59.0)\n",
      "Requirement already satisfied: azureml-train-core~=1.59.0 in c:\\users\\hp\\anaconda3\\lib\\site-packages (from azureml-sdk) (1.59.0)\n",
      "Requirement already satisfied: azureml-train-automl-client~=1.59.0 in c:\\users\\hp\\anaconda3\\lib\\site-packages (from azureml-sdk) (1.59.0)\n",
      "Requirement already satisfied: azureml-pipeline~=1.59.0 in c:\\users\\hp\\anaconda3\\lib\\site-packages (from azureml-sdk) (1.59.0)\n",
      "Requirement already satisfied: pytz in c:\\users\\hp\\anaconda3\\lib\\site-packages (from azureml-core~=1.59.0->azureml-sdk) (2022.7)\n",
      "Requirement already satisfied: backports.tempfile in c:\\users\\hp\\anaconda3\\lib\\site-packages (from azureml-core~=1.59.0->azureml-sdk) (1.0)\n",
      "Requirement already satisfied: pathspec<1.0.0 in c:\\users\\hp\\anaconda3\\lib\\site-packages (from azureml-core~=1.59.0->azureml-sdk) (0.10.3)\n",
      "Requirement already satisfied: requests[socks]<3.0.0,>=2.19.1 in c:\\users\\hp\\anaconda3\\lib\\site-packages (from azureml-core~=1.59.0->azureml-sdk) (2.31.0)\n",
      "Requirement already satisfied: msal<2.0.0,>=1.15.0 in c:\\users\\hp\\anaconda3\\lib\\site-packages (from azureml-core~=1.59.0->azureml-sdk) (1.31.1)\n",
      "Requirement already satisfied: msal-extensions<=2.0.0,>=0.3.0 in c:\\users\\hp\\anaconda3\\lib\\site-packages (from azureml-core~=1.59.0->azureml-sdk) (1.2.0)\n",
      "Requirement already satisfied: knack<0.13.0 in c:\\users\\hp\\anaconda3\\lib\\site-packages (from azureml-core~=1.59.0->azureml-sdk) (0.12.0)\n",
      "Requirement already satisfied: azure-core<2.0.0 in c:\\users\\hp\\anaconda3\\lib\\site-packages (from azureml-core~=1.59.0->azureml-sdk) (1.32.0)\n",
      "Requirement already satisfied: pkginfo in c:\\users\\hp\\anaconda3\\lib\\site-packages (from azureml-core~=1.59.0->azureml-sdk) (1.9.6)\n",
      "Requirement already satisfied: argcomplete<4 in c:\\users\\hp\\anaconda3\\lib\\site-packages (from azureml-core~=1.59.0->azureml-sdk) (3.5.2)\n",
      "Requirement already satisfied: humanfriendly<11.0,>=4.7 in c:\\users\\hp\\anaconda3\\lib\\site-packages (from azureml-core~=1.59.0->azureml-sdk) (10.0)\n",
      "Requirement already satisfied: paramiko<4.0.0,>=2.0.8 in c:\\users\\hp\\anaconda3\\lib\\site-packages (from azureml-core~=1.59.0->azureml-sdk) (2.8.1)\n",
      "Requirement already satisfied: azure-mgmt-resource<=24.0.0,>=15.0.0 in c:\\users\\hp\\anaconda3\\lib\\site-packages (from azureml-core~=1.59.0->azureml-sdk) (23.2.0)\n",
      "Requirement already satisfied: azure-mgmt-containerregistry<11,>=8.2.0 in c:\\users\\hp\\anaconda3\\lib\\site-packages (from azureml-core~=1.59.0->azureml-sdk) (10.3.0)\n",
      "Requirement already satisfied: azure-mgmt-storage<=22.0.0,>=16.0.0 in c:\\users\\hp\\anaconda3\\lib\\site-packages (from azureml-core~=1.59.0->azureml-sdk) (21.2.1)\n",
      "Requirement already satisfied: azure-mgmt-keyvault<11.0.0,>=0.40.0 in c:\\users\\hp\\anaconda3\\lib\\site-packages (from azureml-core~=1.59.0->azureml-sdk) (10.3.1)\n",
      "Requirement already satisfied: azure-mgmt-authorization<5,>=0.40.0 in c:\\users\\hp\\anaconda3\\lib\\site-packages (from azureml-core~=1.59.0->azureml-sdk) (4.0.0)\n",
      "Requirement already satisfied: azure-mgmt-network<=29.0.0 in c:\\users\\hp\\anaconda3\\lib\\site-packages (from azureml-core~=1.59.0->azureml-sdk) (28.1.0)\n",
      "Requirement already satisfied: azure-graphrbac<1.0.0,>=0.40.0 in c:\\users\\hp\\anaconda3\\lib\\site-packages (from azureml-core~=1.59.0->azureml-sdk) (0.61.2)\n",
      "Requirement already satisfied: azure-common<2.0.0,>=1.1.12 in c:\\users\\hp\\anaconda3\\lib\\site-packages (from azureml-core~=1.59.0->azureml-sdk) (1.1.28)\n",
      "Requirement already satisfied: msrest<=0.7.1,>=0.5.1 in c:\\users\\hp\\anaconda3\\lib\\site-packages (from azureml-core~=1.59.0->azureml-sdk) (0.7.1)\n",
      "Requirement already satisfied: msrestazure<=0.7,>=0.4.33 in c:\\users\\hp\\anaconda3\\lib\\site-packages (from azureml-core~=1.59.0->azureml-sdk) (0.6.4.post1)\n",
      "Requirement already satisfied: urllib3<3.0.0,>1.26.17 in c:\\users\\hp\\anaconda3\\lib\\site-packages (from azureml-core~=1.59.0->azureml-sdk) (2.3.0)\n",
      "Requirement already satisfied: packaging<=25.0,>=20.0 in c:\\users\\hp\\anaconda3\\lib\\site-packages (from azureml-core~=1.59.0->azureml-sdk) (23.0)\n",
      "Requirement already satisfied: python-dateutil<3.0.0,>=2.7.3 in c:\\users\\hp\\anaconda3\\lib\\site-packages (from azureml-core~=1.59.0->azureml-sdk) (2.8.2)\n",
      "Requirement already satisfied: ndg-httpsclient<=0.5.1 in c:\\users\\hp\\anaconda3\\lib\\site-packages (from azureml-core~=1.59.0->azureml-sdk) (0.5.1)\n",
      "Requirement already satisfied: SecretStorage<4.0.0 in c:\\users\\hp\\anaconda3\\lib\\site-packages (from azureml-core~=1.59.0->azureml-sdk) (3.3.3)\n",
      "Requirement already satisfied: jsonpickle<5.0.0 in c:\\users\\hp\\anaconda3\\lib\\site-packages (from azureml-core~=1.59.0->azureml-sdk) (4.0.1)\n",
      "Requirement already satisfied: contextlib2<22.0.0 in c:\\users\\hp\\anaconda3\\lib\\site-packages (from azureml-core~=1.59.0->azureml-sdk) (21.6.0)\n",
      "Requirement already satisfied: docker<8.0.0 in c:\\users\\hp\\anaconda3\\lib\\site-packages (from azureml-core~=1.59.0->azureml-sdk) (7.1.0)\n",
      "Requirement already satisfied: PyJWT<3.0.0 in c:\\users\\hp\\anaconda3\\lib\\site-packages (from azureml-core~=1.59.0->azureml-sdk) (2.4.0)\n",
      "Requirement already satisfied: adal<=1.2.7,>=1.2.0 in c:\\users\\hp\\anaconda3\\lib\\site-packages (from azureml-core~=1.59.0->azureml-sdk) (1.2.7)\n",
      "Requirement already satisfied: pyopenssl<25.0.0 in c:\\users\\hp\\anaconda3\\lib\\site-packages (from azureml-core~=1.59.0->azureml-sdk) (23.2.0)\n",
      "Requirement already satisfied: jmespath<2.0.0 in c:\\users\\hp\\anaconda3\\lib\\site-packages (from azureml-core~=1.59.0->azureml-sdk) (0.10.0)\n",
      "Requirement already satisfied: azureml-dataprep<5.2.0a,>=5.1.0a in c:\\users\\hp\\anaconda3\\lib\\site-packages (from azureml-dataset-runtime[fuse]~=1.59.0->azureml-sdk) (5.1.6)\n",
      "Requirement already satisfied: pyarrow>=0.17.0 in c:\\users\\hp\\anaconda3\\lib\\site-packages (from azureml-dataset-runtime[fuse]~=1.59.0->azureml-sdk) (11.0.0)\n",
      "Requirement already satisfied: numpy!=1.19.4,<1.24 in c:\\users\\hp\\anaconda3\\lib\\site-packages (from azureml-dataset-runtime[fuse]~=1.59.0->azureml-sdk) (1.23.5)\n",
      "Requirement already satisfied: fusepy<4.0.0,>=3.0.1 in c:\\users\\hp\\anaconda3\\lib\\site-packages (from azureml-dataset-runtime[fuse]~=1.59.0->azureml-sdk) (3.0.1)\n",
      "Requirement already satisfied: azureml-pipeline-core~=1.59.0 in c:\\users\\hp\\anaconda3\\lib\\site-packages (from azureml-pipeline~=1.59.0->azureml-sdk) (1.59.0)\n",
      "Requirement already satisfied: azureml-pipeline-steps~=1.59.0 in c:\\users\\hp\\anaconda3\\lib\\site-packages (from azureml-pipeline~=1.59.0->azureml-sdk) (1.59.0)\n",
      "Requirement already satisfied: azureml-automl-core~=1.59.0 in c:\\users\\hp\\anaconda3\\lib\\site-packages (from azureml-train-automl-client~=1.59.0->azureml-sdk) (1.59.0)\n",
      "Requirement already satisfied: azureml-telemetry~=1.59.0 in c:\\users\\hp\\anaconda3\\lib\\site-packages (from azureml-train-automl-client~=1.59.0->azureml-sdk) (1.59.0)\n",
      "Requirement already satisfied: azureml-train-restclients-hyperdrive~=1.59.0 in c:\\users\\hp\\anaconda3\\lib\\site-packages (from azureml-train-core~=1.59.0->azureml-sdk) (1.59.0)\n",
      "Requirement already satisfied: cryptography>=1.1.0 in c:\\users\\hp\\anaconda3\\lib\\site-packages (from adal<=1.2.7,>=1.2.0->azureml-core~=1.59.0->azureml-sdk) (41.0.2)\n",
      "Requirement already satisfied: six>=1.11.0 in c:\\users\\hp\\anaconda3\\lib\\site-packages (from azure-core<2.0.0->azureml-core~=1.59.0->azureml-sdk) (1.16.0)\n",
      "Requirement already satisfied: typing-extensions>=4.6.0 in c:\\users\\hp\\anaconda3\\lib\\site-packages (from azure-core<2.0.0->azureml-core~=1.59.0->azureml-sdk) (4.7.1)\n",
      "Requirement already satisfied: isodate<1.0.0,>=0.6.1 in c:\\users\\hp\\anaconda3\\lib\\site-packages (from azure-mgmt-authorization<5,>=0.40.0->azureml-core~=1.59.0->azureml-sdk) (0.7.2)\n",
      "Requirement already satisfied: azure-mgmt-core<2.0.0,>=1.3.2 in c:\\users\\hp\\anaconda3\\lib\\site-packages (from azure-mgmt-authorization<5,>=0.40.0->azureml-core~=1.59.0->azureml-sdk) (1.5.0)\n",
      "Requirement already satisfied: importlib-metadata<=8.2.0 in c:\\users\\hp\\anaconda3\\lib\\site-packages (from azureml-automl-core~=1.59.0->azureml-train-automl-client~=1.59.0->azureml-sdk) (6.0.0)\n",
      "Requirement already satisfied: importlib-resources<=6.4.0 in c:\\users\\hp\\anaconda3\\lib\\site-packages (from azureml-automl-core~=1.59.0->azureml-train-automl-client~=1.59.0->azureml-sdk) (6.4.0)\n",
      "Requirement already satisfied: azureml-dataprep-native<42.0.0,>=41.0.0 in c:\\users\\hp\\anaconda3\\lib\\site-packages (from azureml-dataprep<5.2.0a,>=5.1.0a->azureml-dataset-runtime[fuse]~=1.59.0->azureml-sdk) (41.0.0)\n",
      "Requirement already satisfied: azureml-dataprep-rslex~=2.22.2dev0 in c:\\users\\hp\\anaconda3\\lib\\site-packages (from azureml-dataprep<5.2.0a,>=5.1.0a->azureml-dataset-runtime[fuse]~=1.59.0->azureml-sdk) (2.22.5)\n",
      "Requirement already satisfied: cloudpickle<3.0.0,>=1.1.0 in c:\\users\\hp\\anaconda3\\lib\\site-packages (from azureml-dataprep<5.2.0a,>=5.1.0a->azureml-dataset-runtime[fuse]~=1.59.0->azureml-sdk) (2.2.1)\n",
      "Requirement already satisfied: azure-identity>=1.7.0 in c:\\users\\hp\\anaconda3\\lib\\site-packages (from azureml-dataprep<5.2.0a,>=5.1.0a->azureml-dataset-runtime[fuse]~=1.59.0->azureml-sdk) (1.19.0)\n",
      "Requirement already satisfied: jsonschema in c:\\users\\hp\\anaconda3\\lib\\site-packages (from azureml-dataprep<5.2.0a,>=5.1.0a->azureml-dataset-runtime[fuse]~=1.59.0->azureml-sdk) (4.17.3)\n",
      "Requirement already satisfied: pyyaml<7.0.0,>=5.1.0 in c:\\users\\hp\\anaconda3\\lib\\site-packages (from azureml-dataprep<5.2.0a,>=5.1.0a->azureml-dataset-runtime[fuse]~=1.59.0->azureml-sdk) (6.0)\n",
      "Requirement already satisfied: applicationinsights in c:\\users\\hp\\anaconda3\\lib\\site-packages (from azureml-telemetry~=1.59.0->azureml-train-automl-client~=1.59.0->azureml-sdk) (0.11.10)\n",
      "Requirement already satisfied: pywin32>=304 in c:\\users\\hp\\anaconda3\\lib\\site-packages (from docker<8.0.0->azureml-core~=1.59.0->azureml-sdk) (305.1)\n",
      "Requirement already satisfied: pyreadline3 in c:\\users\\hp\\anaconda3\\lib\\site-packages (from humanfriendly<11.0,>=4.7->azureml-core~=1.59.0->azureml-sdk) (3.5.4)\n",
      "Requirement already satisfied: pygments in c:\\users\\hp\\anaconda3\\lib\\site-packages (from knack<0.13.0->azureml-core~=1.59.0->azureml-sdk) (2.15.1)\n",
      "Requirement already satisfied: tabulate in c:\\users\\hp\\anaconda3\\lib\\site-packages (from knack<0.13.0->azureml-core~=1.59.0->azureml-sdk) (0.8.10)\n",
      "Requirement already satisfied: portalocker<3,>=1.4 in c:\\users\\hp\\anaconda3\\lib\\site-packages (from msal-extensions<=2.0.0,>=0.3.0->azureml-core~=1.59.0->azureml-sdk) (2.10.1)\n",
      "Requirement already satisfied: certifi>=2017.4.17 in c:\\users\\hp\\anaconda3\\lib\\site-packages (from msrest<=0.7.1,>=0.5.1->azureml-core~=1.59.0->azureml-sdk) (2023.7.22)\n",
      "Requirement already satisfied: requests-oauthlib>=0.5.0 in c:\\users\\hp\\anaconda3\\lib\\site-packages (from msrest<=0.7.1,>=0.5.1->azureml-core~=1.59.0->azureml-sdk) (2.0.0)\n",
      "Requirement already satisfied: pyasn1>=0.1.1 in c:\\users\\hp\\anaconda3\\lib\\site-packages (from ndg-httpsclient<=0.5.1->azureml-core~=1.59.0->azureml-sdk) (0.4.8)\n",
      "Requirement already satisfied: bcrypt>=3.1.3 in c:\\users\\hp\\anaconda3\\lib\\site-packages (from paramiko<4.0.0,>=2.0.8->azureml-core~=1.59.0->azureml-sdk) (3.2.0)\n",
      "Requirement already satisfied: pynacl>=1.0.1 in c:\\users\\hp\\anaconda3\\lib\\site-packages (from paramiko<4.0.0,>=2.0.8->azureml-core~=1.59.0->azureml-sdk) (1.5.0)\n",
      "Requirement already satisfied: charset-normalizer<4,>=2 in c:\\users\\hp\\anaconda3\\lib\\site-packages (from requests[socks]<3.0.0,>=2.19.1->azureml-core~=1.59.0->azureml-sdk) (2.0.4)\n",
      "Requirement already satisfied: idna<4,>=2.5 in c:\\users\\hp\\anaconda3\\lib\\site-packages (from requests[socks]<3.0.0,>=2.19.1->azureml-core~=1.59.0->azureml-sdk) (3.4)\n",
      "Requirement already satisfied: PySocks!=1.5.7,>=1.5.6 in c:\\users\\hp\\anaconda3\\lib\\site-packages (from requests[socks]<3.0.0,>=2.19.1->azureml-core~=1.59.0->azureml-sdk) (1.7.1)\n",
      "Requirement already satisfied: jeepney>=0.6 in c:\\users\\hp\\anaconda3\\lib\\site-packages (from SecretStorage<4.0.0->azureml-core~=1.59.0->azureml-sdk) (0.8.0)\n",
      "Requirement already satisfied: backports.weakref in c:\\users\\hp\\anaconda3\\lib\\site-packages (from backports.tempfile->azureml-core~=1.59.0->azureml-sdk) (1.0.post1)\n",
      "Requirement already satisfied: cffi>=1.1 in c:\\users\\hp\\anaconda3\\lib\\site-packages (from bcrypt>=3.1.3->paramiko<4.0.0,>=2.0.8->azureml-core~=1.59.0->azureml-sdk) (1.15.1)\n",
      "Requirement already satisfied: zipp>=0.5 in c:\\users\\hp\\anaconda3\\lib\\site-packages (from importlib-metadata<=8.2.0->azureml-automl-core~=1.59.0->azureml-train-automl-client~=1.59.0->azureml-sdk) (3.11.0)\n",
      "Requirement already satisfied: oauthlib>=3.0.0 in c:\\users\\hp\\anaconda3\\lib\\site-packages (from requests-oauthlib>=0.5.0->msrest<=0.7.1,>=0.5.1->azureml-core~=1.59.0->azureml-sdk) (3.2.2)\n",
      "Requirement already satisfied: attrs>=17.4.0 in c:\\users\\hp\\anaconda3\\lib\\site-packages (from jsonschema->azureml-dataprep<5.2.0a,>=5.1.0a->azureml-dataset-runtime[fuse]~=1.59.0->azureml-sdk) (22.1.0)\n",
      "Requirement already satisfied: pyrsistent!=0.17.0,!=0.17.1,!=0.17.2,>=0.14.0 in c:\\users\\hp\\anaconda3\\lib\\site-packages (from jsonschema->azureml-dataprep<5.2.0a,>=5.1.0a->azureml-dataset-runtime[fuse]~=1.59.0->azureml-sdk) (0.18.0)\n",
      "Requirement already satisfied: pycparser in c:\\users\\hp\\anaconda3\\lib\\site-packages (from cffi>=1.1->bcrypt>=3.1.3->paramiko<4.0.0,>=2.0.8->azureml-core~=1.59.0->azureml-sdk) (2.21)\n"
     ]
    }
   ],
   "source": [
    "!pip install azureml-sdk"
   ]
  },
  {
   "cell_type": "code",
   "execution_count": 2,
   "id": "b8310cb1",
   "metadata": {},
   "outputs": [
    {
     "name": "stderr",
     "output_type": "stream",
     "text": [
      "C:\\Users\\HP\\anaconda3\\Lib\\site-packages\\paramiko\\transport.py:219: CryptographyDeprecationWarning: Blowfish has been deprecated\n",
      "  \"class\": algorithms.Blowfish,\n"
     ]
    }
   ],
   "source": [
    "import os\n",
    "import json\n",
    "import requests\n",
    "\n",
    "from azureml.core import Workspace\n",
    "from azureml.core import Model\n",
    "from azureml.core.environment import Environment\n",
    "from azureml.core.conda_dependencies import CondaDependencies\n",
    "from azureml.core.model import InferenceConfig\n",
    "from azureml.core.webservice import AciWebservice, Webservice"
   ]
  },
  {
   "cell_type": "code",
   "execution_count": 3,
   "id": "b44dc1d2",
   "metadata": {},
   "outputs": [
    {
     "name": "stdout",
     "output_type": "stream",
     "text": [
      "File renamed to .env successfully\n"
     ]
    }
   ],
   "source": [
    "try:\n",
    "    os.rename('env','.env')\n",
    "    print(\"File renamed to .env successfully\")\n",
    "except FileNotFoundError:\n",
    "    print('The file env was not found!')\n",
    "except Exception as e:\n",
    "    print(f\"An error occurred: {e}\")"
   ]
  },
  {
   "cell_type": "code",
   "execution_count": 4,
   "id": "28484968",
   "metadata": {},
   "outputs": [
    {
     "name": "stdout",
     "output_type": "stream",
     "text": [
      "['.env', '.ipynb_checkpoints', '1. Diabetes model to be deployed.ipynb', 'Deploy ML model on Azure.ipynb', 'diabetes.csv', 'diabetes_model.pkl']\n"
     ]
    }
   ],
   "source": [
    "print(os.listdir())"
   ]
  },
  {
   "cell_type": "code",
   "execution_count": 6,
   "id": "406bd141",
   "metadata": {},
   "outputs": [],
   "source": [
    "from dotenv import load_dotenv"
   ]
  },
  {
   "cell_type": "code",
   "execution_count": 12,
   "id": "3ff25d12",
   "metadata": {},
   "outputs": [
    {
     "name": "stdout",
     "output_type": "stream",
     "text": [
      "ml-model-deployment-rg deploy-sklearn-model-ws centralindia\n"
     ]
    }
   ],
   "source": [
    "load_dotenv(\".env\")\n",
    "\n",
    "subscription_id=os.getenv('SUBSCRIPTION_ID')\n",
    "resource_group=os.getenv('RESOURCE_GROUP')\n",
    "workspace_name=os.getenv('WORKSPACE_NAME')\n",
    "region=os.getenv('REGION')\n",
    "\n",
    "print(resource_group,workspace_name,region)"
   ]
  },
  {
   "cell_type": "code",
   "execution_count": 14,
   "id": "feaa6ecb",
   "metadata": {},
   "outputs": [
    {
     "name": "stdout",
     "output_type": "stream",
     "text": [
      "Performing interactive authentication. Please follow the instructions on the terminal.\n"
     ]
    },
    {
     "name": "stderr",
     "output_type": "stream",
     "text": [
      "The default web browser has been opened at https://login.microsoftonline.com/organizations/oauth2/v2.0/authorize. Please continue the login in the web browser. If no web browser is available or if the web browser fails to open, use device code flow with `az login --use-device-code`.\n"
     ]
    },
    {
     "name": "stdout",
     "output_type": "stream",
     "text": [
      "Interactive authentication successfully completed.\n",
      "Deploying StorageAccount with name deployskstorage5d070bb26.\n",
      "Deploying KeyVault with name deployskkeyvault79a5375c.\n",
      "Deployed KeyVault with name deployskkeyvault79a5375c. Took 100.59 seconds.\n",
      "Deploying AppInsights with name deployskinsights1bdff483.\n",
      "Deployed AppInsights with name deployskinsights1bdff483. Took 3.06 seconds.\n",
      "Deployed StorageAccount with name deployskstorage5d070bb26. Took 111.92 seconds.\n",
      "Deploying Workspace with name deploy-sklearn-model-ws.\n",
      "Deployed Workspace with name deploy-sklearn-model-ws. Took 41.32 seconds.\n",
      "Workspace deploy-sklearn-model-ws created\n"
     ]
    }
   ],
   "source": [
    "#create workspace\n",
    "\n",
    "ws=Workspace.create(name=workspace_name,\n",
    "                   subscription_id=subscription_id,\n",
    "                   resource_group=resource_group,\n",
    "                   location=region)\n",
    "\n",
    "print(f'Workspace {workspace_name} created')"
   ]
  },
  {
   "cell_type": "code",
   "execution_count": 15,
   "id": "245bc295",
   "metadata": {},
   "outputs": [],
   "source": [
    "model_path='diabetes_model.pkl'\n",
    "model_name='diabetes_prediction_model'"
   ]
  },
  {
   "cell_type": "code",
   "execution_count": 16,
   "id": "b51703a4",
   "metadata": {},
   "outputs": [
    {
     "name": "stdout",
     "output_type": "stream",
     "text": [
      "Registering model diabetes_prediction_model\n"
     ]
    }
   ],
   "source": [
    "registered_model=Model.register(model_path=model_path,model_name=model_name,workspace=ws)"
   ]
  },
  {
   "cell_type": "code",
   "execution_count": 17,
   "id": "9f6ab736",
   "metadata": {},
   "outputs": [],
   "source": [
    "conda_env=Environment('my-conda-env')\n",
    "conda_env.python.conda_dependencies=CondaDependencies.create(conda_packages=['scikit-learn'])"
   ]
  },
  {
   "cell_type": "code",
   "execution_count": 18,
   "id": "45339c3f",
   "metadata": {},
   "outputs": [],
   "source": [
    "inference_config=InferenceConfig(entry_script='score.py',environment=conda_env)"
   ]
  },
  {
   "cell_type": "code",
   "execution_count": 19,
   "id": "fed56df8",
   "metadata": {},
   "outputs": [],
   "source": [
    "aci_config=AciWebservice.deploy_configuration(cpu_cores=1,memory_gb=1)"
   ]
  },
  {
   "cell_type": "code",
   "execution_count": 22,
   "id": "2fcc7149",
   "metadata": {},
   "outputs": [
    {
     "name": "stderr",
     "output_type": "stream",
     "text": [
      "C:\\Users\\HP\\AppData\\Local\\Temp\\ipykernel_16892\\331850269.py:1: FutureWarning: azureml.core.model:\n",
      "To leverage new model deployment capabilities, AzureML recommends using CLI/SDK v2 to deploy models as online endpoint, \n",
      "please refer to respective documentations \n",
      "https://docs.microsoft.com/azure/machine-learning/how-to-deploy-managed-online-endpoints /\n",
      "https://docs.microsoft.com/azure/machine-learning/how-to-attach-kubernetes-anywhere \n",
      "For more information on migration, see https://aka.ms/acimoemigration \n",
      "To disable CLI/SDK v1 deprecation warning set AZUREML_LOG_DEPRECATION_WARNING_ENABLED to 'False'\n",
      "  service=Model.deploy(workspace=ws,\n"
     ]
    },
    {
     "name": "stdout",
     "output_type": "stream",
     "text": [
      "Tips: You can try get_logs(): https://aka.ms/debugimage#dockerlog or local deployment: https://aka.ms/debugimage#debug-locally to debug if deployment takes longer than 10 minutes.\n",
      "Running\n",
      "2024-12-24 16:06:57+05:30 Creating Container Registry if not exists..\n",
      "2024-12-24 16:16:57+05:30 Registering the environment.\n",
      "2024-12-24 16:17:01+05:30 Building image..\n",
      "2024-12-24 16:27:16+05:30 Generating deployment configuration.\n",
      "2024-12-24 16:27:18+05:30 Submitting deployment to compute..\n",
      "2024-12-24 16:27:28+05:30 Checking the status of deployment diabetes-prediction-service..\n",
      "2024-12-24 16:28:46+05:30 Checking the status of inference endpoint diabetes-prediction-service.\n",
      "Succeeded\n",
      "ACI service creation operation finished, operation \"Succeeded\"\n"
     ]
    }
   ],
   "source": [
    "service=Model.deploy(workspace=ws,\n",
    "                    name='diabetes-prediction-service',\n",
    "                    models=[registered_model],\n",
    "                    inference_config=inference_config,\n",
    "                    deployment_config=aci_config)\n",
    "service.wait_for_deployment(show_output=True)"
   ]
  },
  {
   "cell_type": "code",
   "execution_count": 23,
   "id": "810b1b48",
   "metadata": {},
   "outputs": [],
   "source": [
    "scoring_uri=service.scoring_uri"
   ]
  },
  {
   "cell_type": "code",
   "execution_count": 24,
   "id": "b2d6b535",
   "metadata": {},
   "outputs": [
    {
     "data": {
      "text/plain": [
       "'http://e21ef61a-e945-4201-88f1-e045dfd6215e.centralindia.azurecontainer.io/score'"
      ]
     },
     "execution_count": 24,
     "metadata": {},
     "output_type": "execute_result"
    }
   ],
   "source": [
    "scoring_uri"
   ]
  },
  {
   "cell_type": "markdown",
   "id": "8116c117",
   "metadata": {},
   "source": [
    "# Cleaning up all the resources"
   ]
  },
  {
   "cell_type": "code",
   "execution_count": 26,
   "id": "e1bee222",
   "metadata": {},
   "outputs": [
    {
     "name": "stdout",
     "output_type": "stream",
     "text": [
      "Running\n",
      "2024-12-24 17:02:45+05:30 Check and wait for operation (e30f42f1-2daf-4ca7-ba66-cfa4c0724c08) to finish.\n",
      "2024-12-24 17:02:49+05:30 Deleting service entity.\n",
      "Succeeded\n"
     ]
    }
   ],
   "source": [
    "#delete service\n",
    "\n",
    "service_name='diabetes-prediction-service'\n",
    "service=ws.webservices[service_name]\n",
    "service.delete()"
   ]
  },
  {
   "cell_type": "code",
   "execution_count": 27,
   "id": "40c19550",
   "metadata": {},
   "outputs": [],
   "source": [
    "#name of the model to be deleted\n",
    "model_name='diabetes_prediction_model'\n",
    "\n",
    "#delete the model\n",
    "registered_model=ws.models[model_name]\n",
    "registered_model.delete()"
   ]
  },
  {
   "cell_type": "code",
   "execution_count": 28,
   "id": "7b9ffa15",
   "metadata": {},
   "outputs": [],
   "source": [
    "#delete workspace\n",
    "\n",
    "ws.delete(delete_dependent_resources=True)"
   ]
  },
  {
   "cell_type": "code",
   "execution_count": null,
   "id": "23899d4b",
   "metadata": {},
   "outputs": [],
   "source": []
  }
 ],
 "metadata": {
  "kernelspec": {
   "display_name": "Python 3 (ipykernel)",
   "language": "python",
   "name": "python3"
  },
  "language_info": {
   "codemirror_mode": {
    "name": "ipython",
    "version": 3
   },
   "file_extension": ".py",
   "mimetype": "text/x-python",
   "name": "python",
   "nbconvert_exporter": "python",
   "pygments_lexer": "ipython3",
   "version": "3.11.4"
  }
 },
 "nbformat": 4,
 "nbformat_minor": 5
}
